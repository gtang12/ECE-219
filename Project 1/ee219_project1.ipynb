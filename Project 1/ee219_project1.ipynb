{
 "cells": [
  {
   "cell_type": "markdown",
   "metadata": {
    "id": "UFoI8tSkjKXv"
   },
   "source": [
    "# Binary Classification"
   ]
  },
  {
   "cell_type": "code",
   "execution_count": null,
   "metadata": {
    "id": "7GWIR1lb4AkD"
   },
   "outputs": [],
   "source": [
    "import numpy as np\n",
    "import pandas as pd\n",
    "import matplotlib.pyplot as plt\n",
    "import random\n",
    "\n",
    "np.random.seed(42)\n",
    "random.seed(42)\n",
    "\n",
    "pd.options.mode.chained_assignment = None  # default='warn'"
   ]
  },
  {
   "cell_type": "code",
   "execution_count": null,
   "metadata": {
    "colab": {
     "base_uri": "https://localhost:8080/",
     "height": 350
    },
    "id": "CV3Ckhen4Coo",
    "outputId": "0421b1c4-c5c0-405e-bbee-6a6f6a560f2a"
   },
   "outputs": [
    {
     "data": {
      "text/html": [
       "\n",
       "  <div id=\"df-e63664fc-30f0-42b8-b008-06b2e72d44e1\">\n",
       "    <div class=\"colab-df-container\">\n",
       "      <div>\n",
       "<style scoped>\n",
       "    .dataframe tbody tr th:only-of-type {\n",
       "        vertical-align: middle;\n",
       "    }\n",
       "\n",
       "    .dataframe tbody tr th {\n",
       "        vertical-align: top;\n",
       "    }\n",
       "\n",
       "    .dataframe thead th {\n",
       "        text-align: right;\n",
       "    }\n",
       "</style>\n",
       "<table border=\"1\" class=\"dataframe\">\n",
       "  <thead>\n",
       "    <tr style=\"text-align: right;\">\n",
       "      <th></th>\n",
       "      <th>Unnamed: 0</th>\n",
       "      <th>full_text</th>\n",
       "      <th>summary</th>\n",
       "      <th>keywords</th>\n",
       "      <th>publish_date</th>\n",
       "      <th>authors</th>\n",
       "      <th>url</th>\n",
       "      <th>leaf_label</th>\n",
       "      <th>root_label</th>\n",
       "    </tr>\n",
       "  </thead>\n",
       "  <tbody>\n",
       "    <tr>\n",
       "      <th>0</th>\n",
       "      <td>590</td>\n",
       "      <td>Having made a massive impact in Saudi Arabia w...</td>\n",
       "      <td>Having made a massive impact in Saudi Arabia w...</td>\n",
       "      <td>['singhs', 'rooting', 'cool', 'saudi', 'style'...</td>\n",
       "      <td>NaN</td>\n",
       "      <td>[]</td>\n",
       "      <td>https://www.msn.com/en-in/entertainment/other/...</td>\n",
       "      <td>cricket</td>\n",
       "      <td>sports</td>\n",
       "    </tr>\n",
       "    <tr>\n",
       "      <th>1</th>\n",
       "      <td>388</td>\n",
       "      <td>Cricket is all about the emotional rollercoast...</td>\n",
       "      <td>No matter which team fans hope to win, every s...</td>\n",
       "      <td>['wants', 'fans', 'finals', 'cup', 'win', 'tou...</td>\n",
       "      <td>NaN</td>\n",
       "      <td>[]</td>\n",
       "      <td>https://www.prnewswire.com:443/news-releases/c...</td>\n",
       "      <td>cricket</td>\n",
       "      <td>sports</td>\n",
       "    </tr>\n",
       "    <tr>\n",
       "      <th>2</th>\n",
       "      <td>423</td>\n",
       "      <td>New Zealand announces back-to-back tours next ...</td>\n",
       "      <td>New Zealand announces back-to-back tours next ...</td>\n",
       "      <td>['test', 'west', 'tour', 'zealand', 'world', '...</td>\n",
       "      <td>2021-12-20 00:00:00</td>\n",
       "      <td>[]</td>\n",
       "      <td>https://www.aljazeera.com/news/2021/12/20/cric...</td>\n",
       "      <td>cricket</td>\n",
       "      <td>sports</td>\n",
       "    </tr>\n",
       "    <tr>\n",
       "      <th>3</th>\n",
       "      <td>563</td>\n",
       "      <td>It's not the first time cricket fans in the co...</td>\n",
       "      <td>Billed as one of the pre-tournament favourites...</td>\n",
       "      <td>['qualify', 'afghanistan', 'cup', 'world', 'ze...</td>\n",
       "      <td>NaN</td>\n",
       "      <td>[]</td>\n",
       "      <td>https://www.msn.com/en-in/news/other/t20-world...</td>\n",
       "      <td>cricket</td>\n",
       "      <td>sports</td>\n",
       "    </tr>\n",
       "    <tr>\n",
       "      <th>4</th>\n",
       "      <td>634</td>\n",
       "      <td>An employee works on a computer terminal again...</td>\n",
       "      <td>REUTERS/Sivaram VBENGALURU, Oct 11 (Reuters Br...</td>\n",
       "      <td>['success', 'tech', 'startup', 'talent', 'onli...</td>\n",
       "      <td>2021-10-11 00:00:00</td>\n",
       "      <td>['Una Galani']</td>\n",
       "      <td>https://www.reuters.com/breakingviews/india-in...</td>\n",
       "      <td>cricket</td>\n",
       "      <td>sports</td>\n",
       "    </tr>\n",
       "  </tbody>\n",
       "</table>\n",
       "</div>\n",
       "      <button class=\"colab-df-convert\" onclick=\"convertToInteractive('df-e63664fc-30f0-42b8-b008-06b2e72d44e1')\"\n",
       "              title=\"Convert this dataframe to an interactive table.\"\n",
       "              style=\"display:none;\">\n",
       "        \n",
       "  <svg xmlns=\"http://www.w3.org/2000/svg\" height=\"24px\"viewBox=\"0 0 24 24\"\n",
       "       width=\"24px\">\n",
       "    <path d=\"M0 0h24v24H0V0z\" fill=\"none\"/>\n",
       "    <path d=\"M18.56 5.44l.94 2.06.94-2.06 2.06-.94-2.06-.94-.94-2.06-.94 2.06-2.06.94zm-11 1L8.5 8.5l.94-2.06 2.06-.94-2.06-.94L8.5 2.5l-.94 2.06-2.06.94zm10 10l.94 2.06.94-2.06 2.06-.94-2.06-.94-.94-2.06-.94 2.06-2.06.94z\"/><path d=\"M17.41 7.96l-1.37-1.37c-.4-.4-.92-.59-1.43-.59-.52 0-1.04.2-1.43.59L10.3 9.45l-7.72 7.72c-.78.78-.78 2.05 0 2.83L4 21.41c.39.39.9.59 1.41.59.51 0 1.02-.2 1.41-.59l7.78-7.78 2.81-2.81c.8-.78.8-2.07 0-2.86zM5.41 20L4 18.59l7.72-7.72 1.47 1.35L5.41 20z\"/>\n",
       "  </svg>\n",
       "      </button>\n",
       "      \n",
       "  <style>\n",
       "    .colab-df-container {\n",
       "      display:flex;\n",
       "      flex-wrap:wrap;\n",
       "      gap: 12px;\n",
       "    }\n",
       "\n",
       "    .colab-df-convert {\n",
       "      background-color: #E8F0FE;\n",
       "      border: none;\n",
       "      border-radius: 50%;\n",
       "      cursor: pointer;\n",
       "      display: none;\n",
       "      fill: #1967D2;\n",
       "      height: 32px;\n",
       "      padding: 0 0 0 0;\n",
       "      width: 32px;\n",
       "    }\n",
       "\n",
       "    .colab-df-convert:hover {\n",
       "      background-color: #E2EBFA;\n",
       "      box-shadow: 0px 1px 2px rgba(60, 64, 67, 0.3), 0px 1px 3px 1px rgba(60, 64, 67, 0.15);\n",
       "      fill: #174EA6;\n",
       "    }\n",
       "\n",
       "    [theme=dark] .colab-df-convert {\n",
       "      background-color: #3B4455;\n",
       "      fill: #D2E3FC;\n",
       "    }\n",
       "\n",
       "    [theme=dark] .colab-df-convert:hover {\n",
       "      background-color: #434B5C;\n",
       "      box-shadow: 0px 1px 3px 1px rgba(0, 0, 0, 0.15);\n",
       "      filter: drop-shadow(0px 1px 2px rgba(0, 0, 0, 0.3));\n",
       "      fill: #FFFFFF;\n",
       "    }\n",
       "  </style>\n",
       "\n",
       "      <script>\n",
       "        const buttonEl =\n",
       "          document.querySelector('#df-e63664fc-30f0-42b8-b008-06b2e72d44e1 button.colab-df-convert');\n",
       "        buttonEl.style.display =\n",
       "          google.colab.kernel.accessAllowed ? 'block' : 'none';\n",
       "\n",
       "        async function convertToInteractive(key) {\n",
       "          const element = document.querySelector('#df-e63664fc-30f0-42b8-b008-06b2e72d44e1');\n",
       "          const dataTable =\n",
       "            await google.colab.kernel.invokeFunction('convertToInteractive',\n",
       "                                                     [key], {});\n",
       "          if (!dataTable) return;\n",
       "\n",
       "          const docLinkHtml = 'Like what you see? Visit the ' +\n",
       "            '<a target=\"_blank\" href=https://colab.research.google.com/notebooks/data_table.ipynb>data table notebook</a>'\n",
       "            + ' to learn more about interactive tables.';\n",
       "          element.innerHTML = '';\n",
       "          dataTable['output_type'] = 'display_data';\n",
       "          await google.colab.output.renderOutput(dataTable, element);\n",
       "          const docLink = document.createElement('div');\n",
       "          docLink.innerHTML = docLinkHtml;\n",
       "          element.appendChild(docLink);\n",
       "        }\n",
       "      </script>\n",
       "    </div>\n",
       "  </div>\n",
       "  "
      ],
      "text/plain": [
       "   Unnamed: 0  ... root_label\n",
       "0         590  ...     sports\n",
       "1         388  ...     sports\n",
       "2         423  ...     sports\n",
       "3         563  ...     sports\n",
       "4         634  ...     sports\n",
       "\n",
       "[5 rows x 9 columns]"
      ]
     },
     "execution_count": 4,
     "metadata": {},
     "output_type": "execute_result"
    }
   ],
   "source": [
    "df = pd.read_csv(\"Project_1_dataset_01_01_2022.csv\")\n",
    "df.head()"
   ]
  },
  {
   "cell_type": "code",
   "execution_count": null,
   "metadata": {
    "colab": {
     "base_uri": "https://localhost:8080/"
    },
    "id": "zrCP_SrM4Fep",
    "outputId": "4d5d733f-b280-4f0e-d489-77efe914c1e1"
   },
   "outputs": [
    {
     "data": {
      "text/plain": [
       "(2072, 9)"
      ]
     },
     "execution_count": 5,
     "metadata": {},
     "output_type": "execute_result"
    }
   ],
   "source": [
    "df.shape"
   ]
  },
  {
   "cell_type": "markdown",
   "metadata": {
    "id": "ZnfwCFwv4HsF"
   },
   "source": [
    "**Question 1**: The dataset contains 2072 samples (rows) and 9 features (columns)."
   ]
  },
  {
   "cell_type": "code",
   "execution_count": null,
   "metadata": {
    "colab": {
     "base_uri": "https://localhost:8080/",
     "height": 388
    },
    "id": "N3zBtbL04JiS",
    "outputId": "37a16784-e8eb-4e14-d939-bd20f4f3e72a"
   },
   "outputs": [
    {
     "data": {
      "image/png": "[encoded data removed]",
      "text/plain": [
       "<Figure size 720x432 with 1 Axes>"
      ]
     },
     "metadata": {
      "needs_background": "light"
     },
     "output_type": "display_data"
    }
   ],
   "source": [
    "# histogram of alphanumeric characters\n",
    "\n",
    "df[\"alnum_count\"] = df['full_text'].str.count('[A-Za-z0-9]') # alphanumeric count feature to dataset\n",
    "\n",
    "ax = df[\"alnum_count\"].hist(bins=50, figsize=(10,6)) # experiment with 50-100 bins\n",
    "ax.set_xlabel(\"Alphanumeric Count\")\n",
    "ax.set_ylabel(\"Frequency\")\n",
    "\n",
    "plt.show()"
   ]
  },
  {
   "cell_type": "code",
   "execution_count": null,
   "metadata": {
    "colab": {
     "base_uri": "https://localhost:8080/",
     "height": 388
    },
    "id": "9G0qCe0A4MGX",
    "outputId": "b56c2275-c6c5-4deb-e2d2-43f63c993b25"
   },
   "outputs": [
    {
     "data": {
      "image/png": "[encoded data removed]",
      "text/plain": [
       "<Figure size 720x432 with 1 Axes>"
      ]
     },
     "metadata": {},
     "output_type": "display_data"
    }
   ],
   "source": [
    "# histogram of leaf labels\n",
    "\n",
    "ax = df[\"leaf_label\"].hist(bins=8, figsize=(10,6), rwidth=0.7)\n",
    "ax.set_xlabel(\"Leaf Label\")\n",
    "ax.set_ylabel(\"Frequency\")\n",
    "plt.show()"
   ]
  },
  {
   "cell_type": "code",
   "execution_count": null,
   "metadata": {
    "colab": {
     "base_uri": "https://localhost:8080/",
     "height": 371
    },
    "id": "Pe9sB6Sx4Nlq",
    "outputId": "9dff7912-eb93-4286-c48b-16252a1c3847"
   },
   "outputs": [
    {
     "data": {
      "image/png": "[encoded data removed]",
      "text/plain": [
       "<Figure size 720x432 with 1 Axes>"
      ]
     },
     "metadata": {},
     "output_type": "display_data"
    }
   ],
   "source": [
    "# histogram of root labels\n",
    "\n",
    "ax = df[\"root_label\"].hist(bins=2, figsize=(10,6), rwidth=0.7)\n",
    "ax.set_xlabel(\"Root Label\")\n",
    "ax.set_ylabel(\"Frequency\")\n",
    "plt.show()"
   ]
  },
  {
   "cell_type": "markdown",
   "metadata": {
    "id": "0skFsWs7fBvO"
   },
   "source": [
    "**Question 1**: The histogram of alphanumeric characters in full_text follows a skewed bell-shaped curve, where the highest frequencies occur at around 2000 alphanumeric characters, and the frequency tapers off for higher alphanumeric counts, with documents containing more than approximately 7000 occuring very rarely. The histograms for leaf_label and root_label show that frequencies of the labels are the same across all classes, so the classes are balanced in this dataset."
   ]
  },
  {
   "cell_type": "markdown",
   "metadata": {
    "id": "oZ6smlqpl2a_"
   },
   "source": [
    "## Splitting entire dataset"
   ]
  },
  {
   "cell_type": "code",
   "execution_count": null,
   "metadata": {
    "colab": {
     "base_uri": "https://localhost:8080/"
    },
    "id": "DCi7kYMo4PCx",
    "outputId": "47571e5d-1534-435d-95cc-21c6d5c90c25"
   },
   "outputs": [
    {
     "name": "stdout",
     "output_type": "stream",
     "text": [
      "(1657, 2)\n",
      "(415, 2)\n"
     ]
    }
   ],
   "source": [
    "from sklearn.model_selection import train_test_split\n",
    "\n",
    "df_1 = df[[\"full_text\",\"root_label\"]] # data for part 1\n",
    "train, test = train_test_split(df_1, test_size=0.2)\n",
    "\n",
    "print(train.shape)\n",
    "print(test.shape)"
   ]
  },
  {
   "cell_type": "markdown",
   "metadata": {
    "id": "yJLHJT1S4Q0e"
   },
   "source": [
    "**Question 2**: There are 1657 training samples and 415 testing samples."
   ]
  },
  {
   "cell_type": "markdown",
   "metadata": {
    "id": "Cshno7xZl7UR"
   },
   "source": [
    "## Feature extraction"
   ]
  },
  {
   "cell_type": "code",
   "execution_count": null,
   "metadata": {
    "id": "wcfC2aeq4RoD"
   },
   "outputs": [],
   "source": [
    "import re\n",
    "def clean(text):\n",
    "    # removes many HTML artefacts from the crawler's output\n",
    "    # text = re.sub(r'^https?:\\/\\/.*[\\r\\n]*', '', text, flags=re.MULTILINE)\n",
    "    texter = re.sub(r'http\\S+', '', text, flags=re.MULTILINE) # remove URLs (e.g. in sample 2)\n",
    "    texter = re.sub(r'\\S+\\.com', '', texter, flags=re.MULTILINE) # remove URLs ending in .com that were not removed by previous lines (e.g. in sample 11)\n",
    "    texter = re.sub(r'www\\S+', '', texter, flags=re.MULTILINE) # remove URLs ending in with www that were not removed by previous lines (e.g. in sample 18)\n",
    "    texter = re.sub(r\"<br />\", \" \", texter)\n",
    "    texter = re.sub(r\"&quot;\", \"\\\"\",texter)\n",
    "    texter = re.sub('&#39;', \"\\\"\", texter)\n",
    "    texter = re.sub('\\n', \" \", texter)\n",
    "    texter = re.sub(' u ',\" you \", texter)\n",
    "    texter = re.sub('`',\"\", texter)\n",
    "    texter = re.sub(r\"(!)\\1+\", r\"!\", texter)\n",
    "    texter = re.sub(r\"(\\?)\\1+\", r\"?\", texter)\n",
    "    texter = re.sub('&amp;', 'and', texter)\n",
    "    texter = re.sub('\\r', ' ', texter)\n",
    "    texter = re.sub(r'\\d+th', '', texter) # remove number terms like \"1st\", \"2nd\", \"3rd\", etc.\n",
    "    texter = re.sub(r'\\d+st', '', texter)\n",
    "    texter = re.sub(r'\\d+nd', '', texter)\n",
    "    texter = re.sub(r'\\d+rd', '', texter)\n",
    "    texter = re.sub(r'\\d+s', '', texter) # remove years like \"1970s\"\n",
    "    texter = re.sub(r'(?<=[a-zA-Z])\\-(?=[a-zA-Z])', ' ', texter) # replace hyphens joining two words\n",
    "    # texter = re.sub(r'(?<=[a-zA-Z])\\'(?=[a-zA-Z])', '', texter) # remove apostrophes in words\n",
    "    # texter = re.sub(r'(?<=[a-zA-Z])\\.(?=[a-zA-Z])', '', texter) # remove periods within acronyms\n",
    "    texter = re.sub(r'(?<=[a-zA-Z])/(?=[a-zA-Z])', ' ', texter) # replace slashes joining two words\n",
    "    texter = re.sub(r'\\b[^a-z0-9 ]*\\d+[^a-z0-9 ]*\\b', '', texter) # remove all numbers\n",
    "    texter = re.sub(r'\\b[^a-z0-9 ]*\\d+\\.\\d+[^a-z0-9 ]*\\b', '', texter)\n",
    "    texter = re.sub(r'\\ba\\d+', '', texter)\n",
    "    texter = re.sub(r'\\d+(a|p)m', '', texter)\n",
    "    texter = re.sub(r'__', ' ', texter) # remove __\n",
    "    texter = re.sub(' +', ' ', texter)\n",
    "    clean = re.compile('<.*?>')\n",
    "    texter = texter.encode('ascii', 'ignore').decode('ascii')\n",
    "    texter = re.sub(clean, '', texter)\n",
    "    if texter == \"\":\n",
    "        texter = \"\"\n",
    "    return texter"
   ]
  },
  {
   "cell_type": "code",
   "execution_count": null,
   "metadata": {
    "colab": {
     "base_uri": "https://localhost:8080/",
     "height": 624
    },
    "id": "ptBNiPYHg4Il",
    "outputId": "e87cd29a-71e6-46d8-88de-0f7957db4116"
   },
   "outputs": [
    {
     "data": {
      "text/html": [
       "\n",
       "  <div id=\"df-123b30b1-e28a-4df3-a5c7-833126ea9005\">\n",
       "    <div class=\"colab-df-container\">\n",
       "      <div>\n",
       "<style scoped>\n",
       "    .dataframe tbody tr th:only-of-type {\n",
       "        vertical-align: middle;\n",
       "    }\n",
       "\n",
       "    .dataframe tbody tr th {\n",
       "        vertical-align: top;\n",
       "    }\n",
       "\n",
       "    .dataframe thead th {\n",
       "        text-align: right;\n",
       "    }\n",
       "</style>\n",
       "<table border=\"1\" class=\"dataframe\">\n",
       "  <thead>\n",
       "    <tr style=\"text-align: right;\">\n",
       "      <th></th>\n",
       "      <th>full_text</th>\n",
       "      <th>root_label</th>\n",
       "      <th>clean_text</th>\n",
       "    </tr>\n",
       "  </thead>\n",
       "  <tbody>\n",
       "    <tr>\n",
       "      <th>1431</th>\n",
       "      <td>More than 1 million Washingtonians participate...</td>\n",
       "      <td>climate</td>\n",
       "      <td>More than million Washingtonians participated ...</td>\n",
       "    </tr>\n",
       "    <tr>\n",
       "      <th>1567</th>\n",
       "      <td>A 4.7-magnitude earthquake rattled northwest S...</td>\n",
       "      <td>climate</td>\n",
       "      <td>A magnitude earthquake rattled northwest San L...</td>\n",
       "    </tr>\n",
       "    <tr>\n",
       "      <th>1044</th>\n",
       "      <td>More campgrounds are coming to the Auburn Stat...</td>\n",
       "      <td>climate</td>\n",
       "      <td>More campgrounds are coming to the Auburn Stat...</td>\n",
       "    </tr>\n",
       "    <tr>\n",
       "      <th>175</th>\n",
       "      <td>Retro gamers will be able to relive all the jo...</td>\n",
       "      <td>sports</td>\n",
       "      <td>Retro gamers will be able to relive all the jo...</td>\n",
       "    </tr>\n",
       "    <tr>\n",
       "      <th>1610</th>\n",
       "      <td>SAN SIMEON, Calif. (KGTV) — An earthquake with...</td>\n",
       "      <td>climate</td>\n",
       "      <td>SAN SIMEON, Calif. (KGTV)  An earthquake with ...</td>\n",
       "    </tr>\n",
       "    <tr>\n",
       "      <th>...</th>\n",
       "      <td>...</td>\n",
       "      <td>...</td>\n",
       "      <td>...</td>\n",
       "    </tr>\n",
       "    <tr>\n",
       "      <th>1638</th>\n",
       "      <td>The redesigned Ford Ranger made its debut on W...</td>\n",
       "      <td>climate</td>\n",
       "      <td>The redesigned Ford Ranger made its debut on W...</td>\n",
       "    </tr>\n",
       "    <tr>\n",
       "      <th>1095</th>\n",
       "      <td>(Newser) – A family that died on a hike in Cal...</td>\n",
       "      <td>climate</td>\n",
       "      <td>(Newser)  A family that died on a hike in Cali...</td>\n",
       "    </tr>\n",
       "    <tr>\n",
       "      <th>1130</th>\n",
       "      <td>--News Direct--\\n\\nPano AI , the leader in wil...</td>\n",
       "      <td>climate</td>\n",
       "      <td>--News Direct-- Pano AI , the leader in wildfi...</td>\n",
       "    </tr>\n",
       "    <tr>\n",
       "      <th>1294</th>\n",
       "      <td>EAST TAWAS, Mich. – The public is invited to a...</td>\n",
       "      <td>climate</td>\n",
       "      <td>EAST TAWAS, Mich.  The public is invited to a ...</td>\n",
       "    </tr>\n",
       "    <tr>\n",
       "      <th>860</th>\n",
       "      <td>If there’s a central theme to Edgar Wright’s n...</td>\n",
       "      <td>sports</td>\n",
       "      <td>If theres a central theme to Edgar Wrights new...</td>\n",
       "    </tr>\n",
       "  </tbody>\n",
       "</table>\n",
       "<p>1657 rows × 3 columns</p>\n",
       "</div>\n",
       "      <button class=\"colab-df-convert\" onclick=\"convertToInteractive('df-123b30b1-e28a-4df3-a5c7-833126ea9005')\"\n",
       "              title=\"Convert this dataframe to an interactive table.\"\n",
       "              style=\"display:none;\">\n",
       "        \n",
       "  <svg xmlns=\"http://www.w3.org/2000/svg\" height=\"24px\"viewBox=\"0 0 24 24\"\n",
       "       width=\"24px\">\n",
       "    <path d=\"M0 0h24v24H0V0z\" fill=\"none\"/>\n",
       "    <path d=\"M18.56 5.44l.94 2.06.94-2.06 2.06-.94-2.06-.94-.94-2.06-.94 2.06-2.06.94zm-11 1L8.5 8.5l.94-2.06 2.06-.94-2.06-.94L8.5 2.5l-.94 2.06-2.06.94zm10 10l.94 2.06.94-2.06 2.06-.94-2.06-.94-.94-2.06-.94 2.06-2.06.94z\"/><path d=\"M17.41 7.96l-1.37-1.37c-.4-.4-.92-.59-1.43-.59-.52 0-1.04.2-1.43.59L10.3 9.45l-7.72 7.72c-.78.78-.78 2.05 0 2.83L4 21.41c.39.39.9.59 1.41.59.51 0 1.02-.2 1.41-.59l7.78-7.78 2.81-2.81c.8-.78.8-2.07 0-2.86zM5.41 20L4 18.59l7.72-7.72 1.47 1.35L5.41 20z\"/>\n",
       "  </svg>\n",
       "      </button>\n",
       "      \n",
       "  <style>\n",
       "    .colab-df-container {\n",
       "      display:flex;\n",
       "      flex-wrap:wrap;\n",
       "      gap: 12px;\n",
       "    }\n",
       "\n",
       "    .colab-df-convert {\n",
       "      background-color: #E8F0FE;\n",
       "      border: none;\n",
       "      border-radius: 50%;\n",
       "      cursor: pointer;\n",
       "      display: none;\n",
       "      fill: #1967D2;\n",
       "      height: 32px;\n",
       "      padding: 0 0 0 0;\n",
       "      width: 32px;\n",
       "    }\n",
       "\n",
       "    .colab-df-convert:hover {\n",
       "      background-color: #E2EBFA;\n",
       "      box-shadow: 0px 1px 2px rgba(60, 64, 67, 0.3), 0px 1px 3px 1px rgba(60, 64, 67, 0.15);\n",
       "      fill: #174EA6;\n",
       "    }\n",
       "\n",
       "    [theme=dark] .colab-df-convert {\n",
       "      background-color: #3B4455;\n",
       "      fill: #D2E3FC;\n",
       "    }\n",
       "\n",
       "    [theme=dark] .colab-df-convert:hover {\n",
       "      background-color: #434B5C;\n",
       "      box-shadow: 0px 1px 3px 1px rgba(0, 0, 0, 0.15);\n",
       "      filter: drop-shadow(0px 1px 2px rgba(0, 0, 0, 0.3));\n",
       "      fill: #FFFFFF;\n",
       "    }\n",
       "  </style>\n",
       "\n",
       "      <script>\n",
       "        const buttonEl =\n",
       "          document.querySelector('#df-123b30b1-e28a-4df3-a5c7-833126ea9005 button.colab-df-convert');\n",
       "        buttonEl.style.display =\n",
       "          google.colab.kernel.accessAllowed ? 'block' : 'none';\n",
       "\n",
       "        async function convertToInteractive(key) {\n",
       "          const element = document.querySelector('#df-123b30b1-e28a-4df3-a5c7-833126ea9005');\n",
       "          const dataTable =\n",
       "            await google.colab.kernel.invokeFunction('convertToInteractive',\n",
       "                                                     [key], {});\n",
       "          if (!dataTable) return;\n",
       "\n",
       "          const docLinkHtml = 'Like what you see? Visit the ' +\n",
       "            '<a target=\"_blank\" href=https://colab.research.google.com/notebooks/data_table.ipynb>data table notebook</a>'\n",
       "            + ' to learn more about interactive tables.';\n",
       "          element.innerHTML = '';\n",
       "          dataTable['output_type'] = 'display_data';\n",
       "          await google.colab.output.renderOutput(dataTable, element);\n",
       "          const docLink = document.createElement('div');\n",
       "          docLink.innerHTML = docLinkHtml;\n",
       "          element.appendChild(docLink);\n",
       "        }\n",
       "      </script>\n",
       "    </div>\n",
       "  </div>\n",
       "  "
      ],
      "text/plain": [
       "                                              full_text  ...                                         clean_text\n",
       "1431  More than 1 million Washingtonians participate...  ...  More than million Washingtonians participated ...\n",
       "1567  A 4.7-magnitude earthquake rattled northwest S...  ...  A magnitude earthquake rattled northwest San L...\n",
       "1044  More campgrounds are coming to the Auburn Stat...  ...  More campgrounds are coming to the Auburn Stat...\n",
       "175   Retro gamers will be able to relive all the jo...  ...  Retro gamers will be able to relive all the jo...\n",
       "1610  SAN SIMEON, Calif. (KGTV) — An earthquake with...  ...  SAN SIMEON, Calif. (KGTV)  An earthquake with ...\n",
       "...                                                 ...  ...                                                ...\n",
       "1638  The redesigned Ford Ranger made its debut on W...  ...  The redesigned Ford Ranger made its debut on W...\n",
       "1095  (Newser) – A family that died on a hike in Cal...  ...  (Newser)  A family that died on a hike in Cali...\n",
       "1130  --News Direct--\\n\\nPano AI , the leader in wil...  ...  --News Direct-- Pano AI , the leader in wildfi...\n",
       "1294  EAST TAWAS, Mich. – The public is invited to a...  ...  EAST TAWAS, Mich.  The public is invited to a ...\n",
       "860   If there’s a central theme to Edgar Wright’s n...  ...  If theres a central theme to Edgar Wrights new...\n",
       "\n",
       "[1657 rows x 3 columns]"
      ]
     },
     "execution_count": 7,
     "metadata": {},
     "output_type": "execute_result"
    }
   ],
   "source": [
    "train[\"clean_text\"] = train[\"full_text\"].apply(clean)\n",
    "train"
   ]
  },
  {
   "cell_type": "code",
   "execution_count": null,
   "metadata": {
    "colab": {
     "base_uri": "https://localhost:8080/",
     "height": 641
    },
    "id": "R31CxOdEjuwD",
    "outputId": "8dbe1c95-7ca9-403a-94d1-29d12107659f"
   },
   "outputs": [
    {
     "data": {
      "text/html": [
       "\n",
       "  <div id=\"df-35c75bf9-30d8-496a-bc72-4db1d460288b\">\n",
       "    <div class=\"colab-df-container\">\n",
       "      <div>\n",
       "<style scoped>\n",
       "    .dataframe tbody tr th:only-of-type {\n",
       "        vertical-align: middle;\n",
       "    }\n",
       "\n",
       "    .dataframe tbody tr th {\n",
       "        vertical-align: top;\n",
       "    }\n",
       "\n",
       "    .dataframe thead th {\n",
       "        text-align: right;\n",
       "    }\n",
       "</style>\n",
       "<table border=\"1\" class=\"dataframe\">\n",
       "  <thead>\n",
       "    <tr style=\"text-align: right;\">\n",
       "      <th></th>\n",
       "      <th>full_text</th>\n",
       "      <th>root_label</th>\n",
       "      <th>clean_text</th>\n",
       "    </tr>\n",
       "  </thead>\n",
       "  <tbody>\n",
       "    <tr>\n",
       "      <th>1351</th>\n",
       "      <td>Houston is getting a wet start to the weekend....</td>\n",
       "      <td>climate</td>\n",
       "      <td>Houston is getting a wet start to the weekend....</td>\n",
       "    </tr>\n",
       "    <tr>\n",
       "      <th>733</th>\n",
       "      <td>CLEMSON, S.C. — Oskar Ågren scored the game-wi...</td>\n",
       "      <td>sports</td>\n",
       "      <td>CLEMSON, S.C.  Oskar gren scored the game winn...</td>\n",
       "    </tr>\n",
       "    <tr>\n",
       "      <th>678</th>\n",
       "      <td>The SoB started in the mid-2000s, soccer fans ...</td>\n",
       "      <td>sports</td>\n",
       "      <td>The SoB started in the mid-, soccer fans who r...</td>\n",
       "    </tr>\n",
       "    <tr>\n",
       "      <th>1460</th>\n",
       "      <td>Lauren Rautenkranz, Tim Deegan, Makayla Lucero...</td>\n",
       "      <td>climate</td>\n",
       "      <td>Lauren Rautenkranz, Tim Deegan, Makayla Lucero...</td>\n",
       "    </tr>\n",
       "    <tr>\n",
       "      <th>411</th>\n",
       "      <td>Huge second quarter leads Sacramento State to ...</td>\n",
       "      <td>sports</td>\n",
       "      <td>Huge second quarter leads Sacramento State to ...</td>\n",
       "    </tr>\n",
       "    <tr>\n",
       "      <th>...</th>\n",
       "      <td>...</td>\n",
       "      <td>...</td>\n",
       "      <td>...</td>\n",
       "    </tr>\n",
       "    <tr>\n",
       "      <th>772</th>\n",
       "      <td>© Provided by Independent Online (IOL)\\n\\nCape...</td>\n",
       "      <td>sports</td>\n",
       "      <td>Provided by Independent Online (IOL) Cape Tow...</td>\n",
       "    </tr>\n",
       "    <tr>\n",
       "      <th>593</th>\n",
       "      <td>© Provided by The South African\\n\\nFIFA appear...</td>\n",
       "      <td>sports</td>\n",
       "      <td>Provided by The South African FIFA appears wi...</td>\n",
       "    </tr>\n",
       "    <tr>\n",
       "      <th>1674</th>\n",
       "      <td>The major earthquakes that jolted Hawaii and A...</td>\n",
       "      <td>climate</td>\n",
       "      <td>The major earthquakes that jolted Hawaii and A...</td>\n",
       "    </tr>\n",
       "    <tr>\n",
       "      <th>881</th>\n",
       "      <td>AT&amp;T and Twitch have launched a mentorship pro...</td>\n",
       "      <td>sports</td>\n",
       "      <td>AT&amp;T and Twitch have launched a mentorship pro...</td>\n",
       "    </tr>\n",
       "    <tr>\n",
       "      <th>2027</th>\n",
       "      <td>San Francisco officials have declared a water ...</td>\n",
       "      <td>climate</td>\n",
       "      <td>San Francisco officials have declared a water ...</td>\n",
       "    </tr>\n",
       "  </tbody>\n",
       "</table>\n",
       "<p>415 rows × 3 columns</p>\n",
       "</div>\n",
       "      <button class=\"colab-df-convert\" onclick=\"convertToInteractive('df-35c75bf9-30d8-496a-bc72-4db1d460288b')\"\n",
       "              title=\"Convert this dataframe to an interactive table.\"\n",
       "              style=\"display:none;\">\n",
       "        \n",
       "  <svg xmlns=\"http://www.w3.org/2000/svg\" height=\"24px\"viewBox=\"0 0 24 24\"\n",
       "       width=\"24px\">\n",
       "    <path d=\"M0 0h24v24H0V0z\" fill=\"none\"/>\n",
       "    <path d=\"M18.56 5.44l.94 2.06.94-2.06 2.06-.94-2.06-.94-.94-2.06-.94 2.06-2.06.94zm-11 1L8.5 8.5l.94-2.06 2.06-.94-2.06-.94L8.5 2.5l-.94 2.06-2.06.94zm10 10l.94 2.06.94-2.06 2.06-.94-2.06-.94-.94-2.06-.94 2.06-2.06.94z\"/><path d=\"M17.41 7.96l-1.37-1.37c-.4-.4-.92-.59-1.43-.59-.52 0-1.04.2-1.43.59L10.3 9.45l-7.72 7.72c-.78.78-.78 2.05 0 2.83L4 21.41c.39.39.9.59 1.41.59.51 0 1.02-.2 1.41-.59l7.78-7.78 2.81-2.81c.8-.78.8-2.07 0-2.86zM5.41 20L4 18.59l7.72-7.72 1.47 1.35L5.41 20z\"/>\n",
       "  </svg>\n",
       "      </button>\n",
       "      \n",
       "  <style>\n",
       "    .colab-df-container {\n",
       "      display:flex;\n",
       "      flex-wrap:wrap;\n",
       "      gap: 12px;\n",
       "    }\n",
       "\n",
       "    .colab-df-convert {\n",
       "      background-color: #E8F0FE;\n",
       "      border: none;\n",
       "      border-radius: 50%;\n",
       "      cursor: pointer;\n",
       "      display: none;\n",
       "      fill: #1967D2;\n",
       "      height: 32px;\n",
       "      padding: 0 0 0 0;\n",
       "      width: 32px;\n",
       "    }\n",
       "\n",
       "    .colab-df-convert:hover {\n",
       "      background-color: #E2EBFA;\n",
       "      box-shadow: 0px 1px 2px rgba(60, 64, 67, 0.3), 0px 1px 3px 1px rgba(60, 64, 67, 0.15);\n",
       "      fill: #174EA6;\n",
       "    }\n",
       "\n",
       "    [theme=dark] .colab-df-convert {\n",
       "      background-color: #3B4455;\n",
       "      fill: #D2E3FC;\n",
       "    }\n",
       "\n",
       "    [theme=dark] .colab-df-convert:hover {\n",
       "      background-color: #434B5C;\n",
       "      box-shadow: 0px 1px 3px 1px rgba(0, 0, 0, 0.15);\n",
       "      filter: drop-shadow(0px 1px 2px rgba(0, 0, 0, 0.3));\n",
       "      fill: #FFFFFF;\n",
       "    }\n",
       "  </style>\n",
       "\n",
       "      <script>\n",
       "        const buttonEl =\n",
       "          document.querySelector('#df-35c75bf9-30d8-496a-bc72-4db1d460288b button.colab-df-convert');\n",
       "        buttonEl.style.display =\n",
       "          google.colab.kernel.accessAllowed ? 'block' : 'none';\n",
       "\n",
       "        async function convertToInteractive(key) {\n",
       "          const element = document.querySelector('#df-35c75bf9-30d8-496a-bc72-4db1d460288b');\n",
       "          const dataTable =\n",
       "            await google.colab.kernel.invokeFunction('convertToInteractive',\n",
       "                                                     [key], {});\n",
       "          if (!dataTable) return;\n",
       "\n",
       "          const docLinkHtml = 'Like what you see? Visit the ' +\n",
       "            '<a target=\"_blank\" href=https://colab.research.google.com/notebooks/data_table.ipynb>data table notebook</a>'\n",
       "            + ' to learn more about interactive tables.';\n",
       "          element.innerHTML = '';\n",
       "          dataTable['output_type'] = 'display_data';\n",
       "          await google.colab.output.renderOutput(dataTable, element);\n",
       "          const docLink = document.createElement('div');\n",
       "          docLink.innerHTML = docLinkHtml;\n",
       "          element.appendChild(docLink);\n",
       "        }\n",
       "      </script>\n",
       "    </div>\n",
       "  </div>\n",
       "  "
      ],
      "text/plain": [
       "                                              full_text  ...                                         clean_text\n",
       "1351  Houston is getting a wet start to the weekend....  ...  Houston is getting a wet start to the weekend....\n",
       "733   CLEMSON, S.C. — Oskar Ågren scored the game-wi...  ...  CLEMSON, S.C.  Oskar gren scored the game winn...\n",
       "678   The SoB started in the mid-2000s, soccer fans ...  ...  The SoB started in the mid-, soccer fans who r...\n",
       "1460  Lauren Rautenkranz, Tim Deegan, Makayla Lucero...  ...  Lauren Rautenkranz, Tim Deegan, Makayla Lucero...\n",
       "411   Huge second quarter leads Sacramento State to ...  ...  Huge second quarter leads Sacramento State to ...\n",
       "...                                                 ...  ...                                                ...\n",
       "772   © Provided by Independent Online (IOL)\\n\\nCape...  ...   Provided by Independent Online (IOL) Cape Tow...\n",
       "593   © Provided by The South African\\n\\nFIFA appear...  ...   Provided by The South African FIFA appears wi...\n",
       "1674  The major earthquakes that jolted Hawaii and A...  ...  The major earthquakes that jolted Hawaii and A...\n",
       "881   AT&T and Twitch have launched a mentorship pro...  ...  AT&T and Twitch have launched a mentorship pro...\n",
       "2027  San Francisco officials have declared a water ...  ...  San Francisco officials have declared a water ...\n",
       "\n",
       "[415 rows x 3 columns]"
      ]
     },
     "execution_count": 8,
     "metadata": {},
     "output_type": "execute_result"
    }
   ],
   "source": [
    "test[\"clean_text\"] = test[\"full_text\"].apply(clean)\n",
    "test"
   ]
  },
  {
   "cell_type": "code",
   "execution_count": null,
   "metadata": {
    "id": "p3XrgV8z4Vxk"
   },
   "outputs": [],
   "source": [
    "from nltk.tokenize import WhitespaceTokenizer\n",
    "from nltk.tag import pos_tag\n",
    "import nltk\n",
    "from nltk.tokenize import sent_tokenize\n",
    "\n",
    "def lem_analyzer(text):    \n",
    "    words = []\n",
    "    for sent in sent_tokenize(text):\n",
    "        words += lemmatize_sent(sent)\n",
    "    return \" \".join(words)\n",
    "\n",
    "wnl = nltk.wordnet.WordNetLemmatizer()\n",
    "def lemmatize_sent(text):\n",
    "    # lemmatize a sentence as a list of words\n",
    "    w_tokenizer = WhitespaceTokenizer()\n",
    "    return [wnl.lemmatize(word.lower(), pos=penn2morphy(tag)) for word, tag in pos_tag(w_tokenizer.tokenize(text)) if word not in combined_stopwords and not word.isdigit()]\n",
    "\n",
    "morphy_tag = {'NN':'n', 'JJ':'a',\n",
    "              'VB':'v', 'RB':'r'}\n",
    "def penn2morphy(penntag):\n",
    "    \"\"\" Converts Penn Treebank tags to WordNet. \"\"\"\n",
    "    return morphy_tag.get(penntag[:2], 'n')"
   ]
  },
  {
   "cell_type": "code",
   "execution_count": null,
   "metadata": {
    "colab": {
     "base_uri": "https://localhost:8080/"
    },
    "id": "Eux7RyqWhMd9",
    "outputId": "22337049-0e7c-4a2a-87cd-c84cc16c5c20"
   },
   "outputs": [
    {
     "name": "stdout",
     "output_type": "stream",
     "text": [
      "[nltk_data] Downloading package averaged_perceptron_tagger to\n",
      "[nltk_data]     /root/nltk_data...\n",
      "[nltk_data]   Unzipping taggers/averaged_perceptron_tagger.zip.\n",
      "[nltk_data] Downloading package wordnet to /root/nltk_data...\n",
      "[nltk_data]   Unzipping corpora/wordnet.zip.\n",
      "[nltk_data] Downloading package punkt to /root/nltk_data...\n",
      "[nltk_data]   Unzipping tokenizers/punkt.zip.\n",
      "[nltk_data] Downloading package stopwords to /root/nltk_data...\n",
      "[nltk_data]   Unzipping corpora/stopwords.zip.\n"
     ]
    },
    {
     "data": {
      "text/plain": [
       "True"
      ]
     },
     "execution_count": 8,
     "metadata": {},
     "output_type": "execute_result"
    }
   ],
   "source": [
    "nltk.download('averaged_perceptron_tagger')\n",
    "nltk.download('wordnet')\n",
    "nltk.download('punkt')\n",
    "nltk.download('stopwords')"
   ]
  },
  {
   "cell_type": "code",
   "execution_count": null,
   "metadata": {
    "colab": {
     "base_uri": "https://localhost:8080/"
    },
    "id": "r4Zbe-u9ytvF",
    "outputId": "3477aa41-c980-4349-bc51-0b73b75c3dae"
   },
   "outputs": [
    {
     "data": {
      "text/plain": [
       "{'!',\n",
       " '\"',\n",
       " '#',\n",
       " '$',\n",
       " '%',\n",
       " '&',\n",
       " \"'\",\n",
       " '(',\n",
       " ')',\n",
       " '*',\n",
       " '+',\n",
       " ',',\n",
       " '-',\n",
       " '.',\n",
       " '/',\n",
       " ':',\n",
       " ';',\n",
       " '<',\n",
       " '=',\n",
       " '>',\n",
       " '?',\n",
       " '@',\n",
       " '[',\n",
       " '\\\\',\n",
       " ']',\n",
       " '^',\n",
       " '_',\n",
       " '`',\n",
       " 'a',\n",
       " 'about',\n",
       " 'above',\n",
       " 'across',\n",
       " 'after',\n",
       " 'afterwards',\n",
       " 'again',\n",
       " 'against',\n",
       " 'ain',\n",
       " 'all',\n",
       " 'almost',\n",
       " 'alone',\n",
       " 'along',\n",
       " 'already',\n",
       " 'also',\n",
       " 'although',\n",
       " 'always',\n",
       " 'am',\n",
       " 'among',\n",
       " 'amongst',\n",
       " 'amoungst',\n",
       " 'amount',\n",
       " 'an',\n",
       " 'and',\n",
       " 'another',\n",
       " 'any',\n",
       " 'anyhow',\n",
       " 'anyone',\n",
       " 'anything',\n",
       " 'anyway',\n",
       " 'anywhere',\n",
       " 'are',\n",
       " 'aren',\n",
       " \"aren't\",\n",
       " 'around',\n",
       " 'as',\n",
       " 'at',\n",
       " 'back',\n",
       " 'be',\n",
       " 'became',\n",
       " 'because',\n",
       " 'become',\n",
       " 'becomes',\n",
       " 'becoming',\n",
       " 'been',\n",
       " 'before',\n",
       " 'beforehand',\n",
       " 'behind',\n",
       " 'being',\n",
       " 'below',\n",
       " 'beside',\n",
       " 'besides',\n",
       " 'between',\n",
       " 'beyond',\n",
       " 'bill',\n",
       " 'both',\n",
       " 'bottom',\n",
       " 'but',\n",
       " 'by',\n",
       " 'call',\n",
       " 'can',\n",
       " 'cannot',\n",
       " 'cant',\n",
       " 'co',\n",
       " 'con',\n",
       " 'could',\n",
       " 'couldn',\n",
       " \"couldn't\",\n",
       " 'couldnt',\n",
       " 'cry',\n",
       " 'd',\n",
       " 'de',\n",
       " 'describe',\n",
       " 'detail',\n",
       " 'did',\n",
       " 'didn',\n",
       " \"didn't\",\n",
       " 'do',\n",
       " 'does',\n",
       " 'doesn',\n",
       " \"doesn't\",\n",
       " 'doing',\n",
       " 'don',\n",
       " \"don't\",\n",
       " 'done',\n",
       " 'down',\n",
       " 'due',\n",
       " 'during',\n",
       " 'each',\n",
       " 'eg',\n",
       " 'eight',\n",
       " 'either',\n",
       " 'eleven',\n",
       " 'else',\n",
       " 'elsewhere',\n",
       " 'empty',\n",
       " 'enough',\n",
       " 'etc',\n",
       " 'even',\n",
       " 'ever',\n",
       " 'every',\n",
       " 'everyone',\n",
       " 'everything',\n",
       " 'everywhere',\n",
       " 'except',\n",
       " 'few',\n",
       " 'fifteen',\n",
       " 'fifty',\n",
       " 'fill',\n",
       " 'find',\n",
       " 'fire',\n",
       " 'first',\n",
       " 'five',\n",
       " 'for',\n",
       " 'former',\n",
       " 'formerly',\n",
       " 'forty',\n",
       " 'found',\n",
       " 'four',\n",
       " 'from',\n",
       " 'front',\n",
       " 'full',\n",
       " 'further',\n",
       " 'get',\n",
       " 'give',\n",
       " 'go',\n",
       " 'had',\n",
       " 'hadn',\n",
       " \"hadn't\",\n",
       " 'has',\n",
       " 'hasn',\n",
       " \"hasn't\",\n",
       " 'hasnt',\n",
       " 'have',\n",
       " 'haven',\n",
       " \"haven't\",\n",
       " 'having',\n",
       " 'he',\n",
       " 'hence',\n",
       " 'her',\n",
       " 'here',\n",
       " 'hereafter',\n",
       " 'hereby',\n",
       " 'herein',\n",
       " 'hereupon',\n",
       " 'hers',\n",
       " 'herself',\n",
       " 'him',\n",
       " 'himself',\n",
       " 'his',\n",
       " 'how',\n",
       " 'however',\n",
       " 'hundred',\n",
       " 'i',\n",
       " 'ie',\n",
       " 'if',\n",
       " 'in',\n",
       " 'inc',\n",
       " 'indeed',\n",
       " 'interest',\n",
       " 'into',\n",
       " 'is',\n",
       " 'isn',\n",
       " \"isn't\",\n",
       " 'it',\n",
       " \"it's\",\n",
       " 'its',\n",
       " 'itself',\n",
       " 'just',\n",
       " 'keep',\n",
       " 'last',\n",
       " 'latter',\n",
       " 'latterly',\n",
       " 'least',\n",
       " 'less',\n",
       " 'll',\n",
       " 'ltd',\n",
       " 'm',\n",
       " 'ma',\n",
       " 'made',\n",
       " 'many',\n",
       " 'may',\n",
       " 'me',\n",
       " 'meanwhile',\n",
       " 'might',\n",
       " 'mightn',\n",
       " \"mightn't\",\n",
       " 'mill',\n",
       " 'mine',\n",
       " 'more',\n",
       " 'moreover',\n",
       " 'most',\n",
       " 'mostly',\n",
       " 'move',\n",
       " 'much',\n",
       " 'must',\n",
       " 'mustn',\n",
       " \"mustn't\",\n",
       " 'my',\n",
       " 'myself',\n",
       " 'name',\n",
       " 'namely',\n",
       " 'needn',\n",
       " \"needn't\",\n",
       " 'neither',\n",
       " 'never',\n",
       " 'nevertheless',\n",
       " 'next',\n",
       " 'nine',\n",
       " 'no',\n",
       " 'nobody',\n",
       " 'none',\n",
       " 'noone',\n",
       " 'nor',\n",
       " 'not',\n",
       " 'nothing',\n",
       " 'now',\n",
       " 'nowhere',\n",
       " 'o',\n",
       " 'of',\n",
       " 'off',\n",
       " 'often',\n",
       " 'on',\n",
       " 'once',\n",
       " 'one',\n",
       " 'only',\n",
       " 'onto',\n",
       " 'or',\n",
       " 'other',\n",
       " 'others',\n",
       " 'otherwise',\n",
       " 'our',\n",
       " 'ours',\n",
       " 'ourselves',\n",
       " 'out',\n",
       " 'over',\n",
       " 'own',\n",
       " 'part',\n",
       " 'per',\n",
       " 'perhaps',\n",
       " 'please',\n",
       " 'put',\n",
       " 'rather',\n",
       " 're',\n",
       " 's',\n",
       " 'same',\n",
       " 'see',\n",
       " 'seem',\n",
       " 'seemed',\n",
       " 'seeming',\n",
       " 'seems',\n",
       " 'serious',\n",
       " 'several',\n",
       " 'shan',\n",
       " \"shan't\",\n",
       " 'she',\n",
       " \"she's\",\n",
       " 'should',\n",
       " \"should've\",\n",
       " 'shouldn',\n",
       " \"shouldn't\",\n",
       " 'show',\n",
       " 'side',\n",
       " 'since',\n",
       " 'sincere',\n",
       " 'six',\n",
       " 'sixty',\n",
       " 'so',\n",
       " 'some',\n",
       " 'somehow',\n",
       " 'someone',\n",
       " 'something',\n",
       " 'sometime',\n",
       " 'sometimes',\n",
       " 'somewhere',\n",
       " 'still',\n",
       " 'such',\n",
       " 'system',\n",
       " 't',\n",
       " 'take',\n",
       " 'ten',\n",
       " 'than',\n",
       " 'that',\n",
       " \"that'll\",\n",
       " 'the',\n",
       " 'their',\n",
       " 'theirs',\n",
       " 'them',\n",
       " 'themselves',\n",
       " 'then',\n",
       " 'thence',\n",
       " 'there',\n",
       " 'thereafter',\n",
       " 'thereby',\n",
       " 'therefore',\n",
       " 'therein',\n",
       " 'thereupon',\n",
       " 'these',\n",
       " 'they',\n",
       " 'thick',\n",
       " 'thin',\n",
       " 'third',\n",
       " 'this',\n",
       " 'those',\n",
       " 'though',\n",
       " 'three',\n",
       " 'through',\n",
       " 'throughout',\n",
       " 'thru',\n",
       " 'thus',\n",
       " 'to',\n",
       " 'together',\n",
       " 'too',\n",
       " 'top',\n",
       " 'toward',\n",
       " 'towards',\n",
       " 'twelve',\n",
       " 'twenty',\n",
       " 'two',\n",
       " 'un',\n",
       " 'under',\n",
       " 'until',\n",
       " 'up',\n",
       " 'upon',\n",
       " 'us',\n",
       " 've',\n",
       " 'very',\n",
       " 'via',\n",
       " 'was',\n",
       " 'wasn',\n",
       " \"wasn't\",\n",
       " 'we',\n",
       " 'well',\n",
       " 'were',\n",
       " 'weren',\n",
       " \"weren't\",\n",
       " 'what',\n",
       " 'whatever',\n",
       " 'when',\n",
       " 'whence',\n",
       " 'whenever',\n",
       " 'where',\n",
       " 'whereafter',\n",
       " 'whereas',\n",
       " 'whereby',\n",
       " 'wherein',\n",
       " 'whereupon',\n",
       " 'wherever',\n",
       " 'whether',\n",
       " 'which',\n",
       " 'while',\n",
       " 'whither',\n",
       " 'who',\n",
       " 'whoever',\n",
       " 'whole',\n",
       " 'whom',\n",
       " 'whose',\n",
       " 'why',\n",
       " 'will',\n",
       " 'with',\n",
       " 'within',\n",
       " 'without',\n",
       " 'won',\n",
       " \"won't\",\n",
       " 'would',\n",
       " 'wouldn',\n",
       " \"wouldn't\",\n",
       " 'y',\n",
       " 'yet',\n",
       " 'you',\n",
       " \"you'd\",\n",
       " \"you'll\",\n",
       " \"you're\",\n",
       " \"you've\",\n",
       " 'your',\n",
       " 'yours',\n",
       " 'yourself',\n",
       " 'yourselves',\n",
       " '{',\n",
       " '|',\n",
       " '}',\n",
       " '~'}"
      ]
     },
     "execution_count": 9,
     "metadata": {},
     "output_type": "execute_result"
    }
   ],
   "source": [
    "from sklearn.feature_extraction import text\n",
    "from nltk.corpus import stopwords\n",
    "from string import punctuation\n",
    "\n",
    "stop_words_skt = text.ENGLISH_STOP_WORDS\n",
    "stop_words_en = stopwords.words('english')\n",
    "\n",
    "combined_stopwords = set.union(set(stop_words_en),set(punctuation),set(stop_words_skt))\n",
    "combined_stopwords"
   ]
  },
  {
   "cell_type": "code",
   "execution_count": null,
   "metadata": {
    "colab": {
     "base_uri": "https://localhost:8080/",
     "height": 659
    },
    "id": "kKsEBU_d3ARw",
    "outputId": "66836e51-67f7-4d3f-847d-064e508cd243"
   },
   "outputs": [
    {
     "data": {
      "text/html": [
       "\n",
       "  <div id=\"df-7804c624-ed8a-45d3-ae7d-5d93dda21554\">\n",
       "    <div class=\"colab-df-container\">\n",
       "      <div>\n",
       "<style scoped>\n",
       "    .dataframe tbody tr th:only-of-type {\n",
       "        vertical-align: middle;\n",
       "    }\n",
       "\n",
       "    .dataframe tbody tr th {\n",
       "        vertical-align: top;\n",
       "    }\n",
       "\n",
       "    .dataframe thead th {\n",
       "        text-align: right;\n",
       "    }\n",
       "</style>\n",
       "<table border=\"1\" class=\"dataframe\">\n",
       "  <thead>\n",
       "    <tr style=\"text-align: right;\">\n",
       "      <th></th>\n",
       "      <th>full_text</th>\n",
       "      <th>root_label</th>\n",
       "      <th>clean_text</th>\n",
       "      <th>lem_text</th>\n",
       "    </tr>\n",
       "  </thead>\n",
       "  <tbody>\n",
       "    <tr>\n",
       "      <th>1431</th>\n",
       "      <td>More than 1 million Washingtonians participate...</td>\n",
       "      <td>climate</td>\n",
       "      <td>More than million Washingtonians participated ...</td>\n",
       "      <td>more million washingtonian participate \"the gr...</td>\n",
       "    </tr>\n",
       "    <tr>\n",
       "      <th>1567</th>\n",
       "      <td>A 4.7-magnitude earthquake rattled northwest S...</td>\n",
       "      <td>climate</td>\n",
       "      <td>A magnitude earthquake rattled northwest San L...</td>\n",
       "      <td>a magnitude earthquake rattle northwest san lu...</td>\n",
       "    </tr>\n",
       "    <tr>\n",
       "      <th>1044</th>\n",
       "      <td>More campgrounds are coming to the Auburn Stat...</td>\n",
       "      <td>climate</td>\n",
       "      <td>More campgrounds are coming to the Auburn Stat...</td>\n",
       "      <td>more campground come auburn state recreation a...</td>\n",
       "    </tr>\n",
       "    <tr>\n",
       "      <th>175</th>\n",
       "      <td>Retro gamers will be able to relive all the jo...</td>\n",
       "      <td>sports</td>\n",
       "      <td>Retro gamers will be able to relive all the jo...</td>\n",
       "      <td>retro gamers able relive joy classic zx spectr...</td>\n",
       "    </tr>\n",
       "    <tr>\n",
       "      <th>1610</th>\n",
       "      <td>SAN SIMEON, Calif. (KGTV) — An earthquake with...</td>\n",
       "      <td>climate</td>\n",
       "      <td>SAN SIMEON, Calif. (KGTV)  An earthquake with ...</td>\n",
       "      <td>san simeon, calif. (kgtv) an earthquake prelim...</td>\n",
       "    </tr>\n",
       "    <tr>\n",
       "      <th>...</th>\n",
       "      <td>...</td>\n",
       "      <td>...</td>\n",
       "      <td>...</td>\n",
       "      <td>...</td>\n",
       "    </tr>\n",
       "    <tr>\n",
       "      <th>1638</th>\n",
       "      <td>The redesigned Ford Ranger made its debut on W...</td>\n",
       "      <td>climate</td>\n",
       "      <td>The redesigned Ford Ranger made its debut on W...</td>\n",
       "      <td>the redesigned ford ranger debut wednesday, he...</td>\n",
       "    </tr>\n",
       "    <tr>\n",
       "      <th>1095</th>\n",
       "      <td>(Newser) – A family that died on a hike in Cal...</td>\n",
       "      <td>climate</td>\n",
       "      <td>(Newser)  A family that died on a hike in Cali...</td>\n",
       "      <td>(newser) a family die hike california's sierra...</td>\n",
       "    </tr>\n",
       "    <tr>\n",
       "      <th>1130</th>\n",
       "      <td>--News Direct--\\n\\nPano AI , the leader in wil...</td>\n",
       "      <td>climate</td>\n",
       "      <td>--News Direct-- Pano AI , the leader in wildfi...</td>\n",
       "      <td>--news direct-- pano ai leader wildfire early ...</td>\n",
       "    </tr>\n",
       "    <tr>\n",
       "      <th>1294</th>\n",
       "      <td>EAST TAWAS, Mich. – The public is invited to a...</td>\n",
       "      <td>climate</td>\n",
       "      <td>EAST TAWAS, Mich.  The public is invited to a ...</td>\n",
       "      <td>east tawas, mich. the public invite forum disc...</td>\n",
       "    </tr>\n",
       "    <tr>\n",
       "      <th>860</th>\n",
       "      <td>If there’s a central theme to Edgar Wright’s n...</td>\n",
       "      <td>sports</td>\n",
       "      <td>If theres a central theme to Edgar Wrights new...</td>\n",
       "      <td>if there central theme edgar wright new horror...</td>\n",
       "    </tr>\n",
       "  </tbody>\n",
       "</table>\n",
       "<p>1657 rows × 4 columns</p>\n",
       "</div>\n",
       "      <button class=\"colab-df-convert\" onclick=\"convertToInteractive('df-7804c624-ed8a-45d3-ae7d-5d93dda21554')\"\n",
       "              title=\"Convert this dataframe to an interactive table.\"\n",
       "              style=\"display:none;\">\n",
       "        \n",
       "  <svg xmlns=\"http://www.w3.org/2000/svg\" height=\"24px\"viewBox=\"0 0 24 24\"\n",
       "       width=\"24px\">\n",
       "    <path d=\"M0 0h24v24H0V0z\" fill=\"none\"/>\n",
       "    <path d=\"M18.56 5.44l.94 2.06.94-2.06 2.06-.94-2.06-.94-.94-2.06-.94 2.06-2.06.94zm-11 1L8.5 8.5l.94-2.06 2.06-.94-2.06-.94L8.5 2.5l-.94 2.06-2.06.94zm10 10l.94 2.06.94-2.06 2.06-.94-2.06-.94-.94-2.06-.94 2.06-2.06.94z\"/><path d=\"M17.41 7.96l-1.37-1.37c-.4-.4-.92-.59-1.43-.59-.52 0-1.04.2-1.43.59L10.3 9.45l-7.72 7.72c-.78.78-.78 2.05 0 2.83L4 21.41c.39.39.9.59 1.41.59.51 0 1.02-.2 1.41-.59l7.78-7.78 2.81-2.81c.8-.78.8-2.07 0-2.86zM5.41 20L4 18.59l7.72-7.72 1.47 1.35L5.41 20z\"/>\n",
       "  </svg>\n",
       "      </button>\n",
       "      \n",
       "  <style>\n",
       "    .colab-df-container {\n",
       "      display:flex;\n",
       "      flex-wrap:wrap;\n",
       "      gap: 12px;\n",
       "    }\n",
       "\n",
       "    .colab-df-convert {\n",
       "      background-color: #E8F0FE;\n",
       "      border: none;\n",
       "      border-radius: 50%;\n",
       "      cursor: pointer;\n",
       "      display: none;\n",
       "      fill: #1967D2;\n",
       "      height: 32px;\n",
       "      padding: 0 0 0 0;\n",
       "      width: 32px;\n",
       "    }\n",
       "\n",
       "    .colab-df-convert:hover {\n",
       "      background-color: #E2EBFA;\n",
       "      box-shadow: 0px 1px 2px rgba(60, 64, 67, 0.3), 0px 1px 3px 1px rgba(60, 64, 67, 0.15);\n",
       "      fill: #174EA6;\n",
       "    }\n",
       "\n",
       "    [theme=dark] .colab-df-convert {\n",
       "      background-color: #3B4455;\n",
       "      fill: #D2E3FC;\n",
       "    }\n",
       "\n",
       "    [theme=dark] .colab-df-convert:hover {\n",
       "      background-color: #434B5C;\n",
       "      box-shadow: 0px 1px 3px 1px rgba(0, 0, 0, 0.15);\n",
       "      filter: drop-shadow(0px 1px 2px rgba(0, 0, 0, 0.3));\n",
       "      fill: #FFFFFF;\n",
       "    }\n",
       "  </style>\n",
       "\n",
       "      <script>\n",
       "        const buttonEl =\n",
       "          document.querySelector('#df-7804c624-ed8a-45d3-ae7d-5d93dda21554 button.colab-df-convert');\n",
       "        buttonEl.style.display =\n",
       "          google.colab.kernel.accessAllowed ? 'block' : 'none';\n",
       "\n",
       "        async function convertToInteractive(key) {\n",
       "          const element = document.querySelector('#df-7804c624-ed8a-45d3-ae7d-5d93dda21554');\n",
       "          const dataTable =\n",
       "            await google.colab.kernel.invokeFunction('convertToInteractive',\n",
       "                                                     [key], {});\n",
       "          if (!dataTable) return;\n",
       "\n",
       "          const docLinkHtml = 'Like what you see? Visit the ' +\n",
       "            '<a target=\"_blank\" href=https://colab.research.google.com/notebooks/data_table.ipynb>data table notebook</a>'\n",
       "            + ' to learn more about interactive tables.';\n",
       "          element.innerHTML = '';\n",
       "          dataTable['output_type'] = 'display_data';\n",
       "          await google.colab.output.renderOutput(dataTable, element);\n",
       "          const docLink = document.createElement('div');\n",
       "          docLink.innerHTML = docLinkHtml;\n",
       "          element.appendChild(docLink);\n",
       "        }\n",
       "      </script>\n",
       "    </div>\n",
       "  </div>\n",
       "  "
      ],
      "text/plain": [
       "                                              full_text  ...                                           lem_text\n",
       "1431  More than 1 million Washingtonians participate...  ...  more million washingtonian participate \"the gr...\n",
       "1567  A 4.7-magnitude earthquake rattled northwest S...  ...  a magnitude earthquake rattle northwest san lu...\n",
       "1044  More campgrounds are coming to the Auburn Stat...  ...  more campground come auburn state recreation a...\n",
       "175   Retro gamers will be able to relive all the jo...  ...  retro gamers able relive joy classic zx spectr...\n",
       "1610  SAN SIMEON, Calif. (KGTV) — An earthquake with...  ...  san simeon, calif. (kgtv) an earthquake prelim...\n",
       "...                                                 ...  ...                                                ...\n",
       "1638  The redesigned Ford Ranger made its debut on W...  ...  the redesigned ford ranger debut wednesday, he...\n",
       "1095  (Newser) – A family that died on a hike in Cal...  ...  (newser) a family die hike california's sierra...\n",
       "1130  --News Direct--\\n\\nPano AI , the leader in wil...  ...  --news direct-- pano ai leader wildfire early ...\n",
       "1294  EAST TAWAS, Mich. – The public is invited to a...  ...  east tawas, mich. the public invite forum disc...\n",
       "860   If there’s a central theme to Edgar Wright’s n...  ...  if there central theme edgar wright new horror...\n",
       "\n",
       "[1657 rows x 4 columns]"
      ]
     },
     "execution_count": 13,
     "metadata": {},
     "output_type": "execute_result"
    }
   ],
   "source": [
    "train[\"lem_text\"] = train[\"clean_text\"].apply(lem_analyzer)\n",
    "train"
   ]
  },
  {
   "cell_type": "code",
   "execution_count": null,
   "metadata": {
    "colab": {
     "base_uri": "https://localhost:8080/",
     "height": 659
    },
    "id": "Q4TrZ10x3BJV",
    "outputId": "6e43f0c1-386a-405c-cb22-e82ab30a96c3"
   },
   "outputs": [
    {
     "data": {
      "text/html": [
       "\n",
       "  <div id=\"df-277a52dd-e1c4-4c78-b477-ede9be117ac7\">\n",
       "    <div class=\"colab-df-container\">\n",
       "      <div>\n",
       "<style scoped>\n",
       "    .dataframe tbody tr th:only-of-type {\n",
       "        vertical-align: middle;\n",
       "    }\n",
       "\n",
       "    .dataframe tbody tr th {\n",
       "        vertical-align: top;\n",
       "    }\n",
       "\n",
       "    .dataframe thead th {\n",
       "        text-align: right;\n",
       "    }\n",
       "</style>\n",
       "<table border=\"1\" class=\"dataframe\">\n",
       "  <thead>\n",
       "    <tr style=\"text-align: right;\">\n",
       "      <th></th>\n",
       "      <th>full_text</th>\n",
       "      <th>root_label</th>\n",
       "      <th>clean_text</th>\n",
       "      <th>lem_text</th>\n",
       "    </tr>\n",
       "  </thead>\n",
       "  <tbody>\n",
       "    <tr>\n",
       "      <th>1351</th>\n",
       "      <td>Houston is getting a wet start to the weekend....</td>\n",
       "      <td>climate</td>\n",
       "      <td>Houston is getting a wet start to the weekend....</td>\n",
       "      <td>houston get wet start weekend. forecaster nati...</td>\n",
       "    </tr>\n",
       "    <tr>\n",
       "      <th>733</th>\n",
       "      <td>CLEMSON, S.C. — Oskar Ågren scored the game-wi...</td>\n",
       "      <td>sports</td>\n",
       "      <td>CLEMSON, S.C.  Oskar gren scored the game winn...</td>\n",
       "      <td>clemson, s.c. oskar gren score game winning go...</td>\n",
       "    </tr>\n",
       "    <tr>\n",
       "      <th>678</th>\n",
       "      <td>The SoB started in the mid-2000s, soccer fans ...</td>\n",
       "      <td>sports</td>\n",
       "      <td>The SoB started in the mid-, soccer fans who r...</td>\n",
       "      <td>the sob start mid-, soccer fan really, really ...</td>\n",
       "    </tr>\n",
       "    <tr>\n",
       "      <th>1460</th>\n",
       "      <td>Lauren Rautenkranz, Tim Deegan, Makayla Lucero...</td>\n",
       "      <td>climate</td>\n",
       "      <td>Lauren Rautenkranz, Tim Deegan, Makayla Lucero...</td>\n",
       "      <td>lauren rautenkranz, tim deegan, makayla lucero...</td>\n",
       "    </tr>\n",
       "    <tr>\n",
       "      <th>411</th>\n",
       "      <td>Huge second quarter leads Sacramento State to ...</td>\n",
       "      <td>sports</td>\n",
       "      <td>Huge second quarter leads Sacramento State to ...</td>\n",
       "      <td>huge second quarter lead sacramento state rout...</td>\n",
       "    </tr>\n",
       "    <tr>\n",
       "      <th>...</th>\n",
       "      <td>...</td>\n",
       "      <td>...</td>\n",
       "      <td>...</td>\n",
       "      <td>...</td>\n",
       "    </tr>\n",
       "    <tr>\n",
       "      <th>772</th>\n",
       "      <td>© Provided by Independent Online (IOL)\\n\\nCape...</td>\n",
       "      <td>sports</td>\n",
       "      <td>Provided by Independent Online (IOL) Cape Tow...</td>\n",
       "      <td>provide independent online (iol) cape town sou...</td>\n",
       "    </tr>\n",
       "    <tr>\n",
       "      <th>593</th>\n",
       "      <td>© Provided by The South African\\n\\nFIFA appear...</td>\n",
       "      <td>sports</td>\n",
       "      <td>Provided by The South African FIFA appears wi...</td>\n",
       "      <td>provide the south african fifa appear willing ...</td>\n",
       "    </tr>\n",
       "    <tr>\n",
       "      <th>1674</th>\n",
       "      <td>The major earthquakes that jolted Hawaii and A...</td>\n",
       "      <td>climate</td>\n",
       "      <td>The major earthquakes that jolted Hawaii and A...</td>\n",
       "      <td>the major earthquake jolt hawaii alaska past d...</td>\n",
       "    </tr>\n",
       "    <tr>\n",
       "      <th>881</th>\n",
       "      <td>AT&amp;T and Twitch have launched a mentorship pro...</td>\n",
       "      <td>sports</td>\n",
       "      <td>AT&amp;T and Twitch have launched a mentorship pro...</td>\n",
       "      <td>at&amp;t twitch launch mentorship program aspire t...</td>\n",
       "    </tr>\n",
       "    <tr>\n",
       "      <th>2027</th>\n",
       "      <td>San Francisco officials have declared a water ...</td>\n",
       "      <td>climate</td>\n",
       "      <td>San Francisco officials have declared a water ...</td>\n",
       "      <td>san francisco official declare water shortage ...</td>\n",
       "    </tr>\n",
       "  </tbody>\n",
       "</table>\n",
       "<p>415 rows × 4 columns</p>\n",
       "</div>\n",
       "      <button class=\"colab-df-convert\" onclick=\"convertToInteractive('df-277a52dd-e1c4-4c78-b477-ede9be117ac7')\"\n",
       "              title=\"Convert this dataframe to an interactive table.\"\n",
       "              style=\"display:none;\">\n",
       "        \n",
       "  <svg xmlns=\"http://www.w3.org/2000/svg\" height=\"24px\"viewBox=\"0 0 24 24\"\n",
       "       width=\"24px\">\n",
       "    <path d=\"M0 0h24v24H0V0z\" fill=\"none\"/>\n",
       "    <path d=\"M18.56 5.44l.94 2.06.94-2.06 2.06-.94-2.06-.94-.94-2.06-.94 2.06-2.06.94zm-11 1L8.5 8.5l.94-2.06 2.06-.94-2.06-.94L8.5 2.5l-.94 2.06-2.06.94zm10 10l.94 2.06.94-2.06 2.06-.94-2.06-.94-.94-2.06-.94 2.06-2.06.94z\"/><path d=\"M17.41 7.96l-1.37-1.37c-.4-.4-.92-.59-1.43-.59-.52 0-1.04.2-1.43.59L10.3 9.45l-7.72 7.72c-.78.78-.78 2.05 0 2.83L4 21.41c.39.39.9.59 1.41.59.51 0 1.02-.2 1.41-.59l7.78-7.78 2.81-2.81c.8-.78.8-2.07 0-2.86zM5.41 20L4 18.59l7.72-7.72 1.47 1.35L5.41 20z\"/>\n",
       "  </svg>\n",
       "      </button>\n",
       "      \n",
       "  <style>\n",
       "    .colab-df-container {\n",
       "      display:flex;\n",
       "      flex-wrap:wrap;\n",
       "      gap: 12px;\n",
       "    }\n",
       "\n",
       "    .colab-df-convert {\n",
       "      background-color: #E8F0FE;\n",
       "      border: none;\n",
       "      border-radius: 50%;\n",
       "      cursor: pointer;\n",
       "      display: none;\n",
       "      fill: #1967D2;\n",
       "      height: 32px;\n",
       "      padding: 0 0 0 0;\n",
       "      width: 32px;\n",
       "    }\n",
       "\n",
       "    .colab-df-convert:hover {\n",
       "      background-color: #E2EBFA;\n",
       "      box-shadow: 0px 1px 2px rgba(60, 64, 67, 0.3), 0px 1px 3px 1px rgba(60, 64, 67, 0.15);\n",
       "      fill: #174EA6;\n",
       "    }\n",
       "\n",
       "    [theme=dark] .colab-df-convert {\n",
       "      background-color: #3B4455;\n",
       "      fill: #D2E3FC;\n",
       "    }\n",
       "\n",
       "    [theme=dark] .colab-df-convert:hover {\n",
       "      background-color: #434B5C;\n",
       "      box-shadow: 0px 1px 3px 1px rgba(0, 0, 0, 0.15);\n",
       "      filter: drop-shadow(0px 1px 2px rgba(0, 0, 0, 0.3));\n",
       "      fill: #FFFFFF;\n",
       "    }\n",
       "  </style>\n",
       "\n",
       "      <script>\n",
       "        const buttonEl =\n",
       "          document.querySelector('#df-277a52dd-e1c4-4c78-b477-ede9be117ac7 button.colab-df-convert');\n",
       "        buttonEl.style.display =\n",
       "          google.colab.kernel.accessAllowed ? 'block' : 'none';\n",
       "\n",
       "        async function convertToInteractive(key) {\n",
       "          const element = document.querySelector('#df-277a52dd-e1c4-4c78-b477-ede9be117ac7');\n",
       "          const dataTable =\n",
       "            await google.colab.kernel.invokeFunction('convertToInteractive',\n",
       "                                                     [key], {});\n",
       "          if (!dataTable) return;\n",
       "\n",
       "          const docLinkHtml = 'Like what you see? Visit the ' +\n",
       "            '<a target=\"_blank\" href=https://colab.research.google.com/notebooks/data_table.ipynb>data table notebook</a>'\n",
       "            + ' to learn more about interactive tables.';\n",
       "          element.innerHTML = '';\n",
       "          dataTable['output_type'] = 'display_data';\n",
       "          await google.colab.output.renderOutput(dataTable, element);\n",
       "          const docLink = document.createElement('div');\n",
       "          docLink.innerHTML = docLinkHtml;\n",
       "          element.appendChild(docLink);\n",
       "        }\n",
       "      </script>\n",
       "    </div>\n",
       "  </div>\n",
       "  "
      ],
      "text/plain": [
       "                                              full_text  ...                                           lem_text\n",
       "1351  Houston is getting a wet start to the weekend....  ...  houston get wet start weekend. forecaster nati...\n",
       "733   CLEMSON, S.C. — Oskar Ågren scored the game-wi...  ...  clemson, s.c. oskar gren score game winning go...\n",
       "678   The SoB started in the mid-2000s, soccer fans ...  ...  the sob start mid-, soccer fan really, really ...\n",
       "1460  Lauren Rautenkranz, Tim Deegan, Makayla Lucero...  ...  lauren rautenkranz, tim deegan, makayla lucero...\n",
       "411   Huge second quarter leads Sacramento State to ...  ...  huge second quarter lead sacramento state rout...\n",
       "...                                                 ...  ...                                                ...\n",
       "772   © Provided by Independent Online (IOL)\\n\\nCape...  ...  provide independent online (iol) cape town sou...\n",
       "593   © Provided by The South African\\n\\nFIFA appear...  ...  provide the south african fifa appear willing ...\n",
       "1674  The major earthquakes that jolted Hawaii and A...  ...  the major earthquake jolt hawaii alaska past d...\n",
       "881   AT&T and Twitch have launched a mentorship pro...  ...  at&t twitch launch mentorship program aspire t...\n",
       "2027  San Francisco officials have declared a water ...  ...  san francisco official declare water shortage ...\n",
       "\n",
       "[415 rows x 4 columns]"
      ]
     },
     "execution_count": 14,
     "metadata": {},
     "output_type": "execute_result"
    }
   ],
   "source": [
    "test[\"lem_text\"] = test[\"clean_text\"].apply(lem_analyzer)\n",
    "test"
   ]
  },
  {
   "cell_type": "code",
   "execution_count": null,
   "metadata": {
    "colab": {
     "base_uri": "https://localhost:8080/"
    },
    "id": "HIlyAWH-FKCB",
    "outputId": "0bd437ca-ef82-4420-df26-160fb0cd8bf6"
   },
   "outputs": [
    {
     "name": "stdout",
     "output_type": "stream",
     "text": [
      "(1657, 11060)\n",
      "(415, 11060)\n"
     ]
    }
   ],
   "source": [
    "from sklearn.feature_extraction.text import CountVectorizer\n",
    "\n",
    "vectorizer = CountVectorizer(stop_words='english', min_df=3, max_df=0.7)\n",
    "X_train_counts = vectorizer.fit_transform(train[\"lem_text\"])\n",
    "X_test_counts = vectorizer.transform(test[\"lem_text\"])\n",
    "print(X_train_counts.shape)\n",
    "print(X_test_counts.shape)"
   ]
  },
  {
   "cell_type": "code",
   "execution_count": null,
   "metadata": {
    "colab": {
     "base_uri": "https://localhost:8080/"
    },
    "id": "w5L02uceh_uU",
    "outputId": "a80a3550-0bf0-43aa-c61d-6ac3eb2580f5"
   },
   "outputs": [
    {
     "name": "stdout",
     "output_type": "stream",
     "text": [
      "['08837phone' '10km' '247sports' '25m' '49ers' '5km' 'aap' 'aaron' 'ab'\n",
      " 'abandon' 'abated' 'abbott' 'abby' 'abc' 'abdul' 'abhishek' 'abide'\n",
      " 'abilities' 'ability' 'abject' 'ablate' 'able' 'abnormally' 'abolish'\n",
      " 'aboriginal' 'abraham' 'abrahamyan' 'abroad' 'abrupt' 'absence' 'absent'\n",
      " 'absolute' 'absolutely' 'absorb' 'abstract' 'abu' 'abundance' 'abundant'\n",
      " 'abundantly' 'abuse' 'abuses' 'abusive' 'ac' 'academic' 'academy' 'acc'\n",
      " 'accelerate' 'accent' 'accents' 'accept' 'acceptable' 'acceptance'\n",
      " 'access' 'accessibility' 'accessible' 'accessories' 'accessory'\n",
      " 'accident' 'accolade' 'accomack' 'accommodation' 'accompany' 'accomplish'\n",
      " 'accomplished' 'accomplishment' 'accord' 'accordance' 'according'\n",
      " 'accordingly' 'account' 'accountability' 'accountable' 'accounting'\n",
      " 'accounts' 'accumulate' 'accumulation' 'accuracy' 'accurate' 'accurately'\n",
      " 'accusation' 'accuse' 'accuweather' 'ace' 'achieve' 'achievement'\n",
      " 'achievements' 'acid' 'acknowledge' 'acknowledgment' 'acl' 'acoustic'\n",
      " 'acquire' 'acquisition' 'acquisitions' 'acre' 'acreage' 'acres' 'act'\n",
      " 'acting' 'action']\n"
     ]
    }
   ],
   "source": [
    "print(vectorizer.get_feature_names_out()[0:100])"
   ]
  },
  {
   "cell_type": "code",
   "execution_count": null,
   "metadata": {
    "colab": {
     "base_uri": "https://localhost:8080/"
    },
    "id": "fLdPnLO2hkU2",
    "outputId": "febc166e-38a2-4fee-a314-f6eccf3ab593"
   },
   "outputs": [
    {
     "name": "stdout",
     "output_type": "stream",
     "text": [
      "(1657, 11060)\n",
      "(415, 11060)\n"
     ]
    }
   ],
   "source": [
    "from sklearn.feature_extraction.text import TfidfTransformer\n",
    "\n",
    "tfidf_transformer = TfidfTransformer(smooth_idf=False)\n",
    "X_train_tfidf = tfidf_transformer.fit_transform(X_train_counts)\n",
    "X_test_tfidf = tfidf_transformer.transform(X_test_counts)\n",
    "print(X_train_tfidf.shape)\n",
    "print(X_test_tfidf.shape)\n"
   ]
  },
  {
   "cell_type": "markdown",
   "metadata": {
    "id": "Z62vup_ZhwWi"
   },
   "source": [
    "**Question 3**:\n",
    "* Stemming simply removes the rightmost characters of words, which can result in non-existent and incorrect word stems. It can be useful for simplifying a database of words when many terms have the same meaning but with different affixes. Lemmatizing uses linguistic rules to find a root word, guarantees that the result is a real word, but may return a different word with a similar meaning. For example, \"better\" will be lemmatized to \"good\" when the part of speech is specified as an adjective. Stemming can produce a dictionary of a smaller size than lemmatizing, because it is more aggressive at simplifying words than lemmatization is. Lemmatization leaves the word unchanged if it cannot find a lemma for it, whereas stemming will apply a set of rules to all words to reduce them as much as possible.\n",
    "* Decreasing min_df would increase the size of the dictionary, so the number of columns in the TF-IDF matrix would increase. A min_df of 1 is equivalent to adding all distinct terms that occur in the training data to the dictionary. Increasing min_df would decrease the size of the dictionary, since it omits more rare words that occur only in a few documents. With a min_df of 3, the dictionary size is 11060, where as min_df of 1 produces a dictionary size of 31242, and min_df of 5 produces a dictionary size of 7387.\n",
    "* Stopwords should be removed after lemmatizing, because some stopwords in the text may occur in various forms that do not match the defined set of stopwords exactly. For example, the sklearn set of stopwords includes \"name\" but not \"names\". Punctuation should be removed before lemmatizing, as words with puntuation are not lemmatized correctly. For instance \"hours,\" is not lemmatized to \"hour\" since the comma is included. Lemmatizing before stopwords would remove variations of stopwords as intended. However, punctuation should not be removed during cleaning, since puncutation is needed to tokenize documents into sentences, as the parts-of-speech tagger operates more accurately on sentences than on individual words. Numbers were removed in the clean() function before lemmatizing, since lemmatizing operates on words and not number terms, and lemmatizing a number simply returns the same number, so removing numbers first avoids unecessary processing.\n",
    "* The TF-IDF-processed train matrix has shape (1657,11060), and the TF-IDF-processed test matrix has shape (415,11060). Since they have 11060 columns, the dictionary contains 11060 words after cleaning and lemmatizing."
   ]
  },
  {
   "cell_type": "markdown",
   "metadata": {
    "id": "oyJhyOdBmO4E"
   },
   "source": [
    "## Dimensionality reduction"
   ]
  },
  {
   "cell_type": "code",
   "execution_count": null,
   "metadata": {
    "id": "VzUKHbThhxU1"
   },
   "outputs": [],
   "source": [
    "from sklearn.decomposition import TruncatedSVD\n",
    "\n",
    "k_list = [1, 10, 50, 100, 200, 500, 1000, 2000]\n",
    "var_list = []\n",
    "\n",
    "for k in k_list:\n",
    "    lsi = TruncatedSVD(n_components=k, n_iter=100)\n",
    "    lsi.fit(X_train_tfidf)\n",
    "    var_list.append(lsi.explained_variance_ratio_.sum())"
   ]
  },
  {
   "cell_type": "code",
   "execution_count": null,
   "metadata": {
    "colab": {
     "base_uri": "https://localhost:8080/",
     "height": 279
    },
    "id": "quVPTtVWGA-t",
    "outputId": "eecc2170-1d0a-4863-b9ff-f00153723530"
   },
   "outputs": [
    {
     "data": {
      "image/png": "[encoded data removed]",
      "text/plain": [
       "<Figure size 432x288 with 1 Axes>"
      ]
     },
     "metadata": {
      "needs_background": "light"
     },
     "output_type": "display_data"
    }
   ],
   "source": [
    "plt.figure()\n",
    "plt.plot(k_list, var_list)\n",
    "plt.xlabel(\"Number of principal components\")\n",
    "plt.ylabel(\"Explained variance ratio\")\n",
    "plt.show()"
   ]
  },
  {
   "cell_type": "markdown",
   "metadata": {
    "id": "3Yyyog9WGDBW"
   },
   "source": [
    "**Question 4**: The plot is an increasing curve that rises quickly at small $k$ and slowly at large $k$. The concavity suggests that the principal components corresponding to the largest few singular values contain more of the information about the dataset than the same number of components corresponding to smaller singular values. After about 1000 features, keeping more features has diminishing returns with respect to the explained variance ratio and would likely not improve classification performance much."
   ]
  },
  {
   "cell_type": "code",
   "execution_count": null,
   "metadata": {
    "colab": {
     "base_uri": "https://localhost:8080/"
    },
    "id": "wq2C6ULBGLzP",
    "outputId": "f90de697-ca0a-4a84-bb1e-ef77c234fe61"
   },
   "outputs": [
    {
     "name": "stdout",
     "output_type": "stream",
     "text": [
      "(1657, 50)\n"
     ]
    }
   ],
   "source": [
    "k = 50\n",
    "lsi = TruncatedSVD(n_components=k, n_iter=100)\n",
    "X_train_lsi = lsi.fit_transform(X_train_tfidf)\n",
    "print(X_train_lsi.shape)"
   ]
  },
  {
   "cell_type": "code",
   "execution_count": null,
   "metadata": {
    "colab": {
     "base_uri": "https://localhost:8080/"
    },
    "id": "rAJ0wrr9N3H3",
    "outputId": "76d71a08-a43e-429c-f58a-c305d1032348"
   },
   "outputs": [
    {
     "data": {
      "text/plain": [
       "(1657, 11060)"
      ]
     },
     "execution_count": 39,
     "metadata": {},
     "output_type": "execute_result"
    }
   ],
   "source": [
    "U = X_train_lsi / lsi.singular_values_\n",
    "Sigma_matrix = np.diag(lsi.singular_values_)\n",
    "VT = lsi.components_\n",
    "Xk = np.matmul(U, np.matmul(Sigma_matrix,VT)) # approximate X from SVD\n",
    "Xk.shape"
   ]
  },
  {
   "cell_type": "code",
   "execution_count": null,
   "metadata": {
    "colab": {
     "base_uri": "https://localhost:8080/"
    },
    "id": "G1fecrvxN9Bs",
    "outputId": "e00318f6-23c3-448b-828d-52050f736c34"
   },
   "outputs": [
    {
     "data": {
      "text/plain": [
       "1196.2560881345225"
      ]
     },
     "execution_count": 40,
     "metadata": {},
     "output_type": "execute_result"
    }
   ],
   "source": [
    "# reconstruction residual of LSI\n",
    "np.linalg.norm(X_train_tfidf-Xk, ord='fro')**2"
   ]
  },
  {
   "cell_type": "code",
   "execution_count": null,
   "metadata": {
    "colab": {
     "base_uri": "https://localhost:8080/"
    },
    "id": "gi1nMmbWN-g0",
    "outputId": "4f3528f8-6405-41e3-85d9-239a8ac52d52"
   },
   "outputs": [
    {
     "name": "stdout",
     "output_type": "stream",
     "text": [
      "(1657, 50)\n",
      "(50, 11060)\n"
     ]
    }
   ],
   "source": [
    "from sklearn.decomposition import NMF\n",
    "\n",
    "k = 50\n",
    "nmf_model = NMF(n_components=k, init='random', max_iter=500)\n",
    "W_train = nmf_model.fit_transform(X_train_tfidf)\n",
    "print(W_train.shape)\n",
    "\n",
    "H = nmf_model.components_\n",
    "print(H.shape)"
   ]
  },
  {
   "cell_type": "code",
   "execution_count": null,
   "metadata": {
    "colab": {
     "base_uri": "https://localhost:8080/"
    },
    "id": "2hiAU5O0OAHV",
    "outputId": "46632eb2-bb84-4194-8a9b-8bc92fc7ccf6"
   },
   "outputs": [
    {
     "data": {
      "text/plain": [
       "1218.0264817498776"
      ]
     },
     "execution_count": 42,
     "metadata": {},
     "output_type": "execute_result"
    }
   ],
   "source": [
    "# reconstruction residual of NMF\n",
    "np.linalg.norm(X_train_tfidf-np.matmul(W_train,H), ord='fro')**2"
   ]
  },
  {
   "cell_type": "markdown",
   "metadata": {
    "id": "FPQtAMrJOGzV"
   },
   "source": [
    "**Question 4**: The reconstruction residual MSE error is larger in NMF because optimization problem in NMF is not convex, and the local minimum that NMF converges to is highly dependent on initial conditions. In contrast, SVD is more deterministic since it tries to compute the eigenvectors and eigenvalues of the training data."
   ]
  },
  {
   "cell_type": "markdown",
   "metadata": {
    "id": "vjkGf7_tpoxJ"
   },
   "source": [
    "\n",
    "## Classification algorithms"
   ]
  },
  {
   "cell_type": "code",
   "execution_count": null,
   "metadata": {
    "id": "P6XEsd9qAw4B"
   },
   "outputs": [],
   "source": [
    "from sklearn import svm\n",
    "from sklearn.metrics import confusion_matrix\n",
    "from sklearn.metrics import accuracy_score\n",
    "from sklearn.metrics import recall_score\n",
    "from sklearn.metrics import precision_score\n",
    "from sklearn.metrics import f1_score\n",
    "from sklearn.metrics import roc_curve\n",
    "from sklearn.metrics import auc"
   ]
  },
  {
   "cell_type": "code",
   "execution_count": null,
   "metadata": {
    "colab": {
     "base_uri": "https://localhost:8080/"
    },
    "id": "96ZN7xnJCsnM",
    "outputId": "1977d157-05a3-46c6-d508-2f03b493817f"
   },
   "outputs": [
    {
     "name": "stdout",
     "output_type": "stream",
     "text": [
      "(415, 50)\n"
     ]
    }
   ],
   "source": [
    "X_test_lsi = lsi.transform(X_test_tfidf)\n",
    "print(X_test_lsi.shape)"
   ]
  },
  {
   "cell_type": "code",
   "execution_count": null,
   "metadata": {
    "id": "GVw66BlwC6te"
   },
   "outputs": [],
   "source": [
    "def score_and_roc_svm(c, X_train_lsi, X_test_lsi, train_root_label, test_root_label):\n",
    "    # confusion matrix\n",
    "    svmc = svm.SVC(C=c, probability=True)\n",
    "    svmc.fit(X_train_lsi.tolist(), train_root_label.tolist())\n",
    "    test_pred = svmc.predict(X_test_lsi.tolist())\n",
    "    test_pred_proba = svmc.predict_proba(X_test_lsi)  \n",
    "    \n",
    "    print('confusion matrix')\n",
    "    print(confusion_matrix(test_root_label, test_pred))\n",
    "    print('accuracy: {}'.format(accuracy_score(test_root_label, test_pred)))\n",
    "    print('recall: {}'.format(recall_score(test_root_label, test_pred, pos_label='sports')))\n",
    "    print('precision: {}'.format(precision_score(test_root_label, test_pred, pos_label='sports')))\n",
    "    print('f1 score: {}'.format(f1_score(test_root_label, test_pred, pos_label='sports' )))\n",
    "    \n",
    "    fpr, tpr, thresholds = roc_curve(test[\"root_label\"], test_pred_proba[:,1], pos_label='sports')\n",
    "    roc_auc = auc(fpr,tpr)\n",
    "    print('AUC: {}'.format(roc_auc))\n",
    "    plt.plot(fpr, tpr, lw=2, label='area under curve = %0.4f' % roc_auc)\n",
    "    plt.xlabel('FPR',fontsize=15)\n",
    "    plt.ylabel('TPR',fontsize=15)\n",
    "    plt.legend(loc=\"lower right\")\n",
    "    "
   ]
  },
  {
   "cell_type": "code",
   "execution_count": null,
   "metadata": {
    "colab": {
     "base_uri": "https://localhost:8080/",
     "height": 423
    },
    "id": "cpvMN2LiDCDh",
    "outputId": "db6542c4-b078-4097-b31c-aef4633ac2eb"
   },
   "outputs": [
    {
     "name": "stdout",
     "output_type": "stream",
     "text": [
      "confusion matrix\n",
      "[[197   9]\n",
      " [  9 200]]\n",
      "accuracy: 0.9566265060240964\n",
      "recall: 0.9569377990430622\n",
      "precision: 0.9569377990430622\n",
      "f1 score: 0.9569377990430622\n",
      "AUC: 0.9922190737213732\n"
     ]
    },
    {
     "data": {
      "image/png": "[encoded data removed]",
      "text/plain": [
       "<Figure size 432x288 with 1 Axes>"
      ]
     },
     "metadata": {
      "needs_background": "light"
     },
     "output_type": "display_data"
    }
   ],
   "source": [
    "# hard margin\n",
    "score_and_roc_svm(1000, X_train_lsi, X_test_lsi, train[\"root_label\"], test[\"root_label\"])"
   ]
  },
  {
   "cell_type": "code",
   "execution_count": null,
   "metadata": {
    "colab": {
     "base_uri": "https://localhost:8080/",
     "height": 478
    },
    "id": "mm_8VRPtDBXj",
    "outputId": "a7dabeb4-a558-40d9-9381-e5c264abcc2c"
   },
   "outputs": [
    {
     "name": "stdout",
     "output_type": "stream",
     "text": [
      "confusion matrix\n",
      "[[206   0]\n",
      " [209   0]]\n",
      "accuracy: 0.4963855421686747\n",
      "recall: 0.0\n",
      "precision: 0.0\n",
      "f1 score: 0.0\n",
      "AUC: 0.020392994843684675\n"
     ]
    },
    {
     "name": "stderr",
     "output_type": "stream",
     "text": [
      "/usr/local/lib/python3.7/dist-packages/sklearn/metrics/_classification.py:1318: UndefinedMetricWarning: Precision is ill-defined and being set to 0.0 due to no predicted samples. Use `zero_division` parameter to control this behavior.\n",
      "  _warn_prf(average, modifier, msg_start, len(result))\n"
     ]
    },
    {
     "data": {
      "image/png": "[encoded data removed]",
      "text/plain": [
       "<Figure size 432x288 with 1 Axes>"
      ]
     },
     "metadata": {
      "needs_background": "light"
     },
     "output_type": "display_data"
    }
   ],
   "source": [
    "# soft margin\n",
    "score_and_roc_svm(0.0001, X_train_lsi, X_test_lsi, train[\"root_label\"], test[\"root_label\"])"
   ]
  },
  {
   "cell_type": "code",
   "execution_count": null,
   "metadata": {
    "colab": {
     "base_uri": "https://localhost:8080/",
     "height": 423
    },
    "id": "iMdI8gdwDGvH",
    "outputId": "c09e11cd-4d4c-4fb5-c446-360cbfec59a9"
   },
   "outputs": [
    {
     "name": "stdout",
     "output_type": "stream",
     "text": [
      "confusion matrix\n",
      "[[197   9]\n",
      " [  9 200]]\n",
      "accuracy: 0.9566265060240964\n",
      "recall: 0.9569377990430622\n",
      "precision: 0.9569377990430622\n",
      "f1 score: 0.9569377990430622\n",
      "AUC: 0.9922190737213732\n"
     ]
    },
    {
     "data": {
      "image/png": "[encoded data removed]",
      "text/plain": [
       "<Figure size 432x288 with 1 Axes>"
      ]
     },
     "metadata": {
      "needs_background": "light"
     },
     "output_type": "display_data"
    }
   ],
   "source": [
    "score_and_roc_svm(100000, X_train_lsi, X_test_lsi, train[\"root_label\"], test[\"root_label\"])"
   ]
  },
  {
   "cell_type": "code",
   "execution_count": null,
   "metadata": {
    "id": "z_Q4IOpzkMeT"
   },
   "outputs": [],
   "source": [
    "from sklearn.model_selection import cross_val_score\n",
    "\n",
    "c_list = np.logspace(-3, 6, 10)\n",
    "acc_list = []\n",
    "for c in c_list:\n",
    "    clf = svm.SVC(C=c, probability=True)\n",
    "    scores = cross_val_score(clf, X_train_lsi.tolist(), train[\"root_label\"].tolist(), cv=5, scoring='accuracy')\n",
    "    acc_list.append(scores.mean())"
   ]
  },
  {
   "cell_type": "code",
   "execution_count": null,
   "metadata": {
    "colab": {
     "base_uri": "https://localhost:8080/",
     "height": 269
    },
    "id": "tEeGSgn5kNy6",
    "outputId": "357976c9-f7c3-4298-9301-23dda4840ed6"
   },
   "outputs": [
    {
     "data": {
      "image/png": "[encoded data removed]",
      "text/plain": [
       "<Figure size 432x288 with 1 Axes>"
      ]
     },
     "metadata": {
      "needs_background": "light"
     },
     "output_type": "display_data"
    }
   ],
   "source": [
    "plt.axes(xscale='log')\n",
    "plt.plot(c_list, acc_list)\n",
    "plt.show()"
   ]
  },
  {
   "cell_type": "code",
   "execution_count": null,
   "metadata": {
    "colab": {
     "base_uri": "https://localhost:8080/"
    },
    "id": "9iq-SihNkQXD",
    "outputId": "506d6a7b-d3cf-47de-be98-791a26813738"
   },
   "outputs": [
    {
     "name": "stdout",
     "output_type": "stream",
     "text": [
      "Optimal gamma from cross-validation: 10.0\n"
     ]
    }
   ],
   "source": [
    "opt_c = c_list[np.argmax(acc_list)]\n",
    "print('Optimal gamma from cross-validation: {}'.format(opt_c))"
   ]
  },
  {
   "cell_type": "code",
   "execution_count": null,
   "metadata": {
    "colab": {
     "base_uri": "https://localhost:8080/",
     "height": 423
    },
    "id": "DAjVabgokUb4",
    "outputId": "2eafcf3b-22f6-4ba5-e12b-6920c737d57f"
   },
   "outputs": [
    {
     "name": "stdout",
     "output_type": "stream",
     "text": [
      "confusion matrix\n",
      "[[200   6]\n",
      " [  4 205]]\n",
      "accuracy: 0.9759036144578314\n",
      "recall: 0.9808612440191388\n",
      "precision: 0.9715639810426541\n",
      "f1 score: 0.9761904761904763\n",
      "AUC: 0.9944488316997259\n"
     ]
    },
    {
     "data": {
      "image/png": "[encoded data removed]",
      "text/plain": [
       "<Figure size 432x288 with 1 Axes>"
      ]
     },
     "metadata": {
      "needs_background": "light"
     },
     "output_type": "display_data"
    }
   ],
   "source": [
    "score_and_roc_svm(opt_c, X_train_lsi, X_test_lsi, train[\"root_label\"], test[\"root_label\"])"
   ]
  },
  {
   "cell_type": "markdown",
   "metadata": {
    "id": "mI37Hg7--ggc"
   },
   "source": [
    "**Question 5**: \n",
    "* The confusion matrix, accuracy, recall, precision, and F1 score of the three SVM classifiers are reported above. SVM with $\\gamma=1000$ performs as well as SVM with $\\gamma=100000$, and both of these are much better than SVM with $\\gamma=0.0001$.\n",
    "* For soft margin SVM, $\\gamma=0.0001$ is too small, so misclassification of training data is very lightly penalized. All predicted results are labeled as 'climate', so in the confusion matrix, TP=206, FP=209, FN=TN=0. The model has an accuracy of 0.49, and precision, recall, and F1 score are all zero.\n",
    "* ROC curve's AUC of soft margin SVM is about 0.02, indicating poor performance. The ROC curve shows that the TPR stays close to zero until the FPR is close to one, so the soft margin SVM has very poor separability between classes.\n",
    "* The best value of $\\gamma$ is 100. The confusion matrix, accuracy, recall, precision, and F1 score for this best SVM are reported above."
   ]
  },
  {
   "cell_type": "code",
   "execution_count": null,
   "metadata": {
    "id": "UWEzEahA-Fiu"
   },
   "outputs": [],
   "source": [
    "from sklearn.linear_model import LogisticRegression\n",
    "\n",
    "def score_and_roc_logreg(c, X_train_lsi, X_test_lsi, train_root_label, test_root_label, pe):\n",
    "    # confusion matrix\n",
    "    logreg = LogisticRegression(penalty=pe, C=c, solver=\"saga\", max_iter=4000)\n",
    "    logreg.fit(X_train_lsi.tolist(), train_root_label.tolist())\n",
    "    test_pred=logreg.predict(X_test_lsi.tolist())\n",
    "    test_pred_proba = logreg.predict_proba(X_test_lsi.tolist())\n",
    "    \n",
    "    print('confusion matrix')\n",
    "    print(confusion_matrix(test_root_label, test_pred))\n",
    "    print('accuracy: {}'.format(accuracy_score(test_root_label, test_pred)))\n",
    "    print('recall: {}'.format(recall_score(test_root_label, test_pred, pos_label='sports')))\n",
    "    print('precision: {}'.format(precision_score(test_root_label, test_pred, pos_label='sports')))\n",
    "    print('f1 score: {}'.format(f1_score(test_root_label, test_pred, pos_label='sports' )))\n",
    "    \n",
    "    fpr, tpr, thresholds = roc_curve(test[\"root_label\"], test_pred_proba[:,1], pos_label='sports')\n",
    "    roc_auc = auc(fpr,tpr)\n",
    "    print('AUC: {}'.format(roc_auc))\n",
    "    plt.plot(fpr, tpr, lw=2, label='area under curve = %0.4f' % roc_auc)\n",
    "    plt.xlabel('FPR',fontsize=15)\n",
    "    plt.ylabel('TPR',fontsize=15)\n",
    "    plt.legend(loc=\"lower right\")"
   ]
  },
  {
   "cell_type": "code",
   "execution_count": null,
   "metadata": {
    "colab": {
     "base_uri": "https://localhost:8080/",
     "height": 458
    },
    "id": "ylpwJOIl-HPh",
    "outputId": "56138630-b6ef-4c34-da3f-adc29e924ab0"
   },
   "outputs": [
    {
     "name": "stderr",
     "output_type": "stream",
     "text": [
      "/usr/local/lib/python3.7/dist-packages/sklearn/linear_model/_logistic.py:1484: UserWarning: Setting penalty='none' will ignore the C and l1_ratio parameters\n",
      "  \"Setting penalty='none' will ignore the C and l1_ratio parameters\"\n"
     ]
    },
    {
     "name": "stdout",
     "output_type": "stream",
     "text": [
      "confusion matrix\n",
      "[[199   7]\n",
      " [  3 206]]\n",
      "accuracy: 0.9759036144578314\n",
      "recall: 0.9856459330143541\n",
      "precision: 0.9671361502347418\n",
      "f1 score: 0.976303317535545\n",
      "AUC: 0.9964463232220003\n"
     ]
    },
    {
     "data": {
      "image/png": "[encoded data removed]",
      "text/plain": [
       "<Figure size 432x288 with 1 Axes>"
      ]
     },
     "metadata": {
      "needs_background": "light"
     },
     "output_type": "display_data"
    }
   ],
   "source": [
    "# logistic classifier without regularization\n",
    "score_and_roc_logreg(1e42, X_train_lsi, X_test_lsi, train[\"root_label\"], test[\"root_label\"], 'none')"
   ]
  },
  {
   "cell_type": "code",
   "execution_count": null,
   "metadata": {
    "colab": {
     "base_uri": "https://localhost:8080/"
    },
    "id": "NPkegRSg-NVm",
    "outputId": "8822a48a-cb41-44bf-d9df-f02a5169a7c9"
   },
   "outputs": [
    {
     "name": "stdout",
     "output_type": "stream",
     "text": [
      "Regularization: l1, optimal coefficient: 10.0\n",
      "Regularization: l2, optimal coefficient: 10.0\n"
     ]
    }
   ],
   "source": [
    "# 5-fold CV on optimal regularization strength for L1 and L2 regularization\n",
    "\n",
    "reg_list = ['l1','l2']\n",
    "c_range = np.logspace(-4, 4, 9)\n",
    "\n",
    "for reg in reg_list:\n",
    "    acc_list = []\n",
    "    for c in c_range:\n",
    "        logreg = LogisticRegression(penalty=reg, C=c, solver=\"saga\", max_iter=4000)\n",
    "        scores = cross_val_score(logreg, X_train_lsi.tolist(), train[\"root_label\"].tolist(), cv=5, scoring='accuracy')\n",
    "        acc_list.append(scores.mean())\n",
    "    \n",
    "    opt_c = c_range[np.argmax(acc_list)]\n",
    "    print(\"Regularization: {}, optimal coefficient: {}\".format(reg, opt_c))"
   ]
  },
  {
   "cell_type": "code",
   "execution_count": null,
   "metadata": {
    "colab": {
     "base_uri": "https://localhost:8080/",
     "height": 423
    },
    "id": "Rjac1ZPr-QnS",
    "outputId": "5dd08bf9-20d2-43d6-9fa0-8bafb774577e"
   },
   "outputs": [
    {
     "name": "stdout",
     "output_type": "stream",
     "text": [
      "confusion matrix\n",
      "[[199   7]\n",
      " [  3 206]]\n",
      "accuracy: 0.9759036144578314\n",
      "recall: 0.9856459330143541\n",
      "precision: 0.9671361502347418\n",
      "f1 score: 0.976303317535545\n",
      "AUC: 0.9961676034747062\n"
     ]
    },
    {
     "data": {
      "image/png": "[encoded data removed]",
      "text/plain": [
       "<Figure size 432x288 with 1 Axes>"
      ]
     },
     "metadata": {
      "needs_background": "light"
     },
     "output_type": "display_data"
    }
   ],
   "source": [
    "# L1 regularization with optimal gamma\n",
    "score_and_roc_logreg(10, X_train_lsi, X_test_lsi, train[\"root_label\"], test[\"root_label\"], 'l1')"
   ]
  },
  {
   "cell_type": "code",
   "execution_count": null,
   "metadata": {
    "colab": {
     "base_uri": "https://localhost:8080/",
     "height": 423
    },
    "id": "4scJVk9O-Uiw",
    "outputId": "c4290c09-7896-4566-9d6e-22709884f423"
   },
   "outputs": [
    {
     "name": "stdout",
     "output_type": "stream",
     "text": [
      "confusion matrix\n",
      "[[199   7]\n",
      " [  3 206]]\n",
      "accuracy: 0.9759036144578314\n",
      "recall: 0.9856459330143541\n",
      "precision: 0.9671361502347418\n",
      "f1 score: 0.976303317535545\n",
      "AUC: 0.9949598179030985\n"
     ]
    },
    {
     "data": {
      "image/png": "[encoded data removed]",
      "text/plain": [
       "<Figure size 432x288 with 1 Axes>"
      ]
     },
     "metadata": {
      "needs_background": "light"
     },
     "output_type": "display_data"
    }
   ],
   "source": [
    "# L2 regularization with optimal gamma\n",
    "score_and_roc_logreg(10, X_train_lsi, X_test_lsi, train[\"root_label\"], test[\"root_label\"], 'l2')"
   ]
  },
  {
   "cell_type": "markdown",
   "metadata": {
    "id": "d15s6ff4-klk"
   },
   "source": [
    "**Question 6**: \n",
    "* The optimal regularization strength found from 5-fold cross-validation for L1 regularization and L2 regularization are both 10.\n",
    "* All three classifiers -- no regularization, L1 regularization with $k=10$, and L2 regularization with $k=10$ -- all perform well. The AUC for each are all greater than 0.99, and accuracies, recalls, precisions, and F1 scores are also all avove 0.96.\n",
    "* When the regularization parameter is increased, the test error will first increase and then decrease. Some regularization can help avoid overfitting, but when regularization is too strong, it causes underfitting. When the regularization parameter is increased, the learnt coefficients tend to smaller values. L1 and L2 are different kinds of regularization. L1 is least absolute deviation so it penalizes differently sized errors equally, while L2 is least squares error and penalizes large errors more. L1 can also be helpful in feature selection.\n",
    "* The loss functions of SVM and logistic regression are different. The loss fuction of SVM is hinge loss, while for logistic regression uses logistic loss. SVM only considers support vectors, while logistic regression considers all data points with different weights. Logistic regression could have the problem of over-fitting, while SVM does not. According to the ROC curves above, the performances of SVM and logistic regression do not differ significantly.\n"
   ]
  },
  {
   "cell_type": "code",
   "execution_count": null,
   "metadata": {
    "id": "QLKaF8C4A4QX"
   },
   "outputs": [],
   "source": [
    "from sklearn.naive_bayes import GaussianNB\n",
    "\n",
    "def score_and_roc_gau(X_train_lsi, X_test_lsi, train_root_label, test_root_label):\n",
    "    # confusion matrix\n",
    "    clf = GaussianNB()\n",
    "    clf.fit(X_train_lsi.tolist(), train_root_label.tolist())\n",
    "    test_pred = clf.predict(X_test_lsi.tolist())\n",
    "    test_pred_proba = clf.predict_proba(X_test_lsi.tolist())\n",
    "    \n",
    "    print('confusion matrix')\n",
    "    print(confusion_matrix(test_root_label, test_pred))\n",
    "    print('accuracy: {}'.format(accuracy_score(test_root_label, test_pred)))\n",
    "    print('recall: {}'.format(recall_score(test_root_label, test_pred, pos_label='sports')))\n",
    "    print('precision: {}'.format(precision_score(test_root_label, test_pred, pos_label='sports')))\n",
    "    print('f1 score: {}'.format(f1_score(test_root_label, test_pred, pos_label='sports' )))\n",
    "    \n",
    "    fpr, tpr, thresholds = roc_curve(test[\"root_label\"], test_pred_proba[:,1], pos_label='sports')\n",
    "    roc_auc = auc(fpr,tpr)\n",
    "    print('AUC: {}'.format(roc_auc))\n",
    "    plt.plot(fpr, tpr, lw=2, label='area under curve = %0.4f' % roc_auc)\n",
    "    plt.xlabel('FPR',fontsize=15)\n",
    "    plt.ylabel('TPR',fontsize=15)\n",
    "    plt.legend(loc=\"lower right\")"
   ]
  },
  {
   "cell_type": "code",
   "execution_count": null,
   "metadata": {
    "colab": {
     "base_uri": "https://localhost:8080/",
     "height": 423
    },
    "id": "XOP_7bvAA5TX",
    "outputId": "00e9a263-90e2-4d86-ce3a-9c868641b267"
   },
   "outputs": [
    {
     "name": "stdout",
     "output_type": "stream",
     "text": [
      "confusion matrix\n",
      "[[200   6]\n",
      " [  9 200]]\n",
      "accuracy: 0.963855421686747\n",
      "recall: 0.9569377990430622\n",
      "precision: 0.970873786407767\n",
      "f1 score: 0.9638554216867469\n",
      "AUC: 0.9814883634505505\n"
     ]
    },
    {
     "data": {
      "image/png": "[encoded data removed]",
      "text/plain": [
       "<Figure size 432x288 with 1 Axes>"
      ]
     },
     "metadata": {
      "needs_background": "light"
     },
     "output_type": "display_data"
    }
   ],
   "source": [
    "score_and_roc_gau(X_train_lsi, X_test_lsi, train[\"root_label\"], test[\"root_label\"])"
   ]
  },
  {
   "cell_type": "markdown",
   "metadata": {
    "id": "XzBHGUPjA_H6"
   },
   "source": [
    "**Question 7**: The Roc curve, confusion matrix, accuracy, recall, precision and F1 score are above."
   ]
  },
  {
   "cell_type": "markdown",
   "metadata": {
    "id": "v35HRI_e6qI8"
   },
   "source": [
    "## Gridsearch of parameters"
   ]
  },
  {
   "cell_type": "code",
   "execution_count": null,
   "metadata": {
    "colab": {
     "base_uri": "https://localhost:8080/",
     "height": 1000
    },
    "id": "j9AjX027ES2I",
    "outputId": "65a257bf-1da3-4183-cfc6-7bf71f1a6ea4"
   },
   "outputs": [
    {
     "name": "stdout",
     "output_type": "stream",
     "text": [
      "[Memory]0.0s, 0.0min    : Loading _fit_transform_one from cachedir/joblib/sklearn/pipeline/_fit_transform_one/7713bf1406828cf10689487f42cae0b6\n",
      "___________________________________fit_transform_one cache loaded - 0.1s, 0.0min\n",
      "[Memory]0.1s, 0.0min    : Loading _fit_transform_one from cachedir/joblib/sklearn/pipeline/_fit_transform_one/f15bf5cc6fe40d79c32098b1327a1aae\n",
      "___________________________________fit_transform_one cache loaded - 0.0s, 0.0min\n",
      "[Memory]0.2s, 0.0min    : Loading _fit_transform_one from cachedir/joblib/sklearn/pipeline/_fit_transform_one/777d8c1072b0bfba0c98b8966e8b721f\n",
      "___________________________________fit_transform_one cache loaded - 0.0s, 0.0min\n",
      "[Memory]0.2s, 0.0min    : Loading _fit_transform_one from cachedir/joblib/sklearn/pipeline/_fit_transform_one/0530433906a815d5ef2de9b379f63be3\n",
      "___________________________________fit_transform_one cache loaded - 0.0s, 0.0min\n",
      "[Memory]0.0s, 0.0min    : Loading _fit_transform_one from cachedir/joblib/sklearn/pipeline/_fit_transform_one/4df6558bc460a464151592f3f848569e\n",
      "___________________________________fit_transform_one cache loaded - 0.5s, 0.0min\n",
      "[Memory]0.6s, 0.0min    : Loading _fit_transform_one from cachedir/joblib/sklearn/pipeline/_fit_transform_one/ba6b9107379fa716ee78337a7e86c1d4\n",
      "___________________________________fit_transform_one cache loaded - 0.0s, 0.0min\n",
      "[Memory]0.6s, 0.0min    : Loading _fit_transform_one from cachedir/joblib/sklearn/pipeline/_fit_transform_one/cd86dfcca3ea122c211a0db729b82273\n",
      "___________________________________fit_transform_one cache loaded - 0.0s, 0.0min\n",
      "[Memory]0.7s, 0.0min    : Loading _fit_transform_one from cachedir/joblib/sklearn/pipeline/_fit_transform_one/44b99c9f70e4358221e3e52d06516fe3\n",
      "___________________________________fit_transform_one cache loaded - 0.0s, 0.0min\n",
      "[Memory]0.0s, 0.0min    : Loading _fit_transform_one from cachedir/joblib/sklearn/pipeline/_fit_transform_one/ec4c30f79629b35d78f89675645b9612\n",
      "___________________________________fit_transform_one cache loaded - 0.1s, 0.0min\n",
      "[Memory]0.1s, 0.0min    : Loading _fit_transform_one from cachedir/joblib/sklearn/pipeline/_fit_transform_one/b1829475d4155c2a0f7f89b4a2be9a58\n",
      "___________________________________fit_transform_one cache loaded - 0.0s, 0.0min\n",
      "[Memory]0.2s, 0.0min    : Loading _fit_transform_one from cachedir/joblib/sklearn/pipeline/_fit_transform_one/de0c1e0c64e9ecf182397ba55b760278\n",
      "___________________________________fit_transform_one cache loaded - 0.0s, 0.0min\n",
      "[Memory]0.2s, 0.0min    : Loading _fit_transform_one from cachedir/joblib/sklearn/pipeline/_fit_transform_one/d9bc4146e8b76eb553c347210e0d6439\n",
      "___________________________________fit_transform_one cache loaded - 0.0s, 0.0min\n",
      "[Memory]0.0s, 0.0min    : Loading _fit_transform_one from cachedir/joblib/sklearn/pipeline/_fit_transform_one/d5cdd5991f060312bed0c5fa4707c40b\n",
      "___________________________________fit_transform_one cache loaded - 0.1s, 0.0min\n",
      "[Memory]0.1s, 0.0min    : Loading _fit_transform_one from cachedir/joblib/sklearn/pipeline/_fit_transform_one/696b2e96be0a62e14aaa3dfe155ee962\n",
      "___________________________________fit_transform_one cache loaded - 0.0s, 0.0min\n",
      "[Memory]0.2s, 0.0min    : Loading _fit_transform_one from cachedir/joblib/sklearn/pipeline/_fit_transform_one/e0049eb1da59d782b88c0ce44a3f77ee\n",
      "___________________________________fit_transform_one cache loaded - 0.0s, 0.0min\n",
      "[Memory]0.2s, 0.0min    : Loading _fit_transform_one from cachedir/joblib/sklearn/pipeline/_fit_transform_one/b26b7cf3a969c99b0510b550ec537b6c\n",
      "___________________________________fit_transform_one cache loaded - 0.0s, 0.0min\n",
      "[Memory]0.0s, 0.0min    : Loading _fit_transform_one from cachedir/joblib/sklearn/pipeline/_fit_transform_one/8f4fdc64f5047fc4bddf8729f1554425\n",
      "___________________________________fit_transform_one cache loaded - 0.1s, 0.0min\n",
      "[Memory]0.1s, 0.0min    : Loading _fit_transform_one from cachedir/joblib/sklearn/pipeline/_fit_transform_one/1216df07cd03f5994ef286ad11306c35\n",
      "___________________________________fit_transform_one cache loaded - 0.0s, 0.0min\n",
      "[Memory]0.2s, 0.0min    : Loading _fit_transform_one from cachedir/joblib/sklearn/pipeline/_fit_transform_one/99bebb7a1968dd6c615097525971b64a\n",
      "___________________________________fit_transform_one cache loaded - 0.0s, 0.0min\n",
      "[Memory]0.2s, 0.0min    : Loading _fit_transform_one from cachedir/joblib/sklearn/pipeline/_fit_transform_one/dc4c907eca4fb58d37cc4d6149bb9d26\n",
      "___________________________________fit_transform_one cache loaded - 0.0s, 0.0min\n",
      "[Memory]0.0s, 0.0min    : Loading _fit_transform_one from cachedir/joblib/sklearn/pipeline/_fit_transform_one/b97243c4d51c0f12dc2d2c34f00be8bb\n",
      "___________________________________fit_transform_one cache loaded - 0.1s, 0.0min\n",
      "[Memory]0.1s, 0.0min    : Loading _fit_transform_one from cachedir/joblib/sklearn/pipeline/_fit_transform_one/a6972cfd8c47be4d6b3110bae52d8361\n",
      "___________________________________fit_transform_one cache loaded - 0.0s, 0.0min\n",
      "[Memory]0.2s, 0.0min    : Loading _fit_transform_one from cachedir/joblib/sklearn/pipeline/_fit_transform_one/b071890c2ad3a394c8aa1cef58ea862e\n",
      "___________________________________fit_transform_one cache loaded - 0.0s, 0.0min\n",
      "[Memory]0.2s, 0.0min    : Loading _fit_transform_one from cachedir/joblib/sklearn/pipeline/_fit_transform_one/f7854e560158edb5817efd1c3c383ea6\n",
      "___________________________________fit_transform_one cache loaded - 0.0s, 0.0min\n",
      "[Memory]0.0s, 0.0min    : Loading _fit_transform_one from cachedir/joblib/sklearn/pipeline/_fit_transform_one/18bae6cf70d764678e51b41023cad5b5\n",
      "___________________________________fit_transform_one cache loaded - 0.1s, 0.0min\n",
      "[Memory]0.1s, 0.0min    : Loading _fit_transform_one from cachedir/joblib/sklearn/pipeline/_fit_transform_one/712c633f33b2aa0e9a264d5b59eed24b\n",
      "___________________________________fit_transform_one cache loaded - 0.0s, 0.0min\n",
      "[Memory]0.2s, 0.0min    : Loading _fit_transform_one from cachedir/joblib/sklearn/pipeline/_fit_transform_one/0affbc3028f107287e76d403b9efb85d\n",
      "___________________________________fit_transform_one cache loaded - 0.0s, 0.0min\n",
      "[Memory]0.2s, 0.0min    : Loading _fit_transform_one from cachedir/joblib/sklearn/pipeline/_fit_transform_one/72b192669695cc8e6fba1143d29551c4\n",
      "___________________________________fit_transform_one cache loaded - 0.0s, 0.0min\n",
      "[Memory]0.0s, 0.0min    : Loading _fit_transform_one from cachedir/joblib/sklearn/pipeline/_fit_transform_one/30add571c45ec473e2af3e7c264fecc2\n",
      "___________________________________fit_transform_one cache loaded - 0.1s, 0.0min\n",
      "[Memory]0.1s, 0.0min    : Loading _fit_transform_one from cachedir/joblib/sklearn/pipeline/_fit_transform_one/a465b5e8da3957252f87fa1d8c513e18\n",
      "___________________________________fit_transform_one cache loaded - 0.0s, 0.0min\n",
      "[Memory]0.2s, 0.0min    : Loading _fit_transform_one from cachedir/joblib/sklearn/pipeline/_fit_transform_one/f2b942a95374f82fd9ce975093d06ddb\n",
      "___________________________________fit_transform_one cache loaded - 0.0s, 0.0min\n",
      "[Memory]0.2s, 0.0min    : Loading _fit_transform_one from cachedir/joblib/sklearn/pipeline/_fit_transform_one/a69b8e54680039f7a8d1c9f55cc76ce5\n",
      "___________________________________fit_transform_one cache loaded - 0.0s, 0.0min\n",
      "[Memory]0.0s, 0.0min    : Loading _fit_transform_one from cachedir/joblib/sklearn/pipeline/_fit_transform_one/f26f31fe09e4c0baa75d0bd373b11401\n",
      "___________________________________fit_transform_one cache loaded - 0.1s, 0.0min\n",
      "[Memory]0.1s, 0.0min    : Loading _fit_transform_one from cachedir/joblib/sklearn/pipeline/_fit_transform_one/0f5cb12df585e3e9f36fedd7507eefcf\n",
      "___________________________________fit_transform_one cache loaded - 0.0s, 0.0min\n",
      "[Memory]0.2s, 0.0min    : Loading _fit_transform_one from cachedir/joblib/sklearn/pipeline/_fit_transform_one/0410caf36f909ca4236d17b4f30c42b5\n",
      "___________________________________fit_transform_one cache loaded - 0.0s, 0.0min\n",
      "[Memory]0.2s, 0.0min    : Loading _fit_transform_one from cachedir/joblib/sklearn/pipeline/_fit_transform_one/dde75edd027514aaf339cd757200f8fa\n",
      "___________________________________fit_transform_one cache loaded - 0.0s, 0.0min\n",
      "[Memory]0.0s, 0.0min    : Loading _fit_transform_one from cachedir/joblib/sklearn/pipeline/_fit_transform_one/313ae626aad40e891d5a390f5e2cc778\n",
      "___________________________________fit_transform_one cache loaded - 0.1s, 0.0min\n",
      "[Memory]0.1s, 0.0min    : Loading _fit_transform_one from cachedir/joblib/sklearn/pipeline/_fit_transform_one/7fd6e5010e9282f636fa99592f847e1d\n",
      "___________________________________fit_transform_one cache loaded - 0.0s, 0.0min\n",
      "[Memory]0.2s, 0.0min    : Loading _fit_transform_one from cachedir/joblib/sklearn/pipeline/_fit_transform_one/64d0adc23e8b78ea1462e251492b6fae\n",
      "___________________________________fit_transform_one cache loaded - 0.0s, 0.0min\n",
      "[Memory]0.2s, 0.0min    : Loading _fit_transform_one from cachedir/joblib/sklearn/pipeline/_fit_transform_one/834ecf00a1b74901e6a146bfbac76455\n",
      "___________________________________fit_transform_one cache loaded - 0.0s, 0.0min\n",
      "[Memory]0.0s, 0.0min    : Loading _fit_transform_one from cachedir/joblib/sklearn/pipeline/_fit_transform_one/7713bf1406828cf10689487f42cae0b6\n",
      "___________________________________fit_transform_one cache loaded - 0.1s, 0.0min\n",
      "[Memory]0.1s, 0.0min    : Loading _fit_transform_one from cachedir/joblib/sklearn/pipeline/_fit_transform_one/f15bf5cc6fe40d79c32098b1327a1aae\n",
      "___________________________________fit_transform_one cache loaded - 0.0s, 0.0min\n",
      "[Memory]0.2s, 0.0min    : Loading _fit_transform_one from cachedir/joblib/sklearn/pipeline/_fit_transform_one/777d8c1072b0bfba0c98b8966e8b721f\n",
      "___________________________________fit_transform_one cache loaded - 0.0s, 0.0min\n",
      "[Memory]0.2s, 0.0min    : Loading _fit_transform_one from cachedir/joblib/sklearn/pipeline/_fit_transform_one/0dd989d061b1fa3e6e9b04217017a811\n",
      "___________________________________fit_transform_one cache loaded - 0.0s, 0.0min\n",
      "[Memory]0.0s, 0.0min    : Loading _fit_transform_one from cachedir/joblib/sklearn/pipeline/_fit_transform_one/4df6558bc460a464151592f3f848569e\n",
      "___________________________________fit_transform_one cache loaded - 0.1s, 0.0min\n",
      "[Memory]0.1s, 0.0min    : Loading _fit_transform_one from cachedir/joblib/sklearn/pipeline/_fit_transform_one/ba6b9107379fa716ee78337a7e86c1d4\n",
      "___________________________________fit_transform_one cache loaded - 0.0s, 0.0min\n",
      "[Memory]0.2s, 0.0min    : Loading _fit_transform_one from cachedir/joblib/sklearn/pipeline/_fit_transform_one/cd86dfcca3ea122c211a0db729b82273\n",
      "___________________________________fit_transform_one cache loaded - 0.0s, 0.0min\n",
      "[Memory]0.2s, 0.0min    : Loading _fit_transform_one from cachedir/joblib/sklearn/pipeline/_fit_transform_one/33b346e5e50d0ef705bf3edb46f08d5c\n",
      "___________________________________fit_transform_one cache loaded - 0.0s, 0.0min\n",
      "[Memory]0.0s, 0.0min    : Loading _fit_transform_one from cachedir/joblib/sklearn/pipeline/_fit_transform_one/ec4c30f79629b35d78f89675645b9612\n",
      "___________________________________fit_transform_one cache loaded - 0.2s, 0.0min\n",
      "[Memory]0.3s, 0.0min    : Loading _fit_transform_one from cachedir/joblib/sklearn/pipeline/_fit_transform_one/b1829475d4155c2a0f7f89b4a2be9a58\n",
      "___________________________________fit_transform_one cache loaded - 0.0s, 0.0min\n",
      "[Memory]0.3s, 0.0min    : Loading _fit_transform_one from cachedir/joblib/sklearn/pipeline/_fit_transform_one/de0c1e0c64e9ecf182397ba55b760278\n",
      "___________________________________fit_transform_one cache loaded - 0.0s, 0.0min\n",
      "[Memory]0.4s, 0.0min    : Loading _fit_transform_one from cachedir/joblib/sklearn/pipeline/_fit_transform_one/b1f4e986533d37d184177962bd0eaf57\n",
      "___________________________________fit_transform_one cache loaded - 0.0s, 0.0min\n",
      "[Memory]0.0s, 0.0min    : Loading _fit_transform_one from cachedir/joblib/sklearn/pipeline/_fit_transform_one/d5cdd5991f060312bed0c5fa4707c40b\n",
      "___________________________________fit_transform_one cache loaded - 0.1s, 0.0min\n",
      "[Memory]0.1s, 0.0min    : Loading _fit_transform_one from cachedir/joblib/sklearn/pipeline/_fit_transform_one/696b2e96be0a62e14aaa3dfe155ee962\n",
      "___________________________________fit_transform_one cache loaded - 0.0s, 0.0min\n",
      "[Memory]0.1s, 0.0min    : Loading _fit_transform_one from cachedir/joblib/sklearn/pipeline/_fit_transform_one/e0049eb1da59d782b88c0ce44a3f77ee\n",
      "___________________________________fit_transform_one cache loaded - 0.0s, 0.0min\n",
      "[Memory]0.2s, 0.0min    : Loading _fit_transform_one from cachedir/joblib/sklearn/pipeline/_fit_transform_one/37f15825865a88570291b13c6c01679c\n",
      "___________________________________fit_transform_one cache loaded - 0.0s, 0.0min\n",
      "[Memory]0.0s, 0.0min    : Loading _fit_transform_one from cachedir/joblib/sklearn/pipeline/_fit_transform_one/8f4fdc64f5047fc4bddf8729f1554425\n",
      "___________________________________fit_transform_one cache loaded - 0.1s, 0.0min\n",
      "[Memory]0.1s, 0.0min    : Loading _fit_transform_one from cachedir/joblib/sklearn/pipeline/_fit_transform_one/1216df07cd03f5994ef286ad11306c35\n",
      "___________________________________fit_transform_one cache loaded - 0.0s, 0.0min\n",
      "[Memory]0.2s, 0.0min    : Loading _fit_transform_one from cachedir/joblib/sklearn/pipeline/_fit_transform_one/99bebb7a1968dd6c615097525971b64a\n",
      "___________________________________fit_transform_one cache loaded - 0.0s, 0.0min\n",
      "[Memory]0.2s, 0.0min    : Loading _fit_transform_one from cachedir/joblib/sklearn/pipeline/_fit_transform_one/d4d7cd4af5ea9c66704f4150ac4d4870\n",
      "___________________________________fit_transform_one cache loaded - 0.0s, 0.0min\n",
      "[Memory]0.0s, 0.0min    : Loading _fit_transform_one from cachedir/joblib/sklearn/pipeline/_fit_transform_one/b97243c4d51c0f12dc2d2c34f00be8bb\n",
      "___________________________________fit_transform_one cache loaded - 0.1s, 0.0min\n",
      "[Memory]0.1s, 0.0min    : Loading _fit_transform_one from cachedir/joblib/sklearn/pipeline/_fit_transform_one/a6972cfd8c47be4d6b3110bae52d8361\n",
      "___________________________________fit_transform_one cache loaded - 0.0s, 0.0min\n",
      "[Memory]0.1s, 0.0min    : Loading _fit_transform_one from cachedir/joblib/sklearn/pipeline/_fit_transform_one/b071890c2ad3a394c8aa1cef58ea862e\n",
      "___________________________________fit_transform_one cache loaded - 0.0s, 0.0min\n",
      "[Memory]0.2s, 0.0min    : Loading _fit_transform_one from cachedir/joblib/sklearn/pipeline/_fit_transform_one/8ec6af0116327c36c8105f0d1bd486be\n",
      "___________________________________fit_transform_one cache loaded - 0.0s, 0.0min\n",
      "[Memory]0.0s, 0.0min    : Loading _fit_transform_one from cachedir/joblib/sklearn/pipeline/_fit_transform_one/18bae6cf70d764678e51b41023cad5b5\n",
      "___________________________________fit_transform_one cache loaded - 0.1s, 0.0min\n",
      "[Memory]0.1s, 0.0min    : Loading _fit_transform_one from cachedir/joblib/sklearn/pipeline/_fit_transform_one/712c633f33b2aa0e9a264d5b59eed24b\n",
      "___________________________________fit_transform_one cache loaded - 0.0s, 0.0min\n",
      "[Memory]0.2s, 0.0min    : Loading _fit_transform_one from cachedir/joblib/sklearn/pipeline/_fit_transform_one/0affbc3028f107287e76d403b9efb85d\n",
      "___________________________________fit_transform_one cache loaded - 0.0s, 0.0min\n",
      "[Memory]0.2s, 0.0min    : Loading _fit_transform_one from cachedir/joblib/sklearn/pipeline/_fit_transform_one/3bbd90c1434560567df6589ed2aed644\n",
      "___________________________________fit_transform_one cache loaded - 0.0s, 0.0min\n",
      "[Memory]0.0s, 0.0min    : Loading _fit_transform_one from cachedir/joblib/sklearn/pipeline/_fit_transform_one/30add571c45ec473e2af3e7c264fecc2\n",
      "___________________________________fit_transform_one cache loaded - 0.1s, 0.0min\n",
      "[Memory]0.1s, 0.0min    : Loading _fit_transform_one from cachedir/joblib/sklearn/pipeline/_fit_transform_one/a465b5e8da3957252f87fa1d8c513e18\n",
      "___________________________________fit_transform_one cache loaded - 0.0s, 0.0min\n",
      "[Memory]0.2s, 0.0min    : Loading _fit_transform_one from cachedir/joblib/sklearn/pipeline/_fit_transform_one/f2b942a95374f82fd9ce975093d06ddb\n",
      "___________________________________fit_transform_one cache loaded - 0.0s, 0.0min\n",
      "[Memory]0.2s, 0.0min    : Loading _fit_transform_one from cachedir/joblib/sklearn/pipeline/_fit_transform_one/dbefee78c67ca7a89eb50116fdee292a\n",
      "___________________________________fit_transform_one cache loaded - 0.0s, 0.0min\n",
      "[Memory]0.0s, 0.0min    : Loading _fit_transform_one from cachedir/joblib/sklearn/pipeline/_fit_transform_one/f26f31fe09e4c0baa75d0bd373b11401\n",
      "___________________________________fit_transform_one cache loaded - 0.1s, 0.0min\n",
      "[Memory]0.1s, 0.0min    : Loading _fit_transform_one from cachedir/joblib/sklearn/pipeline/_fit_transform_one/0f5cb12df585e3e9f36fedd7507eefcf\n",
      "___________________________________fit_transform_one cache loaded - 0.0s, 0.0min\n",
      "[Memory]0.1s, 0.0min    : Loading _fit_transform_one from cachedir/joblib/sklearn/pipeline/_fit_transform_one/0410caf36f909ca4236d17b4f30c42b5\n",
      "___________________________________fit_transform_one cache loaded - 0.0s, 0.0min\n",
      "[Memory]0.2s, 0.0min    : Loading _fit_transform_one from cachedir/joblib/sklearn/pipeline/_fit_transform_one/b78448eb8c62c6a2110fd0d37a6e676d\n",
      "___________________________________fit_transform_one cache loaded - 0.0s, 0.0min\n",
      "[Memory]0.0s, 0.0min    : Loading _fit_transform_one from cachedir/joblib/sklearn/pipeline/_fit_transform_one/313ae626aad40e891d5a390f5e2cc778\n",
      "___________________________________fit_transform_one cache loaded - 0.1s, 0.0min\n",
      "[Memory]0.1s, 0.0min    : Loading _fit_transform_one from cachedir/joblib/sklearn/pipeline/_fit_transform_one/7fd6e5010e9282f636fa99592f847e1d\n",
      "___________________________________fit_transform_one cache loaded - 0.0s, 0.0min\n",
      "[Memory]0.2s, 0.0min    : Loading _fit_transform_one from cachedir/joblib/sklearn/pipeline/_fit_transform_one/64d0adc23e8b78ea1462e251492b6fae\n",
      "___________________________________fit_transform_one cache loaded - 0.0s, 0.0min\n",
      "[Memory]0.2s, 0.0min    : Loading _fit_transform_one from cachedir/joblib/sklearn/pipeline/_fit_transform_one/9fdf0a05614e4c0bcf9598cdeb48fe50\n",
      "___________________________________fit_transform_one cache loaded - 0.0s, 0.0min\n",
      "[Memory]0.0s, 0.0min    : Loading _fit_transform_one from cachedir/joblib/sklearn/pipeline/_fit_transform_one/7713bf1406828cf10689487f42cae0b6\n",
      "___________________________________fit_transform_one cache loaded - 0.1s, 0.0min\n",
      "[Memory]0.1s, 0.0min    : Loading _fit_transform_one from cachedir/joblib/sklearn/pipeline/_fit_transform_one/f15bf5cc6fe40d79c32098b1327a1aae\n",
      "___________________________________fit_transform_one cache loaded - 0.0s, 0.0min\n",
      "[Memory]0.2s, 0.0min    : Loading _fit_transform_one from cachedir/joblib/sklearn/pipeline/_fit_transform_one/777d8c1072b0bfba0c98b8966e8b721f\n",
      "___________________________________fit_transform_one cache loaded - 0.0s, 0.0min\n",
      "[Memory]0.2s, 0.0min    : Loading _fit_transform_one from cachedir/joblib/sklearn/pipeline/_fit_transform_one/bdebdf5e4d5cee81a442f9ca03bfbe75\n",
      "___________________________________fit_transform_one cache loaded - 0.0s, 0.0min\n",
      "[Memory]0.0s, 0.0min    : Loading _fit_transform_one from cachedir/joblib/sklearn/pipeline/_fit_transform_one/4df6558bc460a464151592f3f848569e\n",
      "___________________________________fit_transform_one cache loaded - 0.1s, 0.0min\n",
      "[Memory]0.1s, 0.0min    : Loading _fit_transform_one from cachedir/joblib/sklearn/pipeline/_fit_transform_one/ba6b9107379fa716ee78337a7e86c1d4\n",
      "___________________________________fit_transform_one cache loaded - 0.0s, 0.0min\n",
      "[Memory]0.2s, 0.0min    : Loading _fit_transform_one from cachedir/joblib/sklearn/pipeline/_fit_transform_one/cd86dfcca3ea122c211a0db729b82273\n",
      "___________________________________fit_transform_one cache loaded - 0.0s, 0.0min\n",
      "[Memory]0.2s, 0.0min    : Loading _fit_transform_one from cachedir/joblib/sklearn/pipeline/_fit_transform_one/42ba4893099dee15f5a94b7a5c3a579a\n",
      "___________________________________fit_transform_one cache loaded - 0.0s, 0.0min\n",
      "[Memory]0.0s, 0.0min    : Loading _fit_transform_one from cachedir/joblib/sklearn/pipeline/_fit_transform_one/ec4c30f79629b35d78f89675645b9612\n",
      "___________________________________fit_transform_one cache loaded - 0.1s, 0.0min\n",
      "[Memory]0.1s, 0.0min    : Loading _fit_transform_one from cachedir/joblib/sklearn/pipeline/_fit_transform_one/b1829475d4155c2a0f7f89b4a2be9a58\n",
      "___________________________________fit_transform_one cache loaded - 0.0s, 0.0min\n",
      "[Memory]0.2s, 0.0min    : Loading _fit_transform_one from cachedir/joblib/sklearn/pipeline/_fit_transform_one/de0c1e0c64e9ecf182397ba55b760278\n",
      "___________________________________fit_transform_one cache loaded - 0.0s, 0.0min\n",
      "[Memory]0.2s, 0.0min    : Loading _fit_transform_one from cachedir/joblib/sklearn/pipeline/_fit_transform_one/c77f06ba7292f5856f38ba25dfdae2aa\n",
      "___________________________________fit_transform_one cache loaded - 0.0s, 0.0min\n",
      "[Memory]0.0s, 0.0min    : Loading _fit_transform_one from cachedir/joblib/sklearn/pipeline/_fit_transform_one/d5cdd5991f060312bed0c5fa4707c40b\n",
      "___________________________________fit_transform_one cache loaded - 0.1s, 0.0min\n",
      "[Memory]0.1s, 0.0min    : Loading _fit_transform_one from cachedir/joblib/sklearn/pipeline/_fit_transform_one/696b2e96be0a62e14aaa3dfe155ee962\n",
      "___________________________________fit_transform_one cache loaded - 0.0s, 0.0min\n",
      "[Memory]0.2s, 0.0min    : Loading _fit_transform_one from cachedir/joblib/sklearn/pipeline/_fit_transform_one/e0049eb1da59d782b88c0ce44a3f77ee\n",
      "___________________________________fit_transform_one cache loaded - 0.0s, 0.0min\n",
      "[Memory]0.2s, 0.0min    : Loading _fit_transform_one from cachedir/joblib/sklearn/pipeline/_fit_transform_one/76c0c492e145041cda4f7233a9b152a0\n",
      "___________________________________fit_transform_one cache loaded - 0.0s, 0.0min\n",
      "[Memory]0.0s, 0.0min    : Loading _fit_transform_one from cachedir/joblib/sklearn/pipeline/_fit_transform_one/8f4fdc64f5047fc4bddf8729f1554425\n",
      "___________________________________fit_transform_one cache loaded - 0.1s, 0.0min\n",
      "[Memory]0.1s, 0.0min    : Loading _fit_transform_one from cachedir/joblib/sklearn/pipeline/_fit_transform_one/1216df07cd03f5994ef286ad11306c35\n",
      "___________________________________fit_transform_one cache loaded - 0.0s, 0.0min\n",
      "[Memory]0.2s, 0.0min    : Loading _fit_transform_one from cachedir/joblib/sklearn/pipeline/_fit_transform_one/99bebb7a1968dd6c615097525971b64a\n",
      "___________________________________fit_transform_one cache loaded - 0.0s, 0.0min\n",
      "[Memory]0.2s, 0.0min    : Loading _fit_transform_one from cachedir/joblib/sklearn/pipeline/_fit_transform_one/94610b9b6339e36dedc6df2100543395\n",
      "___________________________________fit_transform_one cache loaded - 0.0s, 0.0min\n",
      "[Memory]0.0s, 0.0min    : Loading _fit_transform_one from cachedir/joblib/sklearn/pipeline/_fit_transform_one/b97243c4d51c0f12dc2d2c34f00be8bb\n",
      "___________________________________fit_transform_one cache loaded - 0.1s, 0.0min\n",
      "[Memory]0.1s, 0.0min    : Loading _fit_transform_one from cachedir/joblib/sklearn/pipeline/_fit_transform_one/a6972cfd8c47be4d6b3110bae52d8361\n",
      "___________________________________fit_transform_one cache loaded - 0.0s, 0.0min\n",
      "[Memory]0.2s, 0.0min    : Loading _fit_transform_one from cachedir/joblib/sklearn/pipeline/_fit_transform_one/b071890c2ad3a394c8aa1cef58ea862e\n",
      "___________________________________fit_transform_one cache loaded - 0.0s, 0.0min\n",
      "[Memory]0.2s, 0.0min    : Loading _fit_transform_one from cachedir/joblib/sklearn/pipeline/_fit_transform_one/36243bc9ebc02b6ad12458455855003d\n",
      "___________________________________fit_transform_one cache loaded - 0.0s, 0.0min\n",
      "[Memory]0.0s, 0.0min    : Loading _fit_transform_one from cachedir/joblib/sklearn/pipeline/_fit_transform_one/18bae6cf70d764678e51b41023cad5b5\n",
      "___________________________________fit_transform_one cache loaded - 0.1s, 0.0min\n",
      "[Memory]0.1s, 0.0min    : Loading _fit_transform_one from cachedir/joblib/sklearn/pipeline/_fit_transform_one/712c633f33b2aa0e9a264d5b59eed24b\n",
      "___________________________________fit_transform_one cache loaded - 0.0s, 0.0min\n",
      "[Memory]0.2s, 0.0min    : Loading _fit_transform_one from cachedir/joblib/sklearn/pipeline/_fit_transform_one/0affbc3028f107287e76d403b9efb85d\n",
      "___________________________________fit_transform_one cache loaded - 0.0s, 0.0min\n",
      "[Memory]0.2s, 0.0min    : Loading _fit_transform_one from cachedir/joblib/sklearn/pipeline/_fit_transform_one/64ecb2fac0d9e8619928ed0ef1109f48\n",
      "___________________________________fit_transform_one cache loaded - 0.0s, 0.0min\n",
      "[Memory]0.0s, 0.0min    : Loading _fit_transform_one from cachedir/joblib/sklearn/pipeline/_fit_transform_one/30add571c45ec473e2af3e7c264fecc2\n",
      "___________________________________fit_transform_one cache loaded - 0.1s, 0.0min\n",
      "[Memory]0.1s, 0.0min    : Loading _fit_transform_one from cachedir/joblib/sklearn/pipeline/_fit_transform_one/a465b5e8da3957252f87fa1d8c513e18\n",
      "___________________________________fit_transform_one cache loaded - 0.0s, 0.0min\n",
      "[Memory]0.1s, 0.0min    : Loading _fit_transform_one from cachedir/joblib/sklearn/pipeline/_fit_transform_one/f2b942a95374f82fd9ce975093d06ddb\n",
      "___________________________________fit_transform_one cache loaded - 0.0s, 0.0min\n",
      "[Memory]0.2s, 0.0min    : Loading _fit_transform_one from cachedir/joblib/sklearn/pipeline/_fit_transform_one/1cb032102fb7cc894c1909bda8cc3951\n",
      "___________________________________fit_transform_one cache loaded - 0.0s, 0.0min\n",
      "[Memory]0.0s, 0.0min    : Loading _fit_transform_one from cachedir/joblib/sklearn/pipeline/_fit_transform_one/f26f31fe09e4c0baa75d0bd373b11401\n",
      "___________________________________fit_transform_one cache loaded - 0.1s, 0.0min\n",
      "[Memory]0.1s, 0.0min    : Loading _fit_transform_one from cachedir/joblib/sklearn/pipeline/_fit_transform_one/0f5cb12df585e3e9f36fedd7507eefcf\n",
      "___________________________________fit_transform_one cache loaded - 0.0s, 0.0min\n",
      "[Memory]0.2s, 0.0min    : Loading _fit_transform_one from cachedir/joblib/sklearn/pipeline/_fit_transform_one/0410caf36f909ca4236d17b4f30c42b5\n",
      "___________________________________fit_transform_one cache loaded - 0.0s, 0.0min\n",
      "[Memory]0.2s, 0.0min    : Loading _fit_transform_one from cachedir/joblib/sklearn/pipeline/_fit_transform_one/f79637925fa1ccc5c53595fbf14a8b16\n",
      "___________________________________fit_transform_one cache loaded - 0.0s, 0.0min\n",
      "[Memory]0.0s, 0.0min    : Loading _fit_transform_one from cachedir/joblib/sklearn/pipeline/_fit_transform_one/313ae626aad40e891d5a390f5e2cc778\n",
      "___________________________________fit_transform_one cache loaded - 0.1s, 0.0min\n",
      "[Memory]0.1s, 0.0min    : Loading _fit_transform_one from cachedir/joblib/sklearn/pipeline/_fit_transform_one/7fd6e5010e9282f636fa99592f847e1d\n",
      "___________________________________fit_transform_one cache loaded - 0.0s, 0.0min\n",
      "[Memory]0.2s, 0.0min    : Loading _fit_transform_one from cachedir/joblib/sklearn/pipeline/_fit_transform_one/64d0adc23e8b78ea1462e251492b6fae\n",
      "___________________________________fit_transform_one cache loaded - 0.0s, 0.0min\n",
      "[Memory]0.2s, 0.0min    : Loading _fit_transform_one from cachedir/joblib/sklearn/pipeline/_fit_transform_one/cbc5ad1ea470ab230fd120153bef66bf\n",
      "___________________________________fit_transform_one cache loaded - 0.0s, 0.0min\n",
      "[Memory]0.0s, 0.0min    : Loading _fit_transform_one from cachedir/joblib/sklearn/pipeline/_fit_transform_one/7713bf1406828cf10689487f42cae0b6\n",
      "___________________________________fit_transform_one cache loaded - 0.1s, 0.0min\n",
      "[Memory]0.1s, 0.0min    : Loading _fit_transform_one from cachedir/joblib/sklearn/pipeline/_fit_transform_one/f15bf5cc6fe40d79c32098b1327a1aae\n",
      "___________________________________fit_transform_one cache loaded - 0.0s, 0.0min\n",
      "[Memory]0.2s, 0.0min    : Loading _fit_transform_one from cachedir/joblib/sklearn/pipeline/_fit_transform_one/777d8c1072b0bfba0c98b8966e8b721f\n",
      "___________________________________fit_transform_one cache loaded - 0.0s, 0.0min\n",
      "[Memory]0.2s, 0.0min    : Loading _fit_transform_one from cachedir/joblib/sklearn/pipeline/_fit_transform_one/5d885270ab36c7df83cac26304e74cb3\n",
      "___________________________________fit_transform_one cache loaded - 0.0s, 0.0min\n",
      "[Memory]0.0s, 0.0min    : Loading _fit_transform_one from cachedir/joblib/sklearn/pipeline/_fit_transform_one/4df6558bc460a464151592f3f848569e\n",
      "___________________________________fit_transform_one cache loaded - 0.1s, 0.0min\n",
      "[Memory]0.2s, 0.0min    : Loading _fit_transform_one from cachedir/joblib/sklearn/pipeline/_fit_transform_one/ba6b9107379fa716ee78337a7e86c1d4\n",
      "___________________________________fit_transform_one cache loaded - 0.0s, 0.0min\n",
      "[Memory]0.2s, 0.0min    : Loading _fit_transform_one from cachedir/joblib/sklearn/pipeline/_fit_transform_one/cd86dfcca3ea122c211a0db729b82273\n",
      "___________________________________fit_transform_one cache loaded - 0.0s, 0.0min\n",
      "[Memory]0.2s, 0.0min    : Loading _fit_transform_one from cachedir/joblib/sklearn/pipeline/_fit_transform_one/2f22b6da6d4081d9b669d6c07d75bbca\n",
      "___________________________________fit_transform_one cache loaded - 0.0s, 0.0min\n",
      "[Memory]0.0s, 0.0min    : Loading _fit_transform_one from cachedir/joblib/sklearn/pipeline/_fit_transform_one/ec4c30f79629b35d78f89675645b9612\n",
      "___________________________________fit_transform_one cache loaded - 0.1s, 0.0min\n",
      "[Memory]0.2s, 0.0min    : Loading _fit_transform_one from cachedir/joblib/sklearn/pipeline/_fit_transform_one/b1829475d4155c2a0f7f89b4a2be9a58\n",
      "___________________________________fit_transform_one cache loaded - 0.0s, 0.0min\n",
      "[Memory]0.2s, 0.0min    : Loading _fit_transform_one from cachedir/joblib/sklearn/pipeline/_fit_transform_one/de0c1e0c64e9ecf182397ba55b760278\n",
      "___________________________________fit_transform_one cache loaded - 0.0s, 0.0min\n",
      "[Memory]0.2s, 0.0min    : Loading _fit_transform_one from cachedir/joblib/sklearn/pipeline/_fit_transform_one/5b7176c1f642ace288ba2f47ea8f94eb\n",
      "___________________________________fit_transform_one cache loaded - 0.0s, 0.0min\n",
      "[Memory]0.0s, 0.0min    : Loading _fit_transform_one from cachedir/joblib/sklearn/pipeline/_fit_transform_one/d5cdd5991f060312bed0c5fa4707c40b\n",
      "___________________________________fit_transform_one cache loaded - 0.1s, 0.0min\n",
      "[Memory]0.2s, 0.0min    : Loading _fit_transform_one from cachedir/joblib/sklearn/pipeline/_fit_transform_one/696b2e96be0a62e14aaa3dfe155ee962\n",
      "___________________________________fit_transform_one cache loaded - 0.0s, 0.0min\n",
      "[Memory]0.2s, 0.0min    : Loading _fit_transform_one from cachedir/joblib/sklearn/pipeline/_fit_transform_one/e0049eb1da59d782b88c0ce44a3f77ee\n",
      "___________________________________fit_transform_one cache loaded - 0.0s, 0.0min\n",
      "[Memory]0.2s, 0.0min    : Loading _fit_transform_one from cachedir/joblib/sklearn/pipeline/_fit_transform_one/55749f13f6a475ab4fb634a17612a9cb\n",
      "___________________________________fit_transform_one cache loaded - 0.0s, 0.0min\n",
      "[Memory]0.0s, 0.0min    : Loading _fit_transform_one from cachedir/joblib/sklearn/pipeline/_fit_transform_one/8f4fdc64f5047fc4bddf8729f1554425\n",
      "___________________________________fit_transform_one cache loaded - 0.1s, 0.0min\n",
      "[Memory]0.2s, 0.0min    : Loading _fit_transform_one from cachedir/joblib/sklearn/pipeline/_fit_transform_one/1216df07cd03f5994ef286ad11306c35\n",
      "___________________________________fit_transform_one cache loaded - 0.0s, 0.0min\n",
      "[Memory]0.2s, 0.0min    : Loading _fit_transform_one from cachedir/joblib/sklearn/pipeline/_fit_transform_one/99bebb7a1968dd6c615097525971b64a\n",
      "___________________________________fit_transform_one cache loaded - 0.0s, 0.0min\n",
      "[Memory]0.2s, 0.0min    : Loading _fit_transform_one from cachedir/joblib/sklearn/pipeline/_fit_transform_one/a148a62c720304b246cfa41221c78720\n",
      "___________________________________fit_transform_one cache loaded - 0.0s, 0.0min\n",
      "[Memory]0.0s, 0.0min    : Loading _fit_transform_one from cachedir/joblib/sklearn/pipeline/_fit_transform_one/b97243c4d51c0f12dc2d2c34f00be8bb\n",
      "___________________________________fit_transform_one cache loaded - 0.1s, 0.0min\n",
      "[Memory]0.2s, 0.0min    : Loading _fit_transform_one from cachedir/joblib/sklearn/pipeline/_fit_transform_one/a6972cfd8c47be4d6b3110bae52d8361\n",
      "___________________________________fit_transform_one cache loaded - 0.0s, 0.0min\n",
      "[Memory]0.2s, 0.0min    : Loading _fit_transform_one from cachedir/joblib/sklearn/pipeline/_fit_transform_one/b071890c2ad3a394c8aa1cef58ea862e\n",
      "___________________________________fit_transform_one cache loaded - 0.0s, 0.0min\n",
      "[Memory]0.2s, 0.0min    : Loading _fit_transform_one from cachedir/joblib/sklearn/pipeline/_fit_transform_one/b5468eebdcc613302dcf258ae3b5edaf\n",
      "___________________________________fit_transform_one cache loaded - 0.0s, 0.0min\n",
      "[Memory]0.0s, 0.0min    : Loading _fit_transform_one from cachedir/joblib/sklearn/pipeline/_fit_transform_one/18bae6cf70d764678e51b41023cad5b5\n",
      "___________________________________fit_transform_one cache loaded - 0.1s, 0.0min\n",
      "[Memory]0.2s, 0.0min    : Loading _fit_transform_one from cachedir/joblib/sklearn/pipeline/_fit_transform_one/712c633f33b2aa0e9a264d5b59eed24b\n",
      "___________________________________fit_transform_one cache loaded - 0.0s, 0.0min\n",
      "[Memory]0.2s, 0.0min    : Loading _fit_transform_one from cachedir/joblib/sklearn/pipeline/_fit_transform_one/0affbc3028f107287e76d403b9efb85d\n",
      "___________________________________fit_transform_one cache loaded - 0.0s, 0.0min\n",
      "[Memory]0.2s, 0.0min    : Loading _fit_transform_one from cachedir/joblib/sklearn/pipeline/_fit_transform_one/d48eb3e3ea78865e65635110beac9388\n",
      "___________________________________fit_transform_one cache loaded - 0.0s, 0.0min\n",
      "[Memory]0.0s, 0.0min    : Loading _fit_transform_one from cachedir/joblib/sklearn/pipeline/_fit_transform_one/30add571c45ec473e2af3e7c264fecc2\n",
      "___________________________________fit_transform_one cache loaded - 0.1s, 0.0min\n",
      "[Memory]0.2s, 0.0min    : Loading _fit_transform_one from cachedir/joblib/sklearn/pipeline/_fit_transform_one/a465b5e8da3957252f87fa1d8c513e18\n",
      "___________________________________fit_transform_one cache loaded - 0.0s, 0.0min\n",
      "[Memory]0.2s, 0.0min    : Loading _fit_transform_one from cachedir/joblib/sklearn/pipeline/_fit_transform_one/f2b942a95374f82fd9ce975093d06ddb\n",
      "___________________________________fit_transform_one cache loaded - 0.0s, 0.0min\n",
      "[Memory]0.2s, 0.0min    : Loading _fit_transform_one from cachedir/joblib/sklearn/pipeline/_fit_transform_one/45c801a3e8cfa04ceecd4aacea141492\n",
      "___________________________________fit_transform_one cache loaded - 0.0s, 0.0min\n",
      "[Memory]0.0s, 0.0min    : Loading _fit_transform_one from cachedir/joblib/sklearn/pipeline/_fit_transform_one/f26f31fe09e4c0baa75d0bd373b11401\n",
      "___________________________________fit_transform_one cache loaded - 0.1s, 0.0min\n",
      "[Memory]0.2s, 0.0min    : Loading _fit_transform_one from cachedir/joblib/sklearn/pipeline/_fit_transform_one/0f5cb12df585e3e9f36fedd7507eefcf\n",
      "___________________________________fit_transform_one cache loaded - 0.0s, 0.0min\n",
      "[Memory]0.2s, 0.0min    : Loading _fit_transform_one from cachedir/joblib/sklearn/pipeline/_fit_transform_one/0410caf36f909ca4236d17b4f30c42b5\n",
      "___________________________________fit_transform_one cache loaded - 0.0s, 0.0min\n",
      "[Memory]0.2s, 0.0min    : Loading _fit_transform_one from cachedir/joblib/sklearn/pipeline/_fit_transform_one/7064570afe46a0458d9bb2458c31c37d\n",
      "___________________________________fit_transform_one cache loaded - 0.0s, 0.0min\n",
      "[Memory]0.0s, 0.0min    : Loading _fit_transform_one from cachedir/joblib/sklearn/pipeline/_fit_transform_one/313ae626aad40e891d5a390f5e2cc778\n",
      "___________________________________fit_transform_one cache loaded - 0.1s, 0.0min\n",
      "[Memory]0.2s, 0.0min    : Loading _fit_transform_one from cachedir/joblib/sklearn/pipeline/_fit_transform_one/7fd6e5010e9282f636fa99592f847e1d\n",
      "___________________________________fit_transform_one cache loaded - 0.0s, 0.0min\n",
      "[Memory]0.2s, 0.0min    : Loading _fit_transform_one from cachedir/joblib/sklearn/pipeline/_fit_transform_one/64d0adc23e8b78ea1462e251492b6fae\n",
      "___________________________________fit_transform_one cache loaded - 0.0s, 0.0min\n",
      "[Memory]0.2s, 0.0min    : Loading _fit_transform_one from cachedir/joblib/sklearn/pipeline/_fit_transform_one/7a4ef5d0bda83a2125475c43e5ae0710\n",
      "___________________________________fit_transform_one cache loaded - 0.0s, 0.0min\n",
      "[Memory]0.0s, 0.0min    : Loading _fit_transform_one from cachedir/joblib/sklearn/pipeline/_fit_transform_one/7713bf1406828cf10689487f42cae0b6\n",
      "___________________________________fit_transform_one cache loaded - 0.1s, 0.0min\n",
      "[Memory]0.2s, 0.0min    : Loading _fit_transform_one from cachedir/joblib/sklearn/pipeline/_fit_transform_one/f15bf5cc6fe40d79c32098b1327a1aae\n",
      "___________________________________fit_transform_one cache loaded - 0.0s, 0.0min\n",
      "[Memory]0.2s, 0.0min    : Loading _fit_transform_one from cachedir/joblib/sklearn/pipeline/_fit_transform_one/777d8c1072b0bfba0c98b8966e8b721f\n",
      "___________________________________fit_transform_one cache loaded - 0.0s, 0.0min\n",
      "[Memory]0.2s, 0.0min    : Loading _fit_transform_one from cachedir/joblib/sklearn/pipeline/_fit_transform_one/0530433906a815d5ef2de9b379f63be3\n",
      "___________________________________fit_transform_one cache loaded - 0.0s, 0.0min\n",
      "[Memory]0.0s, 0.0min    : Loading _fit_transform_one from cachedir/joblib/sklearn/pipeline/_fit_transform_one/4df6558bc460a464151592f3f848569e\n",
      "___________________________________fit_transform_one cache loaded - 0.1s, 0.0min\n",
      "[Memory]0.1s, 0.0min    : Loading _fit_transform_one from cachedir/joblib/sklearn/pipeline/_fit_transform_one/ba6b9107379fa716ee78337a7e86c1d4\n",
      "___________________________________fit_transform_one cache loaded - 0.0s, 0.0min\n",
      "[Memory]0.2s, 0.0min    : Loading _fit_transform_one from cachedir/joblib/sklearn/pipeline/_fit_transform_one/cd86dfcca3ea122c211a0db729b82273\n",
      "___________________________________fit_transform_one cache loaded - 0.0s, 0.0min\n",
      "[Memory]0.2s, 0.0min    : Loading _fit_transform_one from cachedir/joblib/sklearn/pipeline/_fit_transform_one/44b99c9f70e4358221e3e52d06516fe3\n",
      "___________________________________fit_transform_one cache loaded - 0.0s, 0.0min\n",
      "[Memory]0.0s, 0.0min    : Loading _fit_transform_one from cachedir/joblib/sklearn/pipeline/_fit_transform_one/ec4c30f79629b35d78f89675645b9612\n",
      "___________________________________fit_transform_one cache loaded - 0.1s, 0.0min\n",
      "[Memory]0.1s, 0.0min    : Loading _fit_transform_one from cachedir/joblib/sklearn/pipeline/_fit_transform_one/b1829475d4155c2a0f7f89b4a2be9a58\n",
      "___________________________________fit_transform_one cache loaded - 0.0s, 0.0min\n",
      "[Memory]0.2s, 0.0min    : Loading _fit_transform_one from cachedir/joblib/sklearn/pipeline/_fit_transform_one/de0c1e0c64e9ecf182397ba55b760278\n",
      "___________________________________fit_transform_one cache loaded - 0.0s, 0.0min\n",
      "[Memory]0.2s, 0.0min    : Loading _fit_transform_one from cachedir/joblib/sklearn/pipeline/_fit_transform_one/d9bc4146e8b76eb553c347210e0d6439\n",
      "___________________________________fit_transform_one cache loaded - 0.0s, 0.0min\n",
      "[Memory]0.0s, 0.0min    : Loading _fit_transform_one from cachedir/joblib/sklearn/pipeline/_fit_transform_one/d5cdd5991f060312bed0c5fa4707c40b\n",
      "___________________________________fit_transform_one cache loaded - 0.1s, 0.0min\n",
      "[Memory]0.1s, 0.0min    : Loading _fit_transform_one from cachedir/joblib/sklearn/pipeline/_fit_transform_one/696b2e96be0a62e14aaa3dfe155ee962\n",
      "___________________________________fit_transform_one cache loaded - 0.0s, 0.0min\n",
      "[Memory]0.2s, 0.0min    : Loading _fit_transform_one from cachedir/joblib/sklearn/pipeline/_fit_transform_one/e0049eb1da59d782b88c0ce44a3f77ee\n",
      "___________________________________fit_transform_one cache loaded - 0.0s, 0.0min\n",
      "[Memory]0.2s, 0.0min    : Loading _fit_transform_one from cachedir/joblib/sklearn/pipeline/_fit_transform_one/b26b7cf3a969c99b0510b550ec537b6c\n",
      "___________________________________fit_transform_one cache loaded - 0.0s, 0.0min\n",
      "[Memory]0.0s, 0.0min    : Loading _fit_transform_one from cachedir/joblib/sklearn/pipeline/_fit_transform_one/8f4fdc64f5047fc4bddf8729f1554425\n",
      "___________________________________fit_transform_one cache loaded - 0.1s, 0.0min\n",
      "[Memory]0.1s, 0.0min    : Loading _fit_transform_one from cachedir/joblib/sklearn/pipeline/_fit_transform_one/1216df07cd03f5994ef286ad11306c35\n",
      "___________________________________fit_transform_one cache loaded - 0.0s, 0.0min\n",
      "[Memory]0.2s, 0.0min    : Loading _fit_transform_one from cachedir/joblib/sklearn/pipeline/_fit_transform_one/99bebb7a1968dd6c615097525971b64a\n",
      "___________________________________fit_transform_one cache loaded - 0.0s, 0.0min\n",
      "[Memory]0.2s, 0.0min    : Loading _fit_transform_one from cachedir/joblib/sklearn/pipeline/_fit_transform_one/dc4c907eca4fb58d37cc4d6149bb9d26\n",
      "___________________________________fit_transform_one cache loaded - 0.0s, 0.0min\n",
      "[Memory]0.0s, 0.0min    : Loading _fit_transform_one from cachedir/joblib/sklearn/pipeline/_fit_transform_one/b97243c4d51c0f12dc2d2c34f00be8bb\n",
      "___________________________________fit_transform_one cache loaded - 0.1s, 0.0min\n",
      "[Memory]0.1s, 0.0min    : Loading _fit_transform_one from cachedir/joblib/sklearn/pipeline/_fit_transform_one/a6972cfd8c47be4d6b3110bae52d8361\n",
      "___________________________________fit_transform_one cache loaded - 0.0s, 0.0min\n",
      "[Memory]0.1s, 0.0min    : Loading _fit_transform_one from cachedir/joblib/sklearn/pipeline/_fit_transform_one/b071890c2ad3a394c8aa1cef58ea862e\n",
      "___________________________________fit_transform_one cache loaded - 0.0s, 0.0min\n",
      "[Memory]0.2s, 0.0min    : Loading _fit_transform_one from cachedir/joblib/sklearn/pipeline/_fit_transform_one/f7854e560158edb5817efd1c3c383ea6\n",
      "___________________________________fit_transform_one cache loaded - 0.0s, 0.0min\n",
      "[Memory]0.0s, 0.0min    : Loading _fit_transform_one from cachedir/joblib/sklearn/pipeline/_fit_transform_one/18bae6cf70d764678e51b41023cad5b5\n",
      "___________________________________fit_transform_one cache loaded - 0.1s, 0.0min\n",
      "[Memory]0.1s, 0.0min    : Loading _fit_transform_one from cachedir/joblib/sklearn/pipeline/_fit_transform_one/712c633f33b2aa0e9a264d5b59eed24b\n",
      "___________________________________fit_transform_one cache loaded - 0.0s, 0.0min\n",
      "[Memory]0.2s, 0.0min    : Loading _fit_transform_one from cachedir/joblib/sklearn/pipeline/_fit_transform_one/0affbc3028f107287e76d403b9efb85d\n",
      "___________________________________fit_transform_one cache loaded - 0.0s, 0.0min\n",
      "[Memory]0.2s, 0.0min    : Loading _fit_transform_one from cachedir/joblib/sklearn/pipeline/_fit_transform_one/72b192669695cc8e6fba1143d29551c4\n",
      "___________________________________fit_transform_one cache loaded - 0.0s, 0.0min\n",
      "[Memory]0.0s, 0.0min    : Loading _fit_transform_one from cachedir/joblib/sklearn/pipeline/_fit_transform_one/30add571c45ec473e2af3e7c264fecc2\n",
      "___________________________________fit_transform_one cache loaded - 0.1s, 0.0min\n",
      "[Memory]0.1s, 0.0min    : Loading _fit_transform_one from cachedir/joblib/sklearn/pipeline/_fit_transform_one/a465b5e8da3957252f87fa1d8c513e18\n",
      "___________________________________fit_transform_one cache loaded - 0.0s, 0.0min\n",
      "[Memory]0.2s, 0.0min    : Loading _fit_transform_one from cachedir/joblib/sklearn/pipeline/_fit_transform_one/f2b942a95374f82fd9ce975093d06ddb\n",
      "___________________________________fit_transform_one cache loaded - 0.0s, 0.0min\n",
      "[Memory]0.2s, 0.0min    : Loading _fit_transform_one from cachedir/joblib/sklearn/pipeline/_fit_transform_one/a69b8e54680039f7a8d1c9f55cc76ce5\n",
      "___________________________________fit_transform_one cache loaded - 0.0s, 0.0min\n",
      "[Memory]0.0s, 0.0min    : Loading _fit_transform_one from cachedir/joblib/sklearn/pipeline/_fit_transform_one/f26f31fe09e4c0baa75d0bd373b11401\n",
      "___________________________________fit_transform_one cache loaded - 0.1s, 0.0min\n",
      "[Memory]0.1s, 0.0min    : Loading _fit_transform_one from cachedir/joblib/sklearn/pipeline/_fit_transform_one/0f5cb12df585e3e9f36fedd7507eefcf\n",
      "___________________________________fit_transform_one cache loaded - 0.0s, 0.0min\n",
      "[Memory]0.2s, 0.0min    : Loading _fit_transform_one from cachedir/joblib/sklearn/pipeline/_fit_transform_one/0410caf36f909ca4236d17b4f30c42b5\n",
      "___________________________________fit_transform_one cache loaded - 0.0s, 0.0min\n",
      "[Memory]0.2s, 0.0min    : Loading _fit_transform_one from cachedir/joblib/sklearn/pipeline/_fit_transform_one/dde75edd027514aaf339cd757200f8fa\n",
      "___________________________________fit_transform_one cache loaded - 0.0s, 0.0min\n",
      "[Memory]0.0s, 0.0min    : Loading _fit_transform_one from cachedir/joblib/sklearn/pipeline/_fit_transform_one/313ae626aad40e891d5a390f5e2cc778\n",
      "___________________________________fit_transform_one cache loaded - 0.1s, 0.0min\n",
      "[Memory]0.1s, 0.0min    : Loading _fit_transform_one from cachedir/joblib/sklearn/pipeline/_fit_transform_one/7fd6e5010e9282f636fa99592f847e1d\n",
      "___________________________________fit_transform_one cache loaded - 0.0s, 0.0min\n",
      "[Memory]0.1s, 0.0min    : Loading _fit_transform_one from cachedir/joblib/sklearn/pipeline/_fit_transform_one/64d0adc23e8b78ea1462e251492b6fae\n",
      "___________________________________fit_transform_one cache loaded - 0.0s, 0.0min\n",
      "[Memory]0.2s, 0.0min    : Loading _fit_transform_one from cachedir/joblib/sklearn/pipeline/_fit_transform_one/834ecf00a1b74901e6a146bfbac76455\n",
      "___________________________________fit_transform_one cache loaded - 0.0s, 0.0min\n",
      "[Memory]0.0s, 0.0min    : Loading _fit_transform_one from cachedir/joblib/sklearn/pipeline/_fit_transform_one/7713bf1406828cf10689487f42cae0b6\n",
      "___________________________________fit_transform_one cache loaded - 0.1s, 0.0min\n",
      "[Memory]0.1s, 0.0min    : Loading _fit_transform_one from cachedir/joblib/sklearn/pipeline/_fit_transform_one/f15bf5cc6fe40d79c32098b1327a1aae\n",
      "___________________________________fit_transform_one cache loaded - 0.0s, 0.0min\n",
      "[Memory]0.2s, 0.0min    : Loading _fit_transform_one from cachedir/joblib/sklearn/pipeline/_fit_transform_one/777d8c1072b0bfba0c98b8966e8b721f\n",
      "___________________________________fit_transform_one cache loaded - 0.0s, 0.0min\n",
      "[Memory]0.2s, 0.0min    : Loading _fit_transform_one from cachedir/joblib/sklearn/pipeline/_fit_transform_one/0dd989d061b1fa3e6e9b04217017a811\n",
      "___________________________________fit_transform_one cache loaded - 0.0s, 0.0min\n",
      "[Memory]0.0s, 0.0min    : Loading _fit_transform_one from cachedir/joblib/sklearn/pipeline/_fit_transform_one/4df6558bc460a464151592f3f848569e\n",
      "___________________________________fit_transform_one cache loaded - 0.1s, 0.0min\n",
      "[Memory]0.2s, 0.0min    : Loading _fit_transform_one from cachedir/joblib/sklearn/pipeline/_fit_transform_one/ba6b9107379fa716ee78337a7e86c1d4\n",
      "___________________________________fit_transform_one cache loaded - 0.0s, 0.0min\n",
      "[Memory]0.2s, 0.0min    : Loading _fit_transform_one from cachedir/joblib/sklearn/pipeline/_fit_transform_one/cd86dfcca3ea122c211a0db729b82273\n",
      "___________________________________fit_transform_one cache loaded - 0.0s, 0.0min\n",
      "[Memory]0.2s, 0.0min    : Loading _fit_transform_one from cachedir/joblib/sklearn/pipeline/_fit_transform_one/33b346e5e50d0ef705bf3edb46f08d5c\n",
      "___________________________________fit_transform_one cache loaded - 0.0s, 0.0min\n",
      "[Memory]0.0s, 0.0min    : Loading _fit_transform_one from cachedir/joblib/sklearn/pipeline/_fit_transform_one/ec4c30f79629b35d78f89675645b9612\n",
      "___________________________________fit_transform_one cache loaded - 0.1s, 0.0min\n",
      "[Memory]0.2s, 0.0min    : Loading _fit_transform_one from cachedir/joblib/sklearn/pipeline/_fit_transform_one/b1829475d4155c2a0f7f89b4a2be9a58\n",
      "___________________________________fit_transform_one cache loaded - 0.0s, 0.0min\n",
      "[Memory]0.2s, 0.0min    : Loading _fit_transform_one from cachedir/joblib/sklearn/pipeline/_fit_transform_one/de0c1e0c64e9ecf182397ba55b760278\n",
      "___________________________________fit_transform_one cache loaded - 0.0s, 0.0min\n",
      "[Memory]0.2s, 0.0min    : Loading _fit_transform_one from cachedir/joblib/sklearn/pipeline/_fit_transform_one/b1f4e986533d37d184177962bd0eaf57\n",
      "___________________________________fit_transform_one cache loaded - 0.0s, 0.0min\n",
      "[Memory]0.0s, 0.0min    : Loading _fit_transform_one from cachedir/joblib/sklearn/pipeline/_fit_transform_one/d5cdd5991f060312bed0c5fa4707c40b\n",
      "___________________________________fit_transform_one cache loaded - 0.1s, 0.0min\n",
      "[Memory]0.2s, 0.0min    : Loading _fit_transform_one from cachedir/joblib/sklearn/pipeline/_fit_transform_one/696b2e96be0a62e14aaa3dfe155ee962\n",
      "___________________________________fit_transform_one cache loaded - 0.0s, 0.0min\n",
      "[Memory]0.2s, 0.0min    : Loading _fit_transform_one from cachedir/joblib/sklearn/pipeline/_fit_transform_one/e0049eb1da59d782b88c0ce44a3f77ee\n",
      "___________________________________fit_transform_one cache loaded - 0.0s, 0.0min\n",
      "[Memory]0.2s, 0.0min    : Loading _fit_transform_one from cachedir/joblib/sklearn/pipeline/_fit_transform_one/37f15825865a88570291b13c6c01679c\n",
      "___________________________________fit_transform_one cache loaded - 0.0s, 0.0min\n",
      "[Memory]0.0s, 0.0min    : Loading _fit_transform_one from cachedir/joblib/sklearn/pipeline/_fit_transform_one/8f4fdc64f5047fc4bddf8729f1554425\n",
      "___________________________________fit_transform_one cache loaded - 0.1s, 0.0min\n",
      "[Memory]0.2s, 0.0min    : Loading _fit_transform_one from cachedir/joblib/sklearn/pipeline/_fit_transform_one/1216df07cd03f5994ef286ad11306c35\n",
      "___________________________________fit_transform_one cache loaded - 0.0s, 0.0min\n",
      "[Memory]0.2s, 0.0min    : Loading _fit_transform_one from cachedir/joblib/sklearn/pipeline/_fit_transform_one/99bebb7a1968dd6c615097525971b64a\n",
      "___________________________________fit_transform_one cache loaded - 0.0s, 0.0min\n",
      "[Memory]0.2s, 0.0min    : Loading _fit_transform_one from cachedir/joblib/sklearn/pipeline/_fit_transform_one/d4d7cd4af5ea9c66704f4150ac4d4870\n",
      "___________________________________fit_transform_one cache loaded - 0.0s, 0.0min\n",
      "[Memory]0.0s, 0.0min    : Loading _fit_transform_one from cachedir/joblib/sklearn/pipeline/_fit_transform_one/b97243c4d51c0f12dc2d2c34f00be8bb\n",
      "___________________________________fit_transform_one cache loaded - 0.1s, 0.0min\n",
      "[Memory]0.2s, 0.0min    : Loading _fit_transform_one from cachedir/joblib/sklearn/pipeline/_fit_transform_one/a6972cfd8c47be4d6b3110bae52d8361\n",
      "___________________________________fit_transform_one cache loaded - 0.0s, 0.0min\n",
      "[Memory]0.2s, 0.0min    : Loading _fit_transform_one from cachedir/joblib/sklearn/pipeline/_fit_transform_one/b071890c2ad3a394c8aa1cef58ea862e\n",
      "___________________________________fit_transform_one cache loaded - 0.0s, 0.0min\n",
      "[Memory]0.2s, 0.0min    : Loading _fit_transform_one from cachedir/joblib/sklearn/pipeline/_fit_transform_one/8ec6af0116327c36c8105f0d1bd486be\n",
      "___________________________________fit_transform_one cache loaded - 0.0s, 0.0min\n",
      "[Memory]0.0s, 0.0min    : Loading _fit_transform_one from cachedir/joblib/sklearn/pipeline/_fit_transform_one/18bae6cf70d764678e51b41023cad5b5\n",
      "___________________________________fit_transform_one cache loaded - 0.1s, 0.0min\n",
      "[Memory]0.2s, 0.0min    : Loading _fit_transform_one from cachedir/joblib/sklearn/pipeline/_fit_transform_one/712c633f33b2aa0e9a264d5b59eed24b\n",
      "___________________________________fit_transform_one cache loaded - 0.0s, 0.0min\n",
      "[Memory]0.2s, 0.0min    : Loading _fit_transform_one from cachedir/joblib/sklearn/pipeline/_fit_transform_one/0affbc3028f107287e76d403b9efb85d\n",
      "___________________________________fit_transform_one cache loaded - 0.0s, 0.0min\n",
      "[Memory]0.2s, 0.0min    : Loading _fit_transform_one from cachedir/joblib/sklearn/pipeline/_fit_transform_one/3bbd90c1434560567df6589ed2aed644\n",
      "___________________________________fit_transform_one cache loaded - 0.0s, 0.0min\n",
      "[Memory]0.0s, 0.0min    : Loading _fit_transform_one from cachedir/joblib/sklearn/pipeline/_fit_transform_one/30add571c45ec473e2af3e7c264fecc2\n",
      "___________________________________fit_transform_one cache loaded - 0.1s, 0.0min\n",
      "[Memory]0.2s, 0.0min    : Loading _fit_transform_one from cachedir/joblib/sklearn/pipeline/_fit_transform_one/a465b5e8da3957252f87fa1d8c513e18\n",
      "___________________________________fit_transform_one cache loaded - 0.0s, 0.0min\n",
      "[Memory]0.2s, 0.0min    : Loading _fit_transform_one from cachedir/joblib/sklearn/pipeline/_fit_transform_one/f2b942a95374f82fd9ce975093d06ddb\n",
      "___________________________________fit_transform_one cache loaded - 0.0s, 0.0min\n",
      "[Memory]0.2s, 0.0min    : Loading _fit_transform_one from cachedir/joblib/sklearn/pipeline/_fit_transform_one/dbefee78c67ca7a89eb50116fdee292a\n",
      "___________________________________fit_transform_one cache loaded - 0.0s, 0.0min\n",
      "[Memory]0.0s, 0.0min    : Loading _fit_transform_one from cachedir/joblib/sklearn/pipeline/_fit_transform_one/f26f31fe09e4c0baa75d0bd373b11401\n",
      "___________________________________fit_transform_one cache loaded - 0.1s, 0.0min\n",
      "[Memory]0.2s, 0.0min    : Loading _fit_transform_one from cachedir/joblib/sklearn/pipeline/_fit_transform_one/0f5cb12df585e3e9f36fedd7507eefcf\n",
      "___________________________________fit_transform_one cache loaded - 0.0s, 0.0min\n",
      "[Memory]0.2s, 0.0min    : Loading _fit_transform_one from cachedir/joblib/sklearn/pipeline/_fit_transform_one/0410caf36f909ca4236d17b4f30c42b5\n",
      "___________________________________fit_transform_one cache loaded - 0.0s, 0.0min\n",
      "[Memory]0.2s, 0.0min    : Loading _fit_transform_one from cachedir/joblib/sklearn/pipeline/_fit_transform_one/b78448eb8c62c6a2110fd0d37a6e676d\n",
      "___________________________________fit_transform_one cache loaded - 0.0s, 0.0min\n",
      "[Memory]0.0s, 0.0min    : Loading _fit_transform_one from cachedir/joblib/sklearn/pipeline/_fit_transform_one/313ae626aad40e891d5a390f5e2cc778\n",
      "___________________________________fit_transform_one cache loaded - 0.1s, 0.0min\n",
      "[Memory]0.2s, 0.0min    : Loading _fit_transform_one from cachedir/joblib/sklearn/pipeline/_fit_transform_one/7fd6e5010e9282f636fa99592f847e1d\n",
      "___________________________________fit_transform_one cache loaded - 0.0s, 0.0min\n",
      "[Memory]0.2s, 0.0min    : Loading _fit_transform_one from cachedir/joblib/sklearn/pipeline/_fit_transform_one/64d0adc23e8b78ea1462e251492b6fae\n",
      "___________________________________fit_transform_one cache loaded - 0.0s, 0.0min\n",
      "[Memory]0.2s, 0.0min    : Loading _fit_transform_one from cachedir/joblib/sklearn/pipeline/_fit_transform_one/9fdf0a05614e4c0bcf9598cdeb48fe50\n",
      "___________________________________fit_transform_one cache loaded - 0.0s, 0.0min\n",
      "[Memory]0.0s, 0.0min    : Loading _fit_transform_one from cachedir/joblib/sklearn/pipeline/_fit_transform_one/7713bf1406828cf10689487f42cae0b6\n",
      "___________________________________fit_transform_one cache loaded - 0.1s, 0.0min\n",
      "[Memory]0.2s, 0.0min    : Loading _fit_transform_one from cachedir/joblib/sklearn/pipeline/_fit_transform_one/f15bf5cc6fe40d79c32098b1327a1aae\n",
      "___________________________________fit_transform_one cache loaded - 0.0s, 0.0min\n",
      "[Memory]0.2s, 0.0min    : Loading _fit_transform_one from cachedir/joblib/sklearn/pipeline/_fit_transform_one/777d8c1072b0bfba0c98b8966e8b721f\n",
      "___________________________________fit_transform_one cache loaded - 0.0s, 0.0min\n",
      "[Memory]0.2s, 0.0min    : Loading _fit_transform_one from cachedir/joblib/sklearn/pipeline/_fit_transform_one/bdebdf5e4d5cee81a442f9ca03bfbe75\n",
      "___________________________________fit_transform_one cache loaded - 0.0s, 0.0min\n",
      "[Memory]0.0s, 0.0min    : Loading _fit_transform_one from cachedir/joblib/sklearn/pipeline/_fit_transform_one/4df6558bc460a464151592f3f848569e\n",
      "___________________________________fit_transform_one cache loaded - 0.1s, 0.0min\n",
      "[Memory]0.1s, 0.0min    : Loading _fit_transform_one from cachedir/joblib/sklearn/pipeline/_fit_transform_one/ba6b9107379fa716ee78337a7e86c1d4\n",
      "___________________________________fit_transform_one cache loaded - 0.0s, 0.0min\n",
      "[Memory]0.2s, 0.0min    : Loading _fit_transform_one from cachedir/joblib/sklearn/pipeline/_fit_transform_one/cd86dfcca3ea122c211a0db729b82273\n",
      "___________________________________fit_transform_one cache loaded - 0.0s, 0.0min\n",
      "[Memory]0.2s, 0.0min    : Loading _fit_transform_one from cachedir/joblib/sklearn/pipeline/_fit_transform_one/42ba4893099dee15f5a94b7a5c3a579a\n",
      "___________________________________fit_transform_one cache loaded - 0.0s, 0.0min\n",
      "[Memory]0.0s, 0.0min    : Loading _fit_transform_one from cachedir/joblib/sklearn/pipeline/_fit_transform_one/ec4c30f79629b35d78f89675645b9612\n",
      "___________________________________fit_transform_one cache loaded - 0.1s, 0.0min\n",
      "[Memory]0.1s, 0.0min    : Loading _fit_transform_one from cachedir/joblib/sklearn/pipeline/_fit_transform_one/b1829475d4155c2a0f7f89b4a2be9a58\n",
      "___________________________________fit_transform_one cache loaded - 0.0s, 0.0min\n",
      "[Memory]0.2s, 0.0min    : Loading _fit_transform_one from cachedir/joblib/sklearn/pipeline/_fit_transform_one/de0c1e0c64e9ecf182397ba55b760278\n",
      "___________________________________fit_transform_one cache loaded - 0.0s, 0.0min\n",
      "[Memory]0.2s, 0.0min    : Loading _fit_transform_one from cachedir/joblib/sklearn/pipeline/_fit_transform_one/c77f06ba7292f5856f38ba25dfdae2aa\n",
      "___________________________________fit_transform_one cache loaded - 0.0s, 0.0min\n",
      "[Memory]0.0s, 0.0min    : Loading _fit_transform_one from cachedir/joblib/sklearn/pipeline/_fit_transform_one/d5cdd5991f060312bed0c5fa4707c40b\n",
      "___________________________________fit_transform_one cache loaded - 0.1s, 0.0min\n",
      "[Memory]0.1s, 0.0min    : Loading _fit_transform_one from cachedir/joblib/sklearn/pipeline/_fit_transform_one/696b2e96be0a62e14aaa3dfe155ee962\n",
      "___________________________________fit_transform_one cache loaded - 0.0s, 0.0min\n",
      "[Memory]0.2s, 0.0min    : Loading _fit_transform_one from cachedir/joblib/sklearn/pipeline/_fit_transform_one/e0049eb1da59d782b88c0ce44a3f77ee\n",
      "___________________________________fit_transform_one cache loaded - 0.0s, 0.0min\n",
      "[Memory]0.2s, 0.0min    : Loading _fit_transform_one from cachedir/joblib/sklearn/pipeline/_fit_transform_one/76c0c492e145041cda4f7233a9b152a0\n",
      "___________________________________fit_transform_one cache loaded - 0.0s, 0.0min\n",
      "[Memory]0.0s, 0.0min    : Loading _fit_transform_one from cachedir/joblib/sklearn/pipeline/_fit_transform_one/8f4fdc64f5047fc4bddf8729f1554425\n",
      "___________________________________fit_transform_one cache loaded - 0.1s, 0.0min\n",
      "[Memory]0.1s, 0.0min    : Loading _fit_transform_one from cachedir/joblib/sklearn/pipeline/_fit_transform_one/1216df07cd03f5994ef286ad11306c35\n",
      "___________________________________fit_transform_one cache loaded - 0.0s, 0.0min\n",
      "[Memory]0.2s, 0.0min    : Loading _fit_transform_one from cachedir/joblib/sklearn/pipeline/_fit_transform_one/99bebb7a1968dd6c615097525971b64a\n",
      "___________________________________fit_transform_one cache loaded - 0.0s, 0.0min\n",
      "[Memory]0.2s, 0.0min    : Loading _fit_transform_one from cachedir/joblib/sklearn/pipeline/_fit_transform_one/94610b9b6339e36dedc6df2100543395\n",
      "___________________________________fit_transform_one cache loaded - 0.0s, 0.0min\n",
      "[Memory]0.0s, 0.0min    : Loading _fit_transform_one from cachedir/joblib/sklearn/pipeline/_fit_transform_one/b97243c4d51c0f12dc2d2c34f00be8bb\n",
      "___________________________________fit_transform_one cache loaded - 0.1s, 0.0min\n",
      "[Memory]0.1s, 0.0min    : Loading _fit_transform_one from cachedir/joblib/sklearn/pipeline/_fit_transform_one/a6972cfd8c47be4d6b3110bae52d8361\n",
      "___________________________________fit_transform_one cache loaded - 0.0s, 0.0min\n",
      "[Memory]0.2s, 0.0min    : Loading _fit_transform_one from cachedir/joblib/sklearn/pipeline/_fit_transform_one/b071890c2ad3a394c8aa1cef58ea862e\n",
      "___________________________________fit_transform_one cache loaded - 0.0s, 0.0min\n",
      "[Memory]0.2s, 0.0min    : Loading _fit_transform_one from cachedir/joblib/sklearn/pipeline/_fit_transform_one/36243bc9ebc02b6ad12458455855003d\n",
      "___________________________________fit_transform_one cache loaded - 0.0s, 0.0min\n",
      "[Memory]0.0s, 0.0min    : Loading _fit_transform_one from cachedir/joblib/sklearn/pipeline/_fit_transform_one/18bae6cf70d764678e51b41023cad5b5\n",
      "___________________________________fit_transform_one cache loaded - 0.1s, 0.0min\n",
      "[Memory]0.1s, 0.0min    : Loading _fit_transform_one from cachedir/joblib/sklearn/pipeline/_fit_transform_one/712c633f33b2aa0e9a264d5b59eed24b\n",
      "___________________________________fit_transform_one cache loaded - 0.0s, 0.0min\n",
      "[Memory]0.1s, 0.0min    : Loading _fit_transform_one from cachedir/joblib/sklearn/pipeline/_fit_transform_one/0affbc3028f107287e76d403b9efb85d\n",
      "___________________________________fit_transform_one cache loaded - 0.0s, 0.0min\n",
      "[Memory]0.2s, 0.0min    : Loading _fit_transform_one from cachedir/joblib/sklearn/pipeline/_fit_transform_one/64ecb2fac0d9e8619928ed0ef1109f48\n",
      "___________________________________fit_transform_one cache loaded - 0.0s, 0.0min\n",
      "[Memory]0.0s, 0.0min    : Loading _fit_transform_one from cachedir/joblib/sklearn/pipeline/_fit_transform_one/30add571c45ec473e2af3e7c264fecc2\n",
      "___________________________________fit_transform_one cache loaded - 0.1s, 0.0min\n",
      "[Memory]0.1s, 0.0min    : Loading _fit_transform_one from cachedir/joblib/sklearn/pipeline/_fit_transform_one/a465b5e8da3957252f87fa1d8c513e18\n",
      "___________________________________fit_transform_one cache loaded - 0.0s, 0.0min\n",
      "[Memory]0.1s, 0.0min    : Loading _fit_transform_one from cachedir/joblib/sklearn/pipeline/_fit_transform_one/f2b942a95374f82fd9ce975093d06ddb\n",
      "___________________________________fit_transform_one cache loaded - 0.0s, 0.0min\n",
      "[Memory]0.2s, 0.0min    : Loading _fit_transform_one from cachedir/joblib/sklearn/pipeline/_fit_transform_one/1cb032102fb7cc894c1909bda8cc3951\n",
      "___________________________________fit_transform_one cache loaded - 0.0s, 0.0min\n",
      "[Memory]0.0s, 0.0min    : Loading _fit_transform_one from cachedir/joblib/sklearn/pipeline/_fit_transform_one/f26f31fe09e4c0baa75d0bd373b11401\n",
      "___________________________________fit_transform_one cache loaded - 0.1s, 0.0min\n",
      "[Memory]0.1s, 0.0min    : Loading _fit_transform_one from cachedir/joblib/sklearn/pipeline/_fit_transform_one/0f5cb12df585e3e9f36fedd7507eefcf\n",
      "___________________________________fit_transform_one cache loaded - 0.0s, 0.0min\n",
      "[Memory]0.1s, 0.0min    : Loading _fit_transform_one from cachedir/joblib/sklearn/pipeline/_fit_transform_one/0410caf36f909ca4236d17b4f30c42b5\n",
      "___________________________________fit_transform_one cache loaded - 0.0s, 0.0min\n",
      "[Memory]0.2s, 0.0min    : Loading _fit_transform_one from cachedir/joblib/sklearn/pipeline/_fit_transform_one/f79637925fa1ccc5c53595fbf14a8b16\n",
      "___________________________________fit_transform_one cache loaded - 0.0s, 0.0min\n",
      "[Memory]0.0s, 0.0min    : Loading _fit_transform_one from cachedir/joblib/sklearn/pipeline/_fit_transform_one/313ae626aad40e891d5a390f5e2cc778\n",
      "___________________________________fit_transform_one cache loaded - 0.1s, 0.0min\n",
      "[Memory]0.1s, 0.0min    : Loading _fit_transform_one from cachedir/joblib/sklearn/pipeline/_fit_transform_one/7fd6e5010e9282f636fa99592f847e1d\n",
      "___________________________________fit_transform_one cache loaded - 0.0s, 0.0min\n",
      "[Memory]0.2s, 0.0min    : Loading _fit_transform_one from cachedir/joblib/sklearn/pipeline/_fit_transform_one/64d0adc23e8b78ea1462e251492b6fae\n",
      "___________________________________fit_transform_one cache loaded - 0.0s, 0.0min\n",
      "[Memory]0.2s, 0.0min    : Loading _fit_transform_one from cachedir/joblib/sklearn/pipeline/_fit_transform_one/cbc5ad1ea470ab230fd120153bef66bf\n",
      "___________________________________fit_transform_one cache loaded - 0.0s, 0.0min\n",
      "[Memory]0.0s, 0.0min    : Loading _fit_transform_one from cachedir/joblib/sklearn/pipeline/_fit_transform_one/7713bf1406828cf10689487f42cae0b6\n",
      "___________________________________fit_transform_one cache loaded - 0.1s, 0.0min\n",
      "[Memory]0.1s, 0.0min    : Loading _fit_transform_one from cachedir/joblib/sklearn/pipeline/_fit_transform_one/f15bf5cc6fe40d79c32098b1327a1aae\n",
      "___________________________________fit_transform_one cache loaded - 0.0s, 0.0min\n",
      "[Memory]0.2s, 0.0min    : Loading _fit_transform_one from cachedir/joblib/sklearn/pipeline/_fit_transform_one/777d8c1072b0bfba0c98b8966e8b721f\n",
      "___________________________________fit_transform_one cache loaded - 0.0s, 0.0min\n",
      "[Memory]0.2s, 0.0min    : Loading _fit_transform_one from cachedir/joblib/sklearn/pipeline/_fit_transform_one/5d885270ab36c7df83cac26304e74cb3\n",
      "___________________________________fit_transform_one cache loaded - 0.0s, 0.0min\n",
      "[Memory]0.0s, 0.0min    : Loading _fit_transform_one from cachedir/joblib/sklearn/pipeline/_fit_transform_one/4df6558bc460a464151592f3f848569e\n",
      "___________________________________fit_transform_one cache loaded - 0.1s, 0.0min\n",
      "[Memory]0.2s, 0.0min    : Loading _fit_transform_one from cachedir/joblib/sklearn/pipeline/_fit_transform_one/ba6b9107379fa716ee78337a7e86c1d4\n",
      "___________________________________fit_transform_one cache loaded - 0.0s, 0.0min\n",
      "[Memory]0.2s, 0.0min    : Loading _fit_transform_one from cachedir/joblib/sklearn/pipeline/_fit_transform_one/cd86dfcca3ea122c211a0db729b82273\n",
      "___________________________________fit_transform_one cache loaded - 0.0s, 0.0min\n",
      "[Memory]0.2s, 0.0min    : Loading _fit_transform_one from cachedir/joblib/sklearn/pipeline/_fit_transform_one/2f22b6da6d4081d9b669d6c07d75bbca\n",
      "___________________________________fit_transform_one cache loaded - 0.0s, 0.0min\n",
      "[Memory]0.0s, 0.0min    : Loading _fit_transform_one from cachedir/joblib/sklearn/pipeline/_fit_transform_one/ec4c30f79629b35d78f89675645b9612\n",
      "___________________________________fit_transform_one cache loaded - 0.1s, 0.0min\n",
      "[Memory]0.2s, 0.0min    : Loading _fit_transform_one from cachedir/joblib/sklearn/pipeline/_fit_transform_one/b1829475d4155c2a0f7f89b4a2be9a58\n",
      "___________________________________fit_transform_one cache loaded - 0.0s, 0.0min\n",
      "[Memory]0.2s, 0.0min    : Loading _fit_transform_one from cachedir/joblib/sklearn/pipeline/_fit_transform_one/de0c1e0c64e9ecf182397ba55b760278\n",
      "___________________________________fit_transform_one cache loaded - 0.0s, 0.0min\n",
      "[Memory]0.2s, 0.0min    : Loading _fit_transform_one from cachedir/joblib/sklearn/pipeline/_fit_transform_one/5b7176c1f642ace288ba2f47ea8f94eb\n",
      "___________________________________fit_transform_one cache loaded - 0.0s, 0.0min\n",
      "[Memory]0.0s, 0.0min    : Loading _fit_transform_one from cachedir/joblib/sklearn/pipeline/_fit_transform_one/d5cdd5991f060312bed0c5fa4707c40b\n",
      "___________________________________fit_transform_one cache loaded - 0.1s, 0.0min\n",
      "[Memory]0.2s, 0.0min    : Loading _fit_transform_one from cachedir/joblib/sklearn/pipeline/_fit_transform_one/696b2e96be0a62e14aaa3dfe155ee962\n",
      "___________________________________fit_transform_one cache loaded - 0.0s, 0.0min\n",
      "[Memory]0.2s, 0.0min    : Loading _fit_transform_one from cachedir/joblib/sklearn/pipeline/_fit_transform_one/e0049eb1da59d782b88c0ce44a3f77ee\n",
      "___________________________________fit_transform_one cache loaded - 0.0s, 0.0min\n",
      "[Memory]0.2s, 0.0min    : Loading _fit_transform_one from cachedir/joblib/sklearn/pipeline/_fit_transform_one/55749f13f6a475ab4fb634a17612a9cb\n",
      "___________________________________fit_transform_one cache loaded - 0.0s, 0.0min\n",
      "[Memory]0.0s, 0.0min    : Loading _fit_transform_one from cachedir/joblib/sklearn/pipeline/_fit_transform_one/8f4fdc64f5047fc4bddf8729f1554425\n",
      "___________________________________fit_transform_one cache loaded - 0.1s, 0.0min\n",
      "[Memory]0.2s, 0.0min    : Loading _fit_transform_one from cachedir/joblib/sklearn/pipeline/_fit_transform_one/1216df07cd03f5994ef286ad11306c35\n",
      "___________________________________fit_transform_one cache loaded - 0.0s, 0.0min\n",
      "[Memory]0.2s, 0.0min    : Loading _fit_transform_one from cachedir/joblib/sklearn/pipeline/_fit_transform_one/99bebb7a1968dd6c615097525971b64a\n",
      "___________________________________fit_transform_one cache loaded - 0.0s, 0.0min\n",
      "[Memory]0.2s, 0.0min    : Loading _fit_transform_one from cachedir/joblib/sklearn/pipeline/_fit_transform_one/a148a62c720304b246cfa41221c78720\n",
      "___________________________________fit_transform_one cache loaded - 0.0s, 0.0min\n",
      "[Memory]0.0s, 0.0min    : Loading _fit_transform_one from cachedir/joblib/sklearn/pipeline/_fit_transform_one/b97243c4d51c0f12dc2d2c34f00be8bb\n",
      "___________________________________fit_transform_one cache loaded - 0.1s, 0.0min\n",
      "[Memory]0.2s, 0.0min    : Loading _fit_transform_one from cachedir/joblib/sklearn/pipeline/_fit_transform_one/a6972cfd8c47be4d6b3110bae52d8361\n",
      "___________________________________fit_transform_one cache loaded - 0.0s, 0.0min\n",
      "[Memory]0.2s, 0.0min    : Loading _fit_transform_one from cachedir/joblib/sklearn/pipeline/_fit_transform_one/b071890c2ad3a394c8aa1cef58ea862e\n",
      "___________________________________fit_transform_one cache loaded - 0.0s, 0.0min\n",
      "[Memory]0.2s, 0.0min    : Loading _fit_transform_one from cachedir/joblib/sklearn/pipeline/_fit_transform_one/b5468eebdcc613302dcf258ae3b5edaf\n",
      "___________________________________fit_transform_one cache loaded - 0.0s, 0.0min\n",
      "[Memory]0.0s, 0.0min    : Loading _fit_transform_one from cachedir/joblib/sklearn/pipeline/_fit_transform_one/18bae6cf70d764678e51b41023cad5b5\n",
      "___________________________________fit_transform_one cache loaded - 0.1s, 0.0min\n",
      "[Memory]0.2s, 0.0min    : Loading _fit_transform_one from cachedir/joblib/sklearn/pipeline/_fit_transform_one/712c633f33b2aa0e9a264d5b59eed24b\n",
      "___________________________________fit_transform_one cache loaded - 0.0s, 0.0min\n",
      "[Memory]0.2s, 0.0min    : Loading _fit_transform_one from cachedir/joblib/sklearn/pipeline/_fit_transform_one/0affbc3028f107287e76d403b9efb85d\n",
      "___________________________________fit_transform_one cache loaded - 0.0s, 0.0min\n",
      "[Memory]0.2s, 0.0min    : Loading _fit_transform_one from cachedir/joblib/sklearn/pipeline/_fit_transform_one/d48eb3e3ea78865e65635110beac9388\n",
      "___________________________________fit_transform_one cache loaded - 0.0s, 0.0min\n",
      "[Memory]0.0s, 0.0min    : Loading _fit_transform_one from cachedir/joblib/sklearn/pipeline/_fit_transform_one/30add571c45ec473e2af3e7c264fecc2\n",
      "___________________________________fit_transform_one cache loaded - 0.1s, 0.0min\n",
      "[Memory]0.2s, 0.0min    : Loading _fit_transform_one from cachedir/joblib/sklearn/pipeline/_fit_transform_one/a465b5e8da3957252f87fa1d8c513e18\n",
      "___________________________________fit_transform_one cache loaded - 0.0s, 0.0min\n",
      "[Memory]0.2s, 0.0min    : Loading _fit_transform_one from cachedir/joblib/sklearn/pipeline/_fit_transform_one/f2b942a95374f82fd9ce975093d06ddb\n",
      "___________________________________fit_transform_one cache loaded - 0.0s, 0.0min\n",
      "[Memory]0.2s, 0.0min    : Loading _fit_transform_one from cachedir/joblib/sklearn/pipeline/_fit_transform_one/45c801a3e8cfa04ceecd4aacea141492\n",
      "___________________________________fit_transform_one cache loaded - 0.0s, 0.0min\n",
      "[Memory]0.0s, 0.0min    : Loading _fit_transform_one from cachedir/joblib/sklearn/pipeline/_fit_transform_one/f26f31fe09e4c0baa75d0bd373b11401\n",
      "___________________________________fit_transform_one cache loaded - 0.1s, 0.0min\n",
      "[Memory]0.2s, 0.0min    : Loading _fit_transform_one from cachedir/joblib/sklearn/pipeline/_fit_transform_one/0f5cb12df585e3e9f36fedd7507eefcf\n",
      "___________________________________fit_transform_one cache loaded - 0.0s, 0.0min\n",
      "[Memory]0.2s, 0.0min    : Loading _fit_transform_one from cachedir/joblib/sklearn/pipeline/_fit_transform_one/0410caf36f909ca4236d17b4f30c42b5\n",
      "___________________________________fit_transform_one cache loaded - 0.0s, 0.0min\n",
      "[Memory]0.2s, 0.0min    : Loading _fit_transform_one from cachedir/joblib/sklearn/pipeline/_fit_transform_one/7064570afe46a0458d9bb2458c31c37d\n",
      "___________________________________fit_transform_one cache loaded - 0.0s, 0.0min\n",
      "[Memory]0.0s, 0.0min    : Loading _fit_transform_one from cachedir/joblib/sklearn/pipeline/_fit_transform_one/313ae626aad40e891d5a390f5e2cc778\n",
      "___________________________________fit_transform_one cache loaded - 0.1s, 0.0min\n",
      "[Memory]0.2s, 0.0min    : Loading _fit_transform_one from cachedir/joblib/sklearn/pipeline/_fit_transform_one/7fd6e5010e9282f636fa99592f847e1d\n",
      "___________________________________fit_transform_one cache loaded - 0.0s, 0.0min\n",
      "[Memory]0.2s, 0.0min    : Loading _fit_transform_one from cachedir/joblib/sklearn/pipeline/_fit_transform_one/64d0adc23e8b78ea1462e251492b6fae\n",
      "___________________________________fit_transform_one cache loaded - 0.0s, 0.0min\n",
      "[Memory]0.2s, 0.0min    : Loading _fit_transform_one from cachedir/joblib/sklearn/pipeline/_fit_transform_one/7a4ef5d0bda83a2125475c43e5ae0710\n",
      "___________________________________fit_transform_one cache loaded - 0.0s, 0.0min\n",
      "[Memory]0.0s, 0.0min    : Loading _fit_transform_one from cachedir/joblib/sklearn/pipeline/_fit_transform_one/7713bf1406828cf10689487f42cae0b6\n",
      "___________________________________fit_transform_one cache loaded - 0.1s, 0.0min\n",
      "[Memory]0.2s, 0.0min    : Loading _fit_transform_one from cachedir/joblib/sklearn/pipeline/_fit_transform_one/f15bf5cc6fe40d79c32098b1327a1aae\n",
      "___________________________________fit_transform_one cache loaded - 0.0s, 0.0min\n",
      "[Memory]0.2s, 0.0min    : Loading _fit_transform_one from cachedir/joblib/sklearn/pipeline/_fit_transform_one/777d8c1072b0bfba0c98b8966e8b721f\n",
      "___________________________________fit_transform_one cache loaded - 0.0s, 0.0min\n",
      "[Memory]0.2s, 0.0min    : Loading _fit_transform_one from cachedir/joblib/sklearn/pipeline/_fit_transform_one/0530433906a815d5ef2de9b379f63be3\n",
      "___________________________________fit_transform_one cache loaded - 0.0s, 0.0min\n",
      "[Memory]0.0s, 0.0min    : Loading _fit_transform_one from cachedir/joblib/sklearn/pipeline/_fit_transform_one/4df6558bc460a464151592f3f848569e\n",
      "___________________________________fit_transform_one cache loaded - 0.1s, 0.0min\n",
      "[Memory]0.1s, 0.0min    : Loading _fit_transform_one from cachedir/joblib/sklearn/pipeline/_fit_transform_one/ba6b9107379fa716ee78337a7e86c1d4\n",
      "___________________________________fit_transform_one cache loaded - 0.0s, 0.0min\n",
      "[Memory]0.2s, 0.0min    : Loading _fit_transform_one from cachedir/joblib/sklearn/pipeline/_fit_transform_one/cd86dfcca3ea122c211a0db729b82273\n",
      "___________________________________fit_transform_one cache loaded - 0.0s, 0.0min\n",
      "[Memory]0.2s, 0.0min    : Loading _fit_transform_one from cachedir/joblib/sklearn/pipeline/_fit_transform_one/44b99c9f70e4358221e3e52d06516fe3\n",
      "___________________________________fit_transform_one cache loaded - 0.0s, 0.0min\n",
      "[Memory]0.0s, 0.0min    : Loading _fit_transform_one from cachedir/joblib/sklearn/pipeline/_fit_transform_one/ec4c30f79629b35d78f89675645b9612\n",
      "___________________________________fit_transform_one cache loaded - 0.1s, 0.0min\n",
      "[Memory]0.1s, 0.0min    : Loading _fit_transform_one from cachedir/joblib/sklearn/pipeline/_fit_transform_one/b1829475d4155c2a0f7f89b4a2be9a58\n",
      "___________________________________fit_transform_one cache loaded - 0.0s, 0.0min\n",
      "[Memory]0.2s, 0.0min    : Loading _fit_transform_one from cachedir/joblib/sklearn/pipeline/_fit_transform_one/de0c1e0c64e9ecf182397ba55b760278\n",
      "___________________________________fit_transform_one cache loaded - 0.0s, 0.0min\n",
      "[Memory]0.2s, 0.0min    : Loading _fit_transform_one from cachedir/joblib/sklearn/pipeline/_fit_transform_one/d9bc4146e8b76eb553c347210e0d6439\n",
      "___________________________________fit_transform_one cache loaded - 0.0s, 0.0min\n",
      "[Memory]0.0s, 0.0min    : Loading _fit_transform_one from cachedir/joblib/sklearn/pipeline/_fit_transform_one/d5cdd5991f060312bed0c5fa4707c40b\n",
      "___________________________________fit_transform_one cache loaded - 0.1s, 0.0min\n",
      "[Memory]0.1s, 0.0min    : Loading _fit_transform_one from cachedir/joblib/sklearn/pipeline/_fit_transform_one/696b2e96be0a62e14aaa3dfe155ee962\n",
      "___________________________________fit_transform_one cache loaded - 0.0s, 0.0min\n",
      "[Memory]0.2s, 0.0min    : Loading _fit_transform_one from cachedir/joblib/sklearn/pipeline/_fit_transform_one/e0049eb1da59d782b88c0ce44a3f77ee\n",
      "___________________________________fit_transform_one cache loaded - 0.0s, 0.0min\n",
      "[Memory]0.2s, 0.0min    : Loading _fit_transform_one from cachedir/joblib/sklearn/pipeline/_fit_transform_one/b26b7cf3a969c99b0510b550ec537b6c\n",
      "___________________________________fit_transform_one cache loaded - 0.0s, 0.0min\n",
      "[Memory]0.0s, 0.0min    : Loading _fit_transform_one from cachedir/joblib/sklearn/pipeline/_fit_transform_one/8f4fdc64f5047fc4bddf8729f1554425\n",
      "___________________________________fit_transform_one cache loaded - 0.1s, 0.0min\n",
      "[Memory]0.1s, 0.0min    : Loading _fit_transform_one from cachedir/joblib/sklearn/pipeline/_fit_transform_one/1216df07cd03f5994ef286ad11306c35\n",
      "___________________________________fit_transform_one cache loaded - 0.0s, 0.0min\n",
      "[Memory]0.2s, 0.0min    : Loading _fit_transform_one from cachedir/joblib/sklearn/pipeline/_fit_transform_one/99bebb7a1968dd6c615097525971b64a\n",
      "___________________________________fit_transform_one cache loaded - 0.0s, 0.0min\n",
      "[Memory]0.2s, 0.0min    : Loading _fit_transform_one from cachedir/joblib/sklearn/pipeline/_fit_transform_one/dc4c907eca4fb58d37cc4d6149bb9d26\n",
      "___________________________________fit_transform_one cache loaded - 0.0s, 0.0min\n",
      "[Memory]0.0s, 0.0min    : Loading _fit_transform_one from cachedir/joblib/sklearn/pipeline/_fit_transform_one/b97243c4d51c0f12dc2d2c34f00be8bb\n",
      "___________________________________fit_transform_one cache loaded - 0.1s, 0.0min\n",
      "[Memory]0.1s, 0.0min    : Loading _fit_transform_one from cachedir/joblib/sklearn/pipeline/_fit_transform_one/a6972cfd8c47be4d6b3110bae52d8361\n",
      "___________________________________fit_transform_one cache loaded - 0.0s, 0.0min\n",
      "[Memory]0.2s, 0.0min    : Loading _fit_transform_one from cachedir/joblib/sklearn/pipeline/_fit_transform_one/b071890c2ad3a394c8aa1cef58ea862e\n",
      "___________________________________fit_transform_one cache loaded - 0.0s, 0.0min\n",
      "[Memory]0.2s, 0.0min    : Loading _fit_transform_one from cachedir/joblib/sklearn/pipeline/_fit_transform_one/f7854e560158edb5817efd1c3c383ea6\n",
      "___________________________________fit_transform_one cache loaded - 0.0s, 0.0min\n",
      "[Memory]0.0s, 0.0min    : Loading _fit_transform_one from cachedir/joblib/sklearn/pipeline/_fit_transform_one/18bae6cf70d764678e51b41023cad5b5\n",
      "___________________________________fit_transform_one cache loaded - 0.1s, 0.0min\n",
      "[Memory]0.1s, 0.0min    : Loading _fit_transform_one from cachedir/joblib/sklearn/pipeline/_fit_transform_one/712c633f33b2aa0e9a264d5b59eed24b\n",
      "___________________________________fit_transform_one cache loaded - 0.0s, 0.0min\n",
      "[Memory]0.2s, 0.0min    : Loading _fit_transform_one from cachedir/joblib/sklearn/pipeline/_fit_transform_one/0affbc3028f107287e76d403b9efb85d\n",
      "___________________________________fit_transform_one cache loaded - 0.0s, 0.0min\n",
      "[Memory]0.2s, 0.0min    : Loading _fit_transform_one from cachedir/joblib/sklearn/pipeline/_fit_transform_one/72b192669695cc8e6fba1143d29551c4\n",
      "___________________________________fit_transform_one cache loaded - 0.0s, 0.0min\n",
      "[Memory]0.0s, 0.0min    : Loading _fit_transform_one from cachedir/joblib/sklearn/pipeline/_fit_transform_one/30add571c45ec473e2af3e7c264fecc2\n",
      "___________________________________fit_transform_one cache loaded - 0.1s, 0.0min\n",
      "[Memory]0.2s, 0.0min    : Loading _fit_transform_one from cachedir/joblib/sklearn/pipeline/_fit_transform_one/a465b5e8da3957252f87fa1d8c513e18\n",
      "___________________________________fit_transform_one cache loaded - 0.0s, 0.0min\n",
      "[Memory]0.2s, 0.0min    : Loading _fit_transform_one from cachedir/joblib/sklearn/pipeline/_fit_transform_one/f2b942a95374f82fd9ce975093d06ddb\n",
      "___________________________________fit_transform_one cache loaded - 0.0s, 0.0min\n",
      "[Memory]0.2s, 0.0min    : Loading _fit_transform_one from cachedir/joblib/sklearn/pipeline/_fit_transform_one/a69b8e54680039f7a8d1c9f55cc76ce5\n",
      "___________________________________fit_transform_one cache loaded - 0.0s, 0.0min\n",
      "[Memory]0.0s, 0.0min    : Loading _fit_transform_one from cachedir/joblib/sklearn/pipeline/_fit_transform_one/f26f31fe09e4c0baa75d0bd373b11401\n",
      "___________________________________fit_transform_one cache loaded - 0.1s, 0.0min\n",
      "[Memory]0.1s, 0.0min    : Loading _fit_transform_one from cachedir/joblib/sklearn/pipeline/_fit_transform_one/0f5cb12df585e3e9f36fedd7507eefcf\n",
      "___________________________________fit_transform_one cache loaded - 0.0s, 0.0min\n",
      "[Memory]0.2s, 0.0min    : Loading _fit_transform_one from cachedir/joblib/sklearn/pipeline/_fit_transform_one/0410caf36f909ca4236d17b4f30c42b5\n",
      "___________________________________fit_transform_one cache loaded - 0.0s, 0.0min\n",
      "[Memory]0.2s, 0.0min    : Loading _fit_transform_one from cachedir/joblib/sklearn/pipeline/_fit_transform_one/dde75edd027514aaf339cd757200f8fa\n",
      "___________________________________fit_transform_one cache loaded - 0.0s, 0.0min\n",
      "[Memory]0.0s, 0.0min    : Loading _fit_transform_one from cachedir/joblib/sklearn/pipeline/_fit_transform_one/313ae626aad40e891d5a390f5e2cc778\n",
      "___________________________________fit_transform_one cache loaded - 0.1s, 0.0min\n",
      "[Memory]0.1s, 0.0min    : Loading _fit_transform_one from cachedir/joblib/sklearn/pipeline/_fit_transform_one/7fd6e5010e9282f636fa99592f847e1d\n",
      "___________________________________fit_transform_one cache loaded - 0.0s, 0.0min\n",
      "[Memory]0.1s, 0.0min    : Loading _fit_transform_one from cachedir/joblib/sklearn/pipeline/_fit_transform_one/64d0adc23e8b78ea1462e251492b6fae\n",
      "___________________________________fit_transform_one cache loaded - 0.0s, 0.0min\n",
      "[Memory]0.2s, 0.0min    : Loading _fit_transform_one from cachedir/joblib/sklearn/pipeline/_fit_transform_one/834ecf00a1b74901e6a146bfbac76455\n",
      "___________________________________fit_transform_one cache loaded - 0.0s, 0.0min\n",
      "[Memory]0.0s, 0.0min    : Loading _fit_transform_one from cachedir/joblib/sklearn/pipeline/_fit_transform_one/7713bf1406828cf10689487f42cae0b6\n",
      "___________________________________fit_transform_one cache loaded - 0.1s, 0.0min\n",
      "[Memory]0.1s, 0.0min    : Loading _fit_transform_one from cachedir/joblib/sklearn/pipeline/_fit_transform_one/f15bf5cc6fe40d79c32098b1327a1aae\n",
      "___________________________________fit_transform_one cache loaded - 0.0s, 0.0min\n",
      "[Memory]0.2s, 0.0min    : Loading _fit_transform_one from cachedir/joblib/sklearn/pipeline/_fit_transform_one/777d8c1072b0bfba0c98b8966e8b721f\n",
      "___________________________________fit_transform_one cache loaded - 0.0s, 0.0min\n",
      "[Memory]0.2s, 0.0min    : Loading _fit_transform_one from cachedir/joblib/sklearn/pipeline/_fit_transform_one/0dd989d061b1fa3e6e9b04217017a811\n",
      "___________________________________fit_transform_one cache loaded - 0.0s, 0.0min\n",
      "[Memory]0.0s, 0.0min    : Loading _fit_transform_one from cachedir/joblib/sklearn/pipeline/_fit_transform_one/4df6558bc460a464151592f3f848569e\n",
      "___________________________________fit_transform_one cache loaded - 0.1s, 0.0min\n",
      "[Memory]0.2s, 0.0min    : Loading _fit_transform_one from cachedir/joblib/sklearn/pipeline/_fit_transform_one/ba6b9107379fa716ee78337a7e86c1d4\n",
      "___________________________________fit_transform_one cache loaded - 0.0s, 0.0min\n",
      "[Memory]0.2s, 0.0min    : Loading _fit_transform_one from cachedir/joblib/sklearn/pipeline/_fit_transform_one/cd86dfcca3ea122c211a0db729b82273\n",
      "___________________________________fit_transform_one cache loaded - 0.0s, 0.0min\n",
      "[Memory]0.2s, 0.0min    : Loading _fit_transform_one from cachedir/joblib/sklearn/pipeline/_fit_transform_one/33b346e5e50d0ef705bf3edb46f08d5c\n",
      "___________________________________fit_transform_one cache loaded - 0.0s, 0.0min\n",
      "[Memory]0.0s, 0.0min    : Loading _fit_transform_one from cachedir/joblib/sklearn/pipeline/_fit_transform_one/ec4c30f79629b35d78f89675645b9612\n",
      "___________________________________fit_transform_one cache loaded - 0.1s, 0.0min\n",
      "[Memory]0.2s, 0.0min    : Loading _fit_transform_one from cachedir/joblib/sklearn/pipeline/_fit_transform_one/b1829475d4155c2a0f7f89b4a2be9a58\n",
      "___________________________________fit_transform_one cache loaded - 0.0s, 0.0min\n",
      "[Memory]0.2s, 0.0min    : Loading _fit_transform_one from cachedir/joblib/sklearn/pipeline/_fit_transform_one/de0c1e0c64e9ecf182397ba55b760278\n",
      "___________________________________fit_transform_one cache loaded - 0.0s, 0.0min\n",
      "[Memory]0.2s, 0.0min    : Loading _fit_transform_one from cachedir/joblib/sklearn/pipeline/_fit_transform_one/b1f4e986533d37d184177962bd0eaf57\n",
      "___________________________________fit_transform_one cache loaded - 0.0s, 0.0min\n",
      "[Memory]0.0s, 0.0min    : Loading _fit_transform_one from cachedir/joblib/sklearn/pipeline/_fit_transform_one/d5cdd5991f060312bed0c5fa4707c40b\n",
      "___________________________________fit_transform_one cache loaded - 0.1s, 0.0min\n",
      "[Memory]0.2s, 0.0min    : Loading _fit_transform_one from cachedir/joblib/sklearn/pipeline/_fit_transform_one/696b2e96be0a62e14aaa3dfe155ee962\n",
      "___________________________________fit_transform_one cache loaded - 0.0s, 0.0min\n",
      "[Memory]0.2s, 0.0min    : Loading _fit_transform_one from cachedir/joblib/sklearn/pipeline/_fit_transform_one/e0049eb1da59d782b88c0ce44a3f77ee\n",
      "___________________________________fit_transform_one cache loaded - 0.0s, 0.0min\n",
      "[Memory]0.2s, 0.0min    : Loading _fit_transform_one from cachedir/joblib/sklearn/pipeline/_fit_transform_one/37f15825865a88570291b13c6c01679c\n",
      "___________________________________fit_transform_one cache loaded - 0.0s, 0.0min\n",
      "[Memory]0.0s, 0.0min    : Loading _fit_transform_one from cachedir/joblib/sklearn/pipeline/_fit_transform_one/8f4fdc64f5047fc4bddf8729f1554425\n",
      "___________________________________fit_transform_one cache loaded - 0.1s, 0.0min\n",
      "[Memory]0.2s, 0.0min    : Loading _fit_transform_one from cachedir/joblib/sklearn/pipeline/_fit_transform_one/1216df07cd03f5994ef286ad11306c35\n",
      "___________________________________fit_transform_one cache loaded - 0.0s, 0.0min\n",
      "[Memory]0.2s, 0.0min    : Loading _fit_transform_one from cachedir/joblib/sklearn/pipeline/_fit_transform_one/99bebb7a1968dd6c615097525971b64a\n",
      "___________________________________fit_transform_one cache loaded - 0.0s, 0.0min\n",
      "[Memory]0.2s, 0.0min    : Loading _fit_transform_one from cachedir/joblib/sklearn/pipeline/_fit_transform_one/d4d7cd4af5ea9c66704f4150ac4d4870\n",
      "___________________________________fit_transform_one cache loaded - 0.0s, 0.0min\n",
      "[Memory]0.0s, 0.0min    : Loading _fit_transform_one from cachedir/joblib/sklearn/pipeline/_fit_transform_one/b97243c4d51c0f12dc2d2c34f00be8bb\n",
      "___________________________________fit_transform_one cache loaded - 0.1s, 0.0min\n",
      "[Memory]0.2s, 0.0min    : Loading _fit_transform_one from cachedir/joblib/sklearn/pipeline/_fit_transform_one/a6972cfd8c47be4d6b3110bae52d8361\n",
      "___________________________________fit_transform_one cache loaded - 0.0s, 0.0min\n",
      "[Memory]0.2s, 0.0min    : Loading _fit_transform_one from cachedir/joblib/sklearn/pipeline/_fit_transform_one/b071890c2ad3a394c8aa1cef58ea862e\n",
      "___________________________________fit_transform_one cache loaded - 0.0s, 0.0min\n",
      "[Memory]0.2s, 0.0min    : Loading _fit_transform_one from cachedir/joblib/sklearn/pipeline/_fit_transform_one/8ec6af0116327c36c8105f0d1bd486be\n",
      "___________________________________fit_transform_one cache loaded - 0.0s, 0.0min\n",
      "[Memory]0.0s, 0.0min    : Loading _fit_transform_one from cachedir/joblib/sklearn/pipeline/_fit_transform_one/18bae6cf70d764678e51b41023cad5b5\n",
      "___________________________________fit_transform_one cache loaded - 0.1s, 0.0min\n",
      "[Memory]0.2s, 0.0min    : Loading _fit_transform_one from cachedir/joblib/sklearn/pipeline/_fit_transform_one/712c633f33b2aa0e9a264d5b59eed24b\n",
      "___________________________________fit_transform_one cache loaded - 0.0s, 0.0min\n",
      "[Memory]0.2s, 0.0min    : Loading _fit_transform_one from cachedir/joblib/sklearn/pipeline/_fit_transform_one/0affbc3028f107287e76d403b9efb85d\n",
      "___________________________________fit_transform_one cache loaded - 0.0s, 0.0min\n",
      "[Memory]0.2s, 0.0min    : Loading _fit_transform_one from cachedir/joblib/sklearn/pipeline/_fit_transform_one/3bbd90c1434560567df6589ed2aed644\n",
      "___________________________________fit_transform_one cache loaded - 0.0s, 0.0min\n",
      "[Memory]0.0s, 0.0min    : Loading _fit_transform_one from cachedir/joblib/sklearn/pipeline/_fit_transform_one/30add571c45ec473e2af3e7c264fecc2\n",
      "___________________________________fit_transform_one cache loaded - 0.1s, 0.0min\n",
      "[Memory]0.2s, 0.0min    : Loading _fit_transform_one from cachedir/joblib/sklearn/pipeline/_fit_transform_one/a465b5e8da3957252f87fa1d8c513e18\n",
      "___________________________________fit_transform_one cache loaded - 0.0s, 0.0min\n",
      "[Memory]0.2s, 0.0min    : Loading _fit_transform_one from cachedir/joblib/sklearn/pipeline/_fit_transform_one/f2b942a95374f82fd9ce975093d06ddb\n",
      "___________________________________fit_transform_one cache loaded - 0.0s, 0.0min\n",
      "[Memory]0.2s, 0.0min    : Loading _fit_transform_one from cachedir/joblib/sklearn/pipeline/_fit_transform_one/dbefee78c67ca7a89eb50116fdee292a\n",
      "___________________________________fit_transform_one cache loaded - 0.0s, 0.0min\n",
      "[Memory]0.0s, 0.0min    : Loading _fit_transform_one from cachedir/joblib/sklearn/pipeline/_fit_transform_one/f26f31fe09e4c0baa75d0bd373b11401\n",
      "___________________________________fit_transform_one cache loaded - 0.1s, 0.0min\n",
      "[Memory]0.2s, 0.0min    : Loading _fit_transform_one from cachedir/joblib/sklearn/pipeline/_fit_transform_one/0f5cb12df585e3e9f36fedd7507eefcf\n",
      "___________________________________fit_transform_one cache loaded - 0.0s, 0.0min\n",
      "[Memory]0.2s, 0.0min    : Loading _fit_transform_one from cachedir/joblib/sklearn/pipeline/_fit_transform_one/0410caf36f909ca4236d17b4f30c42b5\n",
      "___________________________________fit_transform_one cache loaded - 0.0s, 0.0min\n",
      "[Memory]0.2s, 0.0min    : Loading _fit_transform_one from cachedir/joblib/sklearn/pipeline/_fit_transform_one/b78448eb8c62c6a2110fd0d37a6e676d\n",
      "___________________________________fit_transform_one cache loaded - 0.0s, 0.0min\n",
      "[Memory]0.0s, 0.0min    : Loading _fit_transform_one from cachedir/joblib/sklearn/pipeline/_fit_transform_one/313ae626aad40e891d5a390f5e2cc778\n",
      "___________________________________fit_transform_one cache loaded - 0.1s, 0.0min\n",
      "[Memory]0.2s, 0.0min    : Loading _fit_transform_one from cachedir/joblib/sklearn/pipeline/_fit_transform_one/7fd6e5010e9282f636fa99592f847e1d\n",
      "___________________________________fit_transform_one cache loaded - 0.0s, 0.0min\n",
      "[Memory]0.2s, 0.0min    : Loading _fit_transform_one from cachedir/joblib/sklearn/pipeline/_fit_transform_one/64d0adc23e8b78ea1462e251492b6fae\n",
      "___________________________________fit_transform_one cache loaded - 0.0s, 0.0min\n",
      "[Memory]0.2s, 0.0min    : Loading _fit_transform_one from cachedir/joblib/sklearn/pipeline/_fit_transform_one/9fdf0a05614e4c0bcf9598cdeb48fe50\n",
      "___________________________________fit_transform_one cache loaded - 0.0s, 0.0min\n",
      "[Memory]0.0s, 0.0min    : Loading _fit_transform_one from cachedir/joblib/sklearn/pipeline/_fit_transform_one/7713bf1406828cf10689487f42cae0b6\n",
      "___________________________________fit_transform_one cache loaded - 0.1s, 0.0min\n",
      "[Memory]0.2s, 0.0min    : Loading _fit_transform_one from cachedir/joblib/sklearn/pipeline/_fit_transform_one/f15bf5cc6fe40d79c32098b1327a1aae\n",
      "___________________________________fit_transform_one cache loaded - 0.0s, 0.0min\n",
      "[Memory]0.2s, 0.0min    : Loading _fit_transform_one from cachedir/joblib/sklearn/pipeline/_fit_transform_one/777d8c1072b0bfba0c98b8966e8b721f\n",
      "___________________________________fit_transform_one cache loaded - 0.0s, 0.0min\n",
      "[Memory]0.2s, 0.0min    : Loading _fit_transform_one from cachedir/joblib/sklearn/pipeline/_fit_transform_one/bdebdf5e4d5cee81a442f9ca03bfbe75\n",
      "___________________________________fit_transform_one cache loaded - 0.0s, 0.0min\n",
      "[Memory]0.0s, 0.0min    : Loading _fit_transform_one from cachedir/joblib/sklearn/pipeline/_fit_transform_one/4df6558bc460a464151592f3f848569e\n",
      "___________________________________fit_transform_one cache loaded - 0.1s, 0.0min\n",
      "[Memory]0.1s, 0.0min    : Loading _fit_transform_one from cachedir/joblib/sklearn/pipeline/_fit_transform_one/ba6b9107379fa716ee78337a7e86c1d4\n",
      "___________________________________fit_transform_one cache loaded - 0.0s, 0.0min\n",
      "[Memory]0.2s, 0.0min    : Loading _fit_transform_one from cachedir/joblib/sklearn/pipeline/_fit_transform_one/cd86dfcca3ea122c211a0db729b82273\n",
      "___________________________________fit_transform_one cache loaded - 0.0s, 0.0min\n",
      "[Memory]0.2s, 0.0min    : Loading _fit_transform_one from cachedir/joblib/sklearn/pipeline/_fit_transform_one/42ba4893099dee15f5a94b7a5c3a579a\n",
      "___________________________________fit_transform_one cache loaded - 0.0s, 0.0min\n",
      "[Memory]0.0s, 0.0min    : Loading _fit_transform_one from cachedir/joblib/sklearn/pipeline/_fit_transform_one/ec4c30f79629b35d78f89675645b9612\n",
      "___________________________________fit_transform_one cache loaded - 0.1s, 0.0min\n",
      "[Memory]0.1s, 0.0min    : Loading _fit_transform_one from cachedir/joblib/sklearn/pipeline/_fit_transform_one/b1829475d4155c2a0f7f89b4a2be9a58\n",
      "___________________________________fit_transform_one cache loaded - 0.0s, 0.0min\n",
      "[Memory]0.2s, 0.0min    : Loading _fit_transform_one from cachedir/joblib/sklearn/pipeline/_fit_transform_one/de0c1e0c64e9ecf182397ba55b760278\n",
      "___________________________________fit_transform_one cache loaded - 0.0s, 0.0min\n",
      "[Memory]0.2s, 0.0min    : Loading _fit_transform_one from cachedir/joblib/sklearn/pipeline/_fit_transform_one/c77f06ba7292f5856f38ba25dfdae2aa\n",
      "___________________________________fit_transform_one cache loaded - 0.0s, 0.0min\n",
      "[Memory]0.0s, 0.0min    : Loading _fit_transform_one from cachedir/joblib/sklearn/pipeline/_fit_transform_one/d5cdd5991f060312bed0c5fa4707c40b\n",
      "___________________________________fit_transform_one cache loaded - 0.1s, 0.0min\n",
      "[Memory]0.1s, 0.0min    : Loading _fit_transform_one from cachedir/joblib/sklearn/pipeline/_fit_transform_one/696b2e96be0a62e14aaa3dfe155ee962\n",
      "___________________________________fit_transform_one cache loaded - 0.0s, 0.0min\n",
      "[Memory]0.2s, 0.0min    : Loading _fit_transform_one from cachedir/joblib/sklearn/pipeline/_fit_transform_one/e0049eb1da59d782b88c0ce44a3f77ee\n",
      "___________________________________fit_transform_one cache loaded - 0.0s, 0.0min\n",
      "[Memory]0.2s, 0.0min    : Loading _fit_transform_one from cachedir/joblib/sklearn/pipeline/_fit_transform_one/76c0c492e145041cda4f7233a9b152a0\n",
      "___________________________________fit_transform_one cache loaded - 0.0s, 0.0min\n",
      "[Memory]0.0s, 0.0min    : Loading _fit_transform_one from cachedir/joblib/sklearn/pipeline/_fit_transform_one/8f4fdc64f5047fc4bddf8729f1554425\n",
      "___________________________________fit_transform_one cache loaded - 0.1s, 0.0min\n",
      "[Memory]0.1s, 0.0min    : Loading _fit_transform_one from cachedir/joblib/sklearn/pipeline/_fit_transform_one/1216df07cd03f5994ef286ad11306c35\n",
      "___________________________________fit_transform_one cache loaded - 0.0s, 0.0min\n",
      "[Memory]0.2s, 0.0min    : Loading _fit_transform_one from cachedir/joblib/sklearn/pipeline/_fit_transform_one/99bebb7a1968dd6c615097525971b64a\n",
      "___________________________________fit_transform_one cache loaded - 0.0s, 0.0min\n",
      "[Memory]0.2s, 0.0min    : Loading _fit_transform_one from cachedir/joblib/sklearn/pipeline/_fit_transform_one/94610b9b6339e36dedc6df2100543395\n",
      "___________________________________fit_transform_one cache loaded - 0.0s, 0.0min\n",
      "[Memory]0.0s, 0.0min    : Loading _fit_transform_one from cachedir/joblib/sklearn/pipeline/_fit_transform_one/b97243c4d51c0f12dc2d2c34f00be8bb\n",
      "___________________________________fit_transform_one cache loaded - 0.1s, 0.0min\n",
      "[Memory]0.1s, 0.0min    : Loading _fit_transform_one from cachedir/joblib/sklearn/pipeline/_fit_transform_one/a6972cfd8c47be4d6b3110bae52d8361\n",
      "___________________________________fit_transform_one cache loaded - 0.0s, 0.0min\n",
      "[Memory]0.2s, 0.0min    : Loading _fit_transform_one from cachedir/joblib/sklearn/pipeline/_fit_transform_one/b071890c2ad3a394c8aa1cef58ea862e\n",
      "___________________________________fit_transform_one cache loaded - 0.0s, 0.0min\n",
      "[Memory]0.2s, 0.0min    : Loading _fit_transform_one from cachedir/joblib/sklearn/pipeline/_fit_transform_one/36243bc9ebc02b6ad12458455855003d\n",
      "___________________________________fit_transform_one cache loaded - 0.0s, 0.0min\n",
      "[Memory]0.0s, 0.0min    : Loading _fit_transform_one from cachedir/joblib/sklearn/pipeline/_fit_transform_one/18bae6cf70d764678e51b41023cad5b5\n",
      "___________________________________fit_transform_one cache loaded - 0.1s, 0.0min\n",
      "[Memory]0.1s, 0.0min    : Loading _fit_transform_one from cachedir/joblib/sklearn/pipeline/_fit_transform_one/712c633f33b2aa0e9a264d5b59eed24b\n",
      "___________________________________fit_transform_one cache loaded - 0.0s, 0.0min\n",
      "[Memory]0.2s, 0.0min    : Loading _fit_transform_one from cachedir/joblib/sklearn/pipeline/_fit_transform_one/0affbc3028f107287e76d403b9efb85d\n",
      "___________________________________fit_transform_one cache loaded - 0.0s, 0.0min\n",
      "[Memory]0.2s, 0.0min    : Loading _fit_transform_one from cachedir/joblib/sklearn/pipeline/_fit_transform_one/64ecb2fac0d9e8619928ed0ef1109f48\n",
      "___________________________________fit_transform_one cache loaded - 0.0s, 0.0min\n",
      "[Memory]0.0s, 0.0min    : Loading _fit_transform_one from cachedir/joblib/sklearn/pipeline/_fit_transform_one/30add571c45ec473e2af3e7c264fecc2\n",
      "___________________________________fit_transform_one cache loaded - 0.1s, 0.0min\n",
      "[Memory]0.1s, 0.0min    : Loading _fit_transform_one from cachedir/joblib/sklearn/pipeline/_fit_transform_one/a465b5e8da3957252f87fa1d8c513e18\n",
      "___________________________________fit_transform_one cache loaded - 0.0s, 0.0min\n",
      "[Memory]0.1s, 0.0min    : Loading _fit_transform_one from cachedir/joblib/sklearn/pipeline/_fit_transform_one/f2b942a95374f82fd9ce975093d06ddb\n",
      "___________________________________fit_transform_one cache loaded - 0.0s, 0.0min\n",
      "[Memory]0.2s, 0.0min    : Loading _fit_transform_one from cachedir/joblib/sklearn/pipeline/_fit_transform_one/1cb032102fb7cc894c1909bda8cc3951\n",
      "___________________________________fit_transform_one cache loaded - 0.0s, 0.0min\n",
      "[Memory]0.0s, 0.0min    : Loading _fit_transform_one from cachedir/joblib/sklearn/pipeline/_fit_transform_one/f26f31fe09e4c0baa75d0bd373b11401\n",
      "___________________________________fit_transform_one cache loaded - 0.1s, 0.0min\n",
      "[Memory]0.1s, 0.0min    : Loading _fit_transform_one from cachedir/joblib/sklearn/pipeline/_fit_transform_one/0f5cb12df585e3e9f36fedd7507eefcf\n",
      "___________________________________fit_transform_one cache loaded - 0.0s, 0.0min\n",
      "[Memory]0.1s, 0.0min    : Loading _fit_transform_one from cachedir/joblib/sklearn/pipeline/_fit_transform_one/0410caf36f909ca4236d17b4f30c42b5\n",
      "___________________________________fit_transform_one cache loaded - 0.0s, 0.0min\n",
      "[Memory]0.2s, 0.0min    : Loading _fit_transform_one from cachedir/joblib/sklearn/pipeline/_fit_transform_one/f79637925fa1ccc5c53595fbf14a8b16\n",
      "___________________________________fit_transform_one cache loaded - 0.0s, 0.0min\n",
      "[Memory]0.0s, 0.0min    : Loading _fit_transform_one from cachedir/joblib/sklearn/pipeline/_fit_transform_one/313ae626aad40e891d5a390f5e2cc778\n",
      "___________________________________fit_transform_one cache loaded - 0.1s, 0.0min\n",
      "[Memory]0.1s, 0.0min    : Loading _fit_transform_one from cachedir/joblib/sklearn/pipeline/_fit_transform_one/7fd6e5010e9282f636fa99592f847e1d\n",
      "___________________________________fit_transform_one cache loaded - 0.0s, 0.0min\n",
      "[Memory]0.2s, 0.0min    : Loading _fit_transform_one from cachedir/joblib/sklearn/pipeline/_fit_transform_one/64d0adc23e8b78ea1462e251492b6fae\n",
      "___________________________________fit_transform_one cache loaded - 0.0s, 0.0min\n",
      "[Memory]0.2s, 0.0min    : Loading _fit_transform_one from cachedir/joblib/sklearn/pipeline/_fit_transform_one/cbc5ad1ea470ab230fd120153bef66bf\n",
      "___________________________________fit_transform_one cache loaded - 0.0s, 0.0min\n",
      "[Memory]0.0s, 0.0min    : Loading _fit_transform_one from cachedir/joblib/sklearn/pipeline/_fit_transform_one/7713bf1406828cf10689487f42cae0b6\n",
      "___________________________________fit_transform_one cache loaded - 0.1s, 0.0min\n",
      "[Memory]0.1s, 0.0min    : Loading _fit_transform_one from cachedir/joblib/sklearn/pipeline/_fit_transform_one/f15bf5cc6fe40d79c32098b1327a1aae\n",
      "___________________________________fit_transform_one cache loaded - 0.0s, 0.0min\n",
      "[Memory]0.2s, 0.0min    : Loading _fit_transform_one from cachedir/joblib/sklearn/pipeline/_fit_transform_one/777d8c1072b0bfba0c98b8966e8b721f\n",
      "___________________________________fit_transform_one cache loaded - 0.0s, 0.0min\n",
      "[Memory]0.2s, 0.0min    : Loading _fit_transform_one from cachedir/joblib/sklearn/pipeline/_fit_transform_one/5d885270ab36c7df83cac26304e74cb3\n",
      "___________________________________fit_transform_one cache loaded - 0.0s, 0.0min\n",
      "[Memory]0.0s, 0.0min    : Loading _fit_transform_one from cachedir/joblib/sklearn/pipeline/_fit_transform_one/4df6558bc460a464151592f3f848569e\n",
      "___________________________________fit_transform_one cache loaded - 0.1s, 0.0min\n",
      "[Memory]0.2s, 0.0min    : Loading _fit_transform_one from cachedir/joblib/sklearn/pipeline/_fit_transform_one/ba6b9107379fa716ee78337a7e86c1d4\n",
      "___________________________________fit_transform_one cache loaded - 0.0s, 0.0min\n",
      "[Memory]0.2s, 0.0min    : Loading _fit_transform_one from cachedir/joblib/sklearn/pipeline/_fit_transform_one/cd86dfcca3ea122c211a0db729b82273\n",
      "___________________________________fit_transform_one cache loaded - 0.0s, 0.0min\n",
      "[Memory]0.2s, 0.0min    : Loading _fit_transform_one from cachedir/joblib/sklearn/pipeline/_fit_transform_one/2f22b6da6d4081d9b669d6c07d75bbca\n",
      "___________________________________fit_transform_one cache loaded - 0.0s, 0.0min\n",
      "[Memory]0.0s, 0.0min    : Loading _fit_transform_one from cachedir/joblib/sklearn/pipeline/_fit_transform_one/ec4c30f79629b35d78f89675645b9612\n",
      "___________________________________fit_transform_one cache loaded - 0.1s, 0.0min\n",
      "[Memory]0.2s, 0.0min    : Loading _fit_transform_one from cachedir/joblib/sklearn/pipeline/_fit_transform_one/b1829475d4155c2a0f7f89b4a2be9a58\n",
      "___________________________________fit_transform_one cache loaded - 0.0s, 0.0min\n",
      "[Memory]0.2s, 0.0min    : Loading _fit_transform_one from cachedir/joblib/sklearn/pipeline/_fit_transform_one/de0c1e0c64e9ecf182397ba55b760278\n",
      "___________________________________fit_transform_one cache loaded - 0.0s, 0.0min\n",
      "[Memory]0.2s, 0.0min    : Loading _fit_transform_one from cachedir/joblib/sklearn/pipeline/_fit_transform_one/5b7176c1f642ace288ba2f47ea8f94eb\n",
      "___________________________________fit_transform_one cache loaded - 0.0s, 0.0min\n",
      "[Memory]0.0s, 0.0min    : Loading _fit_transform_one from cachedir/joblib/sklearn/pipeline/_fit_transform_one/d5cdd5991f060312bed0c5fa4707c40b\n",
      "___________________________________fit_transform_one cache loaded - 0.1s, 0.0min\n",
      "[Memory]0.2s, 0.0min    : Loading _fit_transform_one from cachedir/joblib/sklearn/pipeline/_fit_transform_one/696b2e96be0a62e14aaa3dfe155ee962\n",
      "___________________________________fit_transform_one cache loaded - 0.0s, 0.0min\n",
      "[Memory]0.2s, 0.0min    : Loading _fit_transform_one from cachedir/joblib/sklearn/pipeline/_fit_transform_one/e0049eb1da59d782b88c0ce44a3f77ee\n",
      "___________________________________fit_transform_one cache loaded - 0.0s, 0.0min\n",
      "[Memory]0.2s, 0.0min    : Loading _fit_transform_one from cachedir/joblib/sklearn/pipeline/_fit_transform_one/55749f13f6a475ab4fb634a17612a9cb\n",
      "___________________________________fit_transform_one cache loaded - 0.0s, 0.0min\n",
      "[Memory]0.0s, 0.0min    : Loading _fit_transform_one from cachedir/joblib/sklearn/pipeline/_fit_transform_one/8f4fdc64f5047fc4bddf8729f1554425\n",
      "___________________________________fit_transform_one cache loaded - 0.1s, 0.0min\n",
      "[Memory]0.2s, 0.0min    : Loading _fit_transform_one from cachedir/joblib/sklearn/pipeline/_fit_transform_one/1216df07cd03f5994ef286ad11306c35\n",
      "___________________________________fit_transform_one cache loaded - 0.0s, 0.0min\n",
      "[Memory]0.2s, 0.0min    : Loading _fit_transform_one from cachedir/joblib/sklearn/pipeline/_fit_transform_one/99bebb7a1968dd6c615097525971b64a\n",
      "___________________________________fit_transform_one cache loaded - 0.0s, 0.0min\n",
      "[Memory]0.2s, 0.0min    : Loading _fit_transform_one from cachedir/joblib/sklearn/pipeline/_fit_transform_one/a148a62c720304b246cfa41221c78720\n",
      "___________________________________fit_transform_one cache loaded - 0.0s, 0.0min\n",
      "[Memory]0.0s, 0.0min    : Loading _fit_transform_one from cachedir/joblib/sklearn/pipeline/_fit_transform_one/b97243c4d51c0f12dc2d2c34f00be8bb\n",
      "___________________________________fit_transform_one cache loaded - 0.1s, 0.0min\n",
      "[Memory]0.2s, 0.0min    : Loading _fit_transform_one from cachedir/joblib/sklearn/pipeline/_fit_transform_one/a6972cfd8c47be4d6b3110bae52d8361\n",
      "___________________________________fit_transform_one cache loaded - 0.0s, 0.0min\n",
      "[Memory]0.2s, 0.0min    : Loading _fit_transform_one from cachedir/joblib/sklearn/pipeline/_fit_transform_one/b071890c2ad3a394c8aa1cef58ea862e\n",
      "___________________________________fit_transform_one cache loaded - 0.0s, 0.0min\n",
      "[Memory]0.2s, 0.0min    : Loading _fit_transform_one from cachedir/joblib/sklearn/pipeline/_fit_transform_one/b5468eebdcc613302dcf258ae3b5edaf\n",
      "___________________________________fit_transform_one cache loaded - 0.0s, 0.0min\n",
      "[Memory]0.0s, 0.0min    : Loading _fit_transform_one from cachedir/joblib/sklearn/pipeline/_fit_transform_one/18bae6cf70d764678e51b41023cad5b5\n",
      "___________________________________fit_transform_one cache loaded - 0.1s, 0.0min\n",
      "[Memory]0.2s, 0.0min    : Loading _fit_transform_one from cachedir/joblib/sklearn/pipeline/_fit_transform_one/712c633f33b2aa0e9a264d5b59eed24b\n",
      "___________________________________fit_transform_one cache loaded - 0.0s, 0.0min\n",
      "[Memory]0.2s, 0.0min    : Loading _fit_transform_one from cachedir/joblib/sklearn/pipeline/_fit_transform_one/0affbc3028f107287e76d403b9efb85d\n",
      "___________________________________fit_transform_one cache loaded - 0.0s, 0.0min\n",
      "[Memory]0.2s, 0.0min    : Loading _fit_transform_one from cachedir/joblib/sklearn/pipeline/_fit_transform_one/d48eb3e3ea78865e65635110beac9388\n",
      "___________________________________fit_transform_one cache loaded - 0.0s, 0.0min\n",
      "[Memory]0.0s, 0.0min    : Loading _fit_transform_one from cachedir/joblib/sklearn/pipeline/_fit_transform_one/30add571c45ec473e2af3e7c264fecc2\n",
      "___________________________________fit_transform_one cache loaded - 0.1s, 0.0min\n",
      "[Memory]0.2s, 0.0min    : Loading _fit_transform_one from cachedir/joblib/sklearn/pipeline/_fit_transform_one/a465b5e8da3957252f87fa1d8c513e18\n",
      "___________________________________fit_transform_one cache loaded - 0.0s, 0.0min\n",
      "[Memory]0.2s, 0.0min    : Loading _fit_transform_one from cachedir/joblib/sklearn/pipeline/_fit_transform_one/f2b942a95374f82fd9ce975093d06ddb\n",
      "___________________________________fit_transform_one cache loaded - 0.0s, 0.0min\n",
      "[Memory]0.2s, 0.0min    : Loading _fit_transform_one from cachedir/joblib/sklearn/pipeline/_fit_transform_one/45c801a3e8cfa04ceecd4aacea141492\n",
      "___________________________________fit_transform_one cache loaded - 0.0s, 0.0min\n",
      "[Memory]0.0s, 0.0min    : Loading _fit_transform_one from cachedir/joblib/sklearn/pipeline/_fit_transform_one/f26f31fe09e4c0baa75d0bd373b11401\n",
      "___________________________________fit_transform_one cache loaded - 0.1s, 0.0min\n",
      "[Memory]0.2s, 0.0min    : Loading _fit_transform_one from cachedir/joblib/sklearn/pipeline/_fit_transform_one/0f5cb12df585e3e9f36fedd7507eefcf\n",
      "___________________________________fit_transform_one cache loaded - 0.0s, 0.0min\n",
      "[Memory]0.2s, 0.0min    : Loading _fit_transform_one from cachedir/joblib/sklearn/pipeline/_fit_transform_one/0410caf36f909ca4236d17b4f30c42b5\n",
      "___________________________________fit_transform_one cache loaded - 0.0s, 0.0min\n",
      "[Memory]0.2s, 0.0min    : Loading _fit_transform_one from cachedir/joblib/sklearn/pipeline/_fit_transform_one/7064570afe46a0458d9bb2458c31c37d\n",
      "___________________________________fit_transform_one cache loaded - 0.0s, 0.0min\n",
      "[Memory]0.0s, 0.0min    : Loading _fit_transform_one from cachedir/joblib/sklearn/pipeline/_fit_transform_one/313ae626aad40e891d5a390f5e2cc778\n",
      "___________________________________fit_transform_one cache loaded - 0.1s, 0.0min\n",
      "[Memory]0.2s, 0.0min    : Loading _fit_transform_one from cachedir/joblib/sklearn/pipeline/_fit_transform_one/7fd6e5010e9282f636fa99592f847e1d\n",
      "___________________________________fit_transform_one cache loaded - 0.0s, 0.0min\n",
      "[Memory]0.2s, 0.0min    : Loading _fit_transform_one from cachedir/joblib/sklearn/pipeline/_fit_transform_one/64d0adc23e8b78ea1462e251492b6fae\n",
      "___________________________________fit_transform_one cache loaded - 0.0s, 0.0min\n",
      "[Memory]0.2s, 0.0min    : Loading _fit_transform_one from cachedir/joblib/sklearn/pipeline/_fit_transform_one/7a4ef5d0bda83a2125475c43e5ae0710\n",
      "___________________________________fit_transform_one cache loaded - 0.0s, 0.0min\n",
      "________________________________________________________________________________\n",
      "[Memory] Calling sklearn.pipeline._fit_transform_one...\n",
      "_fit_transform_one(CountVectorizer(analyzer=<function lem_analyzer at 0x7f94f2d7cf80>, min_df=3), [ 'More than million Washingtonians participated in \"The Great ShakeOut,\" the '\n",
      "  'largest earthquake and tsunami drill in the world. SEATTLE  Are you '\n",
      "  'prepared if an earthquake hits Washington state? On Thursday, more than '\n",
      "  'million Washingtonians participated in \"The Great ShakeOut,\" the largest '\n",
      "  'earthquake and tsunami drill in the world. The annual earthquake drill was '\n",
      "  'at a.m. PT Thursday. State emergency officials encouraged the public to '\n",
      "  'participate as a reminder of what to do in an earthquake: drop, cover and '\n",
      "  'hold on. The drill is widely practiced in schools, businesses and '\n",
      "  'government agencies. At least million Washingtonians are registered to '\n",
      "  'partic..., \n",
      "[ 'climate',\n",
      "  'climate',\n",
      "  'climate',\n",
      "  'sports',\n",
      "  'climate',\n",
      "  'climate',\n",
      "  'climate',\n",
      "  'climate',\n",
      "  'sports',\n",
      "  'sports',\n",
      "  'sports',\n",
      "  'sports',\n",
      "  'sports',\n",
      "  'sports',\n",
      "  'climate',\n",
      "  'climate',\n",
      "  'sports',\n",
      "  'sports',\n",
      "  'sports',\n",
      "  'sports',\n",
      "  'sports',\n",
      "  'sports',\n",
      "  'climate',\n",
      "  'sports',\n",
      "  'climate',\n",
      "  'climate',\n",
      "  'sports',\n",
      "  'climate',\n",
      "  'climate',\n",
      "  'climate',\n",
      "  'sports',\n",
      "  'climate',\n",
      "  'sports',\n",
      "  'sports',\n",
      "  'climate',\n",
      "  'climate',\n",
      "  'climate',\n",
      "  'climate',\n",
      "  'sports',\n",
      "  'climate',\n",
      "  'climate',\n",
      "  'climate',\n",
      "  'climate',\n",
      "  'sports',\n",
      "  'climate',\n",
      "  'climate',\n",
      "  'climate',\n",
      "  'sports',\n",
      "  'climate',\n",
      "  'climate',\n",
      "  'climate',\n",
      "  'climate',\n",
      "  'sports',\n",
      "  'climate',\n",
      "  'sports',\n",
      "  'sport..., \n",
      "None, message_clsname='Pipeline', message=None)\n",
      "_______________________________________________fit_transform_one - 42.9s, 0.7min\n",
      "________________________________________________________________________________\n",
      "[Memory] Calling sklearn.pipeline._fit_transform_one...\n",
      "_fit_transform_one(TfidfTransformer(), <1657x10004 sparse matrix of type '<class 'numpy.int64'>'\n",
      "\twith 222430 stored elements in Compressed Sparse Row format>, \n",
      "[ 'climate',\n",
      "  'climate',\n",
      "  'climate',\n",
      "  'sports',\n",
      "  'climate',\n",
      "  'climate',\n",
      "  'climate',\n",
      "  'climate',\n",
      "  'sports',\n",
      "  'sports',\n",
      "  'sports',\n",
      "  'sports',\n",
      "  'sports',\n",
      "  'sports',\n",
      "  'climate',\n",
      "  'climate',\n",
      "  'sports',\n",
      "  'sports',\n",
      "  'sports',\n",
      "  'sports',\n",
      "  'sports',\n",
      "  'sports',\n",
      "  'climate',\n",
      "  'sports',\n",
      "  'climate',\n",
      "  'climate',\n",
      "  'sports',\n",
      "  'climate',\n",
      "  'climate',\n",
      "  'climate',\n",
      "  'sports',\n",
      "  'climate',\n",
      "  'sports',\n",
      "  'sports',\n",
      "  'climate',\n",
      "  'climate',\n",
      "  'climate',\n",
      "  'climate',\n",
      "  'sports',\n",
      "  'climate',\n",
      "  'climate',\n",
      "  'climate',\n",
      "  'climate',\n",
      "  'sports',\n",
      "  'climate',\n",
      "  'climate',\n",
      "  'climate',\n",
      "  'sports',\n",
      "  'climate',\n",
      "  'climate',\n",
      "  'climate',\n",
      "  'climate',\n",
      "  'sports',\n",
      "  'climate',\n",
      "  'sports',\n",
      "  'sport..., \n",
      "None, message_clsname='Pipeline', message=None)\n",
      "________________________________________________fit_transform_one - 0.1s, 0.0min\n",
      "________________________________________________________________________________\n",
      "[Memory] Calling sklearn.pipeline._fit_transform_one...\n",
      "_fit_transform_one(StandardScaler(with_mean=False), <1657x10004 sparse matrix of type '<class 'numpy.float64'>'\n",
      "\twith 222430 stored elements in Compressed Sparse Row format>, \n",
      "[ 'climate',\n",
      "  'climate',\n",
      "  'climate',\n",
      "  'sports',\n",
      "  'climate',\n",
      "  'climate',\n",
      "  'climate',\n",
      "  'climate',\n",
      "  'sports',\n",
      "  'sports',\n",
      "  'sports',\n",
      "  'sports',\n",
      "  'sports',\n",
      "  'sports',\n",
      "  'climate',\n",
      "  'climate',\n",
      "  'sports',\n",
      "  'sports',\n",
      "  'sports',\n",
      "  'sports',\n",
      "  'sports',\n",
      "  'sports',\n",
      "  'climate',\n",
      "  'sports',\n",
      "  'climate',\n",
      "  'climate',\n",
      "  'sports',\n",
      "  'climate',\n",
      "  'climate',\n",
      "  'climate',\n",
      "  'sports',\n",
      "  'climate',\n",
      "  'sports',\n",
      "  'sports',\n",
      "  'climate',\n",
      "  'climate',\n",
      "  'climate',\n",
      "  'climate',\n",
      "  'sports',\n",
      "  'climate',\n",
      "  'climate',\n",
      "  'climate',\n",
      "  'climate',\n",
      "  'sports',\n",
      "  'climate',\n",
      "  'climate',\n",
      "  'climate',\n",
      "  'sports',\n",
      "  'climate',\n",
      "  'climate',\n",
      "  'climate',\n",
      "  'climate',\n",
      "  'sports',\n",
      "  'climate',\n",
      "  'sports',\n",
      "  'sport..., \n",
      "None, message_clsname='Pipeline', message=None)\n",
      "________________________________________________fit_transform_one - 0.1s, 0.0min\n",
      "________________________________________________________________________________\n",
      "[Memory] Calling sklearn.pipeline._fit_transform_one...\n",
      "_fit_transform_one(TruncatedSVD(n_components=50, n_iter=100, random_state=42), <1657x10004 sparse matrix of type '<class 'numpy.float64'>'\n",
      "\twith 222430 stored elements in Compressed Sparse Row format>, \n",
      "[ 'climate',\n",
      "  'climate',\n",
      "  'climate',\n",
      "  'sports',\n",
      "  'climate',\n",
      "  'climate',\n",
      "  'climate',\n",
      "  'climate',\n",
      "  'sports',\n",
      "  'sports',\n",
      "  'sports',\n",
      "  'sports',\n",
      "  'sports',\n",
      "  'sports',\n",
      "  'climate',\n",
      "  'climate',\n",
      "  'sports',\n",
      "  'sports',\n",
      "  'sports',\n",
      "  'sports',\n",
      "  'sports',\n",
      "  'sports',\n",
      "  'climate',\n",
      "  'sports',\n",
      "  'climate',\n",
      "  'climate',\n",
      "  'sports',\n",
      "  'climate',\n",
      "  'climate',\n",
      "  'climate',\n",
      "  'sports',\n",
      "  'climate',\n",
      "  'sports',\n",
      "  'sports',\n",
      "  'climate',\n",
      "  'climate',\n",
      "  'climate',\n",
      "  'climate',\n",
      "  'sports',\n",
      "  'climate',\n",
      "  'climate',\n",
      "  'climate',\n",
      "  'climate',\n",
      "  'sports',\n",
      "  'climate',\n",
      "  'climate',\n",
      "  'climate',\n",
      "  'sports',\n",
      "  'climate',\n",
      "  'climate',\n",
      "  'climate',\n",
      "  'climate',\n",
      "  'sports',\n",
      "  'climate',\n",
      "  'sports',\n",
      "  'sport..., \n",
      "None, message_clsname='Pipeline', message=None)\n",
      "________________________________________________fit_transform_one - 6.5s, 0.1min\n",
      "Best parameter (CV score=0.941):\n",
      "{'clf': SVC(C=100, probability=True, random_state=42), 'dim_redu': TruncatedSVD(n_components=50, n_iter=100, random_state=42), 'vect': CountVectorizer(analyzer=<function lem_analyzer at 0x7f94f2d7cf80>, min_df=3)}\n",
      "--- 1218.0298430919647 seconds ---\n"
     ]
    },
    {
     "data": {
      "text/html": [
       "\n",
       "  <div id=\"df-204153c9-7a1e-41fa-a961-71a5df010dc8\">\n",
       "    <div class=\"colab-df-container\">\n",
       "      <div>\n",
       "<style scoped>\n",
       "    .dataframe tbody tr th:only-of-type {\n",
       "        vertical-align: middle;\n",
       "    }\n",
       "\n",
       "    .dataframe tbody tr th {\n",
       "        vertical-align: top;\n",
       "    }\n",
       "\n",
       "    .dataframe thead th {\n",
       "        text-align: right;\n",
       "    }\n",
       "</style>\n",
       "<table border=\"1\" class=\"dataframe\">\n",
       "  <thead>\n",
       "    <tr style=\"text-align: right;\">\n",
       "      <th></th>\n",
       "      <th>mean_fit_time</th>\n",
       "      <th>std_fit_time</th>\n",
       "      <th>mean_score_time</th>\n",
       "      <th>std_score_time</th>\n",
       "      <th>param_clf</th>\n",
       "      <th>param_dim_redu</th>\n",
       "      <th>param_vect</th>\n",
       "      <th>params</th>\n",
       "      <th>split0_test_score</th>\n",
       "      <th>split1_test_score</th>\n",
       "      <th>split2_test_score</th>\n",
       "      <th>split3_test_score</th>\n",
       "      <th>split4_test_score</th>\n",
       "      <th>mean_test_score</th>\n",
       "      <th>std_test_score</th>\n",
       "      <th>rank_test_score</th>\n",
       "    </tr>\n",
       "  </thead>\n",
       "  <tbody>\n",
       "    <tr>\n",
       "      <th>2</th>\n",
       "      <td>0.531304</td>\n",
       "      <td>0.253114</td>\n",
       "      <td>10.375261</td>\n",
       "      <td>2.795697</td>\n",
       "      <td>SVC(C=100, probability=True, random_state=42)</td>\n",
       "      <td>TruncatedSVD(n_components=50, n_iter=100, rand...</td>\n",
       "      <td>CountVectorizer(analyzer=&lt;function lem_analyze...</td>\n",
       "      <td>{'clf': SVC(C=100, probability=True, random_st...</td>\n",
       "      <td>0.957831</td>\n",
       "      <td>0.945783</td>\n",
       "      <td>0.921450</td>\n",
       "      <td>0.939577</td>\n",
       "      <td>0.942598</td>\n",
       "      <td>0.941448</td>\n",
       "      <td>0.011764</td>\n",
       "      <td>1</td>\n",
       "    </tr>\n",
       "    <tr>\n",
       "      <th>3</th>\n",
       "      <td>0.387948</td>\n",
       "      <td>0.011765</td>\n",
       "      <td>8.371849</td>\n",
       "      <td>0.319729</td>\n",
       "      <td>SVC(C=100, probability=True, random_state=42)</td>\n",
       "      <td>TruncatedSVD(n_components=50, n_iter=100, rand...</td>\n",
       "      <td>CountVectorizer(analyzer=&lt;function lem_analyze...</td>\n",
       "      <td>{'clf': SVC(C=100, probability=True, random_st...</td>\n",
       "      <td>0.945783</td>\n",
       "      <td>0.948795</td>\n",
       "      <td>0.918429</td>\n",
       "      <td>0.918429</td>\n",
       "      <td>0.936556</td>\n",
       "      <td>0.933598</td>\n",
       "      <td>0.013026</td>\n",
       "      <td>2</td>\n",
       "    </tr>\n",
       "    <tr>\n",
       "      <th>19</th>\n",
       "      <td>2.697049</td>\n",
       "      <td>0.827134</td>\n",
       "      <td>8.380828</td>\n",
       "      <td>0.369918</td>\n",
       "      <td>LogisticRegression(C=10, max_iter=4000, random...</td>\n",
       "      <td>TruncatedSVD(n_components=50, n_iter=100, rand...</td>\n",
       "      <td>CountVectorizer(analyzer=&lt;function lem_analyze...</td>\n",
       "      <td>{'clf': LogisticRegression(C=10, max_iter=4000...</td>\n",
       "      <td>0.942771</td>\n",
       "      <td>0.942771</td>\n",
       "      <td>0.912387</td>\n",
       "      <td>0.939577</td>\n",
       "      <td>0.927492</td>\n",
       "      <td>0.933000</td>\n",
       "      <td>0.011743</td>\n",
       "      <td>3</td>\n",
       "    </tr>\n",
       "    <tr>\n",
       "      <th>11</th>\n",
       "      <td>3.238855</td>\n",
       "      <td>0.990659</td>\n",
       "      <td>8.341438</td>\n",
       "      <td>0.355356</td>\n",
       "      <td>LogisticRegression(C=10, max_iter=4000, penalt...</td>\n",
       "      <td>TruncatedSVD(n_components=50, n_iter=100, rand...</td>\n",
       "      <td>CountVectorizer(analyzer=&lt;function lem_analyze...</td>\n",
       "      <td>{'clf': LogisticRegression(C=10, max_iter=4000...</td>\n",
       "      <td>0.942771</td>\n",
       "      <td>0.942771</td>\n",
       "      <td>0.912387</td>\n",
       "      <td>0.936556</td>\n",
       "      <td>0.927492</td>\n",
       "      <td>0.932395</td>\n",
       "      <td>0.011463</td>\n",
       "      <td>4</td>\n",
       "    </tr>\n",
       "    <tr>\n",
       "      <th>22</th>\n",
       "      <td>1.489608</td>\n",
       "      <td>0.227933</td>\n",
       "      <td>8.420905</td>\n",
       "      <td>0.382951</td>\n",
       "      <td>LogisticRegression(C=10, max_iter=4000, random...</td>\n",
       "      <td>NMF(init='random', n_components=50, random_sta...</td>\n",
       "      <td>CountVectorizer(analyzer=&lt;function lem_analyze...</td>\n",
       "      <td>{'clf': LogisticRegression(C=10, max_iter=4000...</td>\n",
       "      <td>0.951807</td>\n",
       "      <td>0.939759</td>\n",
       "      <td>0.906344</td>\n",
       "      <td>0.927492</td>\n",
       "      <td>0.927492</td>\n",
       "      <td>0.930579</td>\n",
       "      <td>0.015108</td>\n",
       "      <td>5</td>\n",
       "    </tr>\n",
       "    <tr>\n",
       "      <th>18</th>\n",
       "      <td>2.495429</td>\n",
       "      <td>0.908643</td>\n",
       "      <td>8.550993</td>\n",
       "      <td>0.451196</td>\n",
       "      <td>LogisticRegression(C=10, max_iter=4000, random...</td>\n",
       "      <td>TruncatedSVD(n_components=50, n_iter=100, rand...</td>\n",
       "      <td>CountVectorizer(analyzer=&lt;function lem_analyze...</td>\n",
       "      <td>{'clf': LogisticRegression(C=10, max_iter=4000...</td>\n",
       "      <td>0.939759</td>\n",
       "      <td>0.948795</td>\n",
       "      <td>0.906344</td>\n",
       "      <td>0.933535</td>\n",
       "      <td>0.921450</td>\n",
       "      <td>0.929977</td>\n",
       "      <td>0.014790</td>\n",
       "      <td>6</td>\n",
       "    </tr>\n",
       "    <tr>\n",
       "      <th>10</th>\n",
       "      <td>3.020311</td>\n",
       "      <td>1.090742</td>\n",
       "      <td>8.306051</td>\n",
       "      <td>0.332371</td>\n",
       "      <td>LogisticRegression(C=10, max_iter=4000, penalt...</td>\n",
       "      <td>TruncatedSVD(n_components=50, n_iter=100, rand...</td>\n",
       "      <td>CountVectorizer(analyzer=&lt;function lem_analyze...</td>\n",
       "      <td>{'clf': LogisticRegression(C=10, max_iter=4000...</td>\n",
       "      <td>0.939759</td>\n",
       "      <td>0.948795</td>\n",
       "      <td>0.906344</td>\n",
       "      <td>0.933535</td>\n",
       "      <td>0.921450</td>\n",
       "      <td>0.929977</td>\n",
       "      <td>0.014790</td>\n",
       "      <td>6</td>\n",
       "    </tr>\n",
       "    <tr>\n",
       "      <th>6</th>\n",
       "      <td>0.436136</td>\n",
       "      <td>0.016910</td>\n",
       "      <td>8.399466</td>\n",
       "      <td>0.330400</td>\n",
       "      <td>SVC(C=100, probability=True, random_state=42)</td>\n",
       "      <td>NMF(init='random', n_components=50, random_sta...</td>\n",
       "      <td>CountVectorizer(analyzer=&lt;function lem_analyze...</td>\n",
       "      <td>{'clf': SVC(C=100, probability=True, random_st...</td>\n",
       "      <td>0.939759</td>\n",
       "      <td>0.936747</td>\n",
       "      <td>0.918429</td>\n",
       "      <td>0.924471</td>\n",
       "      <td>0.918429</td>\n",
       "      <td>0.927567</td>\n",
       "      <td>0.009050</td>\n",
       "      <td>8</td>\n",
       "    </tr>\n",
       "    <tr>\n",
       "      <th>15</th>\n",
       "      <td>3.679011</td>\n",
       "      <td>0.405618</td>\n",
       "      <td>8.519663</td>\n",
       "      <td>0.347906</td>\n",
       "      <td>LogisticRegression(C=10, max_iter=4000, penalt...</td>\n",
       "      <td>NMF(init='random', n_components=50, random_sta...</td>\n",
       "      <td>CountVectorizer(analyzer=&lt;function lem_analyze...</td>\n",
       "      <td>{'clf': LogisticRegression(C=10, max_iter=4000...</td>\n",
       "      <td>0.930723</td>\n",
       "      <td>0.927711</td>\n",
       "      <td>0.927492</td>\n",
       "      <td>0.933535</td>\n",
       "      <td>0.915408</td>\n",
       "      <td>0.926974</td>\n",
       "      <td>0.006192</td>\n",
       "      <td>9</td>\n",
       "    </tr>\n",
       "    <tr>\n",
       "      <th>23</th>\n",
       "      <td>1.694759</td>\n",
       "      <td>0.213227</td>\n",
       "      <td>8.379795</td>\n",
       "      <td>0.324182</td>\n",
       "      <td>LogisticRegression(C=10, max_iter=4000, random...</td>\n",
       "      <td>NMF(init='random', n_components=50, random_sta...</td>\n",
       "      <td>CountVectorizer(analyzer=&lt;function lem_analyze...</td>\n",
       "      <td>{'clf': LogisticRegression(C=10, max_iter=4000...</td>\n",
       "      <td>0.930723</td>\n",
       "      <td>0.930723</td>\n",
       "      <td>0.930514</td>\n",
       "      <td>0.933535</td>\n",
       "      <td>0.909366</td>\n",
       "      <td>0.926972</td>\n",
       "      <td>0.008874</td>\n",
       "      <td>10</td>\n",
       "    </tr>\n",
       "    <tr>\n",
       "      <th>14</th>\n",
       "      <td>3.328627</td>\n",
       "      <td>0.256862</td>\n",
       "      <td>8.455716</td>\n",
       "      <td>0.317317</td>\n",
       "      <td>LogisticRegression(C=10, max_iter=4000, penalt...</td>\n",
       "      <td>NMF(init='random', n_components=50, random_sta...</td>\n",
       "      <td>CountVectorizer(analyzer=&lt;function lem_analyze...</td>\n",
       "      <td>{'clf': LogisticRegression(C=10, max_iter=4000...</td>\n",
       "      <td>0.939759</td>\n",
       "      <td>0.939759</td>\n",
       "      <td>0.894260</td>\n",
       "      <td>0.927492</td>\n",
       "      <td>0.927492</td>\n",
       "      <td>0.925753</td>\n",
       "      <td>0.016675</td>\n",
       "      <td>11</td>\n",
       "    </tr>\n",
       "    <tr>\n",
       "      <th>7</th>\n",
       "      <td>0.448016</td>\n",
       "      <td>0.009512</td>\n",
       "      <td>8.411646</td>\n",
       "      <td>0.319903</td>\n",
       "      <td>SVC(C=100, probability=True, random_state=42)</td>\n",
       "      <td>NMF(init='random', n_components=50, random_sta...</td>\n",
       "      <td>CountVectorizer(analyzer=&lt;function lem_analyze...</td>\n",
       "      <td>{'clf': SVC(C=100, probability=True, random_st...</td>\n",
       "      <td>0.933735</td>\n",
       "      <td>0.915663</td>\n",
       "      <td>0.909366</td>\n",
       "      <td>0.912387</td>\n",
       "      <td>0.897281</td>\n",
       "      <td>0.913686</td>\n",
       "      <td>0.011793</td>\n",
       "      <td>12</td>\n",
       "    </tr>\n",
       "    <tr>\n",
       "      <th>17</th>\n",
       "      <td>0.483318</td>\n",
       "      <td>0.074229</td>\n",
       "      <td>8.492345</td>\n",
       "      <td>0.352006</td>\n",
       "      <td>LogisticRegression(C=10, max_iter=4000, random...</td>\n",
       "      <td>TruncatedSVD(n_components=5, n_iter=100, rando...</td>\n",
       "      <td>CountVectorizer(analyzer=&lt;function lem_analyze...</td>\n",
       "      <td>{'clf': LogisticRegression(C=10, max_iter=4000...</td>\n",
       "      <td>0.915663</td>\n",
       "      <td>0.909639</td>\n",
       "      <td>0.903323</td>\n",
       "      <td>0.915408</td>\n",
       "      <td>0.897281</td>\n",
       "      <td>0.908263</td>\n",
       "      <td>0.007109</td>\n",
       "      <td>13</td>\n",
       "    </tr>\n",
       "    <tr>\n",
       "      <th>9</th>\n",
       "      <td>0.513453</td>\n",
       "      <td>0.081672</td>\n",
       "      <td>8.261301</td>\n",
       "      <td>0.331778</td>\n",
       "      <td>LogisticRegression(C=10, max_iter=4000, penalt...</td>\n",
       "      <td>TruncatedSVD(n_components=5, n_iter=100, rando...</td>\n",
       "      <td>CountVectorizer(analyzer=&lt;function lem_analyze...</td>\n",
       "      <td>{'clf': LogisticRegression(C=10, max_iter=4000...</td>\n",
       "      <td>0.915663</td>\n",
       "      <td>0.909639</td>\n",
       "      <td>0.903323</td>\n",
       "      <td>0.915408</td>\n",
       "      <td>0.897281</td>\n",
       "      <td>0.908263</td>\n",
       "      <td>0.007109</td>\n",
       "      <td>13</td>\n",
       "    </tr>\n",
       "    <tr>\n",
       "      <th>21</th>\n",
       "      <td>0.252493</td>\n",
       "      <td>0.009529</td>\n",
       "      <td>8.342639</td>\n",
       "      <td>0.329746</td>\n",
       "      <td>LogisticRegression(C=10, max_iter=4000, random...</td>\n",
       "      <td>NMF(init='random', n_components=5, random_stat...</td>\n",
       "      <td>CountVectorizer(analyzer=&lt;function lem_analyze...</td>\n",
       "      <td>{'clf': LogisticRegression(C=10, max_iter=4000...</td>\n",
       "      <td>0.918675</td>\n",
       "      <td>0.903614</td>\n",
       "      <td>0.903323</td>\n",
       "      <td>0.900302</td>\n",
       "      <td>0.885196</td>\n",
       "      <td>0.902222</td>\n",
       "      <td>0.010653</td>\n",
       "      <td>15</td>\n",
       "    </tr>\n",
       "    <tr>\n",
       "      <th>1</th>\n",
       "      <td>0.376215</td>\n",
       "      <td>0.014702</td>\n",
       "      <td>8.304023</td>\n",
       "      <td>0.328766</td>\n",
       "      <td>SVC(C=100, probability=True, random_state=42)</td>\n",
       "      <td>TruncatedSVD(n_components=5, n_iter=100, rando...</td>\n",
       "      <td>CountVectorizer(analyzer=&lt;function lem_analyze...</td>\n",
       "      <td>{'clf': SVC(C=100, probability=True, random_st...</td>\n",
       "      <td>0.915663</td>\n",
       "      <td>0.912651</td>\n",
       "      <td>0.903323</td>\n",
       "      <td>0.903323</td>\n",
       "      <td>0.870091</td>\n",
       "      <td>0.901010</td>\n",
       "      <td>0.016229</td>\n",
       "      <td>16</td>\n",
       "    </tr>\n",
       "    <tr>\n",
       "      <th>13</th>\n",
       "      <td>0.775213</td>\n",
       "      <td>0.129828</td>\n",
       "      <td>8.382608</td>\n",
       "      <td>0.286059</td>\n",
       "      <td>LogisticRegression(C=10, max_iter=4000, penalt...</td>\n",
       "      <td>NMF(init='random', n_components=5, random_stat...</td>\n",
       "      <td>CountVectorizer(analyzer=&lt;function lem_analyze...</td>\n",
       "      <td>{'clf': LogisticRegression(C=10, max_iter=4000...</td>\n",
       "      <td>0.912651</td>\n",
       "      <td>0.894578</td>\n",
       "      <td>0.897281</td>\n",
       "      <td>0.894260</td>\n",
       "      <td>0.885196</td>\n",
       "      <td>0.896793</td>\n",
       "      <td>0.008916</td>\n",
       "      <td>17</td>\n",
       "    </tr>\n",
       "    <tr>\n",
       "      <th>0</th>\n",
       "      <td>0.586475</td>\n",
       "      <td>0.372074</td>\n",
       "      <td>8.498436</td>\n",
       "      <td>0.470727</td>\n",
       "      <td>SVC(C=100, probability=True, random_state=42)</td>\n",
       "      <td>TruncatedSVD(n_components=5, n_iter=100, rando...</td>\n",
       "      <td>CountVectorizer(analyzer=&lt;function lem_analyze...</td>\n",
       "      <td>{'clf': SVC(C=100, probability=True, random_st...</td>\n",
       "      <td>0.912651</td>\n",
       "      <td>0.867470</td>\n",
       "      <td>0.903323</td>\n",
       "      <td>0.903323</td>\n",
       "      <td>0.867069</td>\n",
       "      <td>0.890767</td>\n",
       "      <td>0.019486</td>\n",
       "      <td>18</td>\n",
       "    </tr>\n",
       "    <tr>\n",
       "      <th>5</th>\n",
       "      <td>0.405036</td>\n",
       "      <td>0.016913</td>\n",
       "      <td>8.302289</td>\n",
       "      <td>0.325316</td>\n",
       "      <td>SVC(C=100, probability=True, random_state=42)</td>\n",
       "      <td>NMF(init='random', n_components=5, random_stat...</td>\n",
       "      <td>CountVectorizer(analyzer=&lt;function lem_analyze...</td>\n",
       "      <td>{'clf': SVC(C=100, probability=True, random_st...</td>\n",
       "      <td>0.900602</td>\n",
       "      <td>0.897590</td>\n",
       "      <td>0.891239</td>\n",
       "      <td>0.900302</td>\n",
       "      <td>0.864048</td>\n",
       "      <td>0.890756</td>\n",
       "      <td>0.013772</td>\n",
       "      <td>19</td>\n",
       "    </tr>\n",
       "    <tr>\n",
       "      <th>8</th>\n",
       "      <td>0.606559</td>\n",
       "      <td>0.039247</td>\n",
       "      <td>8.286493</td>\n",
       "      <td>0.328565</td>\n",
       "      <td>LogisticRegression(C=10, max_iter=4000, penalt...</td>\n",
       "      <td>TruncatedSVD(n_components=5, n_iter=100, rando...</td>\n",
       "      <td>CountVectorizer(analyzer=&lt;function lem_analyze...</td>\n",
       "      <td>{'clf': LogisticRegression(C=10, max_iter=4000...</td>\n",
       "      <td>0.885542</td>\n",
       "      <td>0.864458</td>\n",
       "      <td>0.888218</td>\n",
       "      <td>0.882175</td>\n",
       "      <td>0.867069</td>\n",
       "      <td>0.877492</td>\n",
       "      <td>0.009801</td>\n",
       "      <td>20</td>\n",
       "    </tr>\n",
       "    <tr>\n",
       "      <th>16</th>\n",
       "      <td>0.563161</td>\n",
       "      <td>0.029858</td>\n",
       "      <td>8.444882</td>\n",
       "      <td>0.283306</td>\n",
       "      <td>LogisticRegression(C=10, max_iter=4000, random...</td>\n",
       "      <td>TruncatedSVD(n_components=5, n_iter=100, rando...</td>\n",
       "      <td>CountVectorizer(analyzer=&lt;function lem_analyze...</td>\n",
       "      <td>{'clf': LogisticRegression(C=10, max_iter=4000...</td>\n",
       "      <td>0.885542</td>\n",
       "      <td>0.864458</td>\n",
       "      <td>0.888218</td>\n",
       "      <td>0.882175</td>\n",
       "      <td>0.867069</td>\n",
       "      <td>0.877492</td>\n",
       "      <td>0.009801</td>\n",
       "      <td>20</td>\n",
       "    </tr>\n",
       "    <tr>\n",
       "      <th>12</th>\n",
       "      <td>0.923911</td>\n",
       "      <td>0.066196</td>\n",
       "      <td>8.356719</td>\n",
       "      <td>0.349174</td>\n",
       "      <td>LogisticRegression(C=10, max_iter=4000, penalt...</td>\n",
       "      <td>NMF(init='random', n_components=5, random_stat...</td>\n",
       "      <td>CountVectorizer(analyzer=&lt;function lem_analyze...</td>\n",
       "      <td>{'clf': LogisticRegression(C=10, max_iter=4000...</td>\n",
       "      <td>0.710843</td>\n",
       "      <td>0.879518</td>\n",
       "      <td>0.888218</td>\n",
       "      <td>0.737160</td>\n",
       "      <td>0.782477</td>\n",
       "      <td>0.799643</td>\n",
       "      <td>0.072539</td>\n",
       "      <td>22</td>\n",
       "    </tr>\n",
       "    <tr>\n",
       "      <th>4</th>\n",
       "      <td>0.502856</td>\n",
       "      <td>0.089378</td>\n",
       "      <td>8.413901</td>\n",
       "      <td>0.330925</td>\n",
       "      <td>SVC(C=100, probability=True, random_state=42)</td>\n",
       "      <td>NMF(init='random', n_components=5, random_stat...</td>\n",
       "      <td>CountVectorizer(analyzer=&lt;function lem_analyze...</td>\n",
       "      <td>{'clf': SVC(C=100, probability=True, random_st...</td>\n",
       "      <td>0.722892</td>\n",
       "      <td>0.879518</td>\n",
       "      <td>0.888218</td>\n",
       "      <td>0.703927</td>\n",
       "      <td>0.776435</td>\n",
       "      <td>0.794198</td>\n",
       "      <td>0.077030</td>\n",
       "      <td>23</td>\n",
       "    </tr>\n",
       "    <tr>\n",
       "      <th>20</th>\n",
       "      <td>0.292803</td>\n",
       "      <td>0.035437</td>\n",
       "      <td>8.339164</td>\n",
       "      <td>0.325308</td>\n",
       "      <td>LogisticRegression(C=10, max_iter=4000, random...</td>\n",
       "      <td>NMF(init='random', n_components=5, random_stat...</td>\n",
       "      <td>CountVectorizer(analyzer=&lt;function lem_analyze...</td>\n",
       "      <td>{'clf': LogisticRegression(C=10, max_iter=4000...</td>\n",
       "      <td>0.665663</td>\n",
       "      <td>0.885542</td>\n",
       "      <td>0.891239</td>\n",
       "      <td>0.743202</td>\n",
       "      <td>0.743202</td>\n",
       "      <td>0.785770</td>\n",
       "      <td>0.088462</td>\n",
       "      <td>24</td>\n",
       "    </tr>\n",
       "  </tbody>\n",
       "</table>\n",
       "</div>\n",
       "      <button class=\"colab-df-convert\" onclick=\"convertToInteractive('df-204153c9-7a1e-41fa-a961-71a5df010dc8')\"\n",
       "              title=\"Convert this dataframe to an interactive table.\"\n",
       "              style=\"display:none;\">\n",
       "        \n",
       "  <svg xmlns=\"http://www.w3.org/2000/svg\" height=\"24px\"viewBox=\"0 0 24 24\"\n",
       "       width=\"24px\">\n",
       "    <path d=\"M0 0h24v24H0V0z\" fill=\"none\"/>\n",
       "    <path d=\"M18.56 5.44l.94 2.06.94-2.06 2.06-.94-2.06-.94-.94-2.06-.94 2.06-2.06.94zm-11 1L8.5 8.5l.94-2.06 2.06-.94-2.06-.94L8.5 2.5l-.94 2.06-2.06.94zm10 10l.94 2.06.94-2.06 2.06-.94-2.06-.94-.94-2.06-.94 2.06-2.06.94z\"/><path d=\"M17.41 7.96l-1.37-1.37c-.4-.4-.92-.59-1.43-.59-.52 0-1.04.2-1.43.59L10.3 9.45l-7.72 7.72c-.78.78-.78 2.05 0 2.83L4 21.41c.39.39.9.59 1.41.59.51 0 1.02-.2 1.41-.59l7.78-7.78 2.81-2.81c.8-.78.8-2.07 0-2.86zM5.41 20L4 18.59l7.72-7.72 1.47 1.35L5.41 20z\"/>\n",
       "  </svg>\n",
       "      </button>\n",
       "      \n",
       "  <style>\n",
       "    .colab-df-container {\n",
       "      display:flex;\n",
       "      flex-wrap:wrap;\n",
       "      gap: 12px;\n",
       "    }\n",
       "\n",
       "    .colab-df-convert {\n",
       "      background-color: #E8F0FE;\n",
       "      border: none;\n",
       "      border-radius: 50%;\n",
       "      cursor: pointer;\n",
       "      display: none;\n",
       "      fill: #1967D2;\n",
       "      height: 32px;\n",
       "      padding: 0 0 0 0;\n",
       "      width: 32px;\n",
       "    }\n",
       "\n",
       "    .colab-df-convert:hover {\n",
       "      background-color: #E2EBFA;\n",
       "      box-shadow: 0px 1px 2px rgba(60, 64, 67, 0.3), 0px 1px 3px 1px rgba(60, 64, 67, 0.15);\n",
       "      fill: #174EA6;\n",
       "    }\n",
       "\n",
       "    [theme=dark] .colab-df-convert {\n",
       "      background-color: #3B4455;\n",
       "      fill: #D2E3FC;\n",
       "    }\n",
       "\n",
       "    [theme=dark] .colab-df-convert:hover {\n",
       "      background-color: #434B5C;\n",
       "      box-shadow: 0px 1px 3px 1px rgba(0, 0, 0, 0.15);\n",
       "      filter: drop-shadow(0px 1px 2px rgba(0, 0, 0, 0.3));\n",
       "      fill: #FFFFFF;\n",
       "    }\n",
       "  </style>\n",
       "\n",
       "      <script>\n",
       "        const buttonEl =\n",
       "          document.querySelector('#df-204153c9-7a1e-41fa-a961-71a5df010dc8 button.colab-df-convert');\n",
       "        buttonEl.style.display =\n",
       "          google.colab.kernel.accessAllowed ? 'block' : 'none';\n",
       "\n",
       "        async function convertToInteractive(key) {\n",
       "          const element = document.querySelector('#df-204153c9-7a1e-41fa-a961-71a5df010dc8');\n",
       "          const dataTable =\n",
       "            await google.colab.kernel.invokeFunction('convertToInteractive',\n",
       "                                                     [key], {});\n",
       "          if (!dataTable) return;\n",
       "\n",
       "          const docLinkHtml = 'Like what you see? Visit the ' +\n",
       "            '<a target=\"_blank\" href=https://colab.research.google.com/notebooks/data_table.ipynb>data table notebook</a>'\n",
       "            + ' to learn more about interactive tables.';\n",
       "          element.innerHTML = '';\n",
       "          dataTable['output_type'] = 'display_data';\n",
       "          await google.colab.output.renderOutput(dataTable, element);\n",
       "          const docLink = document.createElement('div');\n",
       "          docLink.innerHTML = docLinkHtml;\n",
       "          element.appendChild(docLink);\n",
       "        }\n",
       "      </script>\n",
       "    </div>\n",
       "  </div>\n",
       "  "
      ],
      "text/plain": [
       "    mean_fit_time  std_fit_time  ...  std_test_score  rank_test_score\n",
       "2        0.531304      0.253114  ...        0.011764                1\n",
       "3        0.387948      0.011765  ...        0.013026                2\n",
       "19       2.697049      0.827134  ...        0.011743                3\n",
       "11       3.238855      0.990659  ...        0.011463                4\n",
       "22       1.489608      0.227933  ...        0.015108                5\n",
       "18       2.495429      0.908643  ...        0.014790                6\n",
       "10       3.020311      1.090742  ...        0.014790                6\n",
       "6        0.436136      0.016910  ...        0.009050                8\n",
       "15       3.679011      0.405618  ...        0.006192                9\n",
       "23       1.694759      0.213227  ...        0.008874               10\n",
       "14       3.328627      0.256862  ...        0.016675               11\n",
       "7        0.448016      0.009512  ...        0.011793               12\n",
       "17       0.483318      0.074229  ...        0.007109               13\n",
       "9        0.513453      0.081672  ...        0.007109               13\n",
       "21       0.252493      0.009529  ...        0.010653               15\n",
       "1        0.376215      0.014702  ...        0.016229               16\n",
       "13       0.775213      0.129828  ...        0.008916               17\n",
       "0        0.586475      0.372074  ...        0.019486               18\n",
       "5        0.405036      0.016913  ...        0.013772               19\n",
       "8        0.606559      0.039247  ...        0.009801               20\n",
       "16       0.563161      0.029858  ...        0.009801               20\n",
       "12       0.923911      0.066196  ...        0.072539               22\n",
       "4        0.502856      0.089378  ...        0.077030               23\n",
       "20       0.292803      0.035437  ...        0.088462               24\n",
       "\n",
       "[24 rows x 16 columns]"
      ]
     },
     "execution_count": 20,
     "metadata": {},
     "output_type": "execute_result"
    }
   ],
   "source": [
    "from tempfile import mkdtemp\n",
    "from shutil import rmtree\n",
    "import nltk\n",
    "from sklearn.pipeline import Pipeline\n",
    "from sklearn.preprocessing import StandardScaler \n",
    "import joblib\n",
    "from joblib import Memory\n",
    "from sklearn.model_selection import GridSearchCV\n",
    "#from pipelinehelper import PipelineHelper\n",
    "from sklearn.feature_extraction.text import CountVectorizer\n",
    "from sklearn.feature_extraction.text import TfidfTransformer\n",
    "from nltk.stem.snowball import FrenchStemmer\n",
    "from sklearn.naive_bayes import GaussianNB\n",
    "from sklearn.decomposition import TruncatedSVD\n",
    "from sklearn.decomposition import NMF\n",
    "from sklearn import svm\n",
    "from sklearn import linear_model\n",
    "# clean vs not clean\n",
    "# clean: train[\"clean_text\"]\n",
    "# not clean: train[\"full_text\"]\n",
    "import time\n",
    "full_time = time.time()\n",
    "\n",
    "wnl = nltk.wordnet.WordNetLemmatizer()\n",
    "analyzer = CountVectorizer().build_analyzer()\n",
    "tfidf = TfidfTransformer()\n",
    "scaler = StandardScaler(with_mean=False) # not absolutely required but does help\n",
    "gaussian = GaussianNB()\n",
    "stemmer = FrenchStemmer()\n",
    "location = \"cachedir\"\n",
    "memory = Memory(location=location, verbose=10)\n",
    "\n",
    "\n",
    "def stemmed_words(doc):\n",
    "    return (stemmer.stem(w) for w in analyzer(doc))\n",
    "#def stem_rmv_punc(doc):\n",
    "#    return (word for word in stemmed_words(analyzer(doc)) if word not in combined_stopwords and not word.isdigit())\n",
    "\n",
    "def lemmatize_sent(text):\n",
    "    # lemmatize a sentence as a list of words\n",
    "    return [wnl.lemmatize(word.lower(), pos=penn2morphy(tag)) for word, tag in pos_tag(text)]\n",
    "def lem_analyzer(text):\n",
    "    return (word for word in lemmatize_sent(analyzer(text)) if word not in combined_stopwords and not word.isdigit())\n",
    "\n",
    "pipe = Pipeline(steps=[ \n",
    "                       (\"vect\", CountVectorizer()),\n",
    "                       (\"tfidf\", TfidfTransformer()),\n",
    "                       (\"scaler\", StandardScaler(with_mean=False)), \n",
    "                       ('dim_redu', None),\n",
    "                       ('clf', None),\n",
    "                        ], memory=memory)\n",
    "\n",
    "k_list=[5, 50, 500]\n",
    "optc_svm=100\n",
    "optc_l1=10\n",
    "optc_l2=10\n",
    "min_dif=[3, 5]\n",
    "\n",
    "param_grid = [{\n",
    "        \n",
    "        'vect': [\n",
    "            CountVectorizer(min_df=3, analyzer=lem_analyzer),\n",
    "            #CountVectorizer(min_df=3, analyzer=stemmed_words),\n",
    "            CountVectorizer(min_df=5, analyzer=lem_analyzer),\n",
    "            #CountVectorizer(min_df=5, analyzer=stemmed_words)\n",
    "        ],\n",
    "    \n",
    "       \n",
    "        'dim_redu': [     \n",
    "                TruncatedSVD(n_components=5, n_iter=100, random_state=42), \n",
    "                TruncatedSVD(n_components=50, n_iter=100, random_state=42),\n",
    "                NMF(n_components=5, init='random',random_state=42),\n",
    "                NMF(n_components=50, init='random',random_state=42),\n",
    "                                  \n",
    "        ],\n",
    "        \n",
    "        \n",
    "        'clf': [\n",
    "               svm.SVC(C=optc_svm, probability=True,random_state=42), \n",
    "               linear_model.LogisticRegression(penalty='l1', C=optc_l1, solver=\"saga\", max_iter=4000,random_state=42),\n",
    "               linear_model.LogisticRegression(penalty='l2', C=optc_l2, solver=\"saga\", max_iter=4000,random_state=42)]\n",
    "        \n",
    "        \n",
    "       \n",
    "    }]\n",
    "    \n",
    "search = GridSearchCV(pipe, param_grid=param_grid, cv=5,scoring='accuracy',error_score=\"raise\")\n",
    "search.fit(train[\"clean_text\"].tolist(), train[\"root_label\"].tolist())\n",
    "print(\"Best parameter (CV score=%0.3f):\" % search.best_score_)\n",
    "print(search.best_params_)\n",
    "   \n",
    "memory.clear(warn=False)\n",
    "rmtree(location)\n",
    "print(\"--- %s seconds ---\" % (time.time() - full_time))\n",
    "\n",
    "import pandas as pd\n",
    "result = pd.DataFrame(search.cv_results_)\n",
    "result.sort_values(by='rank_test_score')\n",
    "#pd.DataFrame(search.cv_results_)"
   ]
  },
  {
   "cell_type": "markdown",
   "metadata": {
    "id": "LoGbTn-FFQeg"
   },
   "source": [
    "**Question 8**: \n",
    "* Best combination: \n",
    "* clean data + lemmatization(min_df=3) + LSI(k=50) + svm(C=100), mean_test_score: 0.94\n",
    "* clean data + lemmatization(min_df=5) + LSI(k=50) + svm(C=100), mean_test_score: 0.933\n",
    "* clean data + lemmatization(min_df=5) + LSI(k=50) + logistic regression(C=100, 'l2'), mean_test_score: 0.933\n",
    "* clean data + lemmatization(min_df=5) + LSI(k=50) + logistic regression(C=100, 'l1'), mean_test_score: 0.932\n",
    "* clean data + lemmatization(min_df=3) + NMF(k=50) + logistic regression(C=100, 'l2'), mean_test_score: 0.93"
   ]
  },
  {
   "cell_type": "markdown",
   "metadata": {
    "id": "K67ucdgTawky"
   },
   "source": [
    "# Multiclass Classification"
   ]
  },
  {
   "cell_type": "code",
   "execution_count": null,
   "metadata": {
    "id": "JX-136-CYh23"
   },
   "outputs": [],
   "source": [
    "# X_train_lsi, X_test_lsi, train[\"leaf_label\"], test[\"leaf_label\"]\n",
    "from sklearn.model_selection import train_test_split\n",
    "train, test = train_test_split(df[[\"full_text\",\"leaf_label\"]], test_size=0.2)\n",
    "\n",
    "train[\"clean_text\"] = train[\"full_text\"].apply(clean)\n",
    "test[\"clean_text\"] = test[\"full_text\"].apply(clean)\n",
    "\n",
    "train[\"lem_text\"] = train[\"clean_text\"].apply(lem_analyzer)\n",
    "test[\"lem_text\"] = test[\"clean_text\"].apply(lem_analyzer)\n",
    "\n",
    "from sklearn.feature_extraction.text import CountVectorizer\n",
    "\n",
    "vectorizer = CountVectorizer(stop_words='english', min_df=3, max_df=0.7)\n",
    "X_train_counts = vectorizer.fit_transform(train[\"lem_text\"])\n",
    "X_test_counts = vectorizer.transform(test[\"lem_text\"])\n",
    "\n",
    "from sklearn.feature_extraction.text import TfidfTransformer\n",
    "\n",
    "tfidf_transformer = TfidfTransformer(smooth_idf=False)\n",
    "X_train_tfidf = tfidf_transformer.fit_transform(X_train_counts)\n",
    "X_test_tfidf = tfidf_transformer.transform(X_test_counts)\n",
    "\n",
    "\n",
    "from sklearn.decomposition import TruncatedSVD\n",
    "k = 50\n",
    "lsi = TruncatedSVD(n_components=k, n_iter=100)\n",
    "X_train_lsi = lsi.fit_transform(X_train_tfidf)\n",
    "X_test_lsi = lsi.fit_transform(X_test_tfidf)"
   ]
  },
  {
   "cell_type": "code",
   "execution_count": null,
   "metadata": {
    "id": "VOy4VQrR5CMZ"
   },
   "outputs": [],
   "source": [
    "import matplotlib.pyplot as plt\n",
    "from matplotlib import cm\n",
    "\n",
    "\n",
    "def score(test_root_label,test_pred):    \n",
    "    print('confusion matrix')\n",
    "    cm=confusion_matrix(test_root_label, test_pred, labels=['chess','cricket',\n",
    "            'soccer','football','%22forest%20fire%22','flood','earthquake','drought'])\n",
    "    print(confusion_matrix(test_root_label, test_pred, labels=['chess','cricket',\n",
    "            'soccer','football','%22forest%20fire%22','flood','earthquake','drought']))\n",
    "    print('accuracy')\n",
    "    print(accuracy_score(test_root_label, test_pred))\n",
    "    print('recall')\n",
    "    print(recall_score(test_root_label, test_pred, average='weighted'))\n",
    "    print('precision')\n",
    "    print(precision_score(test_root_label, test_pred,average='weighted'))\n",
    "    print('f1 score')\n",
    "    print(f1_score(test_root_label, test_pred,average='weighted'))\n",
    "    from sklearn.metrics import ConfusionMatrixDisplay\n",
    "    disp =ConfusionMatrixDisplay(confusion_matrix=cm)\n",
    "    import matplotlib.pyplot as plt\n",
    "    from matplotlib import cm\n",
    "    disp = disp.plot(cmap=plt.cm.Blues)\n",
    "    plt.show()"
   ]
  },
  {
   "cell_type": "code",
   "execution_count": null,
   "metadata": {
    "colab": {
     "base_uri": "https://localhost:8080/",
     "height": 613
    },
    "id": "dLE1KruX5jfI",
    "outputId": "390d06ee-458b-41f5-a75a-74f8fc22485a"
   },
   "outputs": [
    {
     "name": "stdout",
     "output_type": "stream",
     "text": [
      "OneVsOneClassifier(estimator=SVC(C=10, class_weight='balanced',\n",
      "                                 random_state=42))\n",
      "confusion matrix\n",
      "[[24  0  5  3  2  0  4  6]\n",
      " [ 1  0  2  0  2  1  7 35]\n",
      " [ 2  0  4  1  0 22  5 24]\n",
      " [ 0  0  0  2  0 27  2 18]\n",
      " [ 4 13 15  7  4  2  2 10]\n",
      " [ 4  4 14 16  0  6  5  3]\n",
      " [ 2  1  8  0  1  9 34  2]\n",
      " [ 2 34  3  8  0  2  1  0]]\n",
      "accuracy\n",
      "0.1783132530120482\n",
      "recall\n",
      "0.1783132530120482\n",
      "precision\n",
      "0.23236063565586257\n",
      "f1 score\n",
      "0.18596639630024436\n"
     ]
    },
    {
     "data": {
      "image/png": "[encoded data removed]",
      "text/plain": [
       "<Figure size 432x288 with 2 Axes>"
      ]
     },
     "metadata": {
      "needs_background": "light"
     },
     "output_type": "display_data"
    }
   ],
   "source": [
    "# one vs one svm\n",
    "from sklearn import svm\n",
    "from sklearn.model_selection import GridSearchCV\n",
    "from sklearn.multiclass import OneVsOneClassifier\n",
    "params = {'estimator__C':[0.001,0.01,0.1,1,10,100,1000,10000]}\n",
    "sm = OneVsOneClassifier(svm.SVC(random_state=42,class_weight='balanced'))\n",
    "search = GridSearchCV(sm,params,cv=5,scoring='accuracy')\n",
    "clf = search.fit(X_train_lsi.tolist(), train[\"leaf_label\"].tolist())\n",
    "test_pred=clf.best_estimator_.predict(X_test_lsi)\n",
    "print(clf.best_estimator_)\n",
    "score(test[\"leaf_label\"], test_pred)"
   ]
  },
  {
   "cell_type": "code",
   "execution_count": null,
   "metadata": {
    "colab": {
     "base_uri": "https://localhost:8080/",
     "height": 609
    },
    "id": "hbA_59515m0u",
    "outputId": "73a1f35b-14ee-4701-c1de-01c377477090"
   },
   "outputs": [
    {
     "name": "stdout",
     "output_type": "stream",
     "text": [
      "OneVsRestClassifier(estimator=SVC(C=1, class_weight='balanced',\n",
      "                                  random_state=42))\n",
      "confusion matrix\n",
      "[[24  0  0  7  6  0  2  5]\n",
      " [ 1  0  1  1  4  0  7 34]\n",
      " [ 2  0  3  3  0 18  9 23]\n",
      " [ 0  0  0 12  4 22  3  8]\n",
      " [ 6 12 15  6  1  8  6  3]\n",
      " [ 0 12  5 20  0  1  9  5]\n",
      " [ 3  2  6  2  0  2 41  1]\n",
      " [ 0 31  1  7  0  9  1  1]]\n",
      "accuracy\n",
      "0.2\n",
      "recall\n",
      "0.2\n",
      "precision\n",
      "0.19358403065500646\n",
      "f1 score\n",
      "0.19085331161088143\n"
     ]
    },
    {
     "data": {
      "image/png": "[encoded data removed]",
      "text/plain": [
       "<Figure size 432x288 with 2 Axes>"
      ]
     },
     "metadata": {
      "needs_background": "light"
     },
     "output_type": "display_data"
    }
   ],
   "source": [
    "# one vs rest svm\n",
    "from sklearn.multiclass import OneVsRestClassifier\n",
    "\n",
    "params = {'estimator__C':[0.001,0.01,0.1,1,10,100,1000,10000]}\n",
    "sm = OneVsRestClassifier(svm.SVC(random_state=42,class_weight='balanced'))\n",
    "search = GridSearchCV(sm,params,cv=5,scoring='accuracy')\n",
    "clf = search.fit(X_train_lsi.tolist(), train[\"leaf_label\"].tolist())\n",
    "test_pred=clf.best_estimator_.predict(X_test_lsi)\n",
    "print(clf.best_estimator_)\n",
    "score(test[\"leaf_label\"], test_pred)"
   ]
  },
  {
   "cell_type": "code",
   "execution_count": null,
   "metadata": {
    "colab": {
     "base_uri": "https://localhost:8080/",
     "height": 572
    },
    "id": "dyyA3mm75rkZ",
    "outputId": "6ec2fde5-c637-4f34-bd98-cb1a3a20751d"
   },
   "outputs": [
    {
     "name": "stdout",
     "output_type": "stream",
     "text": [
      "confusion matrix\n",
      "[[44  0  3  1  0  0  0  0]\n",
      " [ 4 48  1  0  2  0  0  0]\n",
      " [ 2  1 45  0  2  1  0  0]\n",
      " [ 1  0  1 48  0  0  0  0]\n",
      " [ 0  0  0  1 40  1  0  4]\n",
      " [ 1  0  0  0  2 50  6  1]\n",
      " [ 6  0  0  0  2  3 47  0]\n",
      " [ 0  1  1  0  2  0  0 43]]\n",
      "accuracy\n",
      "0.8795180722891566\n",
      "recall\n",
      "0.8795180722891566\n",
      "precision\n",
      "0.8845719917583624\n",
      "f1 score\n",
      "0.8802566332637812\n"
     ]
    },
    {
     "data": {
      "image/png": "[encoded data removed]",
      "text/plain": [
       "<Figure size 432x288 with 2 Axes>"
      ]
     },
     "metadata": {
      "needs_background": "light"
     },
     "output_type": "display_data"
    }
   ],
   "source": [
    "# one vs one naive_bayes\n",
    "from sklearn.naive_bayes import MultinomialNB\n",
    "from sklearn.multiclass import OneVsOneClassifier\n",
    "clf = OneVsOneClassifier(MultinomialNB(alpha=0.01)).fit(X_train_tfidf, train[\"leaf_label\"].tolist())\n",
    "test_pred=clf.predict(X_test_tfidf)\n",
    "score(test[\"leaf_label\"].tolist(), test_pred.tolist())"
   ]
  },
  {
   "cell_type": "code",
   "execution_count": null,
   "metadata": {
    "colab": {
     "base_uri": "https://localhost:8080/",
     "height": 574
    },
    "id": "ypY2cSYV5t1H",
    "outputId": "14bcb7d6-7c30-480f-ef7e-8d71c198c0fd"
   },
   "outputs": [
    {
     "name": "stdout",
     "output_type": "stream",
     "text": [
      "confusion matrix\n",
      "[[39  1  1  2  1  0  0  0]\n",
      " [ 2 45  0  1  0  0  0  0]\n",
      " [ 1  1 52  2  1  1  0  0]\n",
      " [ 0  0  1 48  0  0  0  0]\n",
      " [ 1  0  1  0 51  2  0  2]\n",
      " [ 1  0  0  1  2 41  5  2]\n",
      " [ 4  1  1  0  1  2 47  1]\n",
      " [ 0  0  0  0  2  0  0 48]]\n",
      "accuracy\n",
      "0.8939759036144578\n",
      "recall\n",
      "0.8939759036144578\n",
      "precision\n",
      "0.8950203946794761\n",
      "f1 score\n",
      "0.8932799091844601\n"
     ]
    },
    {
     "data": {
      "image/png": "[encoded data removed]",
      "text/plain": [
       "<Figure size 432x288 with 2 Axes>"
      ]
     },
     "metadata": {
      "needs_background": "light"
     },
     "output_type": "display_data"
    }
   ],
   "source": [
    "# one vs rest naive_bayes\n",
    "from sklearn.multiclass import OneVsRestClassifier\n",
    "clf = OneVsRestClassifier(MultinomialNB(alpha=0.01)).fit(X_train_tfidf, train[\"leaf_label\"].tolist())\n",
    "test_pred=clf.predict(X_test_tfidf)\n",
    "score(test[\"leaf_label\"], test_pred)"
   ]
  },
  {
   "cell_type": "code",
   "execution_count": null,
   "metadata": {
    "id": "DWlgULhZ5whf"
   },
   "outputs": [],
   "source": [
    "# merge  5 6\n",
    "#train[\"leaf_label\"].tolist()\n",
    "merg_la={'earthquake':'flood'}\n",
    "train_merg_leaf_la=[merg_la[i] if i in merg_la else i for i in train[\"leaf_label\"].tolist()]\n",
    "test_merg_leaf_la=[merg_la[i] if i in merg_la else i for i in test[\"leaf_label\"].tolist()]"
   ]
  },
  {
   "cell_type": "code",
   "execution_count": null,
   "metadata": {
    "id": "eHDZCZLd5yGD"
   },
   "outputs": [],
   "source": [
    "def merg_score(test_root_label,test_pred):    \n",
    "    print('confusion matrix')\n",
    "    cm=confusion_matrix(test_root_label, test_pred, labels=['chess','cricket',\n",
    "            'soccer','football','%22forest%20fire%22','flood','drought'])\n",
    "    print(confusion_matrix(test_root_label, test_pred, labels=['chess','cricket',\n",
    "            'soccer','football','%22forest%20fire%22','flood','drought']))\n",
    "    print('accuracy')\n",
    "    print(accuracy_score(test_root_label, test_pred))\n",
    "    print('recall')\n",
    "    print(recall_score(test_root_label, test_pred, average='weighted'))\n",
    "    print('precision')\n",
    "    print(precision_score(test_root_label, test_pred,average='weighted'))\n",
    "    print('f1 score')\n",
    "    print(f1_score(test_root_label, test_pred,average='weighted'))\n",
    "    #cm=confusion_matrix(test[\"root_label\"], test_pred)\n",
    "    from sklearn.metrics import ConfusionMatrixDisplay\n",
    "    disp =ConfusionMatrixDisplay(confusion_matrix=cm)\n",
    "    disp.plot(cmap=plt.cm.Blues)\n",
    "    plt.show()"
   ]
  },
  {
   "cell_type": "code",
   "execution_count": null,
   "metadata": {
    "colab": {
     "base_uri": "https://localhost:8080/",
     "height": 557
    },
    "id": "Ew24dJ7Z50rP",
    "outputId": "cb2328cc-0bdf-4f02-9d1d-925f91dab85d"
   },
   "outputs": [
    {
     "name": "stdout",
     "output_type": "stream",
     "text": [
      "confusion matrix\n",
      "[[ 3  4 16  6  1 12  6]\n",
      " [ 5  3 15  3  5 12  5]\n",
      " [ 5 11 13  3 11 20  5]\n",
      " [ 7  4 10  2  3 14  7]\n",
      " [ 7 12 14  5  4 10  5]\n",
      " [10 13 32  4  6 26  8]\n",
      " [ 2  6 15  2  7 13  3]]\n",
      "accuracy\n",
      "0.13012048192771083\n",
      "recall\n",
      "0.13012048192771083\n",
      "precision\n",
      "0.1247392529324031\n",
      "f1 score\n",
      "0.12430323660846719\n"
     ]
    },
    {
     "data": {
      "image/png": "[encoded data removed]",
      "text/plain": [
       "<Figure size 432x288 with 2 Axes>"
      ]
     },
     "metadata": {
      "needs_background": "light"
     },
     "output_type": "display_data"
    }
   ],
   "source": [
    "# one vs one svm\n",
    "from sklearn.multiclass import OneVsOneClassifier\n",
    "params = {'estimator__C':[0.001,0.01,0.1,1,10,100,1000,10000]}\n",
    "sm_mer = OneVsOneClassifier(svm.SVC(random_state=42,class_weight='balanced'))\n",
    "search = GridSearchCV(sm_mer,params,cv=5,scoring='accuracy')\n",
    "clf = search.fit(X_train_lsi.tolist(), train_merg_leaf_la)\n",
    "test_pred=clf.best_estimator_.predict(X_test_lsi.tolist())\n",
    "merg_score(test_merg_leaf_la, test_pred)\n"
   ]
  },
  {
   "cell_type": "code",
   "execution_count": null,
   "metadata": {
    "colab": {
     "base_uri": "https://localhost:8080/",
     "height": 557
    },
    "id": "NeLD9gXs521h",
    "outputId": "01be8b3a-c927-42c3-f07b-dc768fb96447"
   },
   "outputs": [
    {
     "name": "stdout",
     "output_type": "stream",
     "text": [
      "confusion matrix\n",
      "[[ 3  5 12  5  4 15  4]\n",
      " [ 4  3 15  2  5 17  2]\n",
      " [ 7  8 12  7  6 25  3]\n",
      " [ 4  4 10  4  4 17  4]\n",
      " [ 1  8 11 12  5 14  6]\n",
      " [ 9  5 33  4 10 33  5]\n",
      " [ 3  8 14  3  7 12  1]]\n",
      "accuracy\n",
      "0.14698795180722893\n",
      "recall\n",
      "0.14698795180722893\n",
      "precision\n",
      "0.13084273495008472\n",
      "f1 score\n",
      "0.1348882350977082\n"
     ]
    },
    {
     "data": {
      "image/png": "[encoded data removed]",
      "text/plain": [
       "<Figure size 432x288 with 2 Axes>"
      ]
     },
     "metadata": {
      "needs_background": "light"
     },
     "output_type": "display_data"
    }
   ],
   "source": [
    "# one vs Rest svm\n",
    "from sklearn.multiclass import OneVsRestClassifier\n",
    "params = {'estimator__C':[0.001,0.01,0.1,1,10,100,1000,10000]}\n",
    "sm_mer = OneVsRestClassifier(svm.SVC(random_state=42,class_weight='balanced'))\n",
    "search = GridSearchCV(sm_mer,params,cv=5,scoring='accuracy')\n",
    "clf = search.fit(X_train_lsi.tolist(), train_merg_leaf_la)\n",
    "test_pred=clf.best_estimator_.predict(X_test_lsi.tolist())\n",
    "merg_score(test_merg_leaf_la, test_pred)\n",
    "\n"
   ]
  },
  {
   "cell_type": "code",
   "execution_count": null,
   "metadata": {
    "colab": {
     "base_uri": "https://localhost:8080/",
     "height": 574
    },
    "id": "H-n4haJtkZJk",
    "outputId": "e1cae8d7-28de-4abc-836c-2bdec6d05080"
   },
   "outputs": [
    {
     "name": "stdout",
     "output_type": "stream",
     "text": [
      "confusion matrix\n",
      "[[40  0  1  2  1  0  0  0]\n",
      " [ 2 45  0  1  0  0  0  0]\n",
      " [ 2  1 52  1  1  1  0  0]\n",
      " [ 0  0  1 48  0  0  0  0]\n",
      " [ 1  0  1  0 52  1  0  2]\n",
      " [ 1  0  0  1  2 42  4  2]\n",
      " [ 4  1  1  0  1  3 46  1]\n",
      " [ 0  0  0  0  4  0  0 46]]\n",
      "accuracy\n",
      "0.8939759036144578\n",
      "recall\n",
      "0.8939759036144578\n",
      "precision\n",
      "0.8963571961752169\n",
      "f1 score\n",
      "0.8936453517792432\n"
     ]
    },
    {
     "data": {
      "image/png": "[encoded data removed]",
      "text/plain": [
       "<Figure size 432x288 with 2 Axes>"
      ]
     },
     "metadata": {
      "needs_background": "light"
     },
     "output_type": "display_data"
    }
   ],
   "source": [
    "# one vs one naive_bayes\n",
    "clf = OneVsOneClassifier(MultinomialNB(alpha=0.01)).fit(X_train_tfidf, train[\"leaf_label\"].tolist())\n",
    "test_pred=clf.predict(X_test_tfidf)\n",
    "score(test[\"leaf_label\"].tolist(), test_pred.tolist())"
   ]
  },
  {
   "cell_type": "code",
   "execution_count": null,
   "metadata": {
    "colab": {
     "base_uri": "https://localhost:8080/",
     "height": 574
    },
    "id": "cIfNzOgKkdJ3",
    "outputId": "25af4496-a6cb-4950-9700-24b4381238b4"
   },
   "outputs": [
    {
     "name": "stdout",
     "output_type": "stream",
     "text": [
      "confusion matrix\n",
      "[[39  1  1  2  1  0  0  0]\n",
      " [ 2 45  0  1  0  0  0  0]\n",
      " [ 1  1 52  2  1  1  0  0]\n",
      " [ 0  0  1 48  0  0  0  0]\n",
      " [ 1  0  1  0 51  2  0  2]\n",
      " [ 1  0  0  1  2 41  5  2]\n",
      " [ 4  1  1  0  1  2 47  1]\n",
      " [ 0  0  0  0  2  0  0 48]]\n",
      "accuracy\n",
      "0.8939759036144578\n",
      "recall\n",
      "0.8939759036144578\n",
      "precision\n",
      "0.8950203946794761\n",
      "f1 score\n",
      "0.8932799091844601\n"
     ]
    },
    {
     "data": {
      "image/png": "[encoded data removed]",
      "text/plain": [
       "<Figure size 432x288 with 2 Axes>"
      ]
     },
     "metadata": {
      "needs_background": "light"
     },
     "output_type": "display_data"
    }
   ],
   "source": [
    "# one vs rest naive_bayes\n",
    "clf = OneVsRestClassifier(MultinomialNB(alpha=0.01)).fit(X_train_tfidf, train[\"leaf_label\"].tolist())\n",
    "test_pred=clf.predict(X_test_tfidf)\n",
    "score(test[\"leaf_label\"].tolist(), test_pred.tolist())"
   ]
  },
  {
   "cell_type": "code",
   "execution_count": null,
   "metadata": {
    "id": "JfKfaLuY58zC"
   },
   "outputs": [],
   "source": [
    "# class imbalance\n",
    "\n",
    "from imblearn.over_sampling import SMOTE\n",
    "sm = SMOTE(random_state=42)\n",
    "train_bala, train_leaf_bala = sm.fit_resample(X_train_tfidf, train[\"leaf_label\"].tolist())\n",
    "test_bala, test_leaf_bala = sm.fit_resample(X_test_tfidf, test[\"leaf_label\"].tolist())\n"
   ]
  },
  {
   "cell_type": "code",
   "execution_count": null,
   "metadata": {
    "colab": {
     "base_uri": "https://localhost:8080/",
     "height": 574
    },
    "id": "f0RlpdxU6CT6",
    "outputId": "909f762d-299d-459f-c250-459057b9ebf9"
   },
   "outputs": [
    {
     "name": "stdout",
     "output_type": "stream",
     "text": [
      "confusion matrix\n",
      "[[49  2  1  2  2  2  0  0]\n",
      " [ 1 56  0  1  0  0  0  0]\n",
      " [ 2  2 52  1  0  1  0  0]\n",
      " [ 0  0  0 58  0  0  0  0]\n",
      " [ 0  2  0  0 52  0  0  4]\n",
      " [ 1  0  0  1  1 41  8  6]\n",
      " [ 3  2  1  0  0  3 48  1]\n",
      " [ 0  0  0  0  0  0  0 58]]\n",
      "accuracy\n",
      "0.8922413793103449\n",
      "recall\n",
      "0.8922413793103449\n",
      "precision\n",
      "0.8936394277340161\n",
      "f1 score\n",
      "0.890216059674615\n"
     ]
    },
    {
     "data": {
      "image/png": "[encoded data removed]",
      "text/plain": [
       "<Figure size 432x288 with 2 Axes>"
      ]
     },
     "metadata": {
      "needs_background": "light"
     },
     "output_type": "display_data"
    }
   ],
   "source": [
    "# one vs one naive_bayes\n",
    "#X_train_tfidf\n",
    "from sklearn.multiclass import OneVsOneClassifier\n",
    "clf = OneVsOneClassifier(MultinomialNB()).fit(train_bala, train_leaf_bala)\n",
    "test_pred=clf.predict(test_bala)\n",
    "score(test_leaf_bala, test_pred)"
   ]
  },
  {
   "cell_type": "code",
   "execution_count": null,
   "metadata": {
    "colab": {
     "base_uri": "https://localhost:8080/",
     "height": 574
    },
    "id": "fQ0UH7Enln9i",
    "outputId": "b841d36f-75ea-446b-9e01-4168aa01981b"
   },
   "outputs": [
    {
     "name": "stdout",
     "output_type": "stream",
     "text": [
      "confusion matrix\n",
      "[[52  1  0  2  2  1  0  0]\n",
      " [ 2 55  0  1  0  0  0  0]\n",
      " [ 2  2 52  1  0  1  0  0]\n",
      " [ 0  0  0 58  0  0  0  0]\n",
      " [ 0  1  0  0 53  1  0  3]\n",
      " [ 1  0  0  1  1 41  8  6]\n",
      " [ 3  2  1  0  0  3 48  1]\n",
      " [ 0  0  0  0  0  0  0 58]]\n",
      "accuracy\n",
      "0.8987068965517241\n",
      "recall\n",
      "0.8987068965517241\n",
      "precision\n",
      "0.899865754701189\n",
      "f1 score\n",
      "0.8968571786423256\n"
     ]
    },
    {
     "data": {
      "image/png": "[encoded data removed]",
      "text/plain": [
       "<Figure size 432x288 with 2 Axes>"
      ]
     },
     "metadata": {
      "needs_background": "light"
     },
     "output_type": "display_data"
    }
   ],
   "source": [
    "# one vs rest naive_bayes\n",
    "#X_train_tfidf\n",
    "from sklearn.multiclass import OneVsOneClassifier\n",
    "clf = OneVsRestClassifier(MultinomialNB()).fit(train_bala, train_leaf_bala)\n",
    "test_pred=clf.predict(test_bala)\n",
    "score(test_leaf_bala, test_pred)"
   ]
  },
  {
   "cell_type": "code",
   "execution_count": null,
   "metadata": {
    "colab": {
     "base_uri": "https://localhost:8080/",
     "height": 574
    },
    "id": "asI8gqv36Msh",
    "outputId": "3b63c292-52f4-41fa-aea8-bbbaae76f0b8"
   },
   "outputs": [
    {
     "name": "stdout",
     "output_type": "stream",
     "text": [
      "confusion matrix\n",
      "[[56  0  1  1  0  0  0  0]\n",
      " [ 2 55  0  1  0  0  0  0]\n",
      " [ 2  1 54  0  1  0  0  0]\n",
      " [ 1  0  0 57  0  0  0  0]\n",
      " [ 0  0  0  0 56  0  0  2]\n",
      " [ 1  1  0  1  3 48  2  2]\n",
      " [ 5  0  1  0  2  3 47  0]\n",
      " [ 0  0  0  0  4  1  0 53]]\n",
      "accuracy\n",
      "0.9181034482758621\n",
      "recall\n",
      "0.9181034482758621\n",
      "precision\n",
      "0.9219486121180656\n",
      "f1 score\n",
      "0.9177735922011482\n"
     ]
    },
    {
     "data": {
      "image/png": "[encoded data removed]",
      "text/plain": [
       "<Figure size 432x288 with 2 Axes>"
      ]
     },
     "metadata": {
      "needs_background": "light"
     },
     "output_type": "display_data"
    }
   ],
   "source": [
    "# one vs one svm\n",
    "from sklearn.multiclass import OneVsOneClassifier\n",
    "params = {'estimator__C':[0.001,0.01,0.1,1,10,100,1000,10000]}\n",
    "sm_im = OneVsOneClassifier(svm.SVC(random_state=42,class_weight='balanced')).fit(train_bala, train_leaf_bala)\n",
    "search = GridSearchCV(sm_im,params,cv=5,scoring='accuracy')\n",
    "clf = search.fit(train_bala, train_leaf_bala)\n",
    "test_pred=clf.best_estimator_.predict(test_bala)\n",
    "score(test_leaf_bala, test_pred)"
   ]
  },
  {
   "cell_type": "code",
   "execution_count": null,
   "metadata": {
    "colab": {
     "base_uri": "https://localhost:8080/",
     "height": 574
    },
    "id": "YDpOwUl8K3W7",
    "outputId": "cc677875-f20e-4dea-826f-3c365979886e"
   },
   "outputs": [
    {
     "name": "stdout",
     "output_type": "stream",
     "text": [
      "confusion matrix\n",
      "[[56  0  1  1  0  0  0  0]\n",
      " [ 2 55  0  1  0  0  0  0]\n",
      " [ 2  1 54  0  1  0  0  0]\n",
      " [ 0  0  0 58  0  0  0  0]\n",
      " [ 0  0  0  0 56  0  0  2]\n",
      " [ 0  1  0  1  2 49  3  2]\n",
      " [ 2  0  1  0  0  2 52  1]\n",
      " [ 0  0  0  0  1  1  0 56]]\n",
      "accuracy\n",
      "0.9396551724137931\n",
      "recall\n",
      "0.9396551724137931\n",
      "precision\n",
      "0.9402964789438807\n",
      "f1 score\n",
      "0.9392006869567349\n"
     ]
    },
    {
     "data": {
      "image/png": "[encoded data removed]",
      "text/plain": [
       "<Figure size 432x288 with 2 Axes>"
      ]
     },
     "metadata": {
      "needs_background": "light"
     },
     "output_type": "display_data"
    }
   ],
   "source": [
    "# one vs rest svm\n",
    "params = {'estimator__C':[0.001,0.01,0.1,1,10,100,1000,10000]}\n",
    "sm_im = OneVsRestClassifier(svm.SVC(random_state=42,class_weight='balanced')).fit(train_bala, train_leaf_bala)\n",
    "search = GridSearchCV(sm_im,params,cv=5,scoring='accuracy')\n",
    "clf = search.fit(train_bala, train_leaf_bala)\n",
    "test_pred=clf.best_estimator_.predict(test_bala)\n",
    "score(test_leaf_bala, test_pred)\n",
    "\n"
   ]
  },
  {
   "cell_type": "markdown",
   "metadata": {
    "id": "gJz8b5JY9VKH"
   },
   "source": [
    "**Question 9**: \n",
    "* A good classifier should have a confusion matrix with large values on the main diagonal corresponding to high TPRs and TNRs and small values off the main diagonal corresponding to low FPRs and FNRs. The OVO and OVR Naive Bayes classifiers show this performance, but the OVO and OVR SVM classifiers have smaller values on the main diagonal and even some large values off the main diagonal, so it performs poorly at classifying most classes.\n",
    "* \"flood\" and \"earthquake\" classes were merged together, since the confusion matrices show that the classifiers sometimes confused these two classes, since the values just off the main diagonal are larger for these classes. Merging improved the accuracy in the OVO Naive Bayes classification but decreased the accuracy in the other cases.\n",
    "* Class imbalance negatively affected the performance of classifiers, and has more impact on svm than naive bayes. Therefore, before smote, svm has a smaller accuarcy than naive bayes. For example, for One VS One svm, classifier is more inclined to predict labels as drought due to class imbalance. \n",
    "* Using smote and class_weight='balanced' could help solving the class imbalance problem. For instance, after smote, the accuracy of One Vs Rest svm effectively improved from 0.2 to 0.94."
   ]
  },
  {
   "cell_type": "markdown",
   "metadata": {
    "id": "mg5n9TB7ajW9"
   },
   "source": [
    "# Word Embedding"
   ]
  },
  {
   "cell_type": "code",
   "execution_count": null,
   "metadata": {
    "id": "2xdrqcSi9xws"
   },
   "outputs": [],
   "source": [
    "embeddings_dict = {50: {}, 100: {}, 200: {}, 300: {}}\n",
    "dimension_of_glove_list = [50, 100, 200, 300]\n",
    "for dimension_of_glove in dimension_of_glove_list:\n",
    "    with open(f\"glove/glove.6B.{dimension_of_glove}d.txt\", 'r') as f:\n",
    "        for line in f:\n",
    "            values = line.split()\n",
    "            word = values[0]\n",
    "            vector = np.asarray(values[1:], \"float32\")\n",
    "            embeddings_dict[dimension_of_glove][word] = vector"
   ]
  },
  {
   "cell_type": "code",
   "execution_count": null,
   "metadata": {
    "colab": {
     "base_uri": "https://localhost:8080/"
    },
    "id": "DX0rSP1g9zPG",
    "outputId": "81ccbdbc-317e-4931-ea96-f91b6029efe6"
   },
   "outputs": [
    {
     "name": "stdout",
     "output_type": "stream",
     "text": [
      "3.290033\n",
      "3.4777563\n",
      "1.7672977\n",
      "0.35743952\n"
     ]
    }
   ],
   "source": [
    "print(np.linalg.norm(embeddings_dict[50][\"queen\"]-embeddings_dict[50][\"king\"]-embeddings_dict[50][\"wife\"]+embeddings_dict[50][\"husband\"]))\n",
    "print(np.linalg.norm(embeddings_dict[50][\"queen\"]-embeddings_dict[50][\"king\"]))\n",
    "print(np.linalg.norm(embeddings_dict[50][\"wife\"]-embeddings_dict[50][\"husband\"]))\n",
    "v1 = embeddings_dict[50][\"queen\"]-embeddings_dict[50][\"king\"]\n",
    "v2 = embeddings_dict[50][\"wife\"]-embeddings_dict[50][\"husband\"]\n",
    "print(np.dot(v1,v2)/np.linalg.norm(v1)/np.linalg.norm(v2))"
   ]
  },
  {
   "cell_type": "markdown",
   "metadata": {
    "id": "wTqeC8o36g5h"
   },
   "source": [
    "**Question 10**: \n",
    "- (a) Compared to the raw probabilities, the ratio is better able to distinguish relevant words from irrelevant words and it is also better able to discriminate between the two relevant words. For example, we take *i = ice* and *j = steam*. For words *k* related to ice but not steam, say *k = solid*, we expect the ratio P<sub>ik</sub>/P<sub>jk</sub> will be large. For words *k* like water or fashion, that are either related to both ice and steam, or to neither, the ratio should be close to one.\n",
    "\n",
    "- (b) GLoVE embeddings will return the same vector for the word **running** in both cases. The reason is that GLoVE embeddings only give each word one vector representation which is trained on the ratio of co-occurrence probabilities.\n",
    "\n",
    "- (c) We expect that ||GLoVE[\"queen\"] - GLoVE[\"king\"] - GLoVE[\"wife\"] + GLoVE[\"husband\"]||<sub>2</sub> is close to 0 and ||GLoVE[\"queen\"] - GLoVE[\"king\"]||<sub>2</sub> is close to ||GLoVE[\"wife\"] - GLoVE[\"husband\"]||<sub>2</sub>. In the above code, we print the norms of the differences of these vectors. Furthermore, we compute the cosine of the angle between GLoVE[\"queen\"] - GLoVE[\"king\"] and GLoVE[\"wife\"] - GLoVE[\"husband\"], which shows the similarity of these two vectors.\n",
    "\n",
    "- (d) We would rather not stem or lemmatize the work before mapping it to its GLoVE embedding. The reason is that GLoVE embeddings give different vector representations for the different forms of the same word.\n"
   ]
  },
  {
   "cell_type": "code",
   "execution_count": null,
   "metadata": {
    "id": "4WNrxfoM6u-v"
   },
   "outputs": [],
   "source": [
    "from sklearn.feature_extraction.text import CountVectorizer\n",
    "from sklearn.model_selection import train_test_split\n",
    "\n",
    "train, test = train_test_split(df, test_size=0.2)\n",
    "\n",
    "analyzer = CountVectorizer().build_analyzer()\n",
    "\n",
    "def text2vec(text, dimension_of_glove=50):\n",
    "    count = 0\n",
    "    sum = np.zeros(dimension_of_glove)\n",
    "    for word in analyzer(text):\n",
    "        if word in embeddings_dict[dimension_of_glove]:\n",
    "            count += 1\n",
    "            sum += embeddings_dict[dimension_of_glove][word]\n",
    "    # return sum/count\n",
    "    return sum/np.linalg.norm(sum)\n",
    "\n",
    "train[\"clean_text\"] = train[\"full_text\"].apply(clean)\n",
    "test[\"clean_text\"] = test[\"full_text\"].apply(clean)\n",
    "\n",
    "train[\"text_vec\"] = train[\"clean_text\"].apply(text2vec)\n",
    "test[\"text_vec\"] = test[\"clean_text\"].apply(text2vec)"
   ]
  },
  {
   "cell_type": "code",
   "execution_count": null,
   "metadata": {
    "colab": {
     "base_uri": "https://localhost:8080/"
    },
    "id": "L7kJyST38K4C",
    "outputId": "4a11f7bd-9d2a-4db2-ce66-fa1dccbc04b4"
   },
   "outputs": [
    {
     "name": "stdout",
     "output_type": "stream",
     "text": [
      "0.9662650602409638\n",
      "{'cv': None, 'error_score': nan, 'estimator__C': 1.0, 'estimator__break_ties': False, 'estimator__cache_size': 200, 'estimator__class_weight': None, 'estimator__coef0': 0.0, 'estimator__decision_function_shape': 'ovr', 'estimator__degree': 3, 'estimator__gamma': 'scale', 'estimator__kernel': 'rbf', 'estimator__max_iter': -1, 'estimator__probability': False, 'estimator__random_state': None, 'estimator__shrinking': True, 'estimator__tol': 0.001, 'estimator__verbose': False, 'estimator': SVC(), 'n_jobs': None, 'param_grid': {'gamma': array([1. , 1.1, 1.2, 1.3, 1.4, 1.5, 1.6, 1.7, 1.8, 1.9, 2. , 2.1, 2.2,\n",
      "       2.3, 2.4, 2.5, 2.6, 2.7, 2.8, 2.9]), 'C': [2.5, 5, 10, 20]}, 'pre_dispatch': '2*n_jobs', 'refit': True, 'return_train_score': False, 'scoring': None, 'verbose': 0}\n"
     ]
    }
   ],
   "source": [
    "from sklearn.svm import SVC\n",
    "from sklearn.model_selection import GridSearchCV\n",
    "from sklearn.metrics import accuracy_score\n",
    "# clf = SVC(gamma=2.3)\n",
    "# clf.fit(train[\"text_vec\"].tolist(), train[\"root_label\"].tolist())\n",
    "# predicted = clf.predict(test[\"text_vec\"].tolist())\n",
    "parameters = {'gamma':np.arange(1,3,0.1), 'C':[2.5, 5, 10, 20]}\n",
    "svc = SVC()\n",
    "clf = GridSearchCV(svc, parameters)\n",
    "clf.fit(train[\"text_vec\"].tolist(), train[\"root_label\"].tolist())\n",
    "predicted = clf.predict(test[\"text_vec\"].tolist())\n",
    "print(accuracy_score(np.array(test[\"root_label\"]), predicted))\n",
    "print(clf.get_params())"
   ]
  },
  {
   "cell_type": "code",
   "execution_count": null,
   "metadata": {
    "colab": {
     "base_uri": "https://localhost:8080/"
    },
    "id": "6TqP26WMKwg3",
    "outputId": "d79ca5e2-9622-455e-e338-9b4f4f402464"
   },
   "outputs": [
    {
     "name": "stdout",
     "output_type": "stream",
     "text": [
      "{'C': 20, 'gamma': 2.9000000000000017}\n"
     ]
    }
   ],
   "source": [
    "print(clf.best_params_)"
   ]
  },
  {
   "cell_type": "markdown",
   "metadata": {
    "id": "p5vDjo8fJvLx"
   },
   "source": [
    "**Question 11:**\n",
    "- (a) The feature of the document is computed as follows: First, we clean the document without lemmatization. Second, we get the GLoVE word embeddings of all the words in the document. Third we compute the sum of all the word embeddings and normalize the sum into a unit vector, which is the our computed feature of the document.\n",
    "- (b) The above code uses SVM classifer and the accuracy is 96.63%. Here the dimension of the word embeddings is 50."
   ]
  },
  {
   "cell_type": "code",
   "execution_count": null,
   "metadata": {
    "colab": {
     "base_uri": "https://localhost:8080/"
    },
    "id": "Yiu1VpIA6cjL",
    "outputId": "019c3f2e-fdc2-4e32-9936-e955b56007b8"
   },
   "outputs": [
    {
     "name": "stdout",
     "output_type": "stream",
     "text": [
      "{'C': 20, 'gamma': 2.9000000000000017}\n",
      "{'C': 20, 'gamma': 2.7000000000000015}\n",
      "{'C': 10, 'gamma': 2.8000000000000016}\n",
      "{'C': 10, 'gamma': 2.8000000000000016}\n"
     ]
    }
   ],
   "source": [
    "dimension_of_glove_list = [50, 100, 200, 300]\n",
    "acc_list = []\n",
    "for dimension_of_glove in dimension_of_glove_list:\n",
    "    train[\"text_vec\"] = train[\"clean_text\"].apply(text2vec, dimension_of_glove=dimension_of_glove)\n",
    "    test[\"text_vec\"] = test[\"clean_text\"].apply(text2vec, dimension_of_glove=dimension_of_glove)\n",
    "    parameters = {'gamma':np.arange(1,3,0.1), 'C':[2.5, 5, 10, 20]}\n",
    "    svc = SVC()\n",
    "    clf = GridSearchCV(svc, parameters)\n",
    "    clf.fit(train[\"text_vec\"].tolist(), train[\"root_label\"].tolist())\n",
    "    predicted = clf.predict(test[\"text_vec\"].tolist())\n",
    "    acc_list.append(accuracy_score(np.array(test[\"root_label\"]), predicted))\n",
    "    print(clf.best_params_)"
   ]
  },
  {
   "cell_type": "code",
   "execution_count": null,
   "metadata": {
    "colab": {
     "base_uri": "https://localhost:8080/"
    },
    "id": "kfC2g6zrHtrN",
    "outputId": "55646bd4-cee4-4b20-a9fc-994224925820"
   },
   "outputs": [
    {
     "data": {
      "text/plain": [
       "[0.9662650602409638,\n",
       " 0.9710843373493976,\n",
       " 0.9734939759036144,\n",
       " 0.9759036144578314]"
      ]
     },
     "execution_count": 26,
     "metadata": {},
     "output_type": "execute_result"
    }
   ],
   "source": [
    "acc_list"
   ]
  },
  {
   "cell_type": "code",
   "execution_count": null,
   "metadata": {
    "colab": {
     "base_uri": "https://localhost:8080/",
     "height": 296
    },
    "id": "mToTQ_PnLthf",
    "outputId": "f8223a90-d1de-44a4-84fd-6655141028ac"
   },
   "outputs": [
    {
     "data": {
      "text/plain": [
       "Text(0, 0.5, 'Accuracy')"
      ]
     },
     "execution_count": 27,
     "metadata": {},
     "output_type": "execute_result"
    },
    {
     "data": {
      "image/png": "[encoded data removed]",
      "text/plain": [
       "<Figure size 432x288 with 1 Axes>"
      ]
     },
     "metadata": {
      "needs_background": "light"
     },
     "output_type": "display_data"
    }
   ],
   "source": [
    "from matplotlib import pyplot as plt\n",
    "plt.plot(dimension_of_glove_list, acc_list)\n",
    "plt.xlabel(\"Dimension of the GLoVE embedding\")\n",
    "plt.ylabel(\"Accuracy\")"
   ]
  },
  {
   "cell_type": "markdown",
   "metadata": {
    "id": "jlk_VTUtBltY"
   },
   "source": [
    "**Question 12**\n",
    "\n",
    "- The plot is shown above. We can see that as the dimension of the GLoVE embedding increases, the accuracy also increases. It is expected because higher dimension gives more representation power to the word embeddings and the computed feature of the document."
   ]
  },
  {
   "cell_type": "code",
   "execution_count": null,
   "metadata": {
    "colab": {
     "base_uri": "https://localhost:8080/"
    },
    "id": "QMQkpwJPBqMo",
    "outputId": "07a20f61-b058-4214-cb89-3778aec0f78a"
   },
   "outputs": [
    {
     "name": "stdout",
     "output_type": "stream",
     "text": [
      "Collecting umap-learn\n",
      "  Downloading umap-learn-0.5.2.tar.gz (86 kB)\n",
      "\u001b[K     |████████████████████████████████| 86 kB 2.3 MB/s \n",
      "\u001b[?25hRequirement already satisfied: numpy>=1.17 in /usr/local/lib/python3.7/dist-packages (from umap-learn) (1.19.5)\n",
      "Requirement already satisfied: scikit-learn>=0.22 in /usr/local/lib/python3.7/dist-packages (from umap-learn) (1.0.2)\n",
      "Requirement already satisfied: scipy>=1.0 in /usr/local/lib/python3.7/dist-packages (from umap-learn) (1.4.1)\n",
      "Requirement already satisfied: numba>=0.49 in /usr/local/lib/python3.7/dist-packages (from umap-learn) (0.51.2)\n",
      "Collecting pynndescent>=0.5\n",
      "  Downloading pynndescent-0.5.6.tar.gz (1.1 MB)\n",
      "\u001b[K     |████████████████████████████████| 1.1 MB 29.4 MB/s \n",
      "\u001b[?25hRequirement already satisfied: tqdm in /usr/local/lib/python3.7/dist-packages (from umap-learn) (4.62.3)\n",
      "Requirement already satisfied: setuptools in /usr/local/lib/python3.7/dist-packages (from numba>=0.49->umap-learn) (57.4.0)\n",
      "Requirement already satisfied: llvmlite<0.35,>=0.34.0.dev0 in /usr/local/lib/python3.7/dist-packages (from numba>=0.49->umap-learn) (0.34.0)\n",
      "Requirement already satisfied: joblib>=0.11 in /usr/local/lib/python3.7/dist-packages (from pynndescent>=0.5->umap-learn) (1.1.0)\n",
      "Requirement already satisfied: threadpoolctl>=2.0.0 in /usr/local/lib/python3.7/dist-packages (from scikit-learn>=0.22->umap-learn) (3.0.0)\n",
      "Building wheels for collected packages: umap-learn, pynndescent\n",
      "  Building wheel for umap-learn (setup.py) ... \u001b[?25l\u001b[?25hdone\n",
      "  Created wheel for umap-learn: filename=umap_learn-0.5.2-py3-none-any.whl size=82708 sha256=fe2fa333f4c7ff30c8ab5bc97dc7ac15f795907642903b8a3a10b9d706cd4872\n",
      "  Stored in directory: /root/.cache/pip/wheels/84/1b/c6/aaf68a748122632967cef4dffef68224eb16798b6793257d82\n",
      "  Building wheel for pynndescent (setup.py) ... \u001b[?25l\u001b[?25hdone\n",
      "  Created wheel for pynndescent: filename=pynndescent-0.5.6-py3-none-any.whl size=53943 sha256=bc9cecd3f0eec1e594e47b547fa88be189d96e6082c35b1ca7ce544f83e2f490\n",
      "  Stored in directory: /root/.cache/pip/wheels/03/f1/56/f80d72741e400345b5a5b50ec3d929aca581bf45e0225d5c50\n",
      "Successfully built umap-learn pynndescent\n",
      "Installing collected packages: pynndescent, umap-learn\n",
      "Successfully installed pynndescent-0.5.6 umap-learn-0.5.2\n"
     ]
    }
   ],
   "source": [
    "pip install umap-learn"
   ]
  },
  {
   "cell_type": "code",
   "execution_count": null,
   "metadata": {
    "colab": {
     "base_uri": "https://localhost:8080/"
    },
    "id": "cLBQtVobBkEC",
    "outputId": "6d9d9867-bbf0-4399-b86c-f2fe36b50ca5"
   },
   "outputs": [
    {
     "name": "stderr",
     "output_type": "stream",
     "text": [
      "/usr/local/lib/python3.7/dist-packages/numba/np/ufunc/parallel.py:363: NumbaWarning: The TBB threading layer requires TBB version 2019.5 or later i.e., TBB_INTERFACE_VERSION >= 11005. Found TBB_INTERFACE_VERSION = 9107. The TBB threading layer is disabled.\n",
      "  warnings.warn(problem)\n"
     ]
    }
   ],
   "source": [
    "import umap\n",
    "reducer = umap.UMAP()\n",
    "embedding = reducer.fit_transform(train[\"text_vec\"].tolist())"
   ]
  },
  {
   "cell_type": "code",
   "execution_count": null,
   "metadata": {
    "colab": {
     "base_uri": "https://localhost:8080/",
     "height": 300
    },
    "id": "N9DOtz5vBxil",
    "outputId": "6cb92789-301b-4cbc-f6c3-b6dd17e18d46"
   },
   "outputs": [
    {
     "data": {
      "text/plain": [
       "Text(0.5, 1.0, 'UMAP projection of the embeddings of the documents')"
      ]
     },
     "execution_count": 30,
     "metadata": {},
     "output_type": "execute_result"
    },
    {
     "data": {
      "image/png": "[encoded data removed]",
      "text/plain": [
       "<Figure size 432x288 with 1 Axes>"
      ]
     },
     "metadata": {
      "needs_background": "light"
     },
     "output_type": "display_data"
    }
   ],
   "source": [
    "import matplotlib.pyplot as plt\n",
    "import seaborn as sns\n",
    "\n",
    "plt.scatter(\n",
    "    embedding[:, 0],\n",
    "    embedding[:, 1],\n",
    "    c=[sns.color_palette()[x] for x in train[\"root_label\"].map({\"sports\":0, \"climate\":1})],s=1)\n",
    "plt.gca().set_aspect('equal', 'datalim')\n",
    "plt.title('UMAP projection of the embeddings of the documents', fontsize=16)"
   ]
  },
  {
   "cell_type": "code",
   "execution_count": null,
   "metadata": {
    "colab": {
     "base_uri": "https://localhost:8080/",
     "height": 300
    },
    "id": "kHynoS1JD8J5",
    "outputId": "2a20b23c-9b55-45c5-f315-a6ae6fe39b3c"
   },
   "outputs": [
    {
     "data": {
      "text/plain": [
       "Text(0.5, 1.0, 'UMAP projection of the random points')"
      ]
     },
     "execution_count": 31,
     "metadata": {},
     "output_type": "execute_result"
    },
    {
     "data": {
      "image/png": "[encoded data removed]",
      "text/plain": [
       "<Figure size 432x288 with 1 Axes>"
      ]
     },
     "metadata": {
      "needs_background": "light"
     },
     "output_type": "display_data"
    }
   ],
   "source": [
    "random_points = np.random.randn(1657, 50)\n",
    "random_points = random_points/(np.linalg.norm(random_points,2, axis=1).reshape(-1,1))\n",
    "reducer_1 = umap.UMAP()\n",
    "embedding_1 = reducer_1.fit_transform(random_points)\n",
    "plt.scatter(embedding_1[:, 0], embedding_1[:, 1], s=1)\n",
    "plt.title('UMAP projection of the random points', fontsize=16)"
   ]
  },
  {
   "cell_type": "markdown",
   "metadata": {
    "id": "lE1fIsdIx5_0"
   },
   "source": [
    "**Question 13**\n",
    "\n",
    "- In the visualization of the embeddings of the documents, we can see that two clusters are formed. In the visualization of the normalized random points, we can see that these points are scattered and no cluster is formed."
   ]
  }
 ],
 "metadata": {
  "colab": {
   "collapsed_sections": [],
   "name": "ee219-project1.ipynb",
   "provenance": [],
   "toc_visible": true
  },
  "kernelspec": {
   "display_name": "Python 3",
   "language": "python",
   "name": "python3"
  },
  "language_info": {
   "codemirror_mode": {
    "name": "ipython",
    "version": 3
   },
   "file_extension": ".py",
   "mimetype": "text/x-python",
   "name": "python",
   "nbconvert_exporter": "python",
   "pygments_lexer": "ipython3",
   "version": "3.8.3"
  }
 },
 "nbformat": 4,
 "nbformat_minor": 4
}
