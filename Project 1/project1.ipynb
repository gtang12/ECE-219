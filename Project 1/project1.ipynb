{
 "cells": [
  {
   "cell_type": "markdown",
   "metadata": {},
   "source": [
    "# Binary Classification"
   ]
  },
  {
   "cell_type": "code",
   "execution_count": 1,
   "metadata": {},
   "outputs": [],
   "source": [
    "import numpy as np\n",
    "import pandas as pd\n",
    "import matplotlib.pyplot as plt\n",
    "import random\n",
    "\n",
    "np.random.seed(42)\n",
    "random.seed(42)\n",
    "\n",
    "pd.options.mode.chained_assignment = None  # default='warn'"
   ]
  },
  {
   "cell_type": "code",
   "execution_count": 2,
   "metadata": {},
   "outputs": [
    {
     "data": {
      "text/html": [
       "<div>\n",
       "<style scoped>\n",
       "    .dataframe tbody tr th:only-of-type {\n",
       "        vertical-align: middle;\n",
       "    }\n",
       "\n",
       "    .dataframe tbody tr th {\n",
       "        vertical-align: top;\n",
       "    }\n",
       "\n",
       "    .dataframe thead th {\n",
       "        text-align: right;\n",
       "    }\n",
       "</style>\n",
       "<table border=\"1\" class=\"dataframe\">\n",
       "  <thead>\n",
       "    <tr style=\"text-align: right;\">\n",
       "      <th></th>\n",
       "      <th>Unnamed: 0</th>\n",
       "      <th>full_text</th>\n",
       "      <th>summary</th>\n",
       "      <th>keywords</th>\n",
       "      <th>publish_date</th>\n",
       "      <th>authors</th>\n",
       "      <th>url</th>\n",
       "      <th>leaf_label</th>\n",
       "      <th>root_label</th>\n",
       "    </tr>\n",
       "  </thead>\n",
       "  <tbody>\n",
       "    <tr>\n",
       "      <th>0</th>\n",
       "      <td>590</td>\n",
       "      <td>Having made a massive impact in Saudi Arabia w...</td>\n",
       "      <td>Having made a massive impact in Saudi Arabia w...</td>\n",
       "      <td>['singhs', 'rooting', 'cool', 'saudi', 'style'...</td>\n",
       "      <td>NaN</td>\n",
       "      <td>[]</td>\n",
       "      <td>https://www.msn.com/en-in/entertainment/other/...</td>\n",
       "      <td>cricket</td>\n",
       "      <td>sports</td>\n",
       "    </tr>\n",
       "    <tr>\n",
       "      <th>1</th>\n",
       "      <td>388</td>\n",
       "      <td>Cricket is all about the emotional rollercoast...</td>\n",
       "      <td>No matter which team fans hope to win, every s...</td>\n",
       "      <td>['wants', 'fans', 'finals', 'cup', 'win', 'tou...</td>\n",
       "      <td>NaN</td>\n",
       "      <td>[]</td>\n",
       "      <td>https://www.prnewswire.com:443/news-releases/c...</td>\n",
       "      <td>cricket</td>\n",
       "      <td>sports</td>\n",
       "    </tr>\n",
       "    <tr>\n",
       "      <th>2</th>\n",
       "      <td>423</td>\n",
       "      <td>New Zealand announces back-to-back tours next ...</td>\n",
       "      <td>New Zealand announces back-to-back tours next ...</td>\n",
       "      <td>['test', 'west', 'tour', 'zealand', 'world', '...</td>\n",
       "      <td>2021-12-20 00:00:00</td>\n",
       "      <td>[]</td>\n",
       "      <td>https://www.aljazeera.com/news/2021/12/20/cric...</td>\n",
       "      <td>cricket</td>\n",
       "      <td>sports</td>\n",
       "    </tr>\n",
       "    <tr>\n",
       "      <th>3</th>\n",
       "      <td>563</td>\n",
       "      <td>It's not the first time cricket fans in the co...</td>\n",
       "      <td>Billed as one of the pre-tournament favourites...</td>\n",
       "      <td>['qualify', 'afghanistan', 'cup', 'world', 'ze...</td>\n",
       "      <td>NaN</td>\n",
       "      <td>[]</td>\n",
       "      <td>https://www.msn.com/en-in/news/other/t20-world...</td>\n",
       "      <td>cricket</td>\n",
       "      <td>sports</td>\n",
       "    </tr>\n",
       "    <tr>\n",
       "      <th>4</th>\n",
       "      <td>634</td>\n",
       "      <td>An employee works on a computer terminal again...</td>\n",
       "      <td>REUTERS/Sivaram VBENGALURU, Oct 11 (Reuters Br...</td>\n",
       "      <td>['success', 'tech', 'startup', 'talent', 'onli...</td>\n",
       "      <td>2021-10-11 00:00:00</td>\n",
       "      <td>['Una Galani']</td>\n",
       "      <td>https://www.reuters.com/breakingviews/india-in...</td>\n",
       "      <td>cricket</td>\n",
       "      <td>sports</td>\n",
       "    </tr>\n",
       "  </tbody>\n",
       "</table>\n",
       "</div>"
      ],
      "text/plain": [
       "   Unnamed: 0                                          full_text  \\\n",
       "0         590  Having made a massive impact in Saudi Arabia w...   \n",
       "1         388  Cricket is all about the emotional rollercoast...   \n",
       "2         423  New Zealand announces back-to-back tours next ...   \n",
       "3         563  It's not the first time cricket fans in the co...   \n",
       "4         634  An employee works on a computer terminal again...   \n",
       "\n",
       "                                             summary  \\\n",
       "0  Having made a massive impact in Saudi Arabia w...   \n",
       "1  No matter which team fans hope to win, every s...   \n",
       "2  New Zealand announces back-to-back tours next ...   \n",
       "3  Billed as one of the pre-tournament favourites...   \n",
       "4  REUTERS/Sivaram VBENGALURU, Oct 11 (Reuters Br...   \n",
       "\n",
       "                                            keywords         publish_date  \\\n",
       "0  ['singhs', 'rooting', 'cool', 'saudi', 'style'...                  NaN   \n",
       "1  ['wants', 'fans', 'finals', 'cup', 'win', 'tou...                  NaN   \n",
       "2  ['test', 'west', 'tour', 'zealand', 'world', '...  2021-12-20 00:00:00   \n",
       "3  ['qualify', 'afghanistan', 'cup', 'world', 'ze...                  NaN   \n",
       "4  ['success', 'tech', 'startup', 'talent', 'onli...  2021-10-11 00:00:00   \n",
       "\n",
       "          authors                                                url  \\\n",
       "0              []  https://www.msn.com/en-in/entertainment/other/...   \n",
       "1              []  https://www.prnewswire.com:443/news-releases/c...   \n",
       "2              []  https://www.aljazeera.com/news/2021/12/20/cric...   \n",
       "3              []  https://www.msn.com/en-in/news/other/t20-world...   \n",
       "4  ['Una Galani']  https://www.reuters.com/breakingviews/india-in...   \n",
       "\n",
       "  leaf_label root_label  \n",
       "0    cricket     sports  \n",
       "1    cricket     sports  \n",
       "2    cricket     sports  \n",
       "3    cricket     sports  \n",
       "4    cricket     sports  "
      ]
     },
     "execution_count": 2,
     "metadata": {},
     "output_type": "execute_result"
    }
   ],
   "source": [
    "df = pd.read_csv(\"Project_1_dataset_01_01_2022.csv\")\n",
    "df.head()"
   ]
  },
  {
   "cell_type": "code",
   "execution_count": 3,
   "metadata": {},
   "outputs": [
    {
     "data": {
      "text/plain": [
       "(2072, 9)"
      ]
     },
     "execution_count": 3,
     "metadata": {},
     "output_type": "execute_result"
    }
   ],
   "source": [
    "df.shape"
   ]
  },
  {
   "cell_type": "markdown",
   "metadata": {},
   "source": [
    "**Question 1**: The dataset contains 2072 samples (rows) and 9 features (columns)."
   ]
  },
  {
   "cell_type": "code",
   "execution_count": 3,
   "metadata": {},
   "outputs": [
    {
     "data": {
      "image/png": "[encoded data removed]",
      "text/plain": [
       "<Figure size 720x432 with 1 Axes>"
      ]
     },
     "metadata": {
      "needs_background": "light"
     },
     "output_type": "display_data"
    }
   ],
   "source": [
    "# histogram of alphanumeric characters\n",
    "\n",
    "df[\"alnum_count\"] = df['full_text'].str.count('[A-Za-z0-9]') # alphanumeric count feature to dataset\n",
    "\n",
    "ax = df[\"alnum_count\"].hist(bins=50, figsize=(10,6)) # experiment with 50-100 bins\n",
    "ax.set_xlabel(\"Alphanumeric Count\")\n",
    "ax.set_ylabel(\"Frequency\")\n",
    "\n",
    "plt.show()"
   ]
  },
  {
   "cell_type": "code",
   "execution_count": 4,
   "metadata": {},
   "outputs": [
    {
     "data": {
      "image/png": "[encoded data removed]",
      "text/plain": [
       "<Figure size 720x432 with 1 Axes>"
      ]
     },
     "metadata": {
      "needs_background": "light"
     },
     "output_type": "display_data"
    }
   ],
   "source": [
    "# histogram of leaf labels\n",
    "\n",
    "ax = df[\"leaf_label\"].hist(bins=8, figsize=(10,6), rwidth=0.7)\n",
    "ax.set_xlabel(\"Leaf Label\")\n",
    "ax.set_ylabel(\"Frequency\")\n",
    "plt.show()"
   ]
  },
  {
   "cell_type": "code",
   "execution_count": 5,
   "metadata": {},
   "outputs": [
    {
     "data": {
      "image/png": "[encoded data removed]",
      "text/plain": [
       "<Figure size 720x432 with 1 Axes>"
      ]
     },
     "metadata": {
      "needs_background": "light"
     },
     "output_type": "display_data"
    }
   ],
   "source": [
    "# histogram of root labels\n",
    "\n",
    "ax = df[\"root_label\"].hist(bins=2, figsize=(10,6), rwidth=0.7)\n",
    "ax.set_xlabel(\"Root Label\")\n",
    "ax.set_ylabel(\"Frequency\")\n",
    "plt.show()"
   ]
  },
  {
   "cell_type": "markdown",
   "metadata": {},
   "source": [
    "**Question 1**: The histogram of alphanumeric characters in full_text follows a skewed bell-shaped curve, where the highest frequencies occur at around 2000 alphanumeric characters, and the frequency tapers off for higher alphanumeric counts, with documents containing more than approximately 7000 occuring very rarely. The histograms for leaf_label and root_label show that frequencies of the labels are the same across all classes, so the classes are balanced in this dataset."
   ]
  },
  {
   "cell_type": "markdown",
   "metadata": {},
   "source": [
    "## Splitting entire dataset"
   ]
  },
  {
   "cell_type": "code",
   "execution_count": 80,
   "metadata": {},
   "outputs": [
    {
     "name": "stdout",
     "output_type": "stream",
     "text": [
      "(1657, 2)\n",
      "(415, 2)\n"
     ]
    }
   ],
   "source": [
    "from sklearn.model_selection import train_test_split\n",
    "\n",
    "df_1 = df[[\"full_text\",\"root_label\"]] # data for part 1\n",
    "train, test = train_test_split(df_1, test_size=0.2)\n",
    "\n",
    "print(train.shape)\n",
    "print(test.shape)"
   ]
  },
  {
   "cell_type": "markdown",
   "metadata": {},
   "source": [
    "**Question 2**: There are 1657 training samples and 415 testing samples."
   ]
  },
  {
   "cell_type": "markdown",
   "metadata": {},
   "source": [
    "## Feature extraction"
   ]
  },
  {
   "cell_type": "code",
   "execution_count": 152,
   "metadata": {},
   "outputs": [],
   "source": [
    "import re\n",
    "def clean(text):\n",
    "    # removes many HTML artefacts from the crawler's output\n",
    "    # text = re.sub(r'^https?:\\/\\/.*[\\r\\n]*', '', text, flags=re.MULTILINE)\n",
    "    # texter = text.lower() # added to firt make letters lowercase, so e.g. \"Having\" gets converted to \"having\" to be correctly lemmatized to \"have\"\n",
    "    texter = re.sub(r'http\\S+', '', text, flags=re.MULTILINE) # remove URLs (e.g. in sample 2)\n",
    "    texter = re.sub(r'\\S+\\.com', '', texter, flags=re.MULTILINE) # remove URLs ending in .com that were not removed by previous lines (e.g. in sample 11)\n",
    "    texter = re.sub(r'www\\S+', '', texter, flags=re.MULTILINE) # remove URLs ending in with www that were not removed by previous lines (e.g. in sample 18)\n",
    "    texter = re.sub(r\"<br />\", \" \", texter)\n",
    "    texter = re.sub(r\"&quot;\", \"\\\"\",texter)\n",
    "    texter = re.sub('&#39;', \"\\\"\", texter)\n",
    "    texter = re.sub('\\n', \" \", texter)\n",
    "    texter = re.sub(' u ',\" you \", texter)\n",
    "    texter = re.sub('`',\"\", texter)\n",
    "    texter = re.sub(r\"(!)\\1+\", r\"!\", texter)\n",
    "    texter = re.sub(r\"(\\?)\\1+\", r\"?\", texter)\n",
    "    texter = re.sub('&amp;', 'and', texter)\n",
    "    texter = re.sub('\\r', ' ', texter)\n",
    "    texter = re.sub(r'\\d+th', '', texter) # remove number terms like \"1st\", \"2nd\", \"3rd\", etc.\n",
    "    texter = re.sub(r'\\d+st', '', texter)\n",
    "    texter = re.sub(r'\\d+nd', '', texter)\n",
    "    texter = re.sub(r'\\d+rd', '', texter)\n",
    "    texter = re.sub(r'\\d+s', '', texter) # remove years like \"1970s\"\n",
    "    texter = re.sub(r'(?<=[a-zA-Z])\\-(?=[a-zA-Z])', ' ', texter) # replace hyphens joining two words\n",
    "    # texter = re.sub(r'(?<=[a-zA-Z])\\'(?=[a-zA-Z])', '', texter) # remove apostrophes in words\n",
    "    # texter = re.sub(r'(?<=[a-zA-Z])\\.(?=[a-zA-Z])', '', texter) # remove periods within acronyms\n",
    "    texter = re.sub(r'(?<=[a-zA-Z])/(?=[a-zA-Z])', ' ', texter) # replace slashes joining two words\n",
    "    # texter = re.sub(r'[^a-z0-9 ]+', ' ', texter) # remove all remaining punctuation\n",
    "    # texter = re.sub(r'\\b(-|\\d*)\\d+(\\.|\\d*)\\d*(%|\\d*)\\b', '', texter) # remove all number terms, including negatives and decimals\n",
    "    texter = re.sub(r'\\b[^a-z0-9 ]*\\d+[^a-z0-9 ]*\\b', '', texter) # remove all numbers\n",
    "    texter = re.sub(r'\\-\\d+\\b', '', texter) # remove negative numbers\n",
    "    texter = re.sub(r'\\b[^a-z0-9 ]*\\d+\\.\\d+[^a-z0-9 ]*\\b', '', texter) # remove decimal numbers\n",
    "    texter = re.sub(r'-\\d+\\.\\d+\\b', '', texter) # remove negative decimal numbers\n",
    "    texter = re.sub(r'\\ba\\d+', '', texter)\n",
    "    texter = re.sub(r'\\d+(a|p)m', '', texter)\n",
    "    texter = re.sub(r'__', ' ', texter) # remove __\n",
    "    texter = re.sub(' +', ' ', texter)\n",
    "    clean = re.compile('<.*?>')\n",
    "    texter = texter.encode('ascii', 'ignore').decode('ascii')\n",
    "    texter = re.sub(clean, '', texter)\n",
    "    if texter == \"\":\n",
    "        texter = \"\"\n",
    "    return texter"
   ]
  },
  {
   "cell_type": "code",
   "execution_count": 153,
   "metadata": {},
   "outputs": [
    {
     "data": {
      "text/html": [
       "<div>\n",
       "<style scoped>\n",
       "    .dataframe tbody tr th:only-of-type {\n",
       "        vertical-align: middle;\n",
       "    }\n",
       "\n",
       "    .dataframe tbody tr th {\n",
       "        vertical-align: top;\n",
       "    }\n",
       "\n",
       "    .dataframe thead th {\n",
       "        text-align: right;\n",
       "    }\n",
       "</style>\n",
       "<table border=\"1\" class=\"dataframe\">\n",
       "  <thead>\n",
       "    <tr style=\"text-align: right;\">\n",
       "      <th></th>\n",
       "      <th>full_text</th>\n",
       "      <th>root_label</th>\n",
       "      <th>clean_text</th>\n",
       "      <th>lem_text</th>\n",
       "    </tr>\n",
       "  </thead>\n",
       "  <tbody>\n",
       "    <tr>\n",
       "      <th>328</th>\n",
       "      <td>HOUSTON (AP) — The Houston Texans looked to be...</td>\n",
       "      <td>sports</td>\n",
       "      <td>HOUSTON (AP)  The Houston Texans looked to be ...</td>\n",
       "      <td>houston (ap) the houston texan look way win op...</td>\n",
       "    </tr>\n",
       "    <tr>\n",
       "      <th>1794</th>\n",
       "      <td>Hide Transcript Show Transcript\\n\\nANIMALS A S...</td>\n",
       "      <td>climate</td>\n",
       "      <td>Hide Transcript Show Transcript ANIMALS A SMAL...</td>\n",
       "      <td>hide transcript show transcript animal a small...</td>\n",
       "    </tr>\n",
       "    <tr>\n",
       "      <th>1996</th>\n",
       "      <td>© PA Wire Royal tour of the Middle East – Day ...</td>\n",
       "      <td>climate</td>\n",
       "      <td>PA Wire Royal tour of the Middle East  Day Th...</td>\n",
       "      <td>pa wire royal tour middle east day the prince ...</td>\n",
       "    </tr>\n",
       "    <tr>\n",
       "      <th>681</th>\n",
       "      <td>Houston is in the running to be named one of 1...</td>\n",
       "      <td>sports</td>\n",
       "      <td>Houston is in the running to be named one of U...</td>\n",
       "      <td>houston running name u.s. city host fifa men w...</td>\n",
       "    </tr>\n",
       "    <tr>\n",
       "      <th>1416</th>\n",
       "      <td>The Fukushima Daiichi plant suffered a triple ...</td>\n",
       "      <td>climate</td>\n",
       "      <td>The Fukushima Daiichi plant suffered a triple ...</td>\n",
       "      <td>the fukushima daiichi plant suffer triple melt...</td>\n",
       "    </tr>\n",
       "    <tr>\n",
       "      <th>...</th>\n",
       "      <td>...</td>\n",
       "      <td>...</td>\n",
       "      <td>...</td>\n",
       "      <td>...</td>\n",
       "    </tr>\n",
       "    <tr>\n",
       "      <th>220</th>\n",
       "      <td>© PA Images Newlands-cricket-stadium\\n\\nSouth ...</td>\n",
       "      <td>sports</td>\n",
       "      <td>PA Images Newlands cricket stadium South Afri...</td>\n",
       "      <td>pa image newlands cricket stadium south africa...</td>\n",
       "    </tr>\n",
       "    <tr>\n",
       "      <th>1422</th>\n",
       "      <td>NORTHUMBERLAND COUNTY, Va. — The National Weat...</td>\n",
       "      <td>climate</td>\n",
       "      <td>NORTHUMBERLAND COUNTY, Va.  The National Weath...</td>\n",
       "      <td>northumberland county, va. the national weathe...</td>\n",
       "    </tr>\n",
       "    <tr>\n",
       "      <th>83</th>\n",
       "      <td>© Provided by Crikey\\n\\nTen and the Matildas w...</td>\n",
       "      <td>sports</td>\n",
       "      <td>Provided by Crikey Ten and the Matildas won t...</td>\n",
       "      <td>provide crikey ten matildas weekend nationally...</td>\n",
       "    </tr>\n",
       "    <tr>\n",
       "      <th>873</th>\n",
       "      <td>Microsoft is finally shipping an updated versi...</td>\n",
       "      <td>sports</td>\n",
       "      <td>Microsoft is finally shipping an updated versi...</td>\n",
       "      <td>microsoft finally ship updated version file ex...</td>\n",
       "    </tr>\n",
       "    <tr>\n",
       "      <th>461</th>\n",
       "      <td>Seacrest out, Ted Lasso in. Ryan Seacrest and ...</td>\n",
       "      <td>sports</td>\n",
       "      <td>Seacrest out, Ted Lasso in. Ryan Seacrest and ...</td>\n",
       "      <td>seacrest out, ted lasso in. ryan seacrest team...</td>\n",
       "    </tr>\n",
       "  </tbody>\n",
       "</table>\n",
       "<p>1657 rows × 4 columns</p>\n",
       "</div>"
      ],
      "text/plain": [
       "                                              full_text root_label  \\\n",
       "328   HOUSTON (AP) — The Houston Texans looked to be...     sports   \n",
       "1794  Hide Transcript Show Transcript\\n\\nANIMALS A S...    climate   \n",
       "1996  © PA Wire Royal tour of the Middle East – Day ...    climate   \n",
       "681   Houston is in the running to be named one of 1...     sports   \n",
       "1416  The Fukushima Daiichi plant suffered a triple ...    climate   \n",
       "...                                                 ...        ...   \n",
       "220   © PA Images Newlands-cricket-stadium\\n\\nSouth ...     sports   \n",
       "1422  NORTHUMBERLAND COUNTY, Va. — The National Weat...    climate   \n",
       "83    © Provided by Crikey\\n\\nTen and the Matildas w...     sports   \n",
       "873   Microsoft is finally shipping an updated versi...     sports   \n",
       "461   Seacrest out, Ted Lasso in. Ryan Seacrest and ...     sports   \n",
       "\n",
       "                                             clean_text  \\\n",
       "328   HOUSTON (AP)  The Houston Texans looked to be ...   \n",
       "1794  Hide Transcript Show Transcript ANIMALS A SMAL...   \n",
       "1996   PA Wire Royal tour of the Middle East  Day Th...   \n",
       "681   Houston is in the running to be named one of U...   \n",
       "1416  The Fukushima Daiichi plant suffered a triple ...   \n",
       "...                                                 ...   \n",
       "220    PA Images Newlands cricket stadium South Afri...   \n",
       "1422  NORTHUMBERLAND COUNTY, Va.  The National Weath...   \n",
       "83     Provided by Crikey Ten and the Matildas won t...   \n",
       "873   Microsoft is finally shipping an updated versi...   \n",
       "461   Seacrest out, Ted Lasso in. Ryan Seacrest and ...   \n",
       "\n",
       "                                               lem_text  \n",
       "328   houston (ap) the houston texan look way win op...  \n",
       "1794  hide transcript show transcript animal a small...  \n",
       "1996  pa wire royal tour middle east day the prince ...  \n",
       "681   houston running name u.s. city host fifa men w...  \n",
       "1416  the fukushima daiichi plant suffer triple melt...  \n",
       "...                                                 ...  \n",
       "220   pa image newlands cricket stadium south africa...  \n",
       "1422  northumberland county, va. the national weathe...  \n",
       "83    provide crikey ten matildas weekend nationally...  \n",
       "873   microsoft finally ship updated version file ex...  \n",
       "461   seacrest out, ted lasso in. ryan seacrest team...  \n",
       "\n",
       "[1657 rows x 4 columns]"
      ]
     },
     "execution_count": 153,
     "metadata": {},
     "output_type": "execute_result"
    }
   ],
   "source": [
    "train[\"clean_text\"] = train[\"full_text\"].apply(clean)\n",
    "train"
   ]
  },
  {
   "cell_type": "code",
   "execution_count": 154,
   "metadata": {},
   "outputs": [
    {
     "data": {
      "text/html": [
       "<div>\n",
       "<style scoped>\n",
       "    .dataframe tbody tr th:only-of-type {\n",
       "        vertical-align: middle;\n",
       "    }\n",
       "\n",
       "    .dataframe tbody tr th {\n",
       "        vertical-align: top;\n",
       "    }\n",
       "\n",
       "    .dataframe thead th {\n",
       "        text-align: right;\n",
       "    }\n",
       "</style>\n",
       "<table border=\"1\" class=\"dataframe\">\n",
       "  <thead>\n",
       "    <tr style=\"text-align: right;\">\n",
       "      <th></th>\n",
       "      <th>full_text</th>\n",
       "      <th>root_label</th>\n",
       "      <th>clean_text</th>\n",
       "      <th>lem_text</th>\n",
       "    </tr>\n",
       "  </thead>\n",
       "  <tbody>\n",
       "    <tr>\n",
       "      <th>1369</th>\n",
       "      <td>Credit: CC0 Public Domain\\n\\nA reliable early ...</td>\n",
       "      <td>climate</td>\n",
       "      <td>Credit: Public Domain A reliable early warning...</td>\n",
       "      <td>credit: public domain a reliable early warning...</td>\n",
       "    </tr>\n",
       "    <tr>\n",
       "      <th>772</th>\n",
       "      <td>© Provided by Independent Online (IOL)\\n\\nCape...</td>\n",
       "      <td>sports</td>\n",
       "      <td>Provided by Independent Online (IOL) Cape Tow...</td>\n",
       "      <td>provide independent online (iol) cape town sou...</td>\n",
       "    </tr>\n",
       "    <tr>\n",
       "      <th>1762</th>\n",
       "      <td>Tremor International Ltd. Announces Conference...</td>\n",
       "      <td>climate</td>\n",
       "      <td>Tremor International Ltd. Announces Conference...</td>\n",
       "      <td>tremor international ltd. announces conference...</td>\n",
       "    </tr>\n",
       "    <tr>\n",
       "      <th>1378</th>\n",
       "      <td>In the complex and often confusing world of fl...</td>\n",
       "      <td>climate</td>\n",
       "      <td>In the complex and often confusing world of fl...</td>\n",
       "      <td>in complex confusing world flood insurance, di...</td>\n",
       "    </tr>\n",
       "    <tr>\n",
       "      <th>2014</th>\n",
       "      <td>To the editor: With our continued dire drought...</td>\n",
       "      <td>climate</td>\n",
       "      <td>To the editor: With our continued dire drought...</td>\n",
       "      <td>to editor: with continued dire drought expert ...</td>\n",
       "    </tr>\n",
       "    <tr>\n",
       "      <th>...</th>\n",
       "      <td>...</td>\n",
       "      <td>...</td>\n",
       "      <td>...</td>\n",
       "      <td>...</td>\n",
       "    </tr>\n",
       "    <tr>\n",
       "      <th>553</th>\n",
       "      <td>Gianni Infantino has called World Cups hosted ...</td>\n",
       "      <td>sports</td>\n",
       "      <td>Gianni Infantino has called World Cups hosted ...</td>\n",
       "      <td>gianni infantino call world cup host single na...</td>\n",
       "    </tr>\n",
       "    <tr>\n",
       "      <th>746</th>\n",
       "      <td>Country\\n\\nUnited States of America US Virgin ...</td>\n",
       "      <td>sports</td>\n",
       "      <td>Country United States of America US Virgin Isl...</td>\n",
       "      <td>country united state america u virgin island u...</td>\n",
       "    </tr>\n",
       "    <tr>\n",
       "      <th>37</th>\n",
       "      <td>MELBOURNE (Reuters) – Australia’s human rights...</td>\n",
       "      <td>sports</td>\n",
       "      <td>MELBOURNE (Reuters)  Australias human rights w...</td>\n",
       "      <td>melbourne (reuters) australia human right watc...</td>\n",
       "    </tr>\n",
       "    <tr>\n",
       "      <th>1750</th>\n",
       "      <td>© Provided by Charleston WCSC-TV Generic earth...</td>\n",
       "      <td>climate</td>\n",
       "      <td>Provided by Charleston WCSC TV Generic earthq...</td>\n",
       "      <td>provide charleston wcsc tv generic earthquake ...</td>\n",
       "    </tr>\n",
       "    <tr>\n",
       "      <th>230</th>\n",
       "      <td>DECEMBER 2 — I live in Cheras, in a terrace ho...</td>\n",
       "      <td>sports</td>\n",
       "      <td>DECEMBER  I live in Cheras, in a terrace house...</td>\n",
       "      <td>december i live cheras, terrace house. my room...</td>\n",
       "    </tr>\n",
       "  </tbody>\n",
       "</table>\n",
       "<p>415 rows × 4 columns</p>\n",
       "</div>"
      ],
      "text/plain": [
       "                                              full_text root_label  \\\n",
       "1369  Credit: CC0 Public Domain\\n\\nA reliable early ...    climate   \n",
       "772   © Provided by Independent Online (IOL)\\n\\nCape...     sports   \n",
       "1762  Tremor International Ltd. Announces Conference...    climate   \n",
       "1378  In the complex and often confusing world of fl...    climate   \n",
       "2014  To the editor: With our continued dire drought...    climate   \n",
       "...                                                 ...        ...   \n",
       "553   Gianni Infantino has called World Cups hosted ...     sports   \n",
       "746   Country\\n\\nUnited States of America US Virgin ...     sports   \n",
       "37    MELBOURNE (Reuters) – Australia’s human rights...     sports   \n",
       "1750  © Provided by Charleston WCSC-TV Generic earth...    climate   \n",
       "230   DECEMBER 2 — I live in Cheras, in a terrace ho...     sports   \n",
       "\n",
       "                                             clean_text  \\\n",
       "1369  Credit: Public Domain A reliable early warning...   \n",
       "772    Provided by Independent Online (IOL) Cape Tow...   \n",
       "1762  Tremor International Ltd. Announces Conference...   \n",
       "1378  In the complex and often confusing world of fl...   \n",
       "2014  To the editor: With our continued dire drought...   \n",
       "...                                                 ...   \n",
       "553   Gianni Infantino has called World Cups hosted ...   \n",
       "746   Country United States of America US Virgin Isl...   \n",
       "37    MELBOURNE (Reuters)  Australias human rights w...   \n",
       "1750   Provided by Charleston WCSC TV Generic earthq...   \n",
       "230   DECEMBER  I live in Cheras, in a terrace house...   \n",
       "\n",
       "                                               lem_text  \n",
       "1369  credit: public domain a reliable early warning...  \n",
       "772   provide independent online (iol) cape town sou...  \n",
       "1762  tremor international ltd. announces conference...  \n",
       "1378  in complex confusing world flood insurance, di...  \n",
       "2014  to editor: with continued dire drought expert ...  \n",
       "...                                                 ...  \n",
       "553   gianni infantino call world cup host single na...  \n",
       "746   country united state america u virgin island u...  \n",
       "37    melbourne (reuters) australia human right watc...  \n",
       "1750  provide charleston wcsc tv generic earthquake ...  \n",
       "230   december i live cheras, terrace house. my room...  \n",
       "\n",
       "[415 rows x 4 columns]"
      ]
     },
     "execution_count": 154,
     "metadata": {},
     "output_type": "execute_result"
    }
   ],
   "source": [
    "test[\"clean_text\"] = test[\"full_text\"].apply(clean)\n",
    "test"
   ]
  },
  {
   "cell_type": "code",
   "execution_count": null,
   "metadata": {},
   "outputs": [],
   "source": [
    "from nltk.tokenize import WhitespaceTokenizer\n",
    "from nltk.tokenize import sent_tokenize\n",
    "from nltk.tag import pos_tag\n",
    "import nltk\n",
    "\n",
    "# def lemmatize_text(text):\n",
    "#     w_tokenizer = WhitespaceTokenizer()\n",
    "#     wnl = WordNetLemmatizer()\n",
    "#     pos_tags = pos_tag(w_tokenizer.tokenize(text))\n",
    "#     return \" \".join([wnl.lemmatize(w, pos=penn2morphy(tag)) for w, tag in pos_tags])\n",
    "\n",
    "wnl = nltk.wordnet.WordNetLemmatizer()\n",
    "def lemmatize_sent(text):\n",
    "    # lemmatize a sentence as a list of words\n",
    "    w_tokenizer = WhitespaceTokenizer()\n",
    "    # lem_text = []\n",
    "    # for sent in sent_tokenize(text):\n",
    "    #     for word, tag in pos_tag(w_tokenizer.tokenize(sent)):\n",
    "    #         lem_text.append(wnl.lemmatize(word.lower(), pos=penn2morphy(tag)))\n",
    "    # return lem_text\n",
    "    return [wnl.lemmatize(word.lower(), pos=penn2morphy(tag)) for word, tag in pos_tag(w_tokenizer.tokenize(text)) if word not in combined_stopwords and not word.isdigit()]\n",
    "\n",
    "morphy_tag = {'NN':'n', 'JJ':'a',\n",
    "              'VB':'v', 'RB':'r'}\n",
    "def penn2morphy(penntag):\n",
    "    \"\"\" Converts Penn Treebank tags to WordNet. \"\"\"\n",
    "    return morphy_tag.get(penntag[:2], 'n')\n",
    "    "
   ]
  },
  {
   "cell_type": "code",
   "execution_count": 144,
   "metadata": {},
   "outputs": [
    {
     "data": {
      "text/plain": [
       "'Good muffins cost $ in New York . Please buy me two of them. Thanks.'"
      ]
     },
     "execution_count": 144,
     "metadata": {},
     "output_type": "execute_result"
    }
   ],
   "source": [
    "test1 = 'Good muffins cost 80 $3.88 in New York 40. Please buy me two of them. Thanks.'\n",
    "lem_analyzer(test1)"
   ]
  },
  {
   "cell_type": "code",
   "execution_count": null,
   "metadata": {},
   "outputs": [],
   "source": [
    "from sklearn.feature_extraction import text\n",
    "from nltk.corpus import stopwords\n",
    "from string import punctuation\n",
    "\n",
    "stop_words_skt = text.ENGLISH_STOP_WORDS\n",
    "stop_words_en = stopwords.words('english')\n",
    "\n",
    "combined_stopwords = set.union(set(stop_words_en),set(punctuation),set(stop_words_skt))\n",
    "combined_stopwords"
   ]
  },
  {
   "cell_type": "code",
   "execution_count": 128,
   "metadata": {},
   "outputs": [],
   "source": [
    "from sklearn.feature_extraction.text import CountVectorizer\n",
    "\n",
    "analyzer = CountVectorizer().build_analyzer()\n",
    "\n",
    "def lem_analyzer(text):\n",
    "    words = []\n",
    "    for sent in sent_tokenize(text):\n",
    "        # for word in analyzer(sent):\n",
    "        # if word not in combined_stopwords and not word.isdigit():\n",
    "        words += lemmatize_sent(sent)\n",
    "    return \" \".join(words)\n",
    "    # return (word for word in lemmatize_sent(analyzer(text)) if word not in combined_stopwords and not word.isdigit())"
   ]
  },
  {
   "cell_type": "code",
   "execution_count": 155,
   "metadata": {},
   "outputs": [
    {
     "data": {
      "text/html": [
       "<div>\n",
       "<style scoped>\n",
       "    .dataframe tbody tr th:only-of-type {\n",
       "        vertical-align: middle;\n",
       "    }\n",
       "\n",
       "    .dataframe tbody tr th {\n",
       "        vertical-align: top;\n",
       "    }\n",
       "\n",
       "    .dataframe thead th {\n",
       "        text-align: right;\n",
       "    }\n",
       "</style>\n",
       "<table border=\"1\" class=\"dataframe\">\n",
       "  <thead>\n",
       "    <tr style=\"text-align: right;\">\n",
       "      <th></th>\n",
       "      <th>full_text</th>\n",
       "      <th>root_label</th>\n",
       "      <th>clean_text</th>\n",
       "      <th>lem_text</th>\n",
       "    </tr>\n",
       "  </thead>\n",
       "  <tbody>\n",
       "    <tr>\n",
       "      <th>328</th>\n",
       "      <td>HOUSTON (AP) — The Houston Texans looked to be...</td>\n",
       "      <td>sports</td>\n",
       "      <td>HOUSTON (AP)  The Houston Texans looked to be ...</td>\n",
       "      <td>houston (ap) the houston texan look way win op...</td>\n",
       "    </tr>\n",
       "    <tr>\n",
       "      <th>1794</th>\n",
       "      <td>Hide Transcript Show Transcript\\n\\nANIMALS A S...</td>\n",
       "      <td>climate</td>\n",
       "      <td>Hide Transcript Show Transcript ANIMALS A SMAL...</td>\n",
       "      <td>hide transcript show transcript animal a small...</td>\n",
       "    </tr>\n",
       "    <tr>\n",
       "      <th>1996</th>\n",
       "      <td>© PA Wire Royal tour of the Middle East – Day ...</td>\n",
       "      <td>climate</td>\n",
       "      <td>PA Wire Royal tour of the Middle East  Day Th...</td>\n",
       "      <td>pa wire royal tour middle east day the prince ...</td>\n",
       "    </tr>\n",
       "    <tr>\n",
       "      <th>681</th>\n",
       "      <td>Houston is in the running to be named one of 1...</td>\n",
       "      <td>sports</td>\n",
       "      <td>Houston is in the running to be named one of U...</td>\n",
       "      <td>houston running name u.s. city host fifa men w...</td>\n",
       "    </tr>\n",
       "    <tr>\n",
       "      <th>1416</th>\n",
       "      <td>The Fukushima Daiichi plant suffered a triple ...</td>\n",
       "      <td>climate</td>\n",
       "      <td>The Fukushima Daiichi plant suffered a triple ...</td>\n",
       "      <td>the fukushima daiichi plant suffer triple melt...</td>\n",
       "    </tr>\n",
       "    <tr>\n",
       "      <th>...</th>\n",
       "      <td>...</td>\n",
       "      <td>...</td>\n",
       "      <td>...</td>\n",
       "      <td>...</td>\n",
       "    </tr>\n",
       "    <tr>\n",
       "      <th>220</th>\n",
       "      <td>© PA Images Newlands-cricket-stadium\\n\\nSouth ...</td>\n",
       "      <td>sports</td>\n",
       "      <td>PA Images Newlands cricket stadium South Afri...</td>\n",
       "      <td>pa image newlands cricket stadium south africa...</td>\n",
       "    </tr>\n",
       "    <tr>\n",
       "      <th>1422</th>\n",
       "      <td>NORTHUMBERLAND COUNTY, Va. — The National Weat...</td>\n",
       "      <td>climate</td>\n",
       "      <td>NORTHUMBERLAND COUNTY, Va.  The National Weath...</td>\n",
       "      <td>northumberland county, va. the national weathe...</td>\n",
       "    </tr>\n",
       "    <tr>\n",
       "      <th>83</th>\n",
       "      <td>© Provided by Crikey\\n\\nTen and the Matildas w...</td>\n",
       "      <td>sports</td>\n",
       "      <td>Provided by Crikey Ten and the Matildas won t...</td>\n",
       "      <td>provide crikey ten matildas weekend nationally...</td>\n",
       "    </tr>\n",
       "    <tr>\n",
       "      <th>873</th>\n",
       "      <td>Microsoft is finally shipping an updated versi...</td>\n",
       "      <td>sports</td>\n",
       "      <td>Microsoft is finally shipping an updated versi...</td>\n",
       "      <td>microsoft finally ship updated version file ex...</td>\n",
       "    </tr>\n",
       "    <tr>\n",
       "      <th>461</th>\n",
       "      <td>Seacrest out, Ted Lasso in. Ryan Seacrest and ...</td>\n",
       "      <td>sports</td>\n",
       "      <td>Seacrest out, Ted Lasso in. Ryan Seacrest and ...</td>\n",
       "      <td>seacrest out, ted lasso in. ryan seacrest team...</td>\n",
       "    </tr>\n",
       "  </tbody>\n",
       "</table>\n",
       "<p>1657 rows × 4 columns</p>\n",
       "</div>"
      ],
      "text/plain": [
       "                                              full_text root_label  \\\n",
       "328   HOUSTON (AP) — The Houston Texans looked to be...     sports   \n",
       "1794  Hide Transcript Show Transcript\\n\\nANIMALS A S...    climate   \n",
       "1996  © PA Wire Royal tour of the Middle East – Day ...    climate   \n",
       "681   Houston is in the running to be named one of 1...     sports   \n",
       "1416  The Fukushima Daiichi plant suffered a triple ...    climate   \n",
       "...                                                 ...        ...   \n",
       "220   © PA Images Newlands-cricket-stadium\\n\\nSouth ...     sports   \n",
       "1422  NORTHUMBERLAND COUNTY, Va. — The National Weat...    climate   \n",
       "83    © Provided by Crikey\\n\\nTen and the Matildas w...     sports   \n",
       "873   Microsoft is finally shipping an updated versi...     sports   \n",
       "461   Seacrest out, Ted Lasso in. Ryan Seacrest and ...     sports   \n",
       "\n",
       "                                             clean_text  \\\n",
       "328   HOUSTON (AP)  The Houston Texans looked to be ...   \n",
       "1794  Hide Transcript Show Transcript ANIMALS A SMAL...   \n",
       "1996   PA Wire Royal tour of the Middle East  Day Th...   \n",
       "681   Houston is in the running to be named one of U...   \n",
       "1416  The Fukushima Daiichi plant suffered a triple ...   \n",
       "...                                                 ...   \n",
       "220    PA Images Newlands cricket stadium South Afri...   \n",
       "1422  NORTHUMBERLAND COUNTY, Va.  The National Weath...   \n",
       "83     Provided by Crikey Ten and the Matildas won t...   \n",
       "873   Microsoft is finally shipping an updated versi...   \n",
       "461   Seacrest out, Ted Lasso in. Ryan Seacrest and ...   \n",
       "\n",
       "                                               lem_text  \n",
       "328   houston (ap) the houston texan look way win op...  \n",
       "1794  hide transcript show transcript animal a small...  \n",
       "1996  pa wire royal tour middle east day the prince ...  \n",
       "681   houston running name u.s. city host fifa men w...  \n",
       "1416  the fukushima daiichi plant suffer triple melt...  \n",
       "...                                                 ...  \n",
       "220   pa image newlands cricket stadium south africa...  \n",
       "1422  northumberland county, va. the national weathe...  \n",
       "83    provide crikey ten matildas weekend nationally...  \n",
       "873   microsoft finally ship updated version file ex...  \n",
       "461   seacrest out, ted lasso in. ryan seacrest team...  \n",
       "\n",
       "[1657 rows x 4 columns]"
      ]
     },
     "execution_count": 155,
     "metadata": {},
     "output_type": "execute_result"
    }
   ],
   "source": [
    "train[\"lem_text\"] = train[\"clean_text\"].apply(lem_analyzer)\n",
    "train"
   ]
  },
  {
   "cell_type": "code",
   "execution_count": 156,
   "metadata": {},
   "outputs": [
    {
     "data": {
      "text/html": [
       "<div>\n",
       "<style scoped>\n",
       "    .dataframe tbody tr th:only-of-type {\n",
       "        vertical-align: middle;\n",
       "    }\n",
       "\n",
       "    .dataframe tbody tr th {\n",
       "        vertical-align: top;\n",
       "    }\n",
       "\n",
       "    .dataframe thead th {\n",
       "        text-align: right;\n",
       "    }\n",
       "</style>\n",
       "<table border=\"1\" class=\"dataframe\">\n",
       "  <thead>\n",
       "    <tr style=\"text-align: right;\">\n",
       "      <th></th>\n",
       "      <th>full_text</th>\n",
       "      <th>root_label</th>\n",
       "      <th>clean_text</th>\n",
       "      <th>lem_text</th>\n",
       "    </tr>\n",
       "  </thead>\n",
       "  <tbody>\n",
       "    <tr>\n",
       "      <th>1369</th>\n",
       "      <td>Credit: CC0 Public Domain\\n\\nA reliable early ...</td>\n",
       "      <td>climate</td>\n",
       "      <td>Credit: Public Domain A reliable early warning...</td>\n",
       "      <td>credit: public domain a reliable early warning...</td>\n",
       "    </tr>\n",
       "    <tr>\n",
       "      <th>772</th>\n",
       "      <td>© Provided by Independent Online (IOL)\\n\\nCape...</td>\n",
       "      <td>sports</td>\n",
       "      <td>Provided by Independent Online (IOL) Cape Tow...</td>\n",
       "      <td>provide independent online (iol) cape town sou...</td>\n",
       "    </tr>\n",
       "    <tr>\n",
       "      <th>1762</th>\n",
       "      <td>Tremor International Ltd. Announces Conference...</td>\n",
       "      <td>climate</td>\n",
       "      <td>Tremor International Ltd. Announces Conference...</td>\n",
       "      <td>tremor international ltd. announces conference...</td>\n",
       "    </tr>\n",
       "    <tr>\n",
       "      <th>1378</th>\n",
       "      <td>In the complex and often confusing world of fl...</td>\n",
       "      <td>climate</td>\n",
       "      <td>In the complex and often confusing world of fl...</td>\n",
       "      <td>in complex confusing world flood insurance, di...</td>\n",
       "    </tr>\n",
       "    <tr>\n",
       "      <th>2014</th>\n",
       "      <td>To the editor: With our continued dire drought...</td>\n",
       "      <td>climate</td>\n",
       "      <td>To the editor: With our continued dire drought...</td>\n",
       "      <td>to editor: with continued dire drought expert ...</td>\n",
       "    </tr>\n",
       "    <tr>\n",
       "      <th>...</th>\n",
       "      <td>...</td>\n",
       "      <td>...</td>\n",
       "      <td>...</td>\n",
       "      <td>...</td>\n",
       "    </tr>\n",
       "    <tr>\n",
       "      <th>553</th>\n",
       "      <td>Gianni Infantino has called World Cups hosted ...</td>\n",
       "      <td>sports</td>\n",
       "      <td>Gianni Infantino has called World Cups hosted ...</td>\n",
       "      <td>gianni infantino call world cup host single na...</td>\n",
       "    </tr>\n",
       "    <tr>\n",
       "      <th>746</th>\n",
       "      <td>Country\\n\\nUnited States of America US Virgin ...</td>\n",
       "      <td>sports</td>\n",
       "      <td>Country United States of America US Virgin Isl...</td>\n",
       "      <td>country united state america u virgin island u...</td>\n",
       "    </tr>\n",
       "    <tr>\n",
       "      <th>37</th>\n",
       "      <td>MELBOURNE (Reuters) – Australia’s human rights...</td>\n",
       "      <td>sports</td>\n",
       "      <td>MELBOURNE (Reuters)  Australias human rights w...</td>\n",
       "      <td>melbourne (reuters) australia human right watc...</td>\n",
       "    </tr>\n",
       "    <tr>\n",
       "      <th>1750</th>\n",
       "      <td>© Provided by Charleston WCSC-TV Generic earth...</td>\n",
       "      <td>climate</td>\n",
       "      <td>Provided by Charleston WCSC TV Generic earthq...</td>\n",
       "      <td>provide charleston wcsc tv generic earthquake ...</td>\n",
       "    </tr>\n",
       "    <tr>\n",
       "      <th>230</th>\n",
       "      <td>DECEMBER 2 — I live in Cheras, in a terrace ho...</td>\n",
       "      <td>sports</td>\n",
       "      <td>DECEMBER  I live in Cheras, in a terrace house...</td>\n",
       "      <td>december i live cheras, terrace house. my room...</td>\n",
       "    </tr>\n",
       "  </tbody>\n",
       "</table>\n",
       "<p>415 rows × 4 columns</p>\n",
       "</div>"
      ],
      "text/plain": [
       "                                              full_text root_label  \\\n",
       "1369  Credit: CC0 Public Domain\\n\\nA reliable early ...    climate   \n",
       "772   © Provided by Independent Online (IOL)\\n\\nCape...     sports   \n",
       "1762  Tremor International Ltd. Announces Conference...    climate   \n",
       "1378  In the complex and often confusing world of fl...    climate   \n",
       "2014  To the editor: With our continued dire drought...    climate   \n",
       "...                                                 ...        ...   \n",
       "553   Gianni Infantino has called World Cups hosted ...     sports   \n",
       "746   Country\\n\\nUnited States of America US Virgin ...     sports   \n",
       "37    MELBOURNE (Reuters) – Australia’s human rights...     sports   \n",
       "1750  © Provided by Charleston WCSC-TV Generic earth...    climate   \n",
       "230   DECEMBER 2 — I live in Cheras, in a terrace ho...     sports   \n",
       "\n",
       "                                             clean_text  \\\n",
       "1369  Credit: Public Domain A reliable early warning...   \n",
       "772    Provided by Independent Online (IOL) Cape Tow...   \n",
       "1762  Tremor International Ltd. Announces Conference...   \n",
       "1378  In the complex and often confusing world of fl...   \n",
       "2014  To the editor: With our continued dire drought...   \n",
       "...                                                 ...   \n",
       "553   Gianni Infantino has called World Cups hosted ...   \n",
       "746   Country United States of America US Virgin Isl...   \n",
       "37    MELBOURNE (Reuters)  Australias human rights w...   \n",
       "1750   Provided by Charleston WCSC TV Generic earthq...   \n",
       "230   DECEMBER  I live in Cheras, in a terrace house...   \n",
       "\n",
       "                                               lem_text  \n",
       "1369  credit: public domain a reliable early warning...  \n",
       "772   provide independent online (iol) cape town sou...  \n",
       "1762  tremor international ltd. announces conference...  \n",
       "1378  in complex confusing world flood insurance, di...  \n",
       "2014  to editor: with continued dire drought expert ...  \n",
       "...                                                 ...  \n",
       "553   gianni infantino call world cup host single na...  \n",
       "746   country united state america u virgin island u...  \n",
       "37    melbourne (reuters) australia human right watc...  \n",
       "1750  provide charleston wcsc tv generic earthquake ...  \n",
       "230   december i live cheras, terrace house. my room...  \n",
       "\n",
       "[415 rows x 4 columns]"
      ]
     },
     "execution_count": 156,
     "metadata": {},
     "output_type": "execute_result"
    }
   ],
   "source": [
    "test[\"lem_text\"] = test[\"clean_text\"].apply(lem_analyzer)\n",
    "test"
   ]
  },
  {
   "cell_type": "code",
   "execution_count": 157,
   "metadata": {},
   "outputs": [
    {
     "name": "stdout",
     "output_type": "stream",
     "text": [
      "(1657, 10979)\n",
      "(415, 10979)\n"
     ]
    }
   ],
   "source": [
    "vectorizer = CountVectorizer(stop_words='english', min_df=3, max_df=0.7)\n",
    "X_train_counts = vectorizer.fit_transform(train[\"lem_text\"])\n",
    "X_test_counts = vectorizer.transform(test[\"lem_text\"])\n",
    "print(X_train_counts.shape)\n",
    "print(X_test_counts.shape)"
   ]
  },
  {
   "cell_type": "code",
   "execution_count": 158,
   "metadata": {},
   "outputs": [
    {
     "name": "stdout",
     "output_type": "stream",
     "text": [
      "['00pm' '08837phone' '10km' '10pm' '247sports' '25m' '2am' '30am' '30pm'\n",
      " '49ers' '5km' '8pm' 'aalst' 'aap' 'aaron' 'ab' 'abandon' 'abbott' 'abby'\n",
      " 'abc' 'abdul' 'abdullah' 'abhishek' 'abide' 'abilities' 'ability'\n",
      " 'abject' 'ablate' 'able' 'abnormally' 'abolish' 'aboriginal' 'abraham'\n",
      " 'abrahamyan' 'abroad' 'abrupt' 'absence' 'absent' 'absolute' 'absolutely'\n",
      " 'absorb' 'abstract' 'abu' 'abundance' 'abundant' 'abuse' 'abusive' 'ac'\n",
      " 'academic' 'academy' 'acc' 'accelerate' 'accent' 'accents' 'accept'\n",
      " 'acceptance' 'access' 'accessibility' 'accessible' 'accessory' 'accident'\n",
      " 'accidentally' 'accolade' 'accomack' 'accommodation' 'accompany'\n",
      " 'accomplice' 'accomplish' 'accomplished' 'accomplishment' 'accord'\n",
      " 'accordance' 'according' 'accordingly' 'account' 'accountability'\n",
      " 'accountable' 'accounting' 'accounts' 'accredited' 'accumulate'\n",
      " 'accumulation' 'accuracy' 'accurate' 'accurately' 'accusation' 'accuse'\n",
      " 'accuweather' 'ace' 'achieve' 'achievement' 'achievements' 'acid'\n",
      " 'acknowledge' 'acknowledgment' 'acl' 'acquire' 'acquisition'\n",
      " 'acquisitions' 'acre']\n"
     ]
    }
   ],
   "source": [
    "print(vectorizer.get_feature_names_out()[0:100])"
   ]
  },
  {
   "cell_type": "code",
   "execution_count": 84,
   "metadata": {},
   "outputs": [
    {
     "ename": "TypeError",
     "evalue": "unhashable type: 'list'",
     "output_type": "error",
     "traceback": [
      "\u001b[1;31m---------------------------------------------------------------------------\u001b[0m",
      "\u001b[1;31mTypeError\u001b[0m                                 Traceback (most recent call last)",
      "\u001b[1;32m~\\AppData\\Local\\Temp/ipykernel_13868/2074582182.py\u001b[0m in \u001b[0;36m<module>\u001b[1;34m\u001b[0m\n\u001b[0;32m      1\u001b[0m \u001b[0mvectorizer\u001b[0m \u001b[1;33m=\u001b[0m \u001b[0mCountVectorizer\u001b[0m\u001b[1;33m(\u001b[0m\u001b[0mstop_words\u001b[0m\u001b[1;33m=\u001b[0m\u001b[1;34m'english'\u001b[0m\u001b[1;33m,\u001b[0m \u001b[0mmin_df\u001b[0m\u001b[1;33m=\u001b[0m\u001b[1;36m3\u001b[0m\u001b[1;33m,\u001b[0m \u001b[0manalyzer\u001b[0m\u001b[1;33m=\u001b[0m\u001b[0mlem_analyzer\u001b[0m\u001b[1;33m)\u001b[0m\u001b[1;33m\u001b[0m\u001b[1;33m\u001b[0m\u001b[0m\n\u001b[1;32m----> 2\u001b[1;33m \u001b[0mX_train_counts\u001b[0m \u001b[1;33m=\u001b[0m \u001b[0mvectorizer\u001b[0m\u001b[1;33m.\u001b[0m\u001b[0mfit_transform\u001b[0m\u001b[1;33m(\u001b[0m\u001b[0mtrain\u001b[0m\u001b[1;33m[\u001b[0m\u001b[1;34m\"clean_text\"\u001b[0m\u001b[1;33m]\u001b[0m\u001b[1;33m)\u001b[0m\u001b[1;33m\u001b[0m\u001b[1;33m\u001b[0m\u001b[0m\n\u001b[0m\u001b[0;32m      3\u001b[0m \u001b[0mX_test_counts\u001b[0m \u001b[1;33m=\u001b[0m \u001b[0mvectorizer\u001b[0m\u001b[1;33m.\u001b[0m\u001b[0mtransform\u001b[0m\u001b[1;33m(\u001b[0m\u001b[0mtest\u001b[0m\u001b[1;33m[\u001b[0m\u001b[1;34m\"clean_text\"\u001b[0m\u001b[1;33m]\u001b[0m\u001b[1;33m)\u001b[0m\u001b[1;33m\u001b[0m\u001b[1;33m\u001b[0m\u001b[0m\n\u001b[0;32m      4\u001b[0m \u001b[0mprint\u001b[0m\u001b[1;33m(\u001b[0m\u001b[0mX_train_counts\u001b[0m\u001b[1;33m.\u001b[0m\u001b[0mshape\u001b[0m\u001b[1;33m)\u001b[0m\u001b[1;33m\u001b[0m\u001b[1;33m\u001b[0m\u001b[0m\n\u001b[0;32m      5\u001b[0m \u001b[0mprint\u001b[0m\u001b[1;33m(\u001b[0m\u001b[0mX_test_counts\u001b[0m\u001b[1;33m.\u001b[0m\u001b[0mshape\u001b[0m\u001b[1;33m)\u001b[0m\u001b[1;33m\u001b[0m\u001b[1;33m\u001b[0m\u001b[0m\n",
      "\u001b[1;32m~\\anaconda3\\envs\\ee219\\lib\\site-packages\\sklearn\\feature_extraction\\text.py\u001b[0m in \u001b[0;36mfit_transform\u001b[1;34m(self, raw_documents, y)\u001b[0m\n\u001b[0;32m   1328\u001b[0m                     \u001b[1;32mbreak\u001b[0m\u001b[1;33m\u001b[0m\u001b[1;33m\u001b[0m\u001b[0m\n\u001b[0;32m   1329\u001b[0m \u001b[1;33m\u001b[0m\u001b[0m\n\u001b[1;32m-> 1330\u001b[1;33m         \u001b[0mvocabulary\u001b[0m\u001b[1;33m,\u001b[0m \u001b[0mX\u001b[0m \u001b[1;33m=\u001b[0m \u001b[0mself\u001b[0m\u001b[1;33m.\u001b[0m\u001b[0m_count_vocab\u001b[0m\u001b[1;33m(\u001b[0m\u001b[0mraw_documents\u001b[0m\u001b[1;33m,\u001b[0m \u001b[0mself\u001b[0m\u001b[1;33m.\u001b[0m\u001b[0mfixed_vocabulary_\u001b[0m\u001b[1;33m)\u001b[0m\u001b[1;33m\u001b[0m\u001b[1;33m\u001b[0m\u001b[0m\n\u001b[0m\u001b[0;32m   1331\u001b[0m \u001b[1;33m\u001b[0m\u001b[0m\n\u001b[0;32m   1332\u001b[0m         \u001b[1;32mif\u001b[0m \u001b[0mself\u001b[0m\u001b[1;33m.\u001b[0m\u001b[0mbinary\u001b[0m\u001b[1;33m:\u001b[0m\u001b[1;33m\u001b[0m\u001b[1;33m\u001b[0m\u001b[0m\n",
      "\u001b[1;32m~\\anaconda3\\envs\\ee219\\lib\\site-packages\\sklearn\\feature_extraction\\text.py\u001b[0m in \u001b[0;36m_count_vocab\u001b[1;34m(self, raw_documents, fixed_vocab)\u001b[0m\n\u001b[0;32m   1201\u001b[0m             \u001b[1;32mfor\u001b[0m \u001b[0mfeature\u001b[0m \u001b[1;32min\u001b[0m \u001b[0manalyze\u001b[0m\u001b[1;33m(\u001b[0m\u001b[0mdoc\u001b[0m\u001b[1;33m)\u001b[0m\u001b[1;33m:\u001b[0m\u001b[1;33m\u001b[0m\u001b[1;33m\u001b[0m\u001b[0m\n\u001b[0;32m   1202\u001b[0m                 \u001b[1;32mtry\u001b[0m\u001b[1;33m:\u001b[0m\u001b[1;33m\u001b[0m\u001b[1;33m\u001b[0m\u001b[0m\n\u001b[1;32m-> 1203\u001b[1;33m                     \u001b[0mfeature_idx\u001b[0m \u001b[1;33m=\u001b[0m \u001b[0mvocabulary\u001b[0m\u001b[1;33m[\u001b[0m\u001b[0mfeature\u001b[0m\u001b[1;33m]\u001b[0m\u001b[1;33m\u001b[0m\u001b[1;33m\u001b[0m\u001b[0m\n\u001b[0m\u001b[0;32m   1204\u001b[0m                     \u001b[1;32mif\u001b[0m \u001b[0mfeature_idx\u001b[0m \u001b[1;32mnot\u001b[0m \u001b[1;32min\u001b[0m \u001b[0mfeature_counter\u001b[0m\u001b[1;33m:\u001b[0m\u001b[1;33m\u001b[0m\u001b[1;33m\u001b[0m\u001b[0m\n\u001b[0;32m   1205\u001b[0m                         \u001b[0mfeature_counter\u001b[0m\u001b[1;33m[\u001b[0m\u001b[0mfeature_idx\u001b[0m\u001b[1;33m]\u001b[0m \u001b[1;33m=\u001b[0m \u001b[1;36m1\u001b[0m\u001b[1;33m\u001b[0m\u001b[1;33m\u001b[0m\u001b[0m\n",
      "\u001b[1;31mTypeError\u001b[0m: unhashable type: 'list'"
     ]
    }
   ],
   "source": [
    "vectorizer = CountVectorizer(stop_words='english', min_df=3, max_df=0.7)\n",
    "X_train_counts = vectorizer.fit_transform(train[\"clean_text\"])\n",
    "X_test_counts = vectorizer.transform(test[\"clean_text\"])\n",
    "print(X_train_counts.shape)\n",
    "print(X_test_counts.shape)"
   ]
  },
  {
   "cell_type": "code",
   "execution_count": 57,
   "metadata": {},
   "outputs": [
    {
     "name": "stdout",
     "output_type": "stream",
     "text": [
      "['00pm' '08837phone' '10km' '10pm' '17f' '1a' '247sports' '25m' '2am'\n",
      " '30am' '30pm' '3a' '3d' '49ers' '4a' '4g' '5km' '6a' '6pm' '8pm' '__'\n",
      " 'a3' 'a4' 'a5' 'a6' 'a7' 'aalst' 'aap' 'aaron' 'abandon' 'abate' 'abbott'\n",
      " 'abby' 'abc' 'abc10' 'abdul' 'abdullah' 'abhishek' 'abide' 'ability'\n",
      " 'abject' 'able' 'abner' 'abnormal' 'abnormally' 'abolish' 'aboriginal'\n",
      " 'abraham' 'abrahamyan' 'abroad' 'absence' 'absent' 'absolute'\n",
      " 'absolutely' 'absorb' 'absorbed' 'abstract' 'abu' 'abundance' 'abundant'\n",
      " 'abuse' 'abusive' 'ac' 'academic' 'academy' 'acb' 'acc' 'accelerate'\n",
      " 'accelerates' 'accent' 'accept' 'acceptable' 'acceptance' 'accepted'\n",
      " 'access' 'accessibility' 'accessible' 'accessory' 'accident' 'acclaim'\n",
      " 'accolade' 'accomack' 'accompany' 'accomplice' 'accomplish'\n",
      " 'accomplishment' 'accord' 'accordance' 'accordingly' 'account'\n",
      " 'accountability' 'accountable' 'accounting' 'accredit' 'accumulate'\n",
      " 'accumulation' 'accuracy' 'accurate' 'accurately' 'accusation']\n"
     ]
    }
   ],
   "source": [
    "print(vectorizer.get_feature_names_out()[0:100])"
   ]
  },
  {
   "cell_type": "code",
   "execution_count": 100,
   "metadata": {},
   "outputs": [
    {
     "name": "stdout",
     "output_type": "stream",
     "text": [
      "[[0 0 0 ... 0 0 0]\n",
      " [0 0 0 ... 0 0 0]\n",
      " [0 0 0 ... 0 0 0]\n",
      " ...\n",
      " [0 0 0 ... 0 0 0]\n",
      " [0 0 0 ... 0 0 0]\n",
      " [0 0 0 ... 0 0 0]]\n"
     ]
    }
   ],
   "source": [
    "print(X_train_counts.toarray())"
   ]
  },
  {
   "cell_type": "code",
   "execution_count": 101,
   "metadata": {},
   "outputs": [
    {
     "name": "stdout",
     "output_type": "stream",
     "text": [
      "(1657, 10047)\n",
      "(415, 10047)\n"
     ]
    }
   ],
   "source": [
    "from sklearn.feature_extraction.text import TfidfTransformer\n",
    "\n",
    "tfidf_transformer = TfidfTransformer(smooth_idf=False)\n",
    "X_train_tfidf = tfidf_transformer.fit_transform(X_train_counts)\n",
    "X_test_tfidf = tfidf_transformer.transform(X_test_counts)\n",
    "print(X_train_tfidf.shape)\n",
    "print(X_test_tfidf.shape)\n"
   ]
  },
  {
   "cell_type": "code",
   "execution_count": 122,
   "metadata": {},
   "outputs": [],
   "source": [
    "# put into pipeline\n",
    "# pipe = Pipeline([('count', CountVectorizer()),\n",
    "#                  ('tfid', TfidfTransformer(smooth_idf=False))])\n",
    "# pipe.fit(df_1[\"clean_text\"])"
   ]
  },
  {
   "cell_type": "markdown",
   "metadata": {},
   "source": [
    "**Question 3**:\n",
    "* Stemming simply removes the rightmost characters of words, which can result in non-existent and incorrect word stems. It can be useful for simplifying a database of words when many terms have the same meaning but with different affixes. Lemmatizing uses linguistic rules to find a root word, guarantees that the result is a real word, but may return a different word with a similar meaning. For example, \"better\" will be lemmatized to \"good\" when the part of speech is specified as an adjective. Stemming can produce a dictionary of a smaller size, because it is more aggressive at simplifying words than lemmatization is. Lemmatization leaves the word unchanged if it cannot find a lemma for it, whereas stemming will apply a set of rules to all words to reduce them as much as possible.\n",
    "*\n",
    "* Stopwords should be removed after lemmatizing, because some stopwords in the text may occur in various forms that do not match the defined set of stopwords exactly. For example, the sklearn set of stopwords includes \"name\" but not \"names\". Punctuation should be removed before lemmatizing, as words with puntuation are not lemmatized correctly. For instance \"hours,\" is not lemmatized to \"hour\" since the comma is included. Lemmatizing before stopwords would remove variations of stopwords as intended. Numbers were removed in the clean() function before lemmatizing, since lemmatizing operates on words and not number terms, and lemmatizing a number simply returns the same number, so removing numbers first avoids unecessary processing.\n",
    "*\n"
   ]
  },
  {
   "cell_type": "markdown",
   "metadata": {},
   "source": [
    "## Dimensionality reduction"
   ]
  },
  {
   "cell_type": "code",
   "execution_count": null,
   "metadata": {},
   "outputs": [],
   "source": [
    "from sklearn.decomposition import TruncatedSVD\n",
    "\n",
    "k_list = [1, 10, 50, 100, 200, 500, 1000, 2000]\n",
    "var_list = []\n",
    "\n",
    "for k in k_list:\n",
    "    lsi = TruncatedSVD(n_components=k, n_iter=100)\n",
    "    lsi.fit(X_train_tfidf)\n",
    "    var_list.append(lsi.explained_variance_ratio_.sum())"
   ]
  },
  {
   "cell_type": "code",
   "execution_count": 460,
   "metadata": {},
   "outputs": [
    {
     "data": {
      "image/png": "[encoded data removed]",
      "text/plain": [
       "<Figure size 432x288 with 1 Axes>"
      ]
     },
     "metadata": {
      "needs_background": "light"
     },
     "output_type": "display_data"
    }
   ],
   "source": [
    "plt.figure()\n",
    "plt.plot(k_list, var_list)\n",
    "plt.xlabel(\"Number of principal components\")\n",
    "plt.ylabel(\"Explained variance ratio\")\n",
    "plt.show()"
   ]
  },
  {
   "cell_type": "markdown",
   "metadata": {},
   "source": [
    "**Question 4**: The plot is an increasing curve that rises quickly at small $k$ and slowly at large $k$. The concavity suggests that the principal components corresponding to the largest few singular values contain more of the information about the dataset than the same number of components corresponding to smaller singular values. After about 1000 features, keeping more features does not increase the explained variance ratio a lot and would likely not improve classification performance much."
   ]
  },
  {
   "cell_type": "code",
   "execution_count": 105,
   "metadata": {},
   "outputs": [
    {
     "name": "stdout",
     "output_type": "stream",
     "text": [
      "(1657, 50)\n"
     ]
    }
   ],
   "source": [
    "k = 50\n",
    "lsi = TruncatedSVD(n_components=k, n_iter=100)\n",
    "X_train_lsi = lsi.fit_transform(X_train_tfidf)\n",
    "print(X_train_lsi.shape)"
   ]
  },
  {
   "cell_type": "code",
   "execution_count": 112,
   "metadata": {},
   "outputs": [],
   "source": [
    "U = X_train_lsi / lsi.singular_values_\n",
    "Sigma_matrix = np.diag(lsi.singular_values_)\n",
    "VT = lsi.components_\n",
    "Xk = np.matmul(U, np.matmul(Sigma_matrix,VT)) # approximate X from SVD"
   ]
  },
  {
   "cell_type": "code",
   "execution_count": 119,
   "metadata": {},
   "outputs": [
    {
     "data": {
      "text/plain": [
       "1182.333052617533"
      ]
     },
     "execution_count": 119,
     "metadata": {},
     "output_type": "execute_result"
    }
   ],
   "source": [
    "# reconstruction residual of LSI\n",
    "np.linalg.norm(X_train_tfidf-Xk, ord='fro')**2"
   ]
  },
  {
   "cell_type": "code",
   "execution_count": 472,
   "metadata": {},
   "outputs": [
    {
     "name": "stdout",
     "output_type": "stream",
     "text": [
      "(1657, 50)\n",
      "(50, 9932)\n"
     ]
    }
   ],
   "source": [
    "from sklearn.decomposition import NMF\n",
    "\n",
    "k = 50\n",
    "nmf_model = NMF(n_components=k, init='random')\n",
    "W_train = nmf_model.fit_transform(X_train_tfidf)\n",
    "print(W_train.shape)\n",
    "\n",
    "H = nmf_model.components_\n",
    "print(H.shape)"
   ]
  },
  {
   "cell_type": "code",
   "execution_count": 473,
   "metadata": {},
   "outputs": [
    {
     "data": {
      "text/plain": [
       "1190.1201174086234"
      ]
     },
     "execution_count": 473,
     "metadata": {},
     "output_type": "execute_result"
    }
   ],
   "source": [
    "# reconstruction residual of NMF\n",
    "np.linalg.norm(X_train_tfidf-np.matmul(W_train,H), ord='fro')**2"
   ]
  }
 ],
 "metadata": {
  "kernelspec": {
   "display_name": "Python 3",
   "language": "python",
   "name": "python3"
  },
  "language_info": {
   "codemirror_mode": {
    "name": "ipython",
    "version": 3
   },
   "file_extension": ".py",
   "mimetype": "text/x-python",
   "name": "python",
   "nbconvert_exporter": "python",
   "pygments_lexer": "ipython3",
   "version": "3.9.7"
  }
 },
 "nbformat": 4,
 "nbformat_minor": 4
}
